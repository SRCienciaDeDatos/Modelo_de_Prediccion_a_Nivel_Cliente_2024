{
 "cells": [
  {
   "cell_type": "markdown",
   "source": [
    "# Despliegue del modelo \n",
    "Este notebook tiene el objetivo de utilizar los modelos previamente entrenados para realizar predicciones\n",
    "\n",
    "Las UNES probadas  hasta el momento con buenos resultados son las siguientes: \n",
    "\n",
    "- D001: UNE Norte \n",
    "- D002: UNE Sur\n",
    "- D003: UNE Poniente \n",
    "- D004: UNE Oriente\n",
    "- D006: Zapotlanejo\n",
    "- D007: Chapala\n",
    "- D040: Ocotlán \n",
    "- D041: Tequila \n",
    "- D046: Ciudad Guzmán  "
   ],
   "metadata": {
    "collapsed": false
   },
   "id": "239ff068cd7326d8"
  },
  {
   "cell_type": "markdown",
   "source": [
    "**PARAMETROS DE ENTRADA**"
   ],
   "metadata": {
    "collapsed": false
   },
   "id": "29c4c2c67f0a26f4"
  },
  {
   "cell_type": "code",
   "execution_count": 1,
   "outputs": [],
   "source": [
    "UNEs = (\"D001\",\"D002\", \"D003\", \"D004\", \"D006\", \"D007\", \"D040\", \"D041\", \"D046\")\n",
    "UNEs = (\"D001\",\"D002\", \"D003\", \"D004\")\n",
    "categorias = (\"D21\", \"D17\")  # Estos son las categorias de tradicional y cercanias (oxxos)\n",
    "semana = [14] # Lista con las semanas de interés \n",
    "year = 2024\n",
    "umbral_redondeo_reja = 0.45  # Se usa para redondear los litros hacia arriba si el producto está arriba de ese decimal\n",
    "factor_total = 0.94 # El total de la predicción se multiplicara por este factor "
   ],
   "metadata": {
    "collapsed": false,
    "ExecuteTime": {
     "end_time": "2024-06-11T16:20:35.948141Z",
     "start_time": "2024-06-11T16:20:35.945407200Z"
    }
   },
   "id": "87dc584ed7e5b8c0"
  },
  {
   "cell_type": "code",
   "execution_count": 2,
   "outputs": [],
   "source": [
    "import joblib\n",
    "import pyodbc\n",
    "import pandas as pd \n",
    "import category_encoders as ce \n",
    "from scipy.stats import mode\n",
    "import datetime"
   ],
   "metadata": {
    "collapsed": false,
    "ExecuteTime": {
     "end_time": "2024-06-11T16:20:41.787827100Z",
     "start_time": "2024-06-11T16:20:40.223511300Z"
    }
   },
   "id": "c7e93203514df79b"
  },
  {
   "cell_type": "markdown",
   "source": [
    "**NOTAS**:\n",
    "\n",
    "- Los catalogo , si dejar todo el  historico. \n",
    "- Productos libre por cliente, no se van a categorizar los clientes por su categoria (tradicional etc)  \n",
    "- Regiones si van, hay que tomar las regiones que actualmente existen, - INTEGRAR A QUE UNE PERTENECE cada cliente en k means, ponerlo en binario esas categorías. \n",
    "- Entender el proceso de CPFR, cómo hacen la ingesta de datos de venta en sus clientes"
   ],
   "metadata": {
    "collapsed": false
   },
   "id": "488a5b876eac3b7b"
  },
  {
   "cell_type": "markdown",
   "source": [
    "**ESTABLECIMIENTO DE FECHAS DE LA SEMANA DESEADA**"
   ],
   "metadata": {
    "collapsed": false
   },
   "id": "fdd428d185b9d723"
  },
  {
   "cell_type": "code",
   "execution_count": 3,
   "outputs": [
    {
     "name": "stdout",
     "output_type": "stream",
     "text": [
      "Dias añadidos: 89 days 00:00:00\n",
      "Es el dia: Saturday\n"
     ]
    },
    {
     "data": {
      "text/plain": "Timestamp('2024-03-30 00:00:00')"
     },
     "execution_count": 3,
     "metadata": {},
     "output_type": "execute_result"
    }
   ],
   "source": [
    "# 1) Comienzo al inicio de año \n",
    "fecha_base = pd.to_datetime(arg=f\"01-01-{year}\", format=\"%d-%m-%Y\") # dia, mes y año\n",
    "\n",
    "# Dias más\n",
    "dias  = semana[0] \n",
    "dias = dias - 1 \n",
    "dias = dias * 7 \n",
    "dias = dias - 2  # Siempre menos 2 \n",
    "dias = pd.to_timedelta(arg=dias, unit=\"d\")\n",
    "print(\"Dias añadidos:\", dias)\n",
    "\n",
    "\n",
    "fecha_base = fecha_base + dias  \n",
    "print(\"Es el dia:\", fecha_base.day_name()) # Siempre tendría que cargar un sabado \n",
    "fecha_base"
   ],
   "metadata": {
    "collapsed": false,
    "ExecuteTime": {
     "end_time": "2024-06-11T16:20:52.760383600Z",
     "start_time": "2024-06-11T16:20:52.719456700Z"
    }
   },
   "id": "cec1bf07e5bed313"
  },
  {
   "cell_type": "code",
   "execution_count": 4,
   "outputs": [
    {
     "name": "stderr",
     "output_type": "stream",
     "text": [
      "C:\\Users\\OMBARRAZA\\AppData\\Local\\Temp\\ipykernel_17932\\2360344729.py:18: FutureWarning: The behavior of DataFrame concatenation with empty or all-NA entries is deprecated. In a future version, this will no longer exclude empty or all-NA columns when determining the result dtypes. To retain the old behavior, exclude the relevant entries before the concat operation.\n",
      "  fechas = pd.concat(objs=[fechas, resultado])\n"
     ]
    },
    {
     "data": {
      "text/plain": "       Fecha        Dia\n0 2024-03-30   Saturday\n0 2024-03-31     Sunday\n0 2024-04-01     Monday\n0 2024-04-02    Tuesday\n0 2024-04-03  Wednesday\n0 2024-04-04   Thursday\n0 2024-04-05     Friday",
      "text/html": "<div>\n<style scoped>\n    .dataframe tbody tr th:only-of-type {\n        vertical-align: middle;\n    }\n\n    .dataframe tbody tr th {\n        vertical-align: top;\n    }\n\n    .dataframe thead th {\n        text-align: right;\n    }\n</style>\n<table border=\"1\" class=\"dataframe\">\n  <thead>\n    <tr style=\"text-align: right;\">\n      <th></th>\n      <th>Fecha</th>\n      <th>Dia</th>\n    </tr>\n  </thead>\n  <tbody>\n    <tr>\n      <th>0</th>\n      <td>2024-03-30</td>\n      <td>Saturday</td>\n    </tr>\n    <tr>\n      <th>0</th>\n      <td>2024-03-31</td>\n      <td>Sunday</td>\n    </tr>\n    <tr>\n      <th>0</th>\n      <td>2024-04-01</td>\n      <td>Monday</td>\n    </tr>\n    <tr>\n      <th>0</th>\n      <td>2024-04-02</td>\n      <td>Tuesday</td>\n    </tr>\n    <tr>\n      <th>0</th>\n      <td>2024-04-03</td>\n      <td>Wednesday</td>\n    </tr>\n    <tr>\n      <th>0</th>\n      <td>2024-04-04</td>\n      <td>Thursday</td>\n    </tr>\n    <tr>\n      <th>0</th>\n      <td>2024-04-05</td>\n      <td>Friday</td>\n    </tr>\n  </tbody>\n</table>\n</div>"
     },
     "execution_count": 4,
     "metadata": {},
     "output_type": "execute_result"
    }
   ],
   "source": [
    "# Creo un DF vacio  para almacenar los resultados \n",
    "fechas = pd.DataFrame(columns= [\"Fecha\", \"Dia\",]) \n",
    "\n",
    "for i in range(0, 7):\n",
    "    dia = pd.to_timedelta(arg=i, unit=\"d\")\n",
    "    fecha_semana = fecha_base + dia  # Esto ya es una fecha dinamica que va con la iteracion del bucle  \n",
    "    \n",
    "    # Sacamos el dia de la semana \n",
    "    dia_semana = fecha_semana.day_name()\n",
    "    \n",
    "    # Lo guardamos en un diccionario\n",
    "    resultado = {\"Fecha\": fecha_semana, \n",
    "                 \"Dia\": dia_semana}  # Diccionario vacio \n",
    "     \n",
    "    resultado = pd.DataFrame(data=resultado, index=[0]) # Lo pasamos a un pandas DF \n",
    "    \n",
    "    # Lo concateno con mi pandas DF original\n",
    "    fechas = pd.concat(objs=[fechas, resultado])\n",
    "    \n",
    "fechas"
   ],
   "metadata": {
    "collapsed": false,
    "ExecuteTime": {
     "end_time": "2024-06-11T16:20:53.642095100Z",
     "start_time": "2024-06-11T16:20:53.583273400Z"
    }
   },
   "id": "735afa1d56e6e9a0"
  },
  {
   "cell_type": "markdown",
   "source": [
    "## 1) Ingesta de datos  \n",
    "Esto con la finalidad de extraer los datos más actuales de cada cliente, particularmente su Frecuencia actual"
   ],
   "metadata": {
    "collapsed": false
   },
   "id": "32811e5cdcc2020b"
  },
  {
   "cell_type": "markdown",
   "source": [
    "### 1.1) Agenda actual (desde la base datos)"
   ],
   "metadata": {
    "collapsed": false
   },
   "id": "3383cd315723c8b5"
  },
  {
   "cell_type": "markdown",
   "source": [
    "**AUTENTIFICACION**"
   ],
   "metadata": {
    "collapsed": false
   },
   "id": "18db15585feb38d6"
  },
  {
   "cell_type": "code",
   "execution_count": 5,
   "outputs": [
    {
     "data": {
      "text/plain": "<pyodbc.Connection at 0x1f09c533840>"
     },
     "execution_count": 5,
     "metadata": {},
     "output_type": "execute_result"
    }
   ],
   "source": [
    "# Credenciales del servidor\n",
    "server = \"192.168.0.192\"  # Host \n",
    "database = \"ASR\"\n",
    "usuarioDB = \"consulta\"\n",
    "passwordDB = \"Consult@\"\n",
    "\n",
    "# Generando la conexión\n",
    "conexion = pyodbc.connect(\n",
    "    f\"DRIVER={{SQL SERVER}}; SERVER={server}; DATABASE={database}; UID={usuarioDB}; PWD={passwordDB}\")\n",
    "conexion"
   ],
   "metadata": {
    "collapsed": false,
    "ExecuteTime": {
     "end_time": "2024-06-11T16:20:55.785306300Z",
     "start_time": "2024-06-11T16:20:55.630698500Z"
    }
   },
   "id": "f6928ae818b7763b"
  },
  {
   "cell_type": "markdown",
   "source": [
    "#### 1.1.1) Lectura de agenda actual y ventas de los ultimos días \n",
    "En esta sección se extraeran los clientes que si actualmente están agendados"
   ],
   "metadata": {
    "collapsed": false
   },
   "id": "3183411ce2d85756"
  },
  {
   "cell_type": "code",
   "execution_count": 6,
   "outputs": [
    {
     "name": "stdout",
     "output_type": "stream",
     "text": [
      "Fecha actual: 2024-06-11\n",
      "Fecha inicio: 2024-05-27\n"
     ]
    }
   ],
   "source": [
    "# Obtenemos la fecha actual de ejecución, eso lo haremos para sacar \n",
    "fecha_actual = datetime.date.today()\n",
    "print(\"Fecha actual:\", fecha_actual)\n",
    "\n",
    "fecha_inicio = fecha_actual - datetime.timedelta (days=15) # Hago esta resta de tiempo para irme  a los ultimos 15 dias de operacioin y sacar los patrones de consumo de estos ultimos 15 días , esto solo para los clientes que no hemos catalogado en el clustering, los clientes que ya están etiquedados por su segmento de mercado ya tendrán la etiqueta \n",
    "print(\"Fecha inicio:\", fecha_inicio)"
   ],
   "metadata": {
    "collapsed": false,
    "ExecuteTime": {
     "end_time": "2024-06-11T16:20:56.856408Z",
     "start_time": "2024-06-11T16:20:56.814694200Z"
    }
   },
   "id": "e93a7d50f9b71416"
  },
  {
   "cell_type": "code",
   "execution_count": 7,
   "outputs": [],
   "source": [
    "# Alta de queris\n",
    "\n",
    "# 1) Secuencia  o agenda actual \n",
    "query_secuencia = f\"\"\"\n",
    "    select  C.ClienteClave, SEC.FrecuenciaClave, CE.EsquemaID, SEC.RUTClave, Almacen.AlmacenPadreId\n",
    "    From Cliente as C\n",
    "    left join Secuencia as SEC ON C.ClienteClave = SEC.ClienteClave\n",
    "    left join ClienteEsquema CE ON C.ClienteClave = CE.ClienteClave\n",
    "    left join Almacen on SEC.RUTClave = Almacen.AlmacenID\n",
    "    where C.TipoEstado = 1\n",
    "    AND C.AlmacenID IN {UNEs}\n",
    "    AND CE.EsquemaID IN {categorias}\n",
    "    AND SEC.FrecuenciaClave != '0000000'\n",
    "    AND SEC.FrecuenciaClave IS NOT NULL\n",
    "\"\"\"\n",
    "\n",
    "\n",
    "# 2) Query de las ventas detalles para sacar el patron más reciente de consumo \n",
    "ventas_detalle_query = f\"\"\"\n",
    "select TransProdDetalle.TransProdID, TransProdDetalle.TransProdDetalleID, TransProd.ClienteClave, ClienteEsquema.EsquemaID, TransProdDetalle.ProductoClave,\n",
    "       TransProdDetalle.TipoUnidad, TransProdDetalle.Cantidad, TransProdDetalle.Precio, TransProdDetalle.Total,\n",
    "       TransProdDetalle.MFechaHora, TransProdDetalle.MUsuarioID, Almacen.AlmacenPadreId\n",
    "       from TransProdDetalle\n",
    "       join TransProd on TransProdDetalle.TransProdID = TransProd.TransProdID\n",
    "       join Almacen on TransProdDetalle.MUsuarioID = Almacen.AlmacenID\n",
    "       join ClienteEsquema on TransProd.ClienteClave = ClienteEsquema.ClienteClave\n",
    "        where TransProd.Tipo = 1 and TransProd.TipoFaseIntSal = 1 and TransProd.TipoFase != 0 and TransProd.TipoMovimiento = 2\n",
    "        and cast(TransProdDetalle.MFechaHora as date)  between '{fecha_inicio}' and '{fecha_actual}'\n",
    "         and Almacen.AlmacenPadreId in {UNEs} and ClienteEsquema.EsquemaID in {categorias};\n",
    "\"\"\"\n",
    "# El formato de fecha es año-mes-día \n",
    "\n",
    "# 3) Volumen  por producto (piezas) \n",
    "query_volumen_producto = \"\"\"\n",
    "        Select pd.ProductoClave, pd.PRUTipoUnidad, pd.Factor, PU.KgLts\n",
    "        from ProductoDetalle as pd\n",
    "        join ProductoUnidad PU on pd.ProductoClave = PU.ProductoClave and pd.PRUTipoUnidad = PU.PRUTipoUnidad\n",
    "\"\"\"\n"
   ],
   "metadata": {
    "collapsed": false,
    "ExecuteTime": {
     "end_time": "2024-06-11T16:20:57.081925Z",
     "start_time": "2024-06-11T16:20:57.040411700Z"
    }
   },
   "id": "e8605356fa73c10b"
  },
  {
   "cell_type": "markdown",
   "source": [
    "**EJECUCION DEL QUERY**"
   ],
   "metadata": {
    "collapsed": false
   },
   "id": "eddcb65df1deaf34"
  },
  {
   "cell_type": "code",
   "execution_count": 8,
   "outputs": [
    {
     "name": "stderr",
     "output_type": "stream",
     "text": [
      "C:\\Users\\OMBARRAZA\\AppData\\Local\\Temp\\ipykernel_17932\\647147942.py:1: UserWarning: pandas only supports SQLAlchemy connectable (engine/connection) or database string URI or sqlite3 DBAPI2 connection. Other DBAPI2 objects are not tested. Please consider using SQLAlchemy.\n",
      "  agenda_actual = pd.read_sql(sql=query_secuencia, con=conexion, dtype_backend=\"pyarrow\")\n"
     ]
    },
    {
     "data": {
      "text/plain": "      ClienteClave FrecuenciaClave EsquemaID RUTClave AlmacenPadreId\n0       0689870001         0000010       D21  D001005           D001\n1       1269920000         0000010       D21  D001005           D001\n2       0374320000         0000010       D21  D001005           D001\n3       0373690001         0000010       D21  D001005           D001\n4       1761650001         0000010       D21  D001005           D001\n...            ...             ...       ...      ...            ...\n75323   0348340000         0100000       D21  D002008           D002\n75324   1479490001         1000000       D21  D002008           D002\n75325   0670260000         1000000       D21  D002008           D002\n75326   0347950000         1000000       D21  D002008           D002\n75327   0347720000         1000000       D21  D002008           D002\n\n[75328 rows x 5 columns]",
      "text/html": "<div>\n<style scoped>\n    .dataframe tbody tr th:only-of-type {\n        vertical-align: middle;\n    }\n\n    .dataframe tbody tr th {\n        vertical-align: top;\n    }\n\n    .dataframe thead th {\n        text-align: right;\n    }\n</style>\n<table border=\"1\" class=\"dataframe\">\n  <thead>\n    <tr style=\"text-align: right;\">\n      <th></th>\n      <th>ClienteClave</th>\n      <th>FrecuenciaClave</th>\n      <th>EsquemaID</th>\n      <th>RUTClave</th>\n      <th>AlmacenPadreId</th>\n    </tr>\n  </thead>\n  <tbody>\n    <tr>\n      <th>0</th>\n      <td>0689870001</td>\n      <td>0000010</td>\n      <td>D21</td>\n      <td>D001005</td>\n      <td>D001</td>\n    </tr>\n    <tr>\n      <th>1</th>\n      <td>1269920000</td>\n      <td>0000010</td>\n      <td>D21</td>\n      <td>D001005</td>\n      <td>D001</td>\n    </tr>\n    <tr>\n      <th>2</th>\n      <td>0374320000</td>\n      <td>0000010</td>\n      <td>D21</td>\n      <td>D001005</td>\n      <td>D001</td>\n    </tr>\n    <tr>\n      <th>3</th>\n      <td>0373690001</td>\n      <td>0000010</td>\n      <td>D21</td>\n      <td>D001005</td>\n      <td>D001</td>\n    </tr>\n    <tr>\n      <th>4</th>\n      <td>1761650001</td>\n      <td>0000010</td>\n      <td>D21</td>\n      <td>D001005</td>\n      <td>D001</td>\n    </tr>\n    <tr>\n      <th>...</th>\n      <td>...</td>\n      <td>...</td>\n      <td>...</td>\n      <td>...</td>\n      <td>...</td>\n    </tr>\n    <tr>\n      <th>75323</th>\n      <td>0348340000</td>\n      <td>0100000</td>\n      <td>D21</td>\n      <td>D002008</td>\n      <td>D002</td>\n    </tr>\n    <tr>\n      <th>75324</th>\n      <td>1479490001</td>\n      <td>1000000</td>\n      <td>D21</td>\n      <td>D002008</td>\n      <td>D002</td>\n    </tr>\n    <tr>\n      <th>75325</th>\n      <td>0670260000</td>\n      <td>1000000</td>\n      <td>D21</td>\n      <td>D002008</td>\n      <td>D002</td>\n    </tr>\n    <tr>\n      <th>75326</th>\n      <td>0347950000</td>\n      <td>1000000</td>\n      <td>D21</td>\n      <td>D002008</td>\n      <td>D002</td>\n    </tr>\n    <tr>\n      <th>75327</th>\n      <td>0347720000</td>\n      <td>1000000</td>\n      <td>D21</td>\n      <td>D002008</td>\n      <td>D002</td>\n    </tr>\n  </tbody>\n</table>\n<p>75328 rows × 5 columns</p>\n</div>"
     },
     "execution_count": 8,
     "metadata": {},
     "output_type": "execute_result"
    }
   ],
   "source": [
    "agenda_actual = pd.read_sql(sql=query_secuencia, con=conexion, dtype_backend=\"pyarrow\")\n",
    "agenda_actual"
   ],
   "metadata": {
    "collapsed": false,
    "ExecuteTime": {
     "end_time": "2024-06-11T16:21:00.792207600Z",
     "start_time": "2024-06-11T16:20:58.335746800Z"
    }
   },
   "id": "4e3cd94ba9b895fc"
  },
  {
   "cell_type": "code",
   "execution_count": 9,
   "outputs": [
    {
     "name": "stderr",
     "output_type": "stream",
     "text": [
      "<timed exec>:1: UserWarning: pandas only supports SQLAlchemy connectable (engine/connection) or database string URI or sqlite3 DBAPI2 connection. Other DBAPI2 objects are not tested. Please consider using SQLAlchemy.\n"
     ]
    },
    {
     "name": "stdout",
     "output_type": "stream",
     "text": [
      "Tamaño del DF (MB): 84.3209228515625\n",
      "CPU times: total: 3.75 s\n",
      "Wall time: 10.8 s\n"
     ]
    },
    {
     "data": {
      "text/plain": "        TransProdID TransProdDetalleID ClienteClave EsquemaID ProductoClave  \\\n0  10897F7A8F2F7328   1D380BEB9475E455   0463070000       D21          0355   \n1  10897F7A8F2F7328   25B4751EB6D6417B   0463070000       D21          0188   \n2  10897F7A8F2F7328   4BC4A07395AC9726   0463070000       D21          0025   \n3  10897F7A8F2F7328   51966B6D6CDDA974   0463070000       D21          0024   \n4  10897F7A8F2F7328   5EB99EFEACD2B609   0463070000       D21          0609   \n\n   TipoUnidad  Cantidad  Precio  Total           MFechaHora MUsuarioID  \\\n0           1       4.0   21.70  86.80  2024-06-03 12:15:21    D004039   \n1           1       3.0   15.53  46.59  2024-06-03 12:15:25    D004039   \n2           1       2.0    7.50  15.00  2024-06-03 12:15:35    D004039   \n3           1       5.0    9.00  45.00  2024-06-03 12:15:43    D004039   \n4           1       4.0   22.50  90.00  2024-06-03 12:15:31    D004039   \n\n  AlmacenPadreId  \n0           D004  \n1           D004  \n2           D004  \n3           D004  \n4           D004  ",
      "text/html": "<div>\n<style scoped>\n    .dataframe tbody tr th:only-of-type {\n        vertical-align: middle;\n    }\n\n    .dataframe tbody tr th {\n        vertical-align: top;\n    }\n\n    .dataframe thead th {\n        text-align: right;\n    }\n</style>\n<table border=\"1\" class=\"dataframe\">\n  <thead>\n    <tr style=\"text-align: right;\">\n      <th></th>\n      <th>TransProdID</th>\n      <th>TransProdDetalleID</th>\n      <th>ClienteClave</th>\n      <th>EsquemaID</th>\n      <th>ProductoClave</th>\n      <th>TipoUnidad</th>\n      <th>Cantidad</th>\n      <th>Precio</th>\n      <th>Total</th>\n      <th>MFechaHora</th>\n      <th>MUsuarioID</th>\n      <th>AlmacenPadreId</th>\n    </tr>\n  </thead>\n  <tbody>\n    <tr>\n      <th>0</th>\n      <td>10897F7A8F2F7328</td>\n      <td>1D380BEB9475E455</td>\n      <td>0463070000</td>\n      <td>D21</td>\n      <td>0355</td>\n      <td>1</td>\n      <td>4.0</td>\n      <td>21.70</td>\n      <td>86.80</td>\n      <td>2024-06-03 12:15:21</td>\n      <td>D004039</td>\n      <td>D004</td>\n    </tr>\n    <tr>\n      <th>1</th>\n      <td>10897F7A8F2F7328</td>\n      <td>25B4751EB6D6417B</td>\n      <td>0463070000</td>\n      <td>D21</td>\n      <td>0188</td>\n      <td>1</td>\n      <td>3.0</td>\n      <td>15.53</td>\n      <td>46.59</td>\n      <td>2024-06-03 12:15:25</td>\n      <td>D004039</td>\n      <td>D004</td>\n    </tr>\n    <tr>\n      <th>2</th>\n      <td>10897F7A8F2F7328</td>\n      <td>4BC4A07395AC9726</td>\n      <td>0463070000</td>\n      <td>D21</td>\n      <td>0025</td>\n      <td>1</td>\n      <td>2.0</td>\n      <td>7.50</td>\n      <td>15.00</td>\n      <td>2024-06-03 12:15:35</td>\n      <td>D004039</td>\n      <td>D004</td>\n    </tr>\n    <tr>\n      <th>3</th>\n      <td>10897F7A8F2F7328</td>\n      <td>51966B6D6CDDA974</td>\n      <td>0463070000</td>\n      <td>D21</td>\n      <td>0024</td>\n      <td>1</td>\n      <td>5.0</td>\n      <td>9.00</td>\n      <td>45.00</td>\n      <td>2024-06-03 12:15:43</td>\n      <td>D004039</td>\n      <td>D004</td>\n    </tr>\n    <tr>\n      <th>4</th>\n      <td>10897F7A8F2F7328</td>\n      <td>5EB99EFEACD2B609</td>\n      <td>0463070000</td>\n      <td>D21</td>\n      <td>0609</td>\n      <td>1</td>\n      <td>4.0</td>\n      <td>22.50</td>\n      <td>90.00</td>\n      <td>2024-06-03 12:15:31</td>\n      <td>D004039</td>\n      <td>D004</td>\n    </tr>\n  </tbody>\n</table>\n</div>"
     },
     "execution_count": 9,
     "metadata": {},
     "output_type": "execute_result"
    }
   ],
   "source": [
    "%%time \n",
    "ventas_detalle = pd.read_sql_query(sql=ventas_detalle_query, con=conexion, dtype_backend=\"pyarrow\")\n",
    "\n",
    "# Sacamos el tamaño en memoria RAM \n",
    "memoria  = ventas_detalle.memory_usage(deep=True).sum()\n",
    "memoria = memoria / (1024**2)\n",
    "print(\"Tamaño del DF (MB):\", memoria)\n",
    "\n",
    "ventas_detalle.head()"
   ],
   "metadata": {
    "collapsed": false,
    "ExecuteTime": {
     "end_time": "2024-06-11T16:21:11.693890400Z",
     "start_time": "2024-06-11T16:21:00.787206600Z"
    }
   },
   "id": "ee4bc79d8cd25dec"
  },
  {
   "cell_type": "code",
   "execution_count": 10,
   "outputs": [
    {
     "name": "stderr",
     "output_type": "stream",
     "text": [
      "C:\\Users\\OMBARRAZA\\AppData\\Local\\Temp\\ipykernel_17932\\1719042460.py:1: UserWarning: pandas only supports SQLAlchemy connectable (engine/connection) or database string URI or sqlite3 DBAPI2 connection. Other DBAPI2 objects are not tested. Please consider using SQLAlchemy.\n",
      "  pzs_ltrs_por_producto = pd.read_sql(sql=query_volumen_producto, con=conexion, dtype_backend=\"pyarrow\")\n"
     ]
    },
    {
     "data": {
      "text/plain": "  ProductoClave  PRUTipoUnidad  Factor  KgLts\n0          0005              1     1.0  0.250\n1          0006              1     1.0  1.000\n2          0007              1     1.0  0.250\n3          0008              1     1.0  0.000\n4          0009              1     1.0  0.236",
      "text/html": "<div>\n<style scoped>\n    .dataframe tbody tr th:only-of-type {\n        vertical-align: middle;\n    }\n\n    .dataframe tbody tr th {\n        vertical-align: top;\n    }\n\n    .dataframe thead th {\n        text-align: right;\n    }\n</style>\n<table border=\"1\" class=\"dataframe\">\n  <thead>\n    <tr style=\"text-align: right;\">\n      <th></th>\n      <th>ProductoClave</th>\n      <th>PRUTipoUnidad</th>\n      <th>Factor</th>\n      <th>KgLts</th>\n    </tr>\n  </thead>\n  <tbody>\n    <tr>\n      <th>0</th>\n      <td>0005</td>\n      <td>1</td>\n      <td>1.0</td>\n      <td>0.250</td>\n    </tr>\n    <tr>\n      <th>1</th>\n      <td>0006</td>\n      <td>1</td>\n      <td>1.0</td>\n      <td>1.000</td>\n    </tr>\n    <tr>\n      <th>2</th>\n      <td>0007</td>\n      <td>1</td>\n      <td>1.0</td>\n      <td>0.250</td>\n    </tr>\n    <tr>\n      <th>3</th>\n      <td>0008</td>\n      <td>1</td>\n      <td>1.0</td>\n      <td>0.000</td>\n    </tr>\n    <tr>\n      <th>4</th>\n      <td>0009</td>\n      <td>1</td>\n      <td>1.0</td>\n      <td>0.236</td>\n    </tr>\n  </tbody>\n</table>\n</div>"
     },
     "execution_count": 10,
     "metadata": {},
     "output_type": "execute_result"
    }
   ],
   "source": [
    "pzs_ltrs_por_producto = pd.read_sql(sql=query_volumen_producto, con=conexion, dtype_backend=\"pyarrow\")\n",
    "pzs_ltrs_por_producto.head()\n",
    "\n",
    "# NOTA: La columna de PrutTipoUnidad auqnue es numerica expresa una categoria, 1 significa que se vende de manera individual, 8 por charola y 9 por bolsa. Estas categorias las tengo que vincular más bien con la columnas de Factor que esa si son las piezas reales."
   ],
   "metadata": {
    "collapsed": false,
    "ExecuteTime": {
     "end_time": "2024-06-11T16:21:11.832725300Z",
     "start_time": "2024-06-11T16:21:11.649880200Z"
    }
   },
   "id": "a0aaf2b5bb17ba59"
  },
  {
   "cell_type": "markdown",
   "source": [
    "### 1.2) Medianas de clientes y Clusters (parquet viene del entrenamiento del modelo)\n",
    "**IMPORTANTE:** Recordemos que estos son los clusters de nivel de consumo, no los de patrones de consumo \n",
    "Se almacenaron una serie de datos CSV en el parte de entrenamiento, los que más nos interesan de acá son la mediana historica de venta del cliente en volumen"
   ],
   "metadata": {
    "collapsed": false
   },
   "id": "91a6f0d1bc4c67fe"
  },
  {
   "cell_type": "code",
   "execution_count": 11,
   "outputs": [
    {
     "data": {
      "text/plain": "        ClienteClave EsquemaID AlmacenPadreId  Semana  Year  \\\n0         0100800011       D21           D001      18  2022   \n1         0117970001       D21           D001      18  2022   \n2         0118870001       D21           D001      18  2022   \n3         0120270001       D21           D001      18  2022   \n4         0127380000       D21           D046      18  2022   \n...              ...       ...            ...     ...   ...   \n1041779   1931550001       D21           D002       9  2024   \n1041780   1931560001       D21           D002       9  2024   \n1041781   1931610001       D21           D006       9  2024   \n1041782   1931660001       D21           D002       9  2024   \n1041783   1931680001       D21           D002       9  2024   \n\n         Frecuencia_Teorica  Porcentaje_cumplimiento  Mediana_semanal(L)  \\\n0                         2               100.000000             126.000   \n1                         6                83.333333             269.860   \n2                         6               100.000000             164.700   \n3                         6               100.000000              33.760   \n4                         3               100.000000              60.110   \n...                     ...                      ...                 ...   \n1041779                   1               100.000000              22.920   \n1041780                   1               100.000000              21.200   \n1041781                   2               100.000000              14.160   \n1041782                   2               100.000000              95.200   \n1041783                   3               100.000000             100.335   \n\n         Cluster  \n0              5  \n1              2  \n2              2  \n3              0  \n4              0  \n...          ...  \n1041779        0  \n1041780        0  \n1041781        0  \n1041782        5  \n1041783        5  \n\n[1041784 rows x 9 columns]",
      "text/html": "<div>\n<style scoped>\n    .dataframe tbody tr th:only-of-type {\n        vertical-align: middle;\n    }\n\n    .dataframe tbody tr th {\n        vertical-align: top;\n    }\n\n    .dataframe thead th {\n        text-align: right;\n    }\n</style>\n<table border=\"1\" class=\"dataframe\">\n  <thead>\n    <tr style=\"text-align: right;\">\n      <th></th>\n      <th>ClienteClave</th>\n      <th>EsquemaID</th>\n      <th>AlmacenPadreId</th>\n      <th>Semana</th>\n      <th>Year</th>\n      <th>Frecuencia_Teorica</th>\n      <th>Porcentaje_cumplimiento</th>\n      <th>Mediana_semanal(L)</th>\n      <th>Cluster</th>\n    </tr>\n  </thead>\n  <tbody>\n    <tr>\n      <th>0</th>\n      <td>0100800011</td>\n      <td>D21</td>\n      <td>D001</td>\n      <td>18</td>\n      <td>2022</td>\n      <td>2</td>\n      <td>100.000000</td>\n      <td>126.000</td>\n      <td>5</td>\n    </tr>\n    <tr>\n      <th>1</th>\n      <td>0117970001</td>\n      <td>D21</td>\n      <td>D001</td>\n      <td>18</td>\n      <td>2022</td>\n      <td>6</td>\n      <td>83.333333</td>\n      <td>269.860</td>\n      <td>2</td>\n    </tr>\n    <tr>\n      <th>2</th>\n      <td>0118870001</td>\n      <td>D21</td>\n      <td>D001</td>\n      <td>18</td>\n      <td>2022</td>\n      <td>6</td>\n      <td>100.000000</td>\n      <td>164.700</td>\n      <td>2</td>\n    </tr>\n    <tr>\n      <th>3</th>\n      <td>0120270001</td>\n      <td>D21</td>\n      <td>D001</td>\n      <td>18</td>\n      <td>2022</td>\n      <td>6</td>\n      <td>100.000000</td>\n      <td>33.760</td>\n      <td>0</td>\n    </tr>\n    <tr>\n      <th>4</th>\n      <td>0127380000</td>\n      <td>D21</td>\n      <td>D046</td>\n      <td>18</td>\n      <td>2022</td>\n      <td>3</td>\n      <td>100.000000</td>\n      <td>60.110</td>\n      <td>0</td>\n    </tr>\n    <tr>\n      <th>...</th>\n      <td>...</td>\n      <td>...</td>\n      <td>...</td>\n      <td>...</td>\n      <td>...</td>\n      <td>...</td>\n      <td>...</td>\n      <td>...</td>\n      <td>...</td>\n    </tr>\n    <tr>\n      <th>1041779</th>\n      <td>1931550001</td>\n      <td>D21</td>\n      <td>D002</td>\n      <td>9</td>\n      <td>2024</td>\n      <td>1</td>\n      <td>100.000000</td>\n      <td>22.920</td>\n      <td>0</td>\n    </tr>\n    <tr>\n      <th>1041780</th>\n      <td>1931560001</td>\n      <td>D21</td>\n      <td>D002</td>\n      <td>9</td>\n      <td>2024</td>\n      <td>1</td>\n      <td>100.000000</td>\n      <td>21.200</td>\n      <td>0</td>\n    </tr>\n    <tr>\n      <th>1041781</th>\n      <td>1931610001</td>\n      <td>D21</td>\n      <td>D006</td>\n      <td>9</td>\n      <td>2024</td>\n      <td>2</td>\n      <td>100.000000</td>\n      <td>14.160</td>\n      <td>0</td>\n    </tr>\n    <tr>\n      <th>1041782</th>\n      <td>1931660001</td>\n      <td>D21</td>\n      <td>D002</td>\n      <td>9</td>\n      <td>2024</td>\n      <td>2</td>\n      <td>100.000000</td>\n      <td>95.200</td>\n      <td>5</td>\n    </tr>\n    <tr>\n      <th>1041783</th>\n      <td>1931680001</td>\n      <td>D21</td>\n      <td>D002</td>\n      <td>9</td>\n      <td>2024</td>\n      <td>3</td>\n      <td>100.000000</td>\n      <td>100.335</td>\n      <td>5</td>\n    </tr>\n  </tbody>\n</table>\n<p>1041784 rows × 9 columns</p>\n</div>"
     },
     "execution_count": 11,
     "metadata": {},
     "output_type": "execute_result"
    }
   ],
   "source": [
    "datos_cliente_modelo = pd.read_parquet(path=\"Resultados/Tablas/Mediana_Clientes.parquet\", \n",
    "                                       columns=[\"ClienteClave\", \"EsquemaID\", \"AlmacenPadreId\", \"Semana\", \n",
    "                                                \"Year\", \"Frecuencia_Teorica\", \"Porcentaje_cumplimiento\",\n",
    "                                                \"Mediana_semanal(L)\", \"Cluster\"]) #Con columns nos quedamos con las columnas de interés\n",
    "# Recordemos que los clusters que vemos aqui son  clusters por nivel de consumo \n",
    "\n",
    "datos_cliente_modelo"
   ],
   "metadata": {
    "collapsed": false,
    "ExecuteTime": {
     "end_time": "2024-06-11T16:21:12.062179Z",
     "start_time": "2024-06-11T16:21:11.769712900Z"
    }
   },
   "id": "6e31b9cc9b772489"
  },
  {
   "cell_type": "code",
   "execution_count": 12,
   "outputs": [
    {
     "name": "stdout",
     "output_type": "stream",
     "text": [
      "Los datos provenientes del modelo contienen 25111 clientes\n"
     ]
    }
   ],
   "source": [
    "num_clientes_modelo = len(datos_cliente_modelo[\"ClienteClave\"].unique())\n",
    "print(f\"Los datos provenientes del modelo contienen {num_clientes_modelo} clientes\")"
   ],
   "metadata": {
    "collapsed": false,
    "ExecuteTime": {
     "end_time": "2024-06-11T16:21:12.062179Z",
     "start_time": "2024-06-11T16:21:11.955566500Z"
    }
   },
   "id": "16427b4e3111ac6e"
  },
  {
   "cell_type": "markdown",
   "source": [
    "## 2) Tratamiento de datos \n",
    "En esta sección se estructuran el formato adecuado de los datos para poder ser utilizados en el modelo"
   ],
   "metadata": {
    "collapsed": false
   },
   "id": "9b23f446e43203c8"
  },
  {
   "cell_type": "markdown",
   "source": [
    "### 2.1) Tratamiento de la agenda actual de clientes \n",
    "Sacaremos la frecuencia de visita a nivel semanal actual por clintes, esto es una de las variables que debemos incoporar para hacer la predicción del volumen total de venta por cliente"
   ],
   "metadata": {
    "collapsed": false
   },
   "id": "e243c5909bf356b8"
  },
  {
   "cell_type": "code",
   "execution_count": 13,
   "outputs": [
    {
     "data": {
      "text/plain": "      ClienteClave RUTClave EsquemaID AlmacenPadreId  Frecuencia_Teorica\n0       0100110001  D001049       D21           D001                   6\n1       0100110002  D001019       D21           D001                   6\n2       0100510001  D003016       D21           D003                   2\n3       0100800011  D001041       D21           D001                   2\n4       0100820001  D001301       D21           D001                   2\n...            ...      ...       ...            ...                 ...\n16989   1938790001  D001040       D21           D001                   2\n16990   1938800001  D001040       D21           D001                   2\n16991   1938810001  D001040       D21           D001                   2\n16992   1938820001  D001040       D21           D001                   2\n16993   1938830001  D001040       D21           D001                   2\n\n[16994 rows x 5 columns]",
      "text/html": "<div>\n<style scoped>\n    .dataframe tbody tr th:only-of-type {\n        vertical-align: middle;\n    }\n\n    .dataframe tbody tr th {\n        vertical-align: top;\n    }\n\n    .dataframe thead th {\n        text-align: right;\n    }\n</style>\n<table border=\"1\" class=\"dataframe\">\n  <thead>\n    <tr style=\"text-align: right;\">\n      <th></th>\n      <th>ClienteClave</th>\n      <th>RUTClave</th>\n      <th>EsquemaID</th>\n      <th>AlmacenPadreId</th>\n      <th>Frecuencia_Teorica</th>\n    </tr>\n  </thead>\n  <tbody>\n    <tr>\n      <th>0</th>\n      <td>0100110001</td>\n      <td>D001049</td>\n      <td>D21</td>\n      <td>D001</td>\n      <td>6</td>\n    </tr>\n    <tr>\n      <th>1</th>\n      <td>0100110002</td>\n      <td>D001019</td>\n      <td>D21</td>\n      <td>D001</td>\n      <td>6</td>\n    </tr>\n    <tr>\n      <th>2</th>\n      <td>0100510001</td>\n      <td>D003016</td>\n      <td>D21</td>\n      <td>D003</td>\n      <td>2</td>\n    </tr>\n    <tr>\n      <th>3</th>\n      <td>0100800011</td>\n      <td>D001041</td>\n      <td>D21</td>\n      <td>D001</td>\n      <td>2</td>\n    </tr>\n    <tr>\n      <th>4</th>\n      <td>0100820001</td>\n      <td>D001301</td>\n      <td>D21</td>\n      <td>D001</td>\n      <td>2</td>\n    </tr>\n    <tr>\n      <th>...</th>\n      <td>...</td>\n      <td>...</td>\n      <td>...</td>\n      <td>...</td>\n      <td>...</td>\n    </tr>\n    <tr>\n      <th>16989</th>\n      <td>1938790001</td>\n      <td>D001040</td>\n      <td>D21</td>\n      <td>D001</td>\n      <td>2</td>\n    </tr>\n    <tr>\n      <th>16990</th>\n      <td>1938800001</td>\n      <td>D001040</td>\n      <td>D21</td>\n      <td>D001</td>\n      <td>2</td>\n    </tr>\n    <tr>\n      <th>16991</th>\n      <td>1938810001</td>\n      <td>D001040</td>\n      <td>D21</td>\n      <td>D001</td>\n      <td>2</td>\n    </tr>\n    <tr>\n      <th>16992</th>\n      <td>1938820001</td>\n      <td>D001040</td>\n      <td>D21</td>\n      <td>D001</td>\n      <td>2</td>\n    </tr>\n    <tr>\n      <th>16993</th>\n      <td>1938830001</td>\n      <td>D001040</td>\n      <td>D21</td>\n      <td>D001</td>\n      <td>2</td>\n    </tr>\n  </tbody>\n</table>\n<p>16994 rows × 5 columns</p>\n</div>"
     },
     "execution_count": 13,
     "metadata": {},
     "output_type": "execute_result"
    }
   ],
   "source": [
    "clientes_actuales = agenda_actual.groupby(by=[\"ClienteClave\",\n",
    "                                              \"RUTClave\", \"EsquemaID\", \"AlmacenPadreId\"]).size().reset_index()\n",
    "\n",
    "clientes_actuales.rename(columns = {0:\"Frecuencia_Teorica\"}, inplace=True) \n",
    "clientes_actuales.reset_index(drop=True, inplace=True)\n",
    "clientes_actuales"
   ],
   "metadata": {
    "collapsed": false,
    "ExecuteTime": {
     "end_time": "2024-06-11T16:21:12.117190500Z",
     "start_time": "2024-06-11T16:21:11.986972600Z"
    }
   },
   "id": "57f794166b169796"
  },
  {
   "cell_type": "markdown",
   "source": [
    "#### 2.1.2) Incorporación de la mediana  a la agenda actual y el cluster de consumo \n",
    "En esta sección vamos a vincular los datos de mediana, y cluster a la agenda actual que es la que realmente nos importa predeccir "
   ],
   "metadata": {
    "collapsed": false
   },
   "id": "90157aa4b65dea0c"
  },
  {
   "cell_type": "code",
   "execution_count": 14,
   "outputs": [
    {
     "data": {
      "text/plain": "      ClienteClave  Mediana_semanal(L)  Cluster\n0       0100510001               10.80        0\n1       0100900004               49.72        0\n2       0100900005               28.30        0\n3       0100900008               54.07        0\n4       0100900009               78.31        5\n...            ...                 ...      ...\n25106   1358860001               23.70        0\n25107   1481120001              120.27        5\n25108   1773110001              121.21        5\n25109   1822610001              100.95        5\n25110   0661450000               54.65        0\n\n[25111 rows x 3 columns]",
      "text/html": "<div>\n<style scoped>\n    .dataframe tbody tr th:only-of-type {\n        vertical-align: middle;\n    }\n\n    .dataframe tbody tr th {\n        vertical-align: top;\n    }\n\n    .dataframe thead th {\n        text-align: right;\n    }\n</style>\n<table border=\"1\" class=\"dataframe\">\n  <thead>\n    <tr style=\"text-align: right;\">\n      <th></th>\n      <th>ClienteClave</th>\n      <th>Mediana_semanal(L)</th>\n      <th>Cluster</th>\n    </tr>\n  </thead>\n  <tbody>\n    <tr>\n      <th>0</th>\n      <td>0100510001</td>\n      <td>10.80</td>\n      <td>0</td>\n    </tr>\n    <tr>\n      <th>1</th>\n      <td>0100900004</td>\n      <td>49.72</td>\n      <td>0</td>\n    </tr>\n    <tr>\n      <th>2</th>\n      <td>0100900005</td>\n      <td>28.30</td>\n      <td>0</td>\n    </tr>\n    <tr>\n      <th>3</th>\n      <td>0100900008</td>\n      <td>54.07</td>\n      <td>0</td>\n    </tr>\n    <tr>\n      <th>4</th>\n      <td>0100900009</td>\n      <td>78.31</td>\n      <td>5</td>\n    </tr>\n    <tr>\n      <th>...</th>\n      <td>...</td>\n      <td>...</td>\n      <td>...</td>\n    </tr>\n    <tr>\n      <th>25106</th>\n      <td>1358860001</td>\n      <td>23.70</td>\n      <td>0</td>\n    </tr>\n    <tr>\n      <th>25107</th>\n      <td>1481120001</td>\n      <td>120.27</td>\n      <td>5</td>\n    </tr>\n    <tr>\n      <th>25108</th>\n      <td>1773110001</td>\n      <td>121.21</td>\n      <td>5</td>\n    </tr>\n    <tr>\n      <th>25109</th>\n      <td>1822610001</td>\n      <td>100.95</td>\n      <td>5</td>\n    </tr>\n    <tr>\n      <th>25110</th>\n      <td>0661450000</td>\n      <td>54.65</td>\n      <td>0</td>\n    </tr>\n  </tbody>\n</table>\n<p>25111 rows × 3 columns</p>\n</div>"
     },
     "execution_count": 14,
     "metadata": {},
     "output_type": "execute_result"
    }
   ],
   "source": [
    "# Hacemos esto para quedarnos con el cluster más actual \n",
    "datos_cliente_modelo.sort_values(by=[\"Year\", \"Semana\"], ascending=False, inplace=True)\n",
    "datos_cliente_modelo.drop_duplicates(subset=[\"ClienteClave\"], keep=\"first\", inplace=True)\n",
    "datos_cliente_modelo.reset_index(drop=True , inplace=True)\n",
    "datos_cliente_modelo = datos_cliente_modelo[[\"ClienteClave\", \"Mediana_semanal(L)\", \"Cluster\"]] \n",
    "datos_cliente_modelo"
   ],
   "metadata": {
    "collapsed": false,
    "ExecuteTime": {
     "end_time": "2024-06-11T16:21:12.366569800Z",
     "start_time": "2024-06-11T16:21:12.015168400Z"
    }
   },
   "id": "616f4a59d6199800"
  },
  {
   "cell_type": "code",
   "execution_count": 15,
   "outputs": [
    {
     "data": {
      "text/plain": "      ClienteClave RUTClave EsquemaID AlmacenPadreId  Frecuencia_Teorica  \\\n0       0100110001  D001049       D21           D001                   6   \n1       0100110002  D001019       D21           D001                   6   \n2       0100510001  D003016       D21           D003                   2   \n3       0100800011  D001041       D21           D001                   2   \n4       0100820001  D001301       D21           D001                   2   \n...            ...      ...       ...            ...                 ...   \n16989   1938790001  D001040       D21           D001                   2   \n16990   1938800001  D001040       D21           D001                   2   \n16991   1938810001  D001040       D21           D001                   2   \n16992   1938820001  D001040       D21           D001                   2   \n16993   1938830001  D001040       D21           D001                   2   \n\n       Mediana_semanal(L)  Cluster  \n0                    <NA>      NaN  \n1                 329.835      1.0  \n2                    10.8      0.0  \n3                   126.0      5.0  \n4                    <NA>      NaN  \n...                   ...      ...  \n16989                <NA>      NaN  \n16990                <NA>      NaN  \n16991                <NA>      NaN  \n16992                <NA>      NaN  \n16993                <NA>      NaN  \n\n[16994 rows x 7 columns]",
      "text/html": "<div>\n<style scoped>\n    .dataframe tbody tr th:only-of-type {\n        vertical-align: middle;\n    }\n\n    .dataframe tbody tr th {\n        vertical-align: top;\n    }\n\n    .dataframe thead th {\n        text-align: right;\n    }\n</style>\n<table border=\"1\" class=\"dataframe\">\n  <thead>\n    <tr style=\"text-align: right;\">\n      <th></th>\n      <th>ClienteClave</th>\n      <th>RUTClave</th>\n      <th>EsquemaID</th>\n      <th>AlmacenPadreId</th>\n      <th>Frecuencia_Teorica</th>\n      <th>Mediana_semanal(L)</th>\n      <th>Cluster</th>\n    </tr>\n  </thead>\n  <tbody>\n    <tr>\n      <th>0</th>\n      <td>0100110001</td>\n      <td>D001049</td>\n      <td>D21</td>\n      <td>D001</td>\n      <td>6</td>\n      <td>&lt;NA&gt;</td>\n      <td>NaN</td>\n    </tr>\n    <tr>\n      <th>1</th>\n      <td>0100110002</td>\n      <td>D001019</td>\n      <td>D21</td>\n      <td>D001</td>\n      <td>6</td>\n      <td>329.835</td>\n      <td>1.0</td>\n    </tr>\n    <tr>\n      <th>2</th>\n      <td>0100510001</td>\n      <td>D003016</td>\n      <td>D21</td>\n      <td>D003</td>\n      <td>2</td>\n      <td>10.8</td>\n      <td>0.0</td>\n    </tr>\n    <tr>\n      <th>3</th>\n      <td>0100800011</td>\n      <td>D001041</td>\n      <td>D21</td>\n      <td>D001</td>\n      <td>2</td>\n      <td>126.0</td>\n      <td>5.0</td>\n    </tr>\n    <tr>\n      <th>4</th>\n      <td>0100820001</td>\n      <td>D001301</td>\n      <td>D21</td>\n      <td>D001</td>\n      <td>2</td>\n      <td>&lt;NA&gt;</td>\n      <td>NaN</td>\n    </tr>\n    <tr>\n      <th>...</th>\n      <td>...</td>\n      <td>...</td>\n      <td>...</td>\n      <td>...</td>\n      <td>...</td>\n      <td>...</td>\n      <td>...</td>\n    </tr>\n    <tr>\n      <th>16989</th>\n      <td>1938790001</td>\n      <td>D001040</td>\n      <td>D21</td>\n      <td>D001</td>\n      <td>2</td>\n      <td>&lt;NA&gt;</td>\n      <td>NaN</td>\n    </tr>\n    <tr>\n      <th>16990</th>\n      <td>1938800001</td>\n      <td>D001040</td>\n      <td>D21</td>\n      <td>D001</td>\n      <td>2</td>\n      <td>&lt;NA&gt;</td>\n      <td>NaN</td>\n    </tr>\n    <tr>\n      <th>16991</th>\n      <td>1938810001</td>\n      <td>D001040</td>\n      <td>D21</td>\n      <td>D001</td>\n      <td>2</td>\n      <td>&lt;NA&gt;</td>\n      <td>NaN</td>\n    </tr>\n    <tr>\n      <th>16992</th>\n      <td>1938820001</td>\n      <td>D001040</td>\n      <td>D21</td>\n      <td>D001</td>\n      <td>2</td>\n      <td>&lt;NA&gt;</td>\n      <td>NaN</td>\n    </tr>\n    <tr>\n      <th>16993</th>\n      <td>1938830001</td>\n      <td>D001040</td>\n      <td>D21</td>\n      <td>D001</td>\n      <td>2</td>\n      <td>&lt;NA&gt;</td>\n      <td>NaN</td>\n    </tr>\n  </tbody>\n</table>\n<p>16994 rows × 7 columns</p>\n</div>"
     },
     "execution_count": 15,
     "metadata": {},
     "output_type": "execute_result"
    }
   ],
   "source": [
    "# Vinculación de los clientes actuales con los datos del entrenamiento de mediana y cluster de volumen de consumo al que pertenecen \n",
    "\n",
    "clientes_actuales = pd.merge(left=clientes_actuales, right=datos_cliente_modelo, how=\"left\", on=[\"ClienteClave\"])\n",
    "clientes_actuales"
   ],
   "metadata": {
    "collapsed": false,
    "ExecuteTime": {
     "end_time": "2024-06-11T16:21:12.367570600Z",
     "start_time": "2024-06-11T16:21:12.240687600Z"
    }
   },
   "id": "be9d7d39c86a6a3f"
  },
  {
   "cell_type": "markdown",
   "source": [
    "**INSPECCION DE VALORES NULOS**\n",
    "Los valores nulos en este caso repreentan a clientes actuales (de la agenda actual)  que no estuvieron en el proceso de entrenamiento del modelo, por lo que no conocemos sus patrones de consumo "
   ],
   "metadata": {
    "collapsed": false
   },
   "id": "9b46f93d7b227239"
  },
  {
   "cell_type": "code",
   "execution_count": 16,
   "outputs": [
    {
     "data": {
      "text/plain": "ClienteClave            0\nRUTClave                0\nEsquemaID               0\nAlmacenPadreId          0\nFrecuencia_Teorica      0\nMediana_semanal(L)    881\nCluster               881\ndtype: int64"
     },
     "execution_count": 16,
     "metadata": {},
     "output_type": "execute_result"
    }
   ],
   "source": [
    "clientes_actuales.isnull().sum()"
   ],
   "metadata": {
    "collapsed": false,
    "ExecuteTime": {
     "end_time": "2024-06-11T16:21:12.367570600Z",
     "start_time": "2024-06-11T16:21:12.265282500Z"
    }
   },
   "id": "43df40d2a7e2e9d3"
  },
  {
   "cell_type": "markdown",
   "source": [
    "#### 2.1.2) Tratamiento de clientes con  mediana nula   \n",
    "Estos clientes tendrán un tratameiento especial para llenar esos aaspectos nulos, son clientes que no estuvieron en el proceso de entrenamiento  "
   ],
   "metadata": {
    "collapsed": false
   },
   "id": "78069c701658c4eb"
  },
  {
   "cell_type": "code",
   "execution_count": 17,
   "outputs": [
    {
     "data": {
      "text/plain": "0        63.3000\n1        96.3500\n2        56.4650\n3        90.6225\n4        93.1875\n          ...   \n16989    41.7700\n16990    41.7700\n16991    41.7700\n16992    41.7700\n16993    41.7700\nName: Mediana_semanal(L), Length: 16994, dtype: double[pyarrow]"
     },
     "execution_count": 17,
     "metadata": {},
     "output_type": "execute_result"
    }
   ],
   "source": [
    "# 1) Calcular la mediana  de consumo de los clientes por cada ruta\n",
    "medianas_por_ruta = clientes_actuales.groupby(by='RUTClave')['Mediana_semanal(L)'].transform(func='median')\n",
    " # .transform('median') calcula la mediana de cada grupo y devuelve un objeto de Series del mismo tamaño que el DataFrame original, con la mediana correspondiente a cada 'Ruta'.\n",
    " \n",
    " # Es decir que nos dará un objeto (serie) de la misma longitud que el de entrada \n",
    "medianas_por_ruta"
   ],
   "metadata": {
    "collapsed": false,
    "ExecuteTime": {
     "end_time": "2024-06-11T16:21:12.367570600Z",
     "start_time": "2024-06-11T16:21:12.270431500Z"
    }
   },
   "id": "7664e02493745701"
  },
  {
   "cell_type": "markdown",
   "source": [
    "**Visualización del histogrma de medianas por ruta**"
   ],
   "metadata": {
    "collapsed": false
   },
   "id": "1ab15ed467062c78"
  },
  {
   "cell_type": "code",
   "execution_count": 18,
   "outputs": [
    {
     "data": {
      "text/plain": "<Axes: title={'center': 'Medianas por ruta'}, ylabel='Frequency'>"
     },
     "execution_count": 18,
     "metadata": {},
     "output_type": "execute_result"
    },
    {
     "data": {
      "text/plain": "<Figure size 640x480 with 1 Axes>",
      "image/png": "[encoded data removed]"
     },
     "metadata": {},
     "output_type": "display_data"
    }
   ],
   "source": [
    "medianas_por_ruta.plot(kind =\"hist\", title = \"Medianas por ruta\") # Como podemos observa si existe una diferencia notable de ruta a ruta "
   ],
   "metadata": {
    "collapsed": false,
    "ExecuteTime": {
     "end_time": "2024-06-11T16:21:12.975119400Z",
     "start_time": "2024-06-11T16:21:12.278550600Z"
    }
   },
   "id": "4a9ba2270bf5411e"
  },
  {
   "cell_type": "code",
   "execution_count": 19,
   "outputs": [
    {
     "data": {
      "text/plain": "      ClienteClave RUTClave EsquemaID AlmacenPadreId  Frecuencia_Teorica  \\\n0       0100110001  D001049       D21           D001                   6   \n1       0100110002  D001019       D21           D001                   6   \n2       0100510001  D003016       D21           D003                   2   \n3       0100800011  D001041       D21           D001                   2   \n4       0100820001  D001301       D21           D001                   2   \n...            ...      ...       ...            ...                 ...   \n16989   1938790001  D001040       D21           D001                   2   \n16990   1938800001  D001040       D21           D001                   2   \n16991   1938810001  D001040       D21           D001                   2   \n16992   1938820001  D001040       D21           D001                   2   \n16993   1938830001  D001040       D21           D001                   2   \n\n       Mediana_semanal(L)  Cluster  \n0                    <NA>      NaN  \n1                 329.835      1.0  \n2                    10.8      0.0  \n3                   126.0      5.0  \n4                    <NA>      NaN  \n...                   ...      ...  \n16989                <NA>      NaN  \n16990                <NA>      NaN  \n16991                <NA>      NaN  \n16992                <NA>      NaN  \n16993                <NA>      NaN  \n\n[16994 rows x 7 columns]",
      "text/html": "<div>\n<style scoped>\n    .dataframe tbody tr th:only-of-type {\n        vertical-align: middle;\n    }\n\n    .dataframe tbody tr th {\n        vertical-align: top;\n    }\n\n    .dataframe thead th {\n        text-align: right;\n    }\n</style>\n<table border=\"1\" class=\"dataframe\">\n  <thead>\n    <tr style=\"text-align: right;\">\n      <th></th>\n      <th>ClienteClave</th>\n      <th>RUTClave</th>\n      <th>EsquemaID</th>\n      <th>AlmacenPadreId</th>\n      <th>Frecuencia_Teorica</th>\n      <th>Mediana_semanal(L)</th>\n      <th>Cluster</th>\n    </tr>\n  </thead>\n  <tbody>\n    <tr>\n      <th>0</th>\n      <td>0100110001</td>\n      <td>D001049</td>\n      <td>D21</td>\n      <td>D001</td>\n      <td>6</td>\n      <td>&lt;NA&gt;</td>\n      <td>NaN</td>\n    </tr>\n    <tr>\n      <th>1</th>\n      <td>0100110002</td>\n      <td>D001019</td>\n      <td>D21</td>\n      <td>D001</td>\n      <td>6</td>\n      <td>329.835</td>\n      <td>1.0</td>\n    </tr>\n    <tr>\n      <th>2</th>\n      <td>0100510001</td>\n      <td>D003016</td>\n      <td>D21</td>\n      <td>D003</td>\n      <td>2</td>\n      <td>10.8</td>\n      <td>0.0</td>\n    </tr>\n    <tr>\n      <th>3</th>\n      <td>0100800011</td>\n      <td>D001041</td>\n      <td>D21</td>\n      <td>D001</td>\n      <td>2</td>\n      <td>126.0</td>\n      <td>5.0</td>\n    </tr>\n    <tr>\n      <th>4</th>\n      <td>0100820001</td>\n      <td>D001301</td>\n      <td>D21</td>\n      <td>D001</td>\n      <td>2</td>\n      <td>&lt;NA&gt;</td>\n      <td>NaN</td>\n    </tr>\n    <tr>\n      <th>...</th>\n      <td>...</td>\n      <td>...</td>\n      <td>...</td>\n      <td>...</td>\n      <td>...</td>\n      <td>...</td>\n      <td>...</td>\n    </tr>\n    <tr>\n      <th>16989</th>\n      <td>1938790001</td>\n      <td>D001040</td>\n      <td>D21</td>\n      <td>D001</td>\n      <td>2</td>\n      <td>&lt;NA&gt;</td>\n      <td>NaN</td>\n    </tr>\n    <tr>\n      <th>16990</th>\n      <td>1938800001</td>\n      <td>D001040</td>\n      <td>D21</td>\n      <td>D001</td>\n      <td>2</td>\n      <td>&lt;NA&gt;</td>\n      <td>NaN</td>\n    </tr>\n    <tr>\n      <th>16991</th>\n      <td>1938810001</td>\n      <td>D001040</td>\n      <td>D21</td>\n      <td>D001</td>\n      <td>2</td>\n      <td>&lt;NA&gt;</td>\n      <td>NaN</td>\n    </tr>\n    <tr>\n      <th>16992</th>\n      <td>1938820001</td>\n      <td>D001040</td>\n      <td>D21</td>\n      <td>D001</td>\n      <td>2</td>\n      <td>&lt;NA&gt;</td>\n      <td>NaN</td>\n    </tr>\n    <tr>\n      <th>16993</th>\n      <td>1938830001</td>\n      <td>D001040</td>\n      <td>D21</td>\n      <td>D001</td>\n      <td>2</td>\n      <td>&lt;NA&gt;</td>\n      <td>NaN</td>\n    </tr>\n  </tbody>\n</table>\n<p>16994 rows × 7 columns</p>\n</div>"
     },
     "execution_count": 19,
     "metadata": {},
     "output_type": "execute_result"
    }
   ],
   "source": [
    "clientes_actuales"
   ],
   "metadata": {
    "collapsed": false,
    "ExecuteTime": {
     "end_time": "2024-06-11T16:21:12.996883200Z",
     "start_time": "2024-06-11T16:21:12.968118300Z"
    }
   },
   "id": "96525c2d7dfd7073"
  },
  {
   "cell_type": "code",
   "execution_count": 20,
   "outputs": [
    {
     "data": {
      "text/plain": "      ClienteClave RUTClave EsquemaID AlmacenPadreId  Frecuencia_Teorica  \\\n0       0100110001  D001049       D21           D001                   6   \n1       0100110002  D001019       D21           D001                   6   \n2       0100510001  D003016       D21           D003                   2   \n3       0100800011  D001041       D21           D001                   2   \n4       0100820001  D001301       D21           D001                   2   \n...            ...      ...       ...            ...                 ...   \n16989   1938790001  D001040       D21           D001                   2   \n16990   1938800001  D001040       D21           D001                   2   \n16991   1938810001  D001040       D21           D001                   2   \n16992   1938820001  D001040       D21           D001                   2   \n16993   1938830001  D001040       D21           D001                   2   \n\n       Mediana_semanal(L)  Cluster  \n0                 63.3000      NaN  \n1                329.8350      1.0  \n2                 10.8000      0.0  \n3                126.0000      5.0  \n4                 93.1875      NaN  \n...                   ...      ...  \n16989             41.7700      NaN  \n16990             41.7700      NaN  \n16991             41.7700      NaN  \n16992             41.7700      NaN  \n16993             41.7700      NaN  \n\n[16994 rows x 7 columns]",
      "text/html": "<div>\n<style scoped>\n    .dataframe tbody tr th:only-of-type {\n        vertical-align: middle;\n    }\n\n    .dataframe tbody tr th {\n        vertical-align: top;\n    }\n\n    .dataframe thead th {\n        text-align: right;\n    }\n</style>\n<table border=\"1\" class=\"dataframe\">\n  <thead>\n    <tr style=\"text-align: right;\">\n      <th></th>\n      <th>ClienteClave</th>\n      <th>RUTClave</th>\n      <th>EsquemaID</th>\n      <th>AlmacenPadreId</th>\n      <th>Frecuencia_Teorica</th>\n      <th>Mediana_semanal(L)</th>\n      <th>Cluster</th>\n    </tr>\n  </thead>\n  <tbody>\n    <tr>\n      <th>0</th>\n      <td>0100110001</td>\n      <td>D001049</td>\n      <td>D21</td>\n      <td>D001</td>\n      <td>6</td>\n      <td>63.3000</td>\n      <td>NaN</td>\n    </tr>\n    <tr>\n      <th>1</th>\n      <td>0100110002</td>\n      <td>D001019</td>\n      <td>D21</td>\n      <td>D001</td>\n      <td>6</td>\n      <td>329.8350</td>\n      <td>1.0</td>\n    </tr>\n    <tr>\n      <th>2</th>\n      <td>0100510001</td>\n      <td>D003016</td>\n      <td>D21</td>\n      <td>D003</td>\n      <td>2</td>\n      <td>10.8000</td>\n      <td>0.0</td>\n    </tr>\n    <tr>\n      <th>3</th>\n      <td>0100800011</td>\n      <td>D001041</td>\n      <td>D21</td>\n      <td>D001</td>\n      <td>2</td>\n      <td>126.0000</td>\n      <td>5.0</td>\n    </tr>\n    <tr>\n      <th>4</th>\n      <td>0100820001</td>\n      <td>D001301</td>\n      <td>D21</td>\n      <td>D001</td>\n      <td>2</td>\n      <td>93.1875</td>\n      <td>NaN</td>\n    </tr>\n    <tr>\n      <th>...</th>\n      <td>...</td>\n      <td>...</td>\n      <td>...</td>\n      <td>...</td>\n      <td>...</td>\n      <td>...</td>\n      <td>...</td>\n    </tr>\n    <tr>\n      <th>16989</th>\n      <td>1938790001</td>\n      <td>D001040</td>\n      <td>D21</td>\n      <td>D001</td>\n      <td>2</td>\n      <td>41.7700</td>\n      <td>NaN</td>\n    </tr>\n    <tr>\n      <th>16990</th>\n      <td>1938800001</td>\n      <td>D001040</td>\n      <td>D21</td>\n      <td>D001</td>\n      <td>2</td>\n      <td>41.7700</td>\n      <td>NaN</td>\n    </tr>\n    <tr>\n      <th>16991</th>\n      <td>1938810001</td>\n      <td>D001040</td>\n      <td>D21</td>\n      <td>D001</td>\n      <td>2</td>\n      <td>41.7700</td>\n      <td>NaN</td>\n    </tr>\n    <tr>\n      <th>16992</th>\n      <td>1938820001</td>\n      <td>D001040</td>\n      <td>D21</td>\n      <td>D001</td>\n      <td>2</td>\n      <td>41.7700</td>\n      <td>NaN</td>\n    </tr>\n    <tr>\n      <th>16993</th>\n      <td>1938830001</td>\n      <td>D001040</td>\n      <td>D21</td>\n      <td>D001</td>\n      <td>2</td>\n      <td>41.7700</td>\n      <td>NaN</td>\n    </tr>\n  </tbody>\n</table>\n<p>16994 rows × 7 columns</p>\n</div>"
     },
     "execution_count": 20,
     "metadata": {},
     "output_type": "execute_result"
    }
   ],
   "source": [
    "clientes_actuales[\"Mediana_semanal(L)\"].fillna(value=medianas_por_ruta, inplace=True)\n",
    "\n",
    "# Esto se debe a que la alineación basada en índices es el comportamiento predeterminado de .fillna() cuando se le pasa una Serie.\n",
    "\n",
    "\"\"\" \n",
    "La función .fillna() en pandas es bastante inteligente cuando se trata de rellenar valores NA/NaN con valores de otra Serie. En el contexto de tu código, estás usando .fillna() para rellenar valores NA/NaN en la columna 'Mediana' con los valores correspondientes de la serie medianas_por_ruta. Aquí está lo que realmente sucede detrás de escena:\n",
    "\n",
    "Alineación por Índices: Cuando pasas una Serie a .fillna(), pandas alinea automáticamente los valores de la Serie con el DataFrame o Serie original en el que estás llamando a .fillna(). Esto significa que .fillna() no rellena simplemente basado en el orden posicional de los datos; en cambio, utiliza los índices para determinar qué valor va dónde.\n",
    "\"\"\"\n",
    "clientes_actuales"
   ],
   "metadata": {
    "collapsed": false,
    "ExecuteTime": {
     "end_time": "2024-06-11T16:21:13.162852700Z",
     "start_time": "2024-06-11T16:21:13.012937100Z"
    }
   },
   "id": "67ac4f282576900"
  },
  {
   "cell_type": "markdown",
   "source": [
    "**INSPECCION DE VALORES NULOS**"
   ],
   "metadata": {
    "collapsed": false
   },
   "id": "e2539bd53ff41231"
  },
  {
   "cell_type": "code",
   "execution_count": 21,
   "outputs": [
    {
     "data": {
      "text/plain": "ClienteClave            0\nRUTClave                0\nEsquemaID               0\nAlmacenPadreId          0\nFrecuencia_Teorica      0\nMediana_semanal(L)     12\nCluster               881\ndtype: int64"
     },
     "execution_count": 21,
     "metadata": {},
     "output_type": "execute_result"
    }
   ],
   "source": [
    "clientes_actuales.isnull().sum()"
   ],
   "metadata": {
    "collapsed": false,
    "ExecuteTime": {
     "end_time": "2024-06-11T16:21:15.628465100Z",
     "start_time": "2024-06-11T16:21:15.574633500Z"
    }
   },
   "id": "f033f928afa09999"
  },
  {
   "cell_type": "markdown",
   "source": [
    "**NOTA:** Vease como sigue aviendo clientes con valores nulos en Mediana, eso significa que estas rutas no tuvieron ningun cliente en el entrenamiento y no fue posible generar una mediana de los clientes de esa ruta"
   ],
   "metadata": {
    "collapsed": false
   },
   "id": "1c34a880b495dfe9"
  },
  {
   "cell_type": "markdown",
   "source": [
    "#### 2.1.3) Tratamiento de clientes con cluster nulo (**cluster nivel de consumo**) \n",
    "Los clientes con cluster nulo son clientes que no estuviern en el proceso de entremamiento (clienes nuevos) o que no pasaron las etapas de limpieza de datos. La manera en en que le integraremos a que cluster pertenece cada cliente es usando el cluster de moda de cada ruta.\n"
   ],
   "metadata": {
    "collapsed": false
   },
   "id": "d8fdb4af1a2f7663"
  },
  {
   "cell_type": "code",
   "execution_count": 22,
   "outputs": [
    {
     "name": "stdout",
     "output_type": "stream",
     "text": [
      "Cantidad de clientes con valores nulos en cluster por nivel de consumo: 881\n"
     ]
    }
   ],
   "source": [
    "print(\"Cantidad de clientes con valores nulos en cluster por nivel de consumo:\"\n",
    "      ,clientes_actuales[\"Cluster\"].isnull().sum())\n"
   ],
   "metadata": {
    "collapsed": false,
    "ExecuteTime": {
     "end_time": "2024-06-11T16:21:16.273154Z",
     "start_time": "2024-06-11T16:21:16.230632800Z"
    }
   },
   "id": "543c2368bab4948f"
  },
  {
   "cell_type": "code",
   "execution_count": 23,
   "outputs": [
    {
     "data": {
      "text/plain": "RUTClave\nD001001    0.0\nD001002    0.0\nD001003    0.0\nD001004    5.0\nD001005    5.0\n          ... \nD004107    0.0\nD004108    5.0\nD004109    0.0\nD004110    0.0\nD004111    5.0\nName: Cluster, Length: 252, dtype: float64"
     },
     "execution_count": 23,
     "metadata": {},
     "output_type": "execute_result"
    }
   ],
   "source": [
    "# MUY IMPORTANTE , aqui usaremos la funcion apply dado que el resultado no tiene la misma longitud de la serie  de entrada \n",
    "modas_por_ruta = clientes_actuales.groupby(by='RUTClave')['Cluster'].apply(lambda x: mode(x)[0])\n",
    "modas_por_ruta"
   ],
   "metadata": {
    "collapsed": false,
    "ExecuteTime": {
     "end_time": "2024-06-11T16:21:16.555529Z",
     "start_time": "2024-06-11T16:21:16.461114400Z"
    }
   },
   "id": "d5777b3458aa8091"
  },
  {
   "cell_type": "markdown",
   "source": [
    "**FillNA por medio de indices**\n",
    "Vamos a utilizar los indices para hacer el llenado de valores nulos, usaremos una Serie de pandas para poder hacer este match entre valores nulos, y valores de rellenos con el indices de ambos objetos \n",
    "\n"
   ],
   "metadata": {
    "collapsed": false
   },
   "id": "dbe6a97b887d4e83"
  },
  {
   "cell_type": "code",
   "execution_count": 24,
   "outputs": [
    {
     "data": {
      "text/plain": "         ClienteClave RUTClave EsquemaID AlmacenPadreId  Frecuencia_Teorica  \\\nRUTClave                                                                      \nD001049    0100110001  D001049       D21           D001                   6   \nD001019    0100110002  D001019       D21           D001                   6   \nD003016    0100510001  D003016       D21           D003                   2   \nD001041    0100800011  D001041       D21           D001                   2   \nD001301    0100820001  D001301       D21           D001                   2   \n...               ...      ...       ...            ...                 ...   \nD001040    1938790001  D001040       D21           D001                   2   \nD001040    1938800001  D001040       D21           D001                   2   \nD001040    1938810001  D001040       D21           D001                   2   \nD001040    1938820001  D001040       D21           D001                   2   \nD001040    1938830001  D001040       D21           D001                   2   \n\n          Mediana_semanal(L)  Cluster  \nRUTClave                               \nD001049              63.3000      NaN  \nD001019             329.8350      1.0  \nD003016              10.8000      0.0  \nD001041             126.0000      5.0  \nD001301              93.1875      NaN  \n...                      ...      ...  \nD001040              41.7700      NaN  \nD001040              41.7700      NaN  \nD001040              41.7700      NaN  \nD001040              41.7700      NaN  \nD001040              41.7700      NaN  \n\n[16994 rows x 7 columns]",
      "text/html": "<div>\n<style scoped>\n    .dataframe tbody tr th:only-of-type {\n        vertical-align: middle;\n    }\n\n    .dataframe tbody tr th {\n        vertical-align: top;\n    }\n\n    .dataframe thead th {\n        text-align: right;\n    }\n</style>\n<table border=\"1\" class=\"dataframe\">\n  <thead>\n    <tr style=\"text-align: right;\">\n      <th></th>\n      <th>ClienteClave</th>\n      <th>RUTClave</th>\n      <th>EsquemaID</th>\n      <th>AlmacenPadreId</th>\n      <th>Frecuencia_Teorica</th>\n      <th>Mediana_semanal(L)</th>\n      <th>Cluster</th>\n    </tr>\n    <tr>\n      <th>RUTClave</th>\n      <th></th>\n      <th></th>\n      <th></th>\n      <th></th>\n      <th></th>\n      <th></th>\n      <th></th>\n    </tr>\n  </thead>\n  <tbody>\n    <tr>\n      <th>D001049</th>\n      <td>0100110001</td>\n      <td>D001049</td>\n      <td>D21</td>\n      <td>D001</td>\n      <td>6</td>\n      <td>63.3000</td>\n      <td>NaN</td>\n    </tr>\n    <tr>\n      <th>D001019</th>\n      <td>0100110002</td>\n      <td>D001019</td>\n      <td>D21</td>\n      <td>D001</td>\n      <td>6</td>\n      <td>329.8350</td>\n      <td>1.0</td>\n    </tr>\n    <tr>\n      <th>D003016</th>\n      <td>0100510001</td>\n      <td>D003016</td>\n      <td>D21</td>\n      <td>D003</td>\n      <td>2</td>\n      <td>10.8000</td>\n      <td>0.0</td>\n    </tr>\n    <tr>\n      <th>D001041</th>\n      <td>0100800011</td>\n      <td>D001041</td>\n      <td>D21</td>\n      <td>D001</td>\n      <td>2</td>\n      <td>126.0000</td>\n      <td>5.0</td>\n    </tr>\n    <tr>\n      <th>D001301</th>\n      <td>0100820001</td>\n      <td>D001301</td>\n      <td>D21</td>\n      <td>D001</td>\n      <td>2</td>\n      <td>93.1875</td>\n      <td>NaN</td>\n    </tr>\n    <tr>\n      <th>...</th>\n      <td>...</td>\n      <td>...</td>\n      <td>...</td>\n      <td>...</td>\n      <td>...</td>\n      <td>...</td>\n      <td>...</td>\n    </tr>\n    <tr>\n      <th>D001040</th>\n      <td>1938790001</td>\n      <td>D001040</td>\n      <td>D21</td>\n      <td>D001</td>\n      <td>2</td>\n      <td>41.7700</td>\n      <td>NaN</td>\n    </tr>\n    <tr>\n      <th>D001040</th>\n      <td>1938800001</td>\n      <td>D001040</td>\n      <td>D21</td>\n      <td>D001</td>\n      <td>2</td>\n      <td>41.7700</td>\n      <td>NaN</td>\n    </tr>\n    <tr>\n      <th>D001040</th>\n      <td>1938810001</td>\n      <td>D001040</td>\n      <td>D21</td>\n      <td>D001</td>\n      <td>2</td>\n      <td>41.7700</td>\n      <td>NaN</td>\n    </tr>\n    <tr>\n      <th>D001040</th>\n      <td>1938820001</td>\n      <td>D001040</td>\n      <td>D21</td>\n      <td>D001</td>\n      <td>2</td>\n      <td>41.7700</td>\n      <td>NaN</td>\n    </tr>\n    <tr>\n      <th>D001040</th>\n      <td>1938830001</td>\n      <td>D001040</td>\n      <td>D21</td>\n      <td>D001</td>\n      <td>2</td>\n      <td>41.7700</td>\n      <td>NaN</td>\n    </tr>\n  </tbody>\n</table>\n<p>16994 rows × 7 columns</p>\n</div>"
     },
     "execution_count": 24,
     "metadata": {},
     "output_type": "execute_result"
    }
   ],
   "source": [
    "clientes_actuales.set_index(keys=clientes_actuales[\"RUTClave\"], inplace=True)\n",
    "clientes_actuales # Ahora tengo la RUTClave como indice, esto me servirá para hacer el match con la Serie de Pandas "
   ],
   "metadata": {
    "collapsed": false,
    "ExecuteTime": {
     "end_time": "2024-06-11T16:21:18.078923400Z",
     "start_time": "2024-06-11T16:21:18.015070500Z"
    }
   },
   "id": "93ea9eec2a0054c1"
  },
  {
   "cell_type": "code",
   "execution_count": 25,
   "outputs": [
    {
     "data": {
      "text/plain": "      ClienteClave RUTClave EsquemaID AlmacenPadreId  Frecuencia_Teorica  \\\n0       0100110001  D001049       D21           D001                   6   \n1       0100110002  D001019       D21           D001                   6   \n2       0100510001  D003016       D21           D003                   2   \n3       0100800011  D001041       D21           D001                   2   \n4       0100820001  D001301       D21           D001                   2   \n...            ...      ...       ...            ...                 ...   \n16989   1938790001  D001040       D21           D001                   2   \n16990   1938800001  D001040       D21           D001                   2   \n16991   1938810001  D001040       D21           D001                   2   \n16992   1938820001  D001040       D21           D001                   2   \n16993   1938830001  D001040       D21           D001                   2   \n\n       Mediana_semanal(L)  Cluster  \n0                 63.3000      0.0  \n1                329.8350      1.0  \n2                 10.8000      0.0  \n3                126.0000      5.0  \n4                 93.1875      NaN  \n...                   ...      ...  \n16989             41.7700      0.0  \n16990             41.7700      0.0  \n16991             41.7700      0.0  \n16992             41.7700      0.0  \n16993             41.7700      0.0  \n\n[16994 rows x 7 columns]",
      "text/html": "<div>\n<style scoped>\n    .dataframe tbody tr th:only-of-type {\n        vertical-align: middle;\n    }\n\n    .dataframe tbody tr th {\n        vertical-align: top;\n    }\n\n    .dataframe thead th {\n        text-align: right;\n    }\n</style>\n<table border=\"1\" class=\"dataframe\">\n  <thead>\n    <tr style=\"text-align: right;\">\n      <th></th>\n      <th>ClienteClave</th>\n      <th>RUTClave</th>\n      <th>EsquemaID</th>\n      <th>AlmacenPadreId</th>\n      <th>Frecuencia_Teorica</th>\n      <th>Mediana_semanal(L)</th>\n      <th>Cluster</th>\n    </tr>\n  </thead>\n  <tbody>\n    <tr>\n      <th>0</th>\n      <td>0100110001</td>\n      <td>D001049</td>\n      <td>D21</td>\n      <td>D001</td>\n      <td>6</td>\n      <td>63.3000</td>\n      <td>0.0</td>\n    </tr>\n    <tr>\n      <th>1</th>\n      <td>0100110002</td>\n      <td>D001019</td>\n      <td>D21</td>\n      <td>D001</td>\n      <td>6</td>\n      <td>329.8350</td>\n      <td>1.0</td>\n    </tr>\n    <tr>\n      <th>2</th>\n      <td>0100510001</td>\n      <td>D003016</td>\n      <td>D21</td>\n      <td>D003</td>\n      <td>2</td>\n      <td>10.8000</td>\n      <td>0.0</td>\n    </tr>\n    <tr>\n      <th>3</th>\n      <td>0100800011</td>\n      <td>D001041</td>\n      <td>D21</td>\n      <td>D001</td>\n      <td>2</td>\n      <td>126.0000</td>\n      <td>5.0</td>\n    </tr>\n    <tr>\n      <th>4</th>\n      <td>0100820001</td>\n      <td>D001301</td>\n      <td>D21</td>\n      <td>D001</td>\n      <td>2</td>\n      <td>93.1875</td>\n      <td>NaN</td>\n    </tr>\n    <tr>\n      <th>...</th>\n      <td>...</td>\n      <td>...</td>\n      <td>...</td>\n      <td>...</td>\n      <td>...</td>\n      <td>...</td>\n      <td>...</td>\n    </tr>\n    <tr>\n      <th>16989</th>\n      <td>1938790001</td>\n      <td>D001040</td>\n      <td>D21</td>\n      <td>D001</td>\n      <td>2</td>\n      <td>41.7700</td>\n      <td>0.0</td>\n    </tr>\n    <tr>\n      <th>16990</th>\n      <td>1938800001</td>\n      <td>D001040</td>\n      <td>D21</td>\n      <td>D001</td>\n      <td>2</td>\n      <td>41.7700</td>\n      <td>0.0</td>\n    </tr>\n    <tr>\n      <th>16991</th>\n      <td>1938810001</td>\n      <td>D001040</td>\n      <td>D21</td>\n      <td>D001</td>\n      <td>2</td>\n      <td>41.7700</td>\n      <td>0.0</td>\n    </tr>\n    <tr>\n      <th>16992</th>\n      <td>1938820001</td>\n      <td>D001040</td>\n      <td>D21</td>\n      <td>D001</td>\n      <td>2</td>\n      <td>41.7700</td>\n      <td>0.0</td>\n    </tr>\n    <tr>\n      <th>16993</th>\n      <td>1938830001</td>\n      <td>D001040</td>\n      <td>D21</td>\n      <td>D001</td>\n      <td>2</td>\n      <td>41.7700</td>\n      <td>0.0</td>\n    </tr>\n  </tbody>\n</table>\n<p>16994 rows × 7 columns</p>\n</div>"
     },
     "execution_count": 25,
     "metadata": {},
     "output_type": "execute_result"
    }
   ],
   "source": [
    "# 1) Fill NA por medio de los indices de ambos objetos (pandas DF  y el pandas Serie) \n",
    "clientes_actuales[\"Cluster\"].fillna(value=modas_por_ruta, inplace=True)\n",
    "\n",
    "# 2) Reseteamos el inidice \n",
    "clientes_actuales.reset_index(drop=True, inplace=True)\n",
    "clientes_actuales"
   ],
   "metadata": {
    "collapsed": false,
    "ExecuteTime": {
     "end_time": "2024-06-11T16:21:18.494184500Z",
     "start_time": "2024-06-11T16:21:18.446639200Z"
    }
   },
   "id": "d36dd937cb2f3c95"
  },
  {
   "cell_type": "code",
   "execution_count": 26,
   "outputs": [
    {
     "name": "stdout",
     "output_type": "stream",
     "text": [
      "Cantidad de clientes con valores nulos en cluster por nivel de consumo: 35\n"
     ]
    }
   ],
   "source": [
    "# Comprobamos los clientes sin Cluster asociado \n",
    "print(\"Cantidad de clientes con valores nulos en cluster por nivel de consumo:\"\n",
    "      ,clientes_actuales[\"Cluster\"].isnull().sum())  # Ahora son muchos menos los clientes que no tienen un cluser asociado "
   ],
   "metadata": {
    "collapsed": false,
    "ExecuteTime": {
     "end_time": "2024-06-11T16:21:18.813148300Z",
     "start_time": "2024-06-11T16:21:18.766310900Z"
    }
   },
   "id": "5d2f699328647bea"
  },
  {
   "cell_type": "markdown",
   "source": [
    "**NOTA IMPORTANTE:**\n",
    "Hay rutas que no tienen a ningun cliente registrado por lo que no se pudo generar una mediana o promedio, y tampoco una moda para vincular los cluser por consumo, aqui un ejemplo: \n"
   ],
   "metadata": {
    "collapsed": false
   },
   "id": "8fa282fcb1d0f8a3"
  },
  {
   "cell_type": "code",
   "execution_count": 27,
   "outputs": [
    {
     "data": {
      "text/plain": "Empty DataFrame\nColumns: [ClienteClave, RUTClave, EsquemaID, AlmacenPadreId, Frecuencia_Teorica, Mediana_semanal(L), Cluster]\nIndex: []",
      "text/html": "<div>\n<style scoped>\n    .dataframe tbody tr th:only-of-type {\n        vertical-align: middle;\n    }\n\n    .dataframe tbody tr th {\n        vertical-align: top;\n    }\n\n    .dataframe thead th {\n        text-align: right;\n    }\n</style>\n<table border=\"1\" class=\"dataframe\">\n  <thead>\n    <tr style=\"text-align: right;\">\n      <th></th>\n      <th>ClienteClave</th>\n      <th>RUTClave</th>\n      <th>EsquemaID</th>\n      <th>AlmacenPadreId</th>\n      <th>Frecuencia_Teorica</th>\n      <th>Mediana_semanal(L)</th>\n      <th>Cluster</th>\n    </tr>\n  </thead>\n  <tbody>\n  </tbody>\n</table>\n</div>"
     },
     "execution_count": 27,
     "metadata": {},
     "output_type": "execute_result"
    }
   ],
   "source": [
    "clientes_actuales.query(\"RUTClave == 'D001051'\") "
   ],
   "metadata": {
    "collapsed": false,
    "ExecuteTime": {
     "end_time": "2024-06-11T16:21:19.692651700Z",
     "start_time": "2024-06-11T16:21:19.646763100Z"
    }
   },
   "id": "badd7f121205b6d3"
  },
  {
   "cell_type": "code",
   "execution_count": 28,
   "outputs": [
    {
     "data": {
      "text/plain": "ClienteClave           0\nRUTClave               0\nEsquemaID              0\nAlmacenPadreId         0\nFrecuencia_Teorica     0\nMediana_semanal(L)    12\nCluster               35\ndtype: int64"
     },
     "execution_count": 28,
     "metadata": {},
     "output_type": "execute_result"
    }
   ],
   "source": [
    "clientes_actuales.isnull().sum()"
   ],
   "metadata": {
    "collapsed": false,
    "ExecuteTime": {
     "end_time": "2024-06-11T16:21:20.169890700Z",
     "start_time": "2024-06-11T16:21:20.118603200Z"
    }
   },
   "id": "234855566dd8708d"
  },
  {
   "cell_type": "markdown",
   "source": [
    "#### 2.1.4) Fill NA de los ultimos valores (clusters y medidnas finales)\n",
    "Dar explicación porque hay difernecia entre valores nulos de moda y valores nulos de mediana"
   ],
   "metadata": {
    "collapsed": false
   },
   "id": "d73366df7bbbced2"
  },
  {
   "cell_type": "code",
   "execution_count": 29,
   "outputs": [
    {
     "data": {
      "text/plain": "      ClienteClave RUTClave EsquemaID AlmacenPadreId  Frecuencia_Teorica  \\\n4       0100820001  D001301       D21           D001                   2   \n5       0100820002  D001301       D21           D001                   2   \n6       0100820003  D001301       D21           D001                   1   \n23      0101140001  D001301       D21           D001                   2   \n24      0101150001  D001301       D21           D001                   2   \n130     0206260001  D003301       D21           D003                   2   \n131     0206270001  D003301       D21           D003                   3   \n135     0210230002  D001302       D21           D001                   2   \n136     0210590001  D003301       D21           D003                   2   \n151     0229430000  D001301       D21           D001                   1   \n161     0241270000  D001301       D21           D001                   2   \n209     0261820001  D001094       D21           D001                   6   \n12128   0960260002  D001301       D21           D001                   1   \n12137   0980560014  D003301       D21           D003                   2   \n14520   1805220001  D001301       D21           D001                   1   \n14805   1845350003  D001302       D21           D001                   2   \n16325   1915340001  D001302       D21           D001                   3   \n16326   1915340003  D001301       D21           D001                   1   \n16327   1915340004  D001301       D21           D001                   1   \n16328   1915340008  D003301       D21           D003                   3   \n16329   1915340009  D001302       D21           D001                   1   \n16330   1915340010  D001302       D21           D001                   1   \n16331   1915340011  D001301       D21           D001                   1   \n16332   1915340012  D001301       D21           D001                   1   \n16451   1927800001  D001301       D21           D001                   1   \n16453   1927820001  D001302       D21           D001                   3   \n16454   1927830001  D001302       D21           D001                   3   \n16488   1928940001  D001301       D21           D001                   6   \n16651   1932070001  D001302       D21           D001                   2   \n16868   1935150001  D001302       D21           D001                   2   \n16869   1935200001  D001302       D21           D001                   2   \n16870   1935260001  D001302       D21           D001                   3   \n16871   1935270001  D001301       D21           D001                   2   \n16916   1936180001  D001301       D21           D001                   1   \n16917   1936190001  D001301       D21           D001                   1   \n\n       Mediana_semanal(L)  Cluster  \n4                 93.1875      NaN  \n5                 93.1875      NaN  \n6                 93.1875      NaN  \n23                93.1875      NaN  \n24                93.1875      NaN  \n130                 68.28      NaN  \n131                 68.28      NaN  \n135                  <NA>      NaN  \n136                 68.28      NaN  \n151               93.1875      NaN  \n161               93.1875      NaN  \n209                  <NA>      NaN  \n12128             93.1875      NaN  \n12137               68.28      NaN  \n14520             93.1875      NaN  \n14805                <NA>      NaN  \n16325                <NA>      NaN  \n16326             93.1875      NaN  \n16327             93.1875      NaN  \n16328               68.28      NaN  \n16329                <NA>      NaN  \n16330                <NA>      NaN  \n16331             93.1875      NaN  \n16332             93.1875      NaN  \n16451             93.1875      NaN  \n16453                <NA>      NaN  \n16454                <NA>      NaN  \n16488             93.1875      NaN  \n16651                <NA>      NaN  \n16868                <NA>      NaN  \n16869                <NA>      NaN  \n16870                <NA>      NaN  \n16871             93.1875      NaN  \n16916             93.1875      NaN  \n16917             93.1875      NaN  ",
      "text/html": "<div>\n<style scoped>\n    .dataframe tbody tr th:only-of-type {\n        vertical-align: middle;\n    }\n\n    .dataframe tbody tr th {\n        vertical-align: top;\n    }\n\n    .dataframe thead th {\n        text-align: right;\n    }\n</style>\n<table border=\"1\" class=\"dataframe\">\n  <thead>\n    <tr style=\"text-align: right;\">\n      <th></th>\n      <th>ClienteClave</th>\n      <th>RUTClave</th>\n      <th>EsquemaID</th>\n      <th>AlmacenPadreId</th>\n      <th>Frecuencia_Teorica</th>\n      <th>Mediana_semanal(L)</th>\n      <th>Cluster</th>\n    </tr>\n  </thead>\n  <tbody>\n    <tr>\n      <th>4</th>\n      <td>0100820001</td>\n      <td>D001301</td>\n      <td>D21</td>\n      <td>D001</td>\n      <td>2</td>\n      <td>93.1875</td>\n      <td>NaN</td>\n    </tr>\n    <tr>\n      <th>5</th>\n      <td>0100820002</td>\n      <td>D001301</td>\n      <td>D21</td>\n      <td>D001</td>\n      <td>2</td>\n      <td>93.1875</td>\n      <td>NaN</td>\n    </tr>\n    <tr>\n      <th>6</th>\n      <td>0100820003</td>\n      <td>D001301</td>\n      <td>D21</td>\n      <td>D001</td>\n      <td>1</td>\n      <td>93.1875</td>\n      <td>NaN</td>\n    </tr>\n    <tr>\n      <th>23</th>\n      <td>0101140001</td>\n      <td>D001301</td>\n      <td>D21</td>\n      <td>D001</td>\n      <td>2</td>\n      <td>93.1875</td>\n      <td>NaN</td>\n    </tr>\n    <tr>\n      <th>24</th>\n      <td>0101150001</td>\n      <td>D001301</td>\n      <td>D21</td>\n      <td>D001</td>\n      <td>2</td>\n      <td>93.1875</td>\n      <td>NaN</td>\n    </tr>\n    <tr>\n      <th>130</th>\n      <td>0206260001</td>\n      <td>D003301</td>\n      <td>D21</td>\n      <td>D003</td>\n      <td>2</td>\n      <td>68.28</td>\n      <td>NaN</td>\n    </tr>\n    <tr>\n      <th>131</th>\n      <td>0206270001</td>\n      <td>D003301</td>\n      <td>D21</td>\n      <td>D003</td>\n      <td>3</td>\n      <td>68.28</td>\n      <td>NaN</td>\n    </tr>\n    <tr>\n      <th>135</th>\n      <td>0210230002</td>\n      <td>D001302</td>\n      <td>D21</td>\n      <td>D001</td>\n      <td>2</td>\n      <td>&lt;NA&gt;</td>\n      <td>NaN</td>\n    </tr>\n    <tr>\n      <th>136</th>\n      <td>0210590001</td>\n      <td>D003301</td>\n      <td>D21</td>\n      <td>D003</td>\n      <td>2</td>\n      <td>68.28</td>\n      <td>NaN</td>\n    </tr>\n    <tr>\n      <th>151</th>\n      <td>0229430000</td>\n      <td>D001301</td>\n      <td>D21</td>\n      <td>D001</td>\n      <td>1</td>\n      <td>93.1875</td>\n      <td>NaN</td>\n    </tr>\n    <tr>\n      <th>161</th>\n      <td>0241270000</td>\n      <td>D001301</td>\n      <td>D21</td>\n      <td>D001</td>\n      <td>2</td>\n      <td>93.1875</td>\n      <td>NaN</td>\n    </tr>\n    <tr>\n      <th>209</th>\n      <td>0261820001</td>\n      <td>D001094</td>\n      <td>D21</td>\n      <td>D001</td>\n      <td>6</td>\n      <td>&lt;NA&gt;</td>\n      <td>NaN</td>\n    </tr>\n    <tr>\n      <th>12128</th>\n      <td>0960260002</td>\n      <td>D001301</td>\n      <td>D21</td>\n      <td>D001</td>\n      <td>1</td>\n      <td>93.1875</td>\n      <td>NaN</td>\n    </tr>\n    <tr>\n      <th>12137</th>\n      <td>0980560014</td>\n      <td>D003301</td>\n      <td>D21</td>\n      <td>D003</td>\n      <td>2</td>\n      <td>68.28</td>\n      <td>NaN</td>\n    </tr>\n    <tr>\n      <th>14520</th>\n      <td>1805220001</td>\n      <td>D001301</td>\n      <td>D21</td>\n      <td>D001</td>\n      <td>1</td>\n      <td>93.1875</td>\n      <td>NaN</td>\n    </tr>\n    <tr>\n      <th>14805</th>\n      <td>1845350003</td>\n      <td>D001302</td>\n      <td>D21</td>\n      <td>D001</td>\n      <td>2</td>\n      <td>&lt;NA&gt;</td>\n      <td>NaN</td>\n    </tr>\n    <tr>\n      <th>16325</th>\n      <td>1915340001</td>\n      <td>D001302</td>\n      <td>D21</td>\n      <td>D001</td>\n      <td>3</td>\n      <td>&lt;NA&gt;</td>\n      <td>NaN</td>\n    </tr>\n    <tr>\n      <th>16326</th>\n      <td>1915340003</td>\n      <td>D001301</td>\n      <td>D21</td>\n      <td>D001</td>\n      <td>1</td>\n      <td>93.1875</td>\n      <td>NaN</td>\n    </tr>\n    <tr>\n      <th>16327</th>\n      <td>1915340004</td>\n      <td>D001301</td>\n      <td>D21</td>\n      <td>D001</td>\n      <td>1</td>\n      <td>93.1875</td>\n      <td>NaN</td>\n    </tr>\n    <tr>\n      <th>16328</th>\n      <td>1915340008</td>\n      <td>D003301</td>\n      <td>D21</td>\n      <td>D003</td>\n      <td>3</td>\n      <td>68.28</td>\n      <td>NaN</td>\n    </tr>\n    <tr>\n      <th>16329</th>\n      <td>1915340009</td>\n      <td>D001302</td>\n      <td>D21</td>\n      <td>D001</td>\n      <td>1</td>\n      <td>&lt;NA&gt;</td>\n      <td>NaN</td>\n    </tr>\n    <tr>\n      <th>16330</th>\n      <td>1915340010</td>\n      <td>D001302</td>\n      <td>D21</td>\n      <td>D001</td>\n      <td>1</td>\n      <td>&lt;NA&gt;</td>\n      <td>NaN</td>\n    </tr>\n    <tr>\n      <th>16331</th>\n      <td>1915340011</td>\n      <td>D001301</td>\n      <td>D21</td>\n      <td>D001</td>\n      <td>1</td>\n      <td>93.1875</td>\n      <td>NaN</td>\n    </tr>\n    <tr>\n      <th>16332</th>\n      <td>1915340012</td>\n      <td>D001301</td>\n      <td>D21</td>\n      <td>D001</td>\n      <td>1</td>\n      <td>93.1875</td>\n      <td>NaN</td>\n    </tr>\n    <tr>\n      <th>16451</th>\n      <td>1927800001</td>\n      <td>D001301</td>\n      <td>D21</td>\n      <td>D001</td>\n      <td>1</td>\n      <td>93.1875</td>\n      <td>NaN</td>\n    </tr>\n    <tr>\n      <th>16453</th>\n      <td>1927820001</td>\n      <td>D001302</td>\n      <td>D21</td>\n      <td>D001</td>\n      <td>3</td>\n      <td>&lt;NA&gt;</td>\n      <td>NaN</td>\n    </tr>\n    <tr>\n      <th>16454</th>\n      <td>1927830001</td>\n      <td>D001302</td>\n      <td>D21</td>\n      <td>D001</td>\n      <td>3</td>\n      <td>&lt;NA&gt;</td>\n      <td>NaN</td>\n    </tr>\n    <tr>\n      <th>16488</th>\n      <td>1928940001</td>\n      <td>D001301</td>\n      <td>D21</td>\n      <td>D001</td>\n      <td>6</td>\n      <td>93.1875</td>\n      <td>NaN</td>\n    </tr>\n    <tr>\n      <th>16651</th>\n      <td>1932070001</td>\n      <td>D001302</td>\n      <td>D21</td>\n      <td>D001</td>\n      <td>2</td>\n      <td>&lt;NA&gt;</td>\n      <td>NaN</td>\n    </tr>\n    <tr>\n      <th>16868</th>\n      <td>1935150001</td>\n      <td>D001302</td>\n      <td>D21</td>\n      <td>D001</td>\n      <td>2</td>\n      <td>&lt;NA&gt;</td>\n      <td>NaN</td>\n    </tr>\n    <tr>\n      <th>16869</th>\n      <td>1935200001</td>\n      <td>D001302</td>\n      <td>D21</td>\n      <td>D001</td>\n      <td>2</td>\n      <td>&lt;NA&gt;</td>\n      <td>NaN</td>\n    </tr>\n    <tr>\n      <th>16870</th>\n      <td>1935260001</td>\n      <td>D001302</td>\n      <td>D21</td>\n      <td>D001</td>\n      <td>3</td>\n      <td>&lt;NA&gt;</td>\n      <td>NaN</td>\n    </tr>\n    <tr>\n      <th>16871</th>\n      <td>1935270001</td>\n      <td>D001301</td>\n      <td>D21</td>\n      <td>D001</td>\n      <td>2</td>\n      <td>93.1875</td>\n      <td>NaN</td>\n    </tr>\n    <tr>\n      <th>16916</th>\n      <td>1936180001</td>\n      <td>D001301</td>\n      <td>D21</td>\n      <td>D001</td>\n      <td>1</td>\n      <td>93.1875</td>\n      <td>NaN</td>\n    </tr>\n    <tr>\n      <th>16917</th>\n      <td>1936190001</td>\n      <td>D001301</td>\n      <td>D21</td>\n      <td>D001</td>\n      <td>1</td>\n      <td>93.1875</td>\n      <td>NaN</td>\n    </tr>\n  </tbody>\n</table>\n</div>"
     },
     "execution_count": 29,
     "metadata": {},
     "output_type": "execute_result"
    }
   ],
   "source": [
    "clientes_actuales[clientes_actuales[\"Cluster\"].isnull()] # Registros con clusters con NA values "
   ],
   "metadata": {
    "collapsed": false,
    "ExecuteTime": {
     "end_time": "2024-06-11T16:21:21.275743900Z",
     "start_time": "2024-06-11T16:21:21.222668900Z"
    }
   },
   "id": "38604c844d8611ca"
  },
  {
   "cell_type": "code",
   "execution_count": 30,
   "outputs": [
    {
     "data": {
      "text/plain": "      ClienteClave RUTClave EsquemaID AlmacenPadreId  Frecuencia_Teorica  \\\n135     0210230002  D001302       D21           D001                   2   \n209     0261820001  D001094       D21           D001                   6   \n14805   1845350003  D001302       D21           D001                   2   \n16325   1915340001  D001302       D21           D001                   3   \n16329   1915340009  D001302       D21           D001                   1   \n16330   1915340010  D001302       D21           D001                   1   \n16453   1927820001  D001302       D21           D001                   3   \n16454   1927830001  D001302       D21           D001                   3   \n16651   1932070001  D001302       D21           D001                   2   \n16868   1935150001  D001302       D21           D001                   2   \n16869   1935200001  D001302       D21           D001                   2   \n16870   1935260001  D001302       D21           D001                   3   \n\n       Mediana_semanal(L)  Cluster  \n135                  <NA>      NaN  \n209                  <NA>      NaN  \n14805                <NA>      NaN  \n16325                <NA>      NaN  \n16329                <NA>      NaN  \n16330                <NA>      NaN  \n16453                <NA>      NaN  \n16454                <NA>      NaN  \n16651                <NA>      NaN  \n16868                <NA>      NaN  \n16869                <NA>      NaN  \n16870                <NA>      NaN  ",
      "text/html": "<div>\n<style scoped>\n    .dataframe tbody tr th:only-of-type {\n        vertical-align: middle;\n    }\n\n    .dataframe tbody tr th {\n        vertical-align: top;\n    }\n\n    .dataframe thead th {\n        text-align: right;\n    }\n</style>\n<table border=\"1\" class=\"dataframe\">\n  <thead>\n    <tr style=\"text-align: right;\">\n      <th></th>\n      <th>ClienteClave</th>\n      <th>RUTClave</th>\n      <th>EsquemaID</th>\n      <th>AlmacenPadreId</th>\n      <th>Frecuencia_Teorica</th>\n      <th>Mediana_semanal(L)</th>\n      <th>Cluster</th>\n    </tr>\n  </thead>\n  <tbody>\n    <tr>\n      <th>135</th>\n      <td>0210230002</td>\n      <td>D001302</td>\n      <td>D21</td>\n      <td>D001</td>\n      <td>2</td>\n      <td>&lt;NA&gt;</td>\n      <td>NaN</td>\n    </tr>\n    <tr>\n      <th>209</th>\n      <td>0261820001</td>\n      <td>D001094</td>\n      <td>D21</td>\n      <td>D001</td>\n      <td>6</td>\n      <td>&lt;NA&gt;</td>\n      <td>NaN</td>\n    </tr>\n    <tr>\n      <th>14805</th>\n      <td>1845350003</td>\n      <td>D001302</td>\n      <td>D21</td>\n      <td>D001</td>\n      <td>2</td>\n      <td>&lt;NA&gt;</td>\n      <td>NaN</td>\n    </tr>\n    <tr>\n      <th>16325</th>\n      <td>1915340001</td>\n      <td>D001302</td>\n      <td>D21</td>\n      <td>D001</td>\n      <td>3</td>\n      <td>&lt;NA&gt;</td>\n      <td>NaN</td>\n    </tr>\n    <tr>\n      <th>16329</th>\n      <td>1915340009</td>\n      <td>D001302</td>\n      <td>D21</td>\n      <td>D001</td>\n      <td>1</td>\n      <td>&lt;NA&gt;</td>\n      <td>NaN</td>\n    </tr>\n    <tr>\n      <th>16330</th>\n      <td>1915340010</td>\n      <td>D001302</td>\n      <td>D21</td>\n      <td>D001</td>\n      <td>1</td>\n      <td>&lt;NA&gt;</td>\n      <td>NaN</td>\n    </tr>\n    <tr>\n      <th>16453</th>\n      <td>1927820001</td>\n      <td>D001302</td>\n      <td>D21</td>\n      <td>D001</td>\n      <td>3</td>\n      <td>&lt;NA&gt;</td>\n      <td>NaN</td>\n    </tr>\n    <tr>\n      <th>16454</th>\n      <td>1927830001</td>\n      <td>D001302</td>\n      <td>D21</td>\n      <td>D001</td>\n      <td>3</td>\n      <td>&lt;NA&gt;</td>\n      <td>NaN</td>\n    </tr>\n    <tr>\n      <th>16651</th>\n      <td>1932070001</td>\n      <td>D001302</td>\n      <td>D21</td>\n      <td>D001</td>\n      <td>2</td>\n      <td>&lt;NA&gt;</td>\n      <td>NaN</td>\n    </tr>\n    <tr>\n      <th>16868</th>\n      <td>1935150001</td>\n      <td>D001302</td>\n      <td>D21</td>\n      <td>D001</td>\n      <td>2</td>\n      <td>&lt;NA&gt;</td>\n      <td>NaN</td>\n    </tr>\n    <tr>\n      <th>16869</th>\n      <td>1935200001</td>\n      <td>D001302</td>\n      <td>D21</td>\n      <td>D001</td>\n      <td>2</td>\n      <td>&lt;NA&gt;</td>\n      <td>NaN</td>\n    </tr>\n    <tr>\n      <th>16870</th>\n      <td>1935260001</td>\n      <td>D001302</td>\n      <td>D21</td>\n      <td>D001</td>\n      <td>3</td>\n      <td>&lt;NA&gt;</td>\n      <td>NaN</td>\n    </tr>\n  </tbody>\n</table>\n</div>"
     },
     "execution_count": 30,
     "metadata": {},
     "output_type": "execute_result"
    }
   ],
   "source": [
    "clientes_actuales[clientes_actuales[\"Mediana_semanal(L)\"].isnull()] # Registros con Mediananas con NA values "
   ],
   "metadata": {
    "collapsed": false,
    "ExecuteTime": {
     "end_time": "2024-06-11T16:21:21.745317800Z",
     "start_time": "2024-06-11T16:21:21.694506400Z"
    }
   },
   "id": "e264cf621c2ca046"
  },
  {
   "cell_type": "code",
   "execution_count": 31,
   "outputs": [
    {
     "data": {
      "text/plain": "ClienteClave           0\nRUTClave               0\nEsquemaID              0\nAlmacenPadreId         0\nFrecuencia_Teorica     0\nMediana_semanal(L)     0\nCluster               35\ndtype: int64"
     },
     "execution_count": 31,
     "metadata": {},
     "output_type": "execute_result"
    }
   ],
   "source": [
    "# 1) Llenamos la mediana global\n",
    "mediana_global = clientes_actuales[\"Mediana_semanal(L)\"].median()\n",
    "\n",
    "clientes_actuales[\"Mediana_semanal(L)\"].fillna(value=mediana_global, inplace=True)\n",
    "clientes_actuales.isnull().sum()"
   ],
   "metadata": {
    "collapsed": false,
    "ExecuteTime": {
     "end_time": "2024-06-11T16:21:22.140569800Z",
     "start_time": "2024-06-11T16:21:22.079912600Z"
    }
   },
   "id": "704835aab8e12e53"
  },
  {
   "cell_type": "code",
   "execution_count": 32,
   "outputs": [
    {
     "name": "stderr",
     "output_type": "stream",
     "text": [
      "C:\\Users\\OMBARRAZA\\AppData\\Local\\Temp\\ipykernel_17932\\955782277.py:2: FutureWarning: Calling float on a single element Series is deprecated and will raise a TypeError in the future. Use float(ser.iloc[0]) instead\n",
      "  clusters_moda_global = float(clientes_actuales[\"Cluster\"].mode()) # Lo forzo a una objeto float o int para poder sacarle la moda\n"
     ]
    },
    {
     "data": {
      "text/plain": "ClienteClave          0\nRUTClave              0\nEsquemaID             0\nAlmacenPadreId        0\nFrecuencia_Teorica    0\nMediana_semanal(L)    0\nCluster               0\ndtype: int64"
     },
     "execution_count": 32,
     "metadata": {},
     "output_type": "execute_result"
    }
   ],
   "source": [
    "# 2) Moda global, llenado de clusters faltantes \n",
    "clusters_moda_global = float(clientes_actuales[\"Cluster\"].mode()) # Lo forzo a una objeto float o int para poder sacarle la moda\n",
    "\n",
    "clientes_actuales[\"Cluster\"].fillna(value=clusters_moda_global, inplace=True)\n",
    "clientes_actuales.isnull().sum() # Vemos que ya no tenemos valores nulos "
   ],
   "metadata": {
    "collapsed": false,
    "ExecuteTime": {
     "end_time": "2024-06-11T16:21:22.406696300Z",
     "start_time": "2024-06-11T16:21:22.365857200Z"
    }
   },
   "id": "beeaf5c109d8a222"
  },
  {
   "cell_type": "markdown",
   "source": [
    "## 3) Xgboost "
   ],
   "metadata": {
    "collapsed": false
   },
   "id": "bdddf335c89b91fc"
  },
  {
   "cell_type": "markdown",
   "source": [
    "### 3.1) Lectura del modelo "
   ],
   "metadata": {
    "collapsed": false
   },
   "id": "f89517eb365d6262"
  },
  {
   "cell_type": "code",
   "execution_count": 33,
   "outputs": [
    {
     "data": {
      "text/plain": "XGBRegressor(alpha=10, base_score=None, booster=None, callbacks=None,\n             colsample_bylevel=None, colsample_bynode=None,\n             colsample_bytree=0.3, device=None, early_stopping_rounds=None,\n             enable_categorical=False, eval_metric=None, feature_types=None,\n             gamma=None, grow_policy=None, importance_type=None,\n             interaction_constraints=None, learning_rate=0.1, max_bin=None,\n             max_cat_threshold=None, max_cat_to_onehot=None,\n             max_delta_step=None, max_depth=8, max_leaves=None,\n             min_child_weight=None, missing=nan, monotone_constraints=None,\n             multi_strategy=None, n_estimators=300, n_jobs=-1,\n             num_parallel_tree=None, ...)",
      "text/html": "<style>#sk-container-id-1 {color: black;}#sk-container-id-1 pre{padding: 0;}#sk-container-id-1 div.sk-toggleable {background-color: white;}#sk-container-id-1 label.sk-toggleable__label {cursor: pointer;display: block;width: 100%;margin-bottom: 0;padding: 0.3em;box-sizing: border-box;text-align: center;}#sk-container-id-1 label.sk-toggleable__label-arrow:before {content: \"▸\";float: left;margin-right: 0.25em;color: #696969;}#sk-container-id-1 label.sk-toggleable__label-arrow:hover:before {color: black;}#sk-container-id-1 div.sk-estimator:hover label.sk-toggleable__label-arrow:before {color: black;}#sk-container-id-1 div.sk-toggleable__content {max-height: 0;max-width: 0;overflow: hidden;text-align: left;background-color: #f0f8ff;}#sk-container-id-1 div.sk-toggleable__content pre {margin: 0.2em;color: black;border-radius: 0.25em;background-color: #f0f8ff;}#sk-container-id-1 input.sk-toggleable__control:checked~div.sk-toggleable__content {max-height: 200px;max-width: 100%;overflow: auto;}#sk-container-id-1 input.sk-toggleable__control:checked~label.sk-toggleable__label-arrow:before {content: \"▾\";}#sk-container-id-1 div.sk-estimator input.sk-toggleable__control:checked~label.sk-toggleable__label {background-color: #d4ebff;}#sk-container-id-1 div.sk-label input.sk-toggleable__control:checked~label.sk-toggleable__label {background-color: #d4ebff;}#sk-container-id-1 input.sk-hidden--visually {border: 0;clip: rect(1px 1px 1px 1px);clip: rect(1px, 1px, 1px, 1px);height: 1px;margin: -1px;overflow: hidden;padding: 0;position: absolute;width: 1px;}#sk-container-id-1 div.sk-estimator {font-family: monospace;background-color: #f0f8ff;border: 1px dotted black;border-radius: 0.25em;box-sizing: border-box;margin-bottom: 0.5em;}#sk-container-id-1 div.sk-estimator:hover {background-color: #d4ebff;}#sk-container-id-1 div.sk-parallel-item::after {content: \"\";width: 100%;border-bottom: 1px solid gray;flex-grow: 1;}#sk-container-id-1 div.sk-label:hover label.sk-toggleable__label {background-color: #d4ebff;}#sk-container-id-1 div.sk-serial::before {content: \"\";position: absolute;border-left: 1px solid gray;box-sizing: border-box;top: 0;bottom: 0;left: 50%;z-index: 0;}#sk-container-id-1 div.sk-serial {display: flex;flex-direction: column;align-items: center;background-color: white;padding-right: 0.2em;padding-left: 0.2em;position: relative;}#sk-container-id-1 div.sk-item {position: relative;z-index: 1;}#sk-container-id-1 div.sk-parallel {display: flex;align-items: stretch;justify-content: center;background-color: white;position: relative;}#sk-container-id-1 div.sk-item::before, #sk-container-id-1 div.sk-parallel-item::before {content: \"\";position: absolute;border-left: 1px solid gray;box-sizing: border-box;top: 0;bottom: 0;left: 50%;z-index: -1;}#sk-container-id-1 div.sk-parallel-item {display: flex;flex-direction: column;z-index: 1;position: relative;background-color: white;}#sk-container-id-1 div.sk-parallel-item:first-child::after {align-self: flex-end;width: 50%;}#sk-container-id-1 div.sk-parallel-item:last-child::after {align-self: flex-start;width: 50%;}#sk-container-id-1 div.sk-parallel-item:only-child::after {width: 0;}#sk-container-id-1 div.sk-dashed-wrapped {border: 1px dashed gray;margin: 0 0.4em 0.5em 0.4em;box-sizing: border-box;padding-bottom: 0.4em;background-color: white;}#sk-container-id-1 div.sk-label label {font-family: monospace;font-weight: bold;display: inline-block;line-height: 1.2em;}#sk-container-id-1 div.sk-label-container {text-align: center;}#sk-container-id-1 div.sk-container {/* jupyter's `normalize.less` sets `[hidden] { display: none; }` but bootstrap.min.css set `[hidden] { display: none !important; }` so we also need the `!important` here to be able to override the default hidden behavior on the sphinx rendered scikit-learn.org. See: https://github.com/scikit-learn/scikit-learn/issues/21755 */display: inline-block !important;position: relative;}#sk-container-id-1 div.sk-text-repr-fallback {display: none;}</style><div id=\"sk-container-id-1\" class=\"sk-top-container\"><div class=\"sk-text-repr-fallback\"><pre>XGBRegressor(alpha=10, base_score=None, booster=None, callbacks=None,\n             colsample_bylevel=None, colsample_bynode=None,\n             colsample_bytree=0.3, device=None, early_stopping_rounds=None,\n             enable_categorical=False, eval_metric=None, feature_types=None,\n             gamma=None, grow_policy=None, importance_type=None,\n             interaction_constraints=None, learning_rate=0.1, max_bin=None,\n             max_cat_threshold=None, max_cat_to_onehot=None,\n             max_delta_step=None, max_depth=8, max_leaves=None,\n             min_child_weight=None, missing=nan, monotone_constraints=None,\n             multi_strategy=None, n_estimators=300, n_jobs=-1,\n             num_parallel_tree=None, ...)</pre><b>In a Jupyter environment, please rerun this cell to show the HTML representation or trust the notebook. <br />On GitHub, the HTML representation is unable to render, please try loading this page with nbviewer.org.</b></div><div class=\"sk-container\" hidden><div class=\"sk-item\"><div class=\"sk-estimator sk-toggleable\"><input class=\"sk-toggleable__control sk-hidden--visually\" id=\"sk-estimator-id-1\" type=\"checkbox\" checked><label for=\"sk-estimator-id-1\" class=\"sk-toggleable__label sk-toggleable__label-arrow\">XGBRegressor</label><div class=\"sk-toggleable__content\"><pre>XGBRegressor(alpha=10, base_score=None, booster=None, callbacks=None,\n             colsample_bylevel=None, colsample_bynode=None,\n             colsample_bytree=0.3, device=None, early_stopping_rounds=None,\n             enable_categorical=False, eval_metric=None, feature_types=None,\n             gamma=None, grow_policy=None, importance_type=None,\n             interaction_constraints=None, learning_rate=0.1, max_bin=None,\n             max_cat_threshold=None, max_cat_to_onehot=None,\n             max_delta_step=None, max_depth=8, max_leaves=None,\n             min_child_weight=None, missing=nan, monotone_constraints=None,\n             multi_strategy=None, n_estimators=300, n_jobs=-1,\n             num_parallel_tree=None, ...)</pre></div></div></div></div></div>"
     },
     "execution_count": 33,
     "metadata": {},
     "output_type": "execute_result"
    }
   ],
   "source": [
    "xgboost = joblib.load(filename='Resultados/Modelos/Xgboost/modelo_xgboost.pkl')\n",
    "xgboost"
   ],
   "metadata": {
    "collapsed": false,
    "ExecuteTime": {
     "end_time": "2024-06-11T16:21:23.852579500Z",
     "start_time": "2024-06-11T16:21:23.558702100Z"
    }
   },
   "id": "1fef3de8bdc2124d"
  },
  {
   "cell_type": "markdown",
   "source": [
    "### 3.2) Escalamiento de las variables numericas "
   ],
   "metadata": {
    "collapsed": false
   },
   "id": "84d94c93f0f9ca7c"
  },
  {
   "cell_type": "code",
   "execution_count": 34,
   "outputs": [
    {
     "data": {
      "text/plain": "  ClienteClave RUTClave EsquemaID AlmacenPadreId  Frecuencia_Teorica  \\\n0   0100110001  D001049       D21           D001                   6   \n1   0100110002  D001019       D21           D001                   6   \n2   0100510001  D003016       D21           D003                   2   \n3   0100800011  D001041       D21           D001                   2   \n4   0100820001  D001301       D21           D001                   2   \n\n   Mediana_semanal(L)  Cluster  Porcentaje_cumplimiento  \n0             63.3000      0.0                      100  \n1            329.8350      1.0                      100  \n2             10.8000      0.0                      100  \n3            126.0000      5.0                      100  \n4             93.1875      0.0                      100  ",
      "text/html": "<div>\n<style scoped>\n    .dataframe tbody tr th:only-of-type {\n        vertical-align: middle;\n    }\n\n    .dataframe tbody tr th {\n        vertical-align: top;\n    }\n\n    .dataframe thead th {\n        text-align: right;\n    }\n</style>\n<table border=\"1\" class=\"dataframe\">\n  <thead>\n    <tr style=\"text-align: right;\">\n      <th></th>\n      <th>ClienteClave</th>\n      <th>RUTClave</th>\n      <th>EsquemaID</th>\n      <th>AlmacenPadreId</th>\n      <th>Frecuencia_Teorica</th>\n      <th>Mediana_semanal(L)</th>\n      <th>Cluster</th>\n      <th>Porcentaje_cumplimiento</th>\n    </tr>\n  </thead>\n  <tbody>\n    <tr>\n      <th>0</th>\n      <td>0100110001</td>\n      <td>D001049</td>\n      <td>D21</td>\n      <td>D001</td>\n      <td>6</td>\n      <td>63.3000</td>\n      <td>0.0</td>\n      <td>100</td>\n    </tr>\n    <tr>\n      <th>1</th>\n      <td>0100110002</td>\n      <td>D001019</td>\n      <td>D21</td>\n      <td>D001</td>\n      <td>6</td>\n      <td>329.8350</td>\n      <td>1.0</td>\n      <td>100</td>\n    </tr>\n    <tr>\n      <th>2</th>\n      <td>0100510001</td>\n      <td>D003016</td>\n      <td>D21</td>\n      <td>D003</td>\n      <td>2</td>\n      <td>10.8000</td>\n      <td>0.0</td>\n      <td>100</td>\n    </tr>\n    <tr>\n      <th>3</th>\n      <td>0100800011</td>\n      <td>D001041</td>\n      <td>D21</td>\n      <td>D001</td>\n      <td>2</td>\n      <td>126.0000</td>\n      <td>5.0</td>\n      <td>100</td>\n    </tr>\n    <tr>\n      <th>4</th>\n      <td>0100820001</td>\n      <td>D001301</td>\n      <td>D21</td>\n      <td>D001</td>\n      <td>2</td>\n      <td>93.1875</td>\n      <td>0.0</td>\n      <td>100</td>\n    </tr>\n  </tbody>\n</table>\n</div>"
     },
     "execution_count": 34,
     "metadata": {},
     "output_type": "execute_result"
    }
   ],
   "source": [
    "# Viualizcipon del DF a tratar\n",
    "clientes_actuales[\"Porcentaje_cumplimiento\"] = 100  # Incluimos la variable de porcentaje de cumplimiento al 100 % \n",
    "clientes_actuales.head()"
   ],
   "metadata": {
    "collapsed": false,
    "ExecuteTime": {
     "end_time": "2024-06-11T16:21:24.675383800Z",
     "start_time": "2024-06-11T16:21:24.624936800Z"
    }
   },
   "id": "31c03fb98e96105f"
  },
  {
   "cell_type": "markdown",
   "source": [
    "**ESCALAMIENTO DE LOS VALORES NUMERICOS**"
   ],
   "metadata": {
    "collapsed": false
   },
   "id": "496bdea4e104142c"
  },
  {
   "cell_type": "code",
   "execution_count": 35,
   "outputs": [
    {
     "data": {
      "text/plain": "StandardScaler()",
      "text/html": "<style>#sk-container-id-2 {color: black;}#sk-container-id-2 pre{padding: 0;}#sk-container-id-2 div.sk-toggleable {background-color: white;}#sk-container-id-2 label.sk-toggleable__label {cursor: pointer;display: block;width: 100%;margin-bottom: 0;padding: 0.3em;box-sizing: border-box;text-align: center;}#sk-container-id-2 label.sk-toggleable__label-arrow:before {content: \"▸\";float: left;margin-right: 0.25em;color: #696969;}#sk-container-id-2 label.sk-toggleable__label-arrow:hover:before {color: black;}#sk-container-id-2 div.sk-estimator:hover label.sk-toggleable__label-arrow:before {color: black;}#sk-container-id-2 div.sk-toggleable__content {max-height: 0;max-width: 0;overflow: hidden;text-align: left;background-color: #f0f8ff;}#sk-container-id-2 div.sk-toggleable__content pre {margin: 0.2em;color: black;border-radius: 0.25em;background-color: #f0f8ff;}#sk-container-id-2 input.sk-toggleable__control:checked~div.sk-toggleable__content {max-height: 200px;max-width: 100%;overflow: auto;}#sk-container-id-2 input.sk-toggleable__control:checked~label.sk-toggleable__label-arrow:before {content: \"▾\";}#sk-container-id-2 div.sk-estimator input.sk-toggleable__control:checked~label.sk-toggleable__label {background-color: #d4ebff;}#sk-container-id-2 div.sk-label input.sk-toggleable__control:checked~label.sk-toggleable__label {background-color: #d4ebff;}#sk-container-id-2 input.sk-hidden--visually {border: 0;clip: rect(1px 1px 1px 1px);clip: rect(1px, 1px, 1px, 1px);height: 1px;margin: -1px;overflow: hidden;padding: 0;position: absolute;width: 1px;}#sk-container-id-2 div.sk-estimator {font-family: monospace;background-color: #f0f8ff;border: 1px dotted black;border-radius: 0.25em;box-sizing: border-box;margin-bottom: 0.5em;}#sk-container-id-2 div.sk-estimator:hover {background-color: #d4ebff;}#sk-container-id-2 div.sk-parallel-item::after {content: \"\";width: 100%;border-bottom: 1px solid gray;flex-grow: 1;}#sk-container-id-2 div.sk-label:hover label.sk-toggleable__label {background-color: #d4ebff;}#sk-container-id-2 div.sk-serial::before {content: \"\";position: absolute;border-left: 1px solid gray;box-sizing: border-box;top: 0;bottom: 0;left: 50%;z-index: 0;}#sk-container-id-2 div.sk-serial {display: flex;flex-direction: column;align-items: center;background-color: white;padding-right: 0.2em;padding-left: 0.2em;position: relative;}#sk-container-id-2 div.sk-item {position: relative;z-index: 1;}#sk-container-id-2 div.sk-parallel {display: flex;align-items: stretch;justify-content: center;background-color: white;position: relative;}#sk-container-id-2 div.sk-item::before, #sk-container-id-2 div.sk-parallel-item::before {content: \"\";position: absolute;border-left: 1px solid gray;box-sizing: border-box;top: 0;bottom: 0;left: 50%;z-index: -1;}#sk-container-id-2 div.sk-parallel-item {display: flex;flex-direction: column;z-index: 1;position: relative;background-color: white;}#sk-container-id-2 div.sk-parallel-item:first-child::after {align-self: flex-end;width: 50%;}#sk-container-id-2 div.sk-parallel-item:last-child::after {align-self: flex-start;width: 50%;}#sk-container-id-2 div.sk-parallel-item:only-child::after {width: 0;}#sk-container-id-2 div.sk-dashed-wrapped {border: 1px dashed gray;margin: 0 0.4em 0.5em 0.4em;box-sizing: border-box;padding-bottom: 0.4em;background-color: white;}#sk-container-id-2 div.sk-label label {font-family: monospace;font-weight: bold;display: inline-block;line-height: 1.2em;}#sk-container-id-2 div.sk-label-container {text-align: center;}#sk-container-id-2 div.sk-container {/* jupyter's `normalize.less` sets `[hidden] { display: none; }` but bootstrap.min.css set `[hidden] { display: none !important; }` so we also need the `!important` here to be able to override the default hidden behavior on the sphinx rendered scikit-learn.org. See: https://github.com/scikit-learn/scikit-learn/issues/21755 */display: inline-block !important;position: relative;}#sk-container-id-2 div.sk-text-repr-fallback {display: none;}</style><div id=\"sk-container-id-2\" class=\"sk-top-container\"><div class=\"sk-text-repr-fallback\"><pre>StandardScaler()</pre><b>In a Jupyter environment, please rerun this cell to show the HTML representation or trust the notebook. <br />On GitHub, the HTML representation is unable to render, please try loading this page with nbviewer.org.</b></div><div class=\"sk-container\" hidden><div class=\"sk-item\"><div class=\"sk-estimator sk-toggleable\"><input class=\"sk-toggleable__control sk-hidden--visually\" id=\"sk-estimator-id-2\" type=\"checkbox\" checked><label for=\"sk-estimator-id-2\" class=\"sk-toggleable__label sk-toggleable__label-arrow\">StandardScaler</label><div class=\"sk-toggleable__content\"><pre>StandardScaler()</pre></div></div></div></div></div>"
     },
     "execution_count": 35,
     "metadata": {},
     "output_type": "execute_result"
    }
   ],
   "source": [
    "# Lectura de las metricvas de escalameinto \n",
    "scaler = joblib.load('Resultados/scaler.pkl')\n",
    "scaler"
   ],
   "metadata": {
    "collapsed": false,
    "ExecuteTime": {
     "end_time": "2024-06-11T16:21:25.338925100Z",
     "start_time": "2024-06-11T16:21:25.294677700Z"
    }
   },
   "id": "dcb19922329d2c9e"
  },
  {
   "cell_type": "code",
   "execution_count": 36,
   "outputs": [
    {
     "data": {
      "text/plain": "       Porcentaje_cumplimiento  Frecuencia_Teorica  Mediana_semanal(L)\n0                     0.382736            0.933225           -0.292337\n1                     0.382736            0.933225            2.753076\n2                     0.382736           -1.463761           -0.892199\n3                     0.382736           -1.463761            0.424070\n4                     0.382736           -1.463761            0.049156\n...                        ...                 ...                 ...\n16989                 0.382736           -1.463761           -0.538337\n16990                 0.382736           -1.463761           -0.538337\n16991                 0.382736           -1.463761           -0.538337\n16992                 0.382736           -1.463761           -0.538337\n16993                 0.382736           -1.463761           -0.538337\n\n[16994 rows x 3 columns]",
      "text/html": "<div>\n<style scoped>\n    .dataframe tbody tr th:only-of-type {\n        vertical-align: middle;\n    }\n\n    .dataframe tbody tr th {\n        vertical-align: top;\n    }\n\n    .dataframe thead th {\n        text-align: right;\n    }\n</style>\n<table border=\"1\" class=\"dataframe\">\n  <thead>\n    <tr style=\"text-align: right;\">\n      <th></th>\n      <th>Porcentaje_cumplimiento</th>\n      <th>Frecuencia_Teorica</th>\n      <th>Mediana_semanal(L)</th>\n    </tr>\n  </thead>\n  <tbody>\n    <tr>\n      <th>0</th>\n      <td>0.382736</td>\n      <td>0.933225</td>\n      <td>-0.292337</td>\n    </tr>\n    <tr>\n      <th>1</th>\n      <td>0.382736</td>\n      <td>0.933225</td>\n      <td>2.753076</td>\n    </tr>\n    <tr>\n      <th>2</th>\n      <td>0.382736</td>\n      <td>-1.463761</td>\n      <td>-0.892199</td>\n    </tr>\n    <tr>\n      <th>3</th>\n      <td>0.382736</td>\n      <td>-1.463761</td>\n      <td>0.424070</td>\n    </tr>\n    <tr>\n      <th>4</th>\n      <td>0.382736</td>\n      <td>-1.463761</td>\n      <td>0.049156</td>\n    </tr>\n    <tr>\n      <th>...</th>\n      <td>...</td>\n      <td>...</td>\n      <td>...</td>\n    </tr>\n    <tr>\n      <th>16989</th>\n      <td>0.382736</td>\n      <td>-1.463761</td>\n      <td>-0.538337</td>\n    </tr>\n    <tr>\n      <th>16990</th>\n      <td>0.382736</td>\n      <td>-1.463761</td>\n      <td>-0.538337</td>\n    </tr>\n    <tr>\n      <th>16991</th>\n      <td>0.382736</td>\n      <td>-1.463761</td>\n      <td>-0.538337</td>\n    </tr>\n    <tr>\n      <th>16992</th>\n      <td>0.382736</td>\n      <td>-1.463761</td>\n      <td>-0.538337</td>\n    </tr>\n    <tr>\n      <th>16993</th>\n      <td>0.382736</td>\n      <td>-1.463761</td>\n      <td>-0.538337</td>\n    </tr>\n  </tbody>\n</table>\n<p>16994 rows × 3 columns</p>\n</div>"
     },
     "execution_count": 36,
     "metadata": {},
     "output_type": "execute_result"
    }
   ],
   "source": [
    "# Selección de las variables numericas \n",
    "numericas = clientes_actuales[[\"Porcentaje_cumplimiento\", \"Frecuencia_Teorica\", \"Mediana_semanal(L)\"]]\n",
    "\n",
    "# Escalamos los valores y lo metemos en un pandas DF \n",
    "numericas = pd.DataFrame(data=scaler.transform(X=numericas), columns=numericas.columns)\n",
    "numericas"
   ],
   "metadata": {
    "collapsed": false,
    "ExecuteTime": {
     "end_time": "2024-06-11T16:21:25.860112200Z",
     "start_time": "2024-06-11T16:21:25.804864400Z"
    }
   },
   "id": "6e5359a3de14e9bf"
  },
  {
   "cell_type": "code",
   "execution_count": 37,
   "outputs": [
    {
     "name": "stderr",
     "output_type": "stream",
     "text": [
      "C:\\Users\\OMBARRAZA\\AppData\\Local\\Temp\\ipykernel_17932\\1550555547.py:2: SettingWithCopyWarning: \n",
      "A value is trying to be set on a copy of a slice from a DataFrame.\n",
      "Try using .loc[row_indexer,col_indexer] = value instead\n",
      "\n",
      "See the caveats in the documentation: https://pandas.pydata.org/pandas-docs/stable/user_guide/indexing.html#returning-a-view-versus-a-copy\n",
      "  data_set_final[\"AlmacenPadreId\"] = clientes_actuales [[\"AlmacenPadreId\"]]\n",
      "C:\\Users\\OMBARRAZA\\AppData\\Local\\Temp\\ipykernel_17932\\1550555547.py:3: SettingWithCopyWarning: \n",
      "A value is trying to be set on a copy of a slice from a DataFrame.\n",
      "Try using .loc[row_indexer,col_indexer] = value instead\n",
      "\n",
      "See the caveats in the documentation: https://pandas.pydata.org/pandas-docs/stable/user_guide/indexing.html#returning-a-view-versus-a-copy\n",
      "  data_set_final[\"EsquemaID\"] = clientes_actuales [[\"EsquemaID\"]]\n",
      "C:\\Users\\OMBARRAZA\\AppData\\Local\\Temp\\ipykernel_17932\\1550555547.py:4: SettingWithCopyWarning: \n",
      "A value is trying to be set on a copy of a slice from a DataFrame.\n",
      "Try using .loc[row_indexer,col_indexer] = value instead\n",
      "\n",
      "See the caveats in the documentation: https://pandas.pydata.org/pandas-docs/stable/user_guide/indexing.html#returning-a-view-versus-a-copy\n",
      "  data_set_final[\"Semana\"] = semana[0]          # CHECAR ESTO, esto tendría que estar tendro de un ciclo si vamos a hacer el pronistico de varias semanas\n",
      "C:\\Users\\OMBARRAZA\\AppData\\Local\\Temp\\ipykernel_17932\\1550555547.py:5: SettingWithCopyWarning: \n",
      "A value is trying to be set on a copy of a slice from a DataFrame.\n",
      "Try using .loc[row_indexer,col_indexer] = value instead\n",
      "\n",
      "See the caveats in the documentation: https://pandas.pydata.org/pandas-docs/stable/user_guide/indexing.html#returning-a-view-versus-a-copy\n",
      "  data_set_final[\"Porcentaje_cumplimiento\"] = numericas[\"Porcentaje_cumplimiento\"]\n",
      "C:\\Users\\OMBARRAZA\\AppData\\Local\\Temp\\ipykernel_17932\\1550555547.py:6: SettingWithCopyWarning: \n",
      "A value is trying to be set on a copy of a slice from a DataFrame.\n",
      "Try using .loc[row_indexer,col_indexer] = value instead\n",
      "\n",
      "See the caveats in the documentation: https://pandas.pydata.org/pandas-docs/stable/user_guide/indexing.html#returning-a-view-versus-a-copy\n",
      "  data_set_final[\"Frecuencia_Teorica\"] = numericas[\"Frecuencia_Teorica\"]\n",
      "C:\\Users\\OMBARRAZA\\AppData\\Local\\Temp\\ipykernel_17932\\1550555547.py:7: SettingWithCopyWarning: \n",
      "A value is trying to be set on a copy of a slice from a DataFrame.\n",
      "Try using .loc[row_indexer,col_indexer] = value instead\n",
      "\n",
      "See the caveats in the documentation: https://pandas.pydata.org/pandas-docs/stable/user_guide/indexing.html#returning-a-view-versus-a-copy\n",
      "  data_set_final[\"Mediana_semanal(L)\"] = numericas [\"Mediana_semanal(L)\"]\n"
     ]
    },
    {
     "data": {
      "text/plain": "      ClienteClave AlmacenPadreId EsquemaID  Semana  Porcentaje_cumplimiento  \\\n0       0100110001           D001       D21      14                 0.382736   \n1       0100110002           D001       D21      14                 0.382736   \n2       0100510001           D003       D21      14                 0.382736   \n3       0100800011           D001       D21      14                 0.382736   \n4       0100820001           D001       D21      14                 0.382736   \n...            ...            ...       ...     ...                      ...   \n16989   1938790001           D001       D21      14                 0.382736   \n16990   1938800001           D001       D21      14                 0.382736   \n16991   1938810001           D001       D21      14                 0.382736   \n16992   1938820001           D001       D21      14                 0.382736   \n16993   1938830001           D001       D21      14                 0.382736   \n\n       Frecuencia_Teorica  Mediana_semanal(L)  Cluster  \n0                0.933225           -0.292337      0.0  \n1                0.933225            2.753076      1.0  \n2               -1.463761           -0.892199      0.0  \n3               -1.463761            0.424070      5.0  \n4               -1.463761            0.049156      0.0  \n...                   ...                 ...      ...  \n16989           -1.463761           -0.538337      0.0  \n16990           -1.463761           -0.538337      0.0  \n16991           -1.463761           -0.538337      0.0  \n16992           -1.463761           -0.538337      0.0  \n16993           -1.463761           -0.538337      0.0  \n\n[16994 rows x 8 columns]",
      "text/html": "<div>\n<style scoped>\n    .dataframe tbody tr th:only-of-type {\n        vertical-align: middle;\n    }\n\n    .dataframe tbody tr th {\n        vertical-align: top;\n    }\n\n    .dataframe thead th {\n        text-align: right;\n    }\n</style>\n<table border=\"1\" class=\"dataframe\">\n  <thead>\n    <tr style=\"text-align: right;\">\n      <th></th>\n      <th>ClienteClave</th>\n      <th>AlmacenPadreId</th>\n      <th>EsquemaID</th>\n      <th>Semana</th>\n      <th>Porcentaje_cumplimiento</th>\n      <th>Frecuencia_Teorica</th>\n      <th>Mediana_semanal(L)</th>\n      <th>Cluster</th>\n    </tr>\n  </thead>\n  <tbody>\n    <tr>\n      <th>0</th>\n      <td>0100110001</td>\n      <td>D001</td>\n      <td>D21</td>\n      <td>14</td>\n      <td>0.382736</td>\n      <td>0.933225</td>\n      <td>-0.292337</td>\n      <td>0.0</td>\n    </tr>\n    <tr>\n      <th>1</th>\n      <td>0100110002</td>\n      <td>D001</td>\n      <td>D21</td>\n      <td>14</td>\n      <td>0.382736</td>\n      <td>0.933225</td>\n      <td>2.753076</td>\n      <td>1.0</td>\n    </tr>\n    <tr>\n      <th>2</th>\n      <td>0100510001</td>\n      <td>D003</td>\n      <td>D21</td>\n      <td>14</td>\n      <td>0.382736</td>\n      <td>-1.463761</td>\n      <td>-0.892199</td>\n      <td>0.0</td>\n    </tr>\n    <tr>\n      <th>3</th>\n      <td>0100800011</td>\n      <td>D001</td>\n      <td>D21</td>\n      <td>14</td>\n      <td>0.382736</td>\n      <td>-1.463761</td>\n      <td>0.424070</td>\n      <td>5.0</td>\n    </tr>\n    <tr>\n      <th>4</th>\n      <td>0100820001</td>\n      <td>D001</td>\n      <td>D21</td>\n      <td>14</td>\n      <td>0.382736</td>\n      <td>-1.463761</td>\n      <td>0.049156</td>\n      <td>0.0</td>\n    </tr>\n    <tr>\n      <th>...</th>\n      <td>...</td>\n      <td>...</td>\n      <td>...</td>\n      <td>...</td>\n      <td>...</td>\n      <td>...</td>\n      <td>...</td>\n      <td>...</td>\n    </tr>\n    <tr>\n      <th>16989</th>\n      <td>1938790001</td>\n      <td>D001</td>\n      <td>D21</td>\n      <td>14</td>\n      <td>0.382736</td>\n      <td>-1.463761</td>\n      <td>-0.538337</td>\n      <td>0.0</td>\n    </tr>\n    <tr>\n      <th>16990</th>\n      <td>1938800001</td>\n      <td>D001</td>\n      <td>D21</td>\n      <td>14</td>\n      <td>0.382736</td>\n      <td>-1.463761</td>\n      <td>-0.538337</td>\n      <td>0.0</td>\n    </tr>\n    <tr>\n      <th>16991</th>\n      <td>1938810001</td>\n      <td>D001</td>\n      <td>D21</td>\n      <td>14</td>\n      <td>0.382736</td>\n      <td>-1.463761</td>\n      <td>-0.538337</td>\n      <td>0.0</td>\n    </tr>\n    <tr>\n      <th>16992</th>\n      <td>1938820001</td>\n      <td>D001</td>\n      <td>D21</td>\n      <td>14</td>\n      <td>0.382736</td>\n      <td>-1.463761</td>\n      <td>-0.538337</td>\n      <td>0.0</td>\n    </tr>\n    <tr>\n      <th>16993</th>\n      <td>1938830001</td>\n      <td>D001</td>\n      <td>D21</td>\n      <td>14</td>\n      <td>0.382736</td>\n      <td>-1.463761</td>\n      <td>-0.538337</td>\n      <td>0.0</td>\n    </tr>\n  </tbody>\n</table>\n<p>16994 rows × 8 columns</p>\n</div>"
     },
     "execution_count": 37,
     "metadata": {},
     "output_type": "execute_result"
    }
   ],
   "source": [
    "data_set_final = clientes_actuales [[\"ClienteClave\"]]\n",
    "data_set_final[\"AlmacenPadreId\"] = clientes_actuales [[\"AlmacenPadreId\"]]\n",
    "data_set_final[\"EsquemaID\"] = clientes_actuales [[\"EsquemaID\"]]\n",
    "data_set_final[\"Semana\"] = semana[0]          # CHECAR ESTO, esto tendría que estar tendro de un ciclo si vamos a hacer el pronistico de varias semanas       \n",
    "data_set_final[\"Porcentaje_cumplimiento\"] = numericas[\"Porcentaje_cumplimiento\"]\n",
    "data_set_final[\"Frecuencia_Teorica\"] = numericas[\"Frecuencia_Teorica\"]\n",
    "data_set_final[\"Mediana_semanal(L)\"] = numericas [\"Mediana_semanal(L)\"]\n",
    "data_set_final[\"Cluster\"] = clientes_actuales [\"Cluster\"] \n",
    "data_set_final"
   ],
   "metadata": {
    "collapsed": false,
    "ExecuteTime": {
     "end_time": "2024-06-11T16:21:26.147684Z",
     "start_time": "2024-06-11T16:21:26.071682900Z"
    }
   },
   "id": "adafaa276ce583b3"
  },
  {
   "cell_type": "markdown",
   "source": [
    "### 3.3) Tratamiento de variables categoricas\n",
    "Lectura del codificador  "
   ],
   "metadata": {
    "collapsed": false
   },
   "id": "9a5f5bc3aa85c834"
  },
  {
   "cell_type": "code",
   "execution_count": 38,
   "outputs": [
    {
     "data": {
      "text/plain": "OneHotEncoder(cols=['EsquemaID', 'AlmacenPadreId', 'Semana', 'Cluster'])",
      "text/html": "<style>#sk-container-id-3 {color: black;}#sk-container-id-3 pre{padding: 0;}#sk-container-id-3 div.sk-toggleable {background-color: white;}#sk-container-id-3 label.sk-toggleable__label {cursor: pointer;display: block;width: 100%;margin-bottom: 0;padding: 0.3em;box-sizing: border-box;text-align: center;}#sk-container-id-3 label.sk-toggleable__label-arrow:before {content: \"▸\";float: left;margin-right: 0.25em;color: #696969;}#sk-container-id-3 label.sk-toggleable__label-arrow:hover:before {color: black;}#sk-container-id-3 div.sk-estimator:hover label.sk-toggleable__label-arrow:before {color: black;}#sk-container-id-3 div.sk-toggleable__content {max-height: 0;max-width: 0;overflow: hidden;text-align: left;background-color: #f0f8ff;}#sk-container-id-3 div.sk-toggleable__content pre {margin: 0.2em;color: black;border-radius: 0.25em;background-color: #f0f8ff;}#sk-container-id-3 input.sk-toggleable__control:checked~div.sk-toggleable__content {max-height: 200px;max-width: 100%;overflow: auto;}#sk-container-id-3 input.sk-toggleable__control:checked~label.sk-toggleable__label-arrow:before {content: \"▾\";}#sk-container-id-3 div.sk-estimator input.sk-toggleable__control:checked~label.sk-toggleable__label {background-color: #d4ebff;}#sk-container-id-3 div.sk-label input.sk-toggleable__control:checked~label.sk-toggleable__label {background-color: #d4ebff;}#sk-container-id-3 input.sk-hidden--visually {border: 0;clip: rect(1px 1px 1px 1px);clip: rect(1px, 1px, 1px, 1px);height: 1px;margin: -1px;overflow: hidden;padding: 0;position: absolute;width: 1px;}#sk-container-id-3 div.sk-estimator {font-family: monospace;background-color: #f0f8ff;border: 1px dotted black;border-radius: 0.25em;box-sizing: border-box;margin-bottom: 0.5em;}#sk-container-id-3 div.sk-estimator:hover {background-color: #d4ebff;}#sk-container-id-3 div.sk-parallel-item::after {content: \"\";width: 100%;border-bottom: 1px solid gray;flex-grow: 1;}#sk-container-id-3 div.sk-label:hover label.sk-toggleable__label {background-color: #d4ebff;}#sk-container-id-3 div.sk-serial::before {content: \"\";position: absolute;border-left: 1px solid gray;box-sizing: border-box;top: 0;bottom: 0;left: 50%;z-index: 0;}#sk-container-id-3 div.sk-serial {display: flex;flex-direction: column;align-items: center;background-color: white;padding-right: 0.2em;padding-left: 0.2em;position: relative;}#sk-container-id-3 div.sk-item {position: relative;z-index: 1;}#sk-container-id-3 div.sk-parallel {display: flex;align-items: stretch;justify-content: center;background-color: white;position: relative;}#sk-container-id-3 div.sk-item::before, #sk-container-id-3 div.sk-parallel-item::before {content: \"\";position: absolute;border-left: 1px solid gray;box-sizing: border-box;top: 0;bottom: 0;left: 50%;z-index: -1;}#sk-container-id-3 div.sk-parallel-item {display: flex;flex-direction: column;z-index: 1;position: relative;background-color: white;}#sk-container-id-3 div.sk-parallel-item:first-child::after {align-self: flex-end;width: 50%;}#sk-container-id-3 div.sk-parallel-item:last-child::after {align-self: flex-start;width: 50%;}#sk-container-id-3 div.sk-parallel-item:only-child::after {width: 0;}#sk-container-id-3 div.sk-dashed-wrapped {border: 1px dashed gray;margin: 0 0.4em 0.5em 0.4em;box-sizing: border-box;padding-bottom: 0.4em;background-color: white;}#sk-container-id-3 div.sk-label label {font-family: monospace;font-weight: bold;display: inline-block;line-height: 1.2em;}#sk-container-id-3 div.sk-label-container {text-align: center;}#sk-container-id-3 div.sk-container {/* jupyter's `normalize.less` sets `[hidden] { display: none; }` but bootstrap.min.css set `[hidden] { display: none !important; }` so we also need the `!important` here to be able to override the default hidden behavior on the sphinx rendered scikit-learn.org. See: https://github.com/scikit-learn/scikit-learn/issues/21755 */display: inline-block !important;position: relative;}#sk-container-id-3 div.sk-text-repr-fallback {display: none;}</style><div id=\"sk-container-id-3\" class=\"sk-top-container\"><div class=\"sk-text-repr-fallback\"><pre>OneHotEncoder(cols=[&#x27;EsquemaID&#x27;, &#x27;AlmacenPadreId&#x27;, &#x27;Semana&#x27;, &#x27;Cluster&#x27;])</pre><b>In a Jupyter environment, please rerun this cell to show the HTML representation or trust the notebook. <br />On GitHub, the HTML representation is unable to render, please try loading this page with nbviewer.org.</b></div><div class=\"sk-container\" hidden><div class=\"sk-item\"><div class=\"sk-estimator sk-toggleable\"><input class=\"sk-toggleable__control sk-hidden--visually\" id=\"sk-estimator-id-3\" type=\"checkbox\" checked><label for=\"sk-estimator-id-3\" class=\"sk-toggleable__label sk-toggleable__label-arrow\">OneHotEncoder</label><div class=\"sk-toggleable__content\"><pre>OneHotEncoder(cols=[&#x27;EsquemaID&#x27;, &#x27;AlmacenPadreId&#x27;, &#x27;Semana&#x27;, &#x27;Cluster&#x27;])</pre></div></div></div></div></div>"
     },
     "execution_count": 38,
     "metadata": {},
     "output_type": "execute_result"
    }
   ],
   "source": [
    "# Cargar el codificador (encoder)\n",
    "encoder = joblib.load('Resultados/encoder.pkl')\n",
    "encoder"
   ],
   "metadata": {
    "collapsed": false,
    "ExecuteTime": {
     "end_time": "2024-06-11T16:21:26.523307400Z",
     "start_time": "2024-06-11T16:21:26.470323500Z"
    }
   },
   "id": "b63e83ebc5012f1"
  },
  {
   "cell_type": "code",
   "execution_count": 39,
   "outputs": [
    {
     "data": {
      "text/plain": "       AlmacenPadreId_1  AlmacenPadreId_2  AlmacenPadreId_3  AlmacenPadreId_4  \\\n0                     1                 0                 0                 0   \n1                     1                 0                 0                 0   \n2                     0                 0                 0                 0   \n3                     1                 0                 0                 0   \n4                     1                 0                 0                 0   \n...                 ...               ...               ...               ...   \n16989                 1                 0                 0                 0   \n16990                 1                 0                 0                 0   \n16991                 1                 0                 0                 0   \n16992                 1                 0                 0                 0   \n16993                 1                 0                 0                 0   \n\n       AlmacenPadreId_5  AlmacenPadreId_6  AlmacenPadreId_7  AlmacenPadreId_8  \\\n0                     0                 0                 0                 0   \n1                     0                 0                 0                 0   \n2                     0                 1                 0                 0   \n3                     0                 0                 0                 0   \n4                     0                 0                 0                 0   \n...                 ...               ...               ...               ...   \n16989                 0                 0                 0                 0   \n16990                 0                 0                 0                 0   \n16991                 0                 0                 0                 0   \n16992                 0                 0                 0                 0   \n16993                 0                 0                 0                 0   \n\n       AlmacenPadreId_9  EsquemaID_1  ...  Semana_52  Porcentaje_cumplimiento  \\\n0                     0            1  ...          0                 0.382736   \n1                     0            1  ...          0                 0.382736   \n2                     0            1  ...          0                 0.382736   \n3                     0            1  ...          0                 0.382736   \n4                     0            1  ...          0                 0.382736   \n...                 ...          ...  ...        ...                      ...   \n16989                 0            1  ...          0                 0.382736   \n16990                 0            1  ...          0                 0.382736   \n16991                 0            1  ...          0                 0.382736   \n16992                 0            1  ...          0                 0.382736   \n16993                 0            1  ...          0                 0.382736   \n\n       Frecuencia_Teorica  Mediana_semanal(L)  Cluster_1  Cluster_2  \\\n0                0.933225           -0.292337          0          0   \n1                0.933225            2.753076          0          0   \n2               -1.463761           -0.892199          0          0   \n3               -1.463761            0.424070          1          0   \n4               -1.463761            0.049156          0          0   \n...                   ...                 ...        ...        ...   \n16989           -1.463761           -0.538337          0          0   \n16990           -1.463761           -0.538337          0          0   \n16991           -1.463761           -0.538337          0          0   \n16992           -1.463761           -0.538337          0          0   \n16993           -1.463761           -0.538337          0          0   \n\n       Cluster_3  Cluster_4  Cluster_5  Cluster_6  \n0              1          0          0          0  \n1              0          1          0          0  \n2              1          0          0          0  \n3              0          0          0          0  \n4              1          0          0          0  \n...          ...        ...        ...        ...  \n16989          1          0          0          0  \n16990          1          0          0          0  \n16991          1          0          0          0  \n16992          1          0          0          0  \n16993          1          0          0          0  \n\n[16994 rows x 72 columns]",
      "text/html": "<div>\n<style scoped>\n    .dataframe tbody tr th:only-of-type {\n        vertical-align: middle;\n    }\n\n    .dataframe tbody tr th {\n        vertical-align: top;\n    }\n\n    .dataframe thead th {\n        text-align: right;\n    }\n</style>\n<table border=\"1\" class=\"dataframe\">\n  <thead>\n    <tr style=\"text-align: right;\">\n      <th></th>\n      <th>AlmacenPadreId_1</th>\n      <th>AlmacenPadreId_2</th>\n      <th>AlmacenPadreId_3</th>\n      <th>AlmacenPadreId_4</th>\n      <th>AlmacenPadreId_5</th>\n      <th>AlmacenPadreId_6</th>\n      <th>AlmacenPadreId_7</th>\n      <th>AlmacenPadreId_8</th>\n      <th>AlmacenPadreId_9</th>\n      <th>EsquemaID_1</th>\n      <th>...</th>\n      <th>Semana_52</th>\n      <th>Porcentaje_cumplimiento</th>\n      <th>Frecuencia_Teorica</th>\n      <th>Mediana_semanal(L)</th>\n      <th>Cluster_1</th>\n      <th>Cluster_2</th>\n      <th>Cluster_3</th>\n      <th>Cluster_4</th>\n      <th>Cluster_5</th>\n      <th>Cluster_6</th>\n    </tr>\n  </thead>\n  <tbody>\n    <tr>\n      <th>0</th>\n      <td>1</td>\n      <td>0</td>\n      <td>0</td>\n      <td>0</td>\n      <td>0</td>\n      <td>0</td>\n      <td>0</td>\n      <td>0</td>\n      <td>0</td>\n      <td>1</td>\n      <td>...</td>\n      <td>0</td>\n      <td>0.382736</td>\n      <td>0.933225</td>\n      <td>-0.292337</td>\n      <td>0</td>\n      <td>0</td>\n      <td>1</td>\n      <td>0</td>\n      <td>0</td>\n      <td>0</td>\n    </tr>\n    <tr>\n      <th>1</th>\n      <td>1</td>\n      <td>0</td>\n      <td>0</td>\n      <td>0</td>\n      <td>0</td>\n      <td>0</td>\n      <td>0</td>\n      <td>0</td>\n      <td>0</td>\n      <td>1</td>\n      <td>...</td>\n      <td>0</td>\n      <td>0.382736</td>\n      <td>0.933225</td>\n      <td>2.753076</td>\n      <td>0</td>\n      <td>0</td>\n      <td>0</td>\n      <td>1</td>\n      <td>0</td>\n      <td>0</td>\n    </tr>\n    <tr>\n      <th>2</th>\n      <td>0</td>\n      <td>0</td>\n      <td>0</td>\n      <td>0</td>\n      <td>0</td>\n      <td>1</td>\n      <td>0</td>\n      <td>0</td>\n      <td>0</td>\n      <td>1</td>\n      <td>...</td>\n      <td>0</td>\n      <td>0.382736</td>\n      <td>-1.463761</td>\n      <td>-0.892199</td>\n      <td>0</td>\n      <td>0</td>\n      <td>1</td>\n      <td>0</td>\n      <td>0</td>\n      <td>0</td>\n    </tr>\n    <tr>\n      <th>3</th>\n      <td>1</td>\n      <td>0</td>\n      <td>0</td>\n      <td>0</td>\n      <td>0</td>\n      <td>0</td>\n      <td>0</td>\n      <td>0</td>\n      <td>0</td>\n      <td>1</td>\n      <td>...</td>\n      <td>0</td>\n      <td>0.382736</td>\n      <td>-1.463761</td>\n      <td>0.424070</td>\n      <td>1</td>\n      <td>0</td>\n      <td>0</td>\n      <td>0</td>\n      <td>0</td>\n      <td>0</td>\n    </tr>\n    <tr>\n      <th>4</th>\n      <td>1</td>\n      <td>0</td>\n      <td>0</td>\n      <td>0</td>\n      <td>0</td>\n      <td>0</td>\n      <td>0</td>\n      <td>0</td>\n      <td>0</td>\n      <td>1</td>\n      <td>...</td>\n      <td>0</td>\n      <td>0.382736</td>\n      <td>-1.463761</td>\n      <td>0.049156</td>\n      <td>0</td>\n      <td>0</td>\n      <td>1</td>\n      <td>0</td>\n      <td>0</td>\n      <td>0</td>\n    </tr>\n    <tr>\n      <th>...</th>\n      <td>...</td>\n      <td>...</td>\n      <td>...</td>\n      <td>...</td>\n      <td>...</td>\n      <td>...</td>\n      <td>...</td>\n      <td>...</td>\n      <td>...</td>\n      <td>...</td>\n      <td>...</td>\n      <td>...</td>\n      <td>...</td>\n      <td>...</td>\n      <td>...</td>\n      <td>...</td>\n      <td>...</td>\n      <td>...</td>\n      <td>...</td>\n      <td>...</td>\n      <td>...</td>\n    </tr>\n    <tr>\n      <th>16989</th>\n      <td>1</td>\n      <td>0</td>\n      <td>0</td>\n      <td>0</td>\n      <td>0</td>\n      <td>0</td>\n      <td>0</td>\n      <td>0</td>\n      <td>0</td>\n      <td>1</td>\n      <td>...</td>\n      <td>0</td>\n      <td>0.382736</td>\n      <td>-1.463761</td>\n      <td>-0.538337</td>\n      <td>0</td>\n      <td>0</td>\n      <td>1</td>\n      <td>0</td>\n      <td>0</td>\n      <td>0</td>\n    </tr>\n    <tr>\n      <th>16990</th>\n      <td>1</td>\n      <td>0</td>\n      <td>0</td>\n      <td>0</td>\n      <td>0</td>\n      <td>0</td>\n      <td>0</td>\n      <td>0</td>\n      <td>0</td>\n      <td>1</td>\n      <td>...</td>\n      <td>0</td>\n      <td>0.382736</td>\n      <td>-1.463761</td>\n      <td>-0.538337</td>\n      <td>0</td>\n      <td>0</td>\n      <td>1</td>\n      <td>0</td>\n      <td>0</td>\n      <td>0</td>\n    </tr>\n    <tr>\n      <th>16991</th>\n      <td>1</td>\n      <td>0</td>\n      <td>0</td>\n      <td>0</td>\n      <td>0</td>\n      <td>0</td>\n      <td>0</td>\n      <td>0</td>\n      <td>0</td>\n      <td>1</td>\n      <td>...</td>\n      <td>0</td>\n      <td>0.382736</td>\n      <td>-1.463761</td>\n      <td>-0.538337</td>\n      <td>0</td>\n      <td>0</td>\n      <td>1</td>\n      <td>0</td>\n      <td>0</td>\n      <td>0</td>\n    </tr>\n    <tr>\n      <th>16992</th>\n      <td>1</td>\n      <td>0</td>\n      <td>0</td>\n      <td>0</td>\n      <td>0</td>\n      <td>0</td>\n      <td>0</td>\n      <td>0</td>\n      <td>0</td>\n      <td>1</td>\n      <td>...</td>\n      <td>0</td>\n      <td>0.382736</td>\n      <td>-1.463761</td>\n      <td>-0.538337</td>\n      <td>0</td>\n      <td>0</td>\n      <td>1</td>\n      <td>0</td>\n      <td>0</td>\n      <td>0</td>\n    </tr>\n    <tr>\n      <th>16993</th>\n      <td>1</td>\n      <td>0</td>\n      <td>0</td>\n      <td>0</td>\n      <td>0</td>\n      <td>0</td>\n      <td>0</td>\n      <td>0</td>\n      <td>0</td>\n      <td>1</td>\n      <td>...</td>\n      <td>0</td>\n      <td>0.382736</td>\n      <td>-1.463761</td>\n      <td>-0.538337</td>\n      <td>0</td>\n      <td>0</td>\n      <td>1</td>\n      <td>0</td>\n      <td>0</td>\n      <td>0</td>\n    </tr>\n  </tbody>\n</table>\n<p>16994 rows × 72 columns</p>\n</div>"
     },
     "execution_count": 39,
     "metadata": {},
     "output_type": "execute_result"
    }
   ],
   "source": [
    "# Almacenamos el ID de los clientes \n",
    "ID_clientes = data_set_final[[\"ClienteClave\"]]\n",
    "\n",
    "# Eliminamos el ID de los clientes del dataset \n",
    "data_set_final.drop(columns=[\"ClienteClave\"], inplace=True)\n",
    "\n",
    "\n",
    "# Utilizamos el codifiador \n",
    "data_set_final_encoded = encoder.transform(X=data_set_final)\n",
    "data_set_final_encoded"
   ],
   "metadata": {
    "collapsed": false,
    "ExecuteTime": {
     "end_time": "2024-06-11T16:21:26.793799600Z",
     "start_time": "2024-06-11T16:21:26.696332200Z"
    }
   },
   "id": "5304304d41d1c169"
  },
  {
   "cell_type": "markdown",
   "source": [
    "**NOTA:** Ahora nuesto DF está listo para hacer una preddicón "
   ],
   "metadata": {
    "collapsed": false
   },
   "id": "e5a2723e7cd5f895"
  },
  {
   "cell_type": "markdown",
   "source": [
    "### 3.4) Ejecución de la predicción "
   ],
   "metadata": {
    "collapsed": false
   },
   "id": "6532113a3b4b3fbe"
  },
  {
   "cell_type": "code",
   "execution_count": 40,
   "outputs": [
    {
     "data": {
      "text/plain": "       AlmacenPadreId_1  AlmacenPadreId_2  AlmacenPadreId_3  AlmacenPadreId_4  \\\n0                     1                 0                 0                 0   \n1                     1                 0                 0                 0   \n2                     0                 0                 0                 0   \n3                     1                 0                 0                 0   \n4                     1                 0                 0                 0   \n...                 ...               ...               ...               ...   \n16989                 1                 0                 0                 0   \n16990                 1                 0                 0                 0   \n16991                 1                 0                 0                 0   \n16992                 1                 0                 0                 0   \n16993                 1                 0                 0                 0   \n\n       AlmacenPadreId_5  AlmacenPadreId_6  AlmacenPadreId_7  AlmacenPadreId_8  \\\n0                     0                 0                 0                 0   \n1                     0                 0                 0                 0   \n2                     0                 1                 0                 0   \n3                     0                 0                 0                 0   \n4                     0                 0                 0                 0   \n...                 ...               ...               ...               ...   \n16989                 0                 0                 0                 0   \n16990                 0                 0                 0                 0   \n16991                 0                 0                 0                 0   \n16992                 0                 0                 0                 0   \n16993                 0                 0                 0                 0   \n\n       AlmacenPadreId_9  EsquemaID_1  ...  Semana_52  Porcentaje_cumplimiento  \\\n0                     0            1  ...          0                 0.382736   \n1                     0            1  ...          0                 0.382736   \n2                     0            1  ...          0                 0.382736   \n3                     0            1  ...          0                 0.382736   \n4                     0            1  ...          0                 0.382736   \n...                 ...          ...  ...        ...                      ...   \n16989                 0            1  ...          0                 0.382736   \n16990                 0            1  ...          0                 0.382736   \n16991                 0            1  ...          0                 0.382736   \n16992                 0            1  ...          0                 0.382736   \n16993                 0            1  ...          0                 0.382736   \n\n       Frecuencia_Teorica  Mediana_semanal(L)  Cluster_1  Cluster_2  \\\n0                0.933225           -0.292337          0          0   \n1                0.933225            2.753076          0          0   \n2               -1.463761           -0.892199          0          0   \n3               -1.463761            0.424070          1          0   \n4               -1.463761            0.049156          0          0   \n...                   ...                 ...        ...        ...   \n16989           -1.463761           -0.538337          0          0   \n16990           -1.463761           -0.538337          0          0   \n16991           -1.463761           -0.538337          0          0   \n16992           -1.463761           -0.538337          0          0   \n16993           -1.463761           -0.538337          0          0   \n\n       Cluster_3  Cluster_4  Cluster_5  Cluster_6  \n0              1          0          0          0  \n1              0          1          0          0  \n2              1          0          0          0  \n3              0          0          0          0  \n4              1          0          0          0  \n...          ...        ...        ...        ...  \n16989          1          0          0          0  \n16990          1          0          0          0  \n16991          1          0          0          0  \n16992          1          0          0          0  \n16993          1          0          0          0  \n\n[16994 rows x 72 columns]",
      "text/html": "<div>\n<style scoped>\n    .dataframe tbody tr th:only-of-type {\n        vertical-align: middle;\n    }\n\n    .dataframe tbody tr th {\n        vertical-align: top;\n    }\n\n    .dataframe thead th {\n        text-align: right;\n    }\n</style>\n<table border=\"1\" class=\"dataframe\">\n  <thead>\n    <tr style=\"text-align: right;\">\n      <th></th>\n      <th>AlmacenPadreId_1</th>\n      <th>AlmacenPadreId_2</th>\n      <th>AlmacenPadreId_3</th>\n      <th>AlmacenPadreId_4</th>\n      <th>AlmacenPadreId_5</th>\n      <th>AlmacenPadreId_6</th>\n      <th>AlmacenPadreId_7</th>\n      <th>AlmacenPadreId_8</th>\n      <th>AlmacenPadreId_9</th>\n      <th>EsquemaID_1</th>\n      <th>...</th>\n      <th>Semana_52</th>\n      <th>Porcentaje_cumplimiento</th>\n      <th>Frecuencia_Teorica</th>\n      <th>Mediana_semanal(L)</th>\n      <th>Cluster_1</th>\n      <th>Cluster_2</th>\n      <th>Cluster_3</th>\n      <th>Cluster_4</th>\n      <th>Cluster_5</th>\n      <th>Cluster_6</th>\n    </tr>\n  </thead>\n  <tbody>\n    <tr>\n      <th>0</th>\n      <td>1</td>\n      <td>0</td>\n      <td>0</td>\n      <td>0</td>\n      <td>0</td>\n      <td>0</td>\n      <td>0</td>\n      <td>0</td>\n      <td>0</td>\n      <td>1</td>\n      <td>...</td>\n      <td>0</td>\n      <td>0.382736</td>\n      <td>0.933225</td>\n      <td>-0.292337</td>\n      <td>0</td>\n      <td>0</td>\n      <td>1</td>\n      <td>0</td>\n      <td>0</td>\n      <td>0</td>\n    </tr>\n    <tr>\n      <th>1</th>\n      <td>1</td>\n      <td>0</td>\n      <td>0</td>\n      <td>0</td>\n      <td>0</td>\n      <td>0</td>\n      <td>0</td>\n      <td>0</td>\n      <td>0</td>\n      <td>1</td>\n      <td>...</td>\n      <td>0</td>\n      <td>0.382736</td>\n      <td>0.933225</td>\n      <td>2.753076</td>\n      <td>0</td>\n      <td>0</td>\n      <td>0</td>\n      <td>1</td>\n      <td>0</td>\n      <td>0</td>\n    </tr>\n    <tr>\n      <th>2</th>\n      <td>0</td>\n      <td>0</td>\n      <td>0</td>\n      <td>0</td>\n      <td>0</td>\n      <td>1</td>\n      <td>0</td>\n      <td>0</td>\n      <td>0</td>\n      <td>1</td>\n      <td>...</td>\n      <td>0</td>\n      <td>0.382736</td>\n      <td>-1.463761</td>\n      <td>-0.892199</td>\n      <td>0</td>\n      <td>0</td>\n      <td>1</td>\n      <td>0</td>\n      <td>0</td>\n      <td>0</td>\n    </tr>\n    <tr>\n      <th>3</th>\n      <td>1</td>\n      <td>0</td>\n      <td>0</td>\n      <td>0</td>\n      <td>0</td>\n      <td>0</td>\n      <td>0</td>\n      <td>0</td>\n      <td>0</td>\n      <td>1</td>\n      <td>...</td>\n      <td>0</td>\n      <td>0.382736</td>\n      <td>-1.463761</td>\n      <td>0.424070</td>\n      <td>1</td>\n      <td>0</td>\n      <td>0</td>\n      <td>0</td>\n      <td>0</td>\n      <td>0</td>\n    </tr>\n    <tr>\n      <th>4</th>\n      <td>1</td>\n      <td>0</td>\n      <td>0</td>\n      <td>0</td>\n      <td>0</td>\n      <td>0</td>\n      <td>0</td>\n      <td>0</td>\n      <td>0</td>\n      <td>1</td>\n      <td>...</td>\n      <td>0</td>\n      <td>0.382736</td>\n      <td>-1.463761</td>\n      <td>0.049156</td>\n      <td>0</td>\n      <td>0</td>\n      <td>1</td>\n      <td>0</td>\n      <td>0</td>\n      <td>0</td>\n    </tr>\n    <tr>\n      <th>...</th>\n      <td>...</td>\n      <td>...</td>\n      <td>...</td>\n      <td>...</td>\n      <td>...</td>\n      <td>...</td>\n      <td>...</td>\n      <td>...</td>\n      <td>...</td>\n      <td>...</td>\n      <td>...</td>\n      <td>...</td>\n      <td>...</td>\n      <td>...</td>\n      <td>...</td>\n      <td>...</td>\n      <td>...</td>\n      <td>...</td>\n      <td>...</td>\n      <td>...</td>\n      <td>...</td>\n    </tr>\n    <tr>\n      <th>16989</th>\n      <td>1</td>\n      <td>0</td>\n      <td>0</td>\n      <td>0</td>\n      <td>0</td>\n      <td>0</td>\n      <td>0</td>\n      <td>0</td>\n      <td>0</td>\n      <td>1</td>\n      <td>...</td>\n      <td>0</td>\n      <td>0.382736</td>\n      <td>-1.463761</td>\n      <td>-0.538337</td>\n      <td>0</td>\n      <td>0</td>\n      <td>1</td>\n      <td>0</td>\n      <td>0</td>\n      <td>0</td>\n    </tr>\n    <tr>\n      <th>16990</th>\n      <td>1</td>\n      <td>0</td>\n      <td>0</td>\n      <td>0</td>\n      <td>0</td>\n      <td>0</td>\n      <td>0</td>\n      <td>0</td>\n      <td>0</td>\n      <td>1</td>\n      <td>...</td>\n      <td>0</td>\n      <td>0.382736</td>\n      <td>-1.463761</td>\n      <td>-0.538337</td>\n      <td>0</td>\n      <td>0</td>\n      <td>1</td>\n      <td>0</td>\n      <td>0</td>\n      <td>0</td>\n    </tr>\n    <tr>\n      <th>16991</th>\n      <td>1</td>\n      <td>0</td>\n      <td>0</td>\n      <td>0</td>\n      <td>0</td>\n      <td>0</td>\n      <td>0</td>\n      <td>0</td>\n      <td>0</td>\n      <td>1</td>\n      <td>...</td>\n      <td>0</td>\n      <td>0.382736</td>\n      <td>-1.463761</td>\n      <td>-0.538337</td>\n      <td>0</td>\n      <td>0</td>\n      <td>1</td>\n      <td>0</td>\n      <td>0</td>\n      <td>0</td>\n    </tr>\n    <tr>\n      <th>16992</th>\n      <td>1</td>\n      <td>0</td>\n      <td>0</td>\n      <td>0</td>\n      <td>0</td>\n      <td>0</td>\n      <td>0</td>\n      <td>0</td>\n      <td>0</td>\n      <td>1</td>\n      <td>...</td>\n      <td>0</td>\n      <td>0.382736</td>\n      <td>-1.463761</td>\n      <td>-0.538337</td>\n      <td>0</td>\n      <td>0</td>\n      <td>1</td>\n      <td>0</td>\n      <td>0</td>\n      <td>0</td>\n    </tr>\n    <tr>\n      <th>16993</th>\n      <td>1</td>\n      <td>0</td>\n      <td>0</td>\n      <td>0</td>\n      <td>0</td>\n      <td>0</td>\n      <td>0</td>\n      <td>0</td>\n      <td>0</td>\n      <td>1</td>\n      <td>...</td>\n      <td>0</td>\n      <td>0.382736</td>\n      <td>-1.463761</td>\n      <td>-0.538337</td>\n      <td>0</td>\n      <td>0</td>\n      <td>1</td>\n      <td>0</td>\n      <td>0</td>\n      <td>0</td>\n    </tr>\n  </tbody>\n</table>\n<p>16994 rows × 72 columns</p>\n</div>"
     },
     "execution_count": 40,
     "metadata": {},
     "output_type": "execute_result"
    }
   ],
   "source": [
    "data_set_final_encoded"
   ],
   "metadata": {
    "collapsed": false,
    "ExecuteTime": {
     "end_time": "2024-06-11T16:21:31.541218900Z",
     "start_time": "2024-06-11T16:21:31.486080200Z"
    }
   },
   "id": "225b5dbf6af661c0"
  },
  {
   "cell_type": "code",
   "execution_count": 41,
   "outputs": [
    {
     "data": {
      "text/plain": "array([ 73.54758  , 345.37964  ,  14.5782995, ...,  44.334076 ,\n        44.334076 ,  44.334076 ], dtype=float32)"
     },
     "execution_count": 41,
     "metadata": {},
     "output_type": "execute_result"
    }
   ],
   "source": [
    "prediccion = xgboost.predict(X = data_set_final_encoded)\n",
    "prediccion"
   ],
   "metadata": {
    "collapsed": false,
    "ExecuteTime": {
     "end_time": "2024-06-11T16:21:31.892828600Z",
     "start_time": "2024-06-11T16:21:31.798439200Z"
    }
   },
   "id": "8e7a712eba15c523"
  },
  {
   "cell_type": "code",
   "execution_count": 42,
   "outputs": [
    {
     "name": "stdout",
     "output_type": "stream",
     "text": [
      "Total original (L):  1550102.2\n"
     ]
    }
   ],
   "source": [
    "print(\"Total original (L): \", prediccion.sum())"
   ],
   "metadata": {
    "collapsed": false,
    "ExecuteTime": {
     "end_time": "2024-06-11T16:21:32.161793700Z",
     "start_time": "2024-06-11T16:21:32.094165400Z"
    }
   },
   "id": "e920d8f7a651a89a"
  },
  {
   "cell_type": "markdown",
   "source": [
    "**FACTOR TOTAL:**\n",
    "Aqui multiplicaremos la prediccion por el factor total que reducirá o aumentara el volumen"
   ],
   "metadata": {
    "collapsed": false
   },
   "id": "7d8888013b3a9eda"
  },
  {
   "cell_type": "code",
   "execution_count": 43,
   "outputs": [
    {
     "name": "stdout",
     "output_type": "stream",
     "text": [
      "Nuevo total: 1457096.2\n"
     ]
    },
    {
     "data": {
      "text/plain": "      ClienteClave  Volumen_Semanal(L)\n0       0100110001           69.134720\n1       0100110002          324.656860\n2       0100510001           13.703602\n3       0100800011          105.582344\n4       0100820001           68.959023\n...            ...                 ...\n16989   1938790001           41.674030\n16990   1938800001           41.674030\n16991   1938810001           41.674030\n16992   1938820001           41.674030\n16993   1938830001           41.674030\n\n[16994 rows x 2 columns]",
      "text/html": "<div>\n<style scoped>\n    .dataframe tbody tr th:only-of-type {\n        vertical-align: middle;\n    }\n\n    .dataframe tbody tr th {\n        vertical-align: top;\n    }\n\n    .dataframe thead th {\n        text-align: right;\n    }\n</style>\n<table border=\"1\" class=\"dataframe\">\n  <thead>\n    <tr style=\"text-align: right;\">\n      <th></th>\n      <th>ClienteClave</th>\n      <th>Volumen_Semanal(L)</th>\n    </tr>\n  </thead>\n  <tbody>\n    <tr>\n      <th>0</th>\n      <td>0100110001</td>\n      <td>69.134720</td>\n    </tr>\n    <tr>\n      <th>1</th>\n      <td>0100110002</td>\n      <td>324.656860</td>\n    </tr>\n    <tr>\n      <th>2</th>\n      <td>0100510001</td>\n      <td>13.703602</td>\n    </tr>\n    <tr>\n      <th>3</th>\n      <td>0100800011</td>\n      <td>105.582344</td>\n    </tr>\n    <tr>\n      <th>4</th>\n      <td>0100820001</td>\n      <td>68.959023</td>\n    </tr>\n    <tr>\n      <th>...</th>\n      <td>...</td>\n      <td>...</td>\n    </tr>\n    <tr>\n      <th>16989</th>\n      <td>1938790001</td>\n      <td>41.674030</td>\n    </tr>\n    <tr>\n      <th>16990</th>\n      <td>1938800001</td>\n      <td>41.674030</td>\n    </tr>\n    <tr>\n      <th>16991</th>\n      <td>1938810001</td>\n      <td>41.674030</td>\n    </tr>\n    <tr>\n      <th>16992</th>\n      <td>1938820001</td>\n      <td>41.674030</td>\n    </tr>\n    <tr>\n      <th>16993</th>\n      <td>1938830001</td>\n      <td>41.674030</td>\n    </tr>\n  </tbody>\n</table>\n<p>16994 rows × 2 columns</p>\n</div>"
     },
     "execution_count": 43,
     "metadata": {},
     "output_type": "execute_result"
    }
   ],
   "source": [
    "predicciones = pd.DataFrame(data=ID_clientes)\n",
    "predicciones[\"Volumen_Semanal(L)\"] = prediccion\n",
    "predicciones[\"Volumen_Semanal(L)\"] = predicciones[\"Volumen_Semanal(L)\"] * factor_total\n",
    "print(\"Nuevo total:\", predicciones[\"Volumen_Semanal(L)\"].sum())\n",
    "predicciones"
   ],
   "metadata": {
    "collapsed": false,
    "ExecuteTime": {
     "end_time": "2024-06-11T16:21:32.499958500Z",
     "start_time": "2024-06-11T16:21:32.446718400Z"
    }
   },
   "id": "9f546363d51a5b46"
  },
  {
   "cell_type": "markdown",
   "source": [
    "**Visualización histograma del volumen de predicciones**"
   ],
   "metadata": {
    "collapsed": false
   },
   "id": "25626c1da4b08679"
  },
  {
   "cell_type": "code",
   "execution_count": 44,
   "outputs": [
    {
     "data": {
      "text/plain": "<Axes: title={'center': 'Volumen de predicciones semanal por cliente'}, xlabel='Litros', ylabel='Frequency'>"
     },
     "execution_count": 44,
     "metadata": {},
     "output_type": "execute_result"
    },
    {
     "data": {
      "text/plain": "<Figure size 640x480 with 1 Axes>",
      "image/png": "[encoded data removed]"
     },
     "metadata": {},
     "output_type": "display_data"
    }
   ],
   "source": [
    "predicciones[\"Volumen_Semanal(L)\"].plot(kind = \"hist\", \n",
    "                                        title= \"Volumen de predicciones semanal por cliente\", \n",
    "                                        xlabel=\"Litros\")"
   ],
   "metadata": {
    "collapsed": false,
    "ExecuteTime": {
     "end_time": "2024-06-11T16:21:32.936562300Z",
     "start_time": "2024-06-11T16:21:32.806163Z"
    }
   },
   "id": "9ba0140c4da88c65"
  },
  {
   "cell_type": "markdown",
   "source": [
    "### 3.5) Tratamiento de resultados, distribución del volumen por día de la semana "
   ],
   "metadata": {
    "collapsed": false
   },
   "id": "6510b9dc565e5713"
  },
  {
   "cell_type": "markdown",
   "source": [
    "#### 3.5.1) Lectura de distribución historica (de la agenda más acatual) por día de la semana \n",
    "Recordemos que en el proceos de entenamiento se tomo la agenda actual y se busco todas las semanas histoicas con esa misma agenda. El archivo de distribución historica que se va leer es justo eso, son todas las semanas historicas que tienen el mismo tipo de agenda que el actual"
   ],
   "metadata": {
    "collapsed": false
   },
   "id": "d44ae0cd829bf7"
  },
  {
   "cell_type": "code",
   "execution_count": 45,
   "outputs": [
    {
     "data": {
      "text/plain": "      ClienteClave  Porcentaje FrecuenciaClaveUnificada  \\\n0       0100110002   13.387281                  1111110   \n1       0100110002   14.087324                  1111110   \n2       0100110002   13.220603                  1111110   \n3       0100110002   12.451325                  1111110   \n4       0100110002   18.001854                  1111110   \n...            ...         ...                      ...   \n96213   1931680001    2.507459                  1111110   \n96214   1931680001   22.362195                  1111110   \n96215   1931740001   39.208909                  1010100   \n96216   1931740001   25.921659                  1010100   \n96217   1931740001   34.869432                  1010100   \n\n       Frecuencia_Teorica_Semana  Dias_Registrados FrecuenciaClave  \n0                              6                 6         1000000  \n1                              6                 6         0100000  \n2                              6                 6         0010000  \n3                              6                 6         0001000  \n4                              6                 6         0000100  \n...                          ...               ...             ...  \n96213                          6                 6         0000100  \n96214                          6                 6         0000010  \n96215                          3                 3         1000000  \n96216                          3                 3         0010000  \n96217                          3                 3         0000100  \n\n[96218 rows x 6 columns]",
      "text/html": "<div>\n<style scoped>\n    .dataframe tbody tr th:only-of-type {\n        vertical-align: middle;\n    }\n\n    .dataframe tbody tr th {\n        vertical-align: top;\n    }\n\n    .dataframe thead th {\n        text-align: right;\n    }\n</style>\n<table border=\"1\" class=\"dataframe\">\n  <thead>\n    <tr style=\"text-align: right;\">\n      <th></th>\n      <th>ClienteClave</th>\n      <th>Porcentaje</th>\n      <th>FrecuenciaClaveUnificada</th>\n      <th>Frecuencia_Teorica_Semana</th>\n      <th>Dias_Registrados</th>\n      <th>FrecuenciaClave</th>\n    </tr>\n  </thead>\n  <tbody>\n    <tr>\n      <th>0</th>\n      <td>0100110002</td>\n      <td>13.387281</td>\n      <td>1111110</td>\n      <td>6</td>\n      <td>6</td>\n      <td>1000000</td>\n    </tr>\n    <tr>\n      <th>1</th>\n      <td>0100110002</td>\n      <td>14.087324</td>\n      <td>1111110</td>\n      <td>6</td>\n      <td>6</td>\n      <td>0100000</td>\n    </tr>\n    <tr>\n      <th>2</th>\n      <td>0100110002</td>\n      <td>13.220603</td>\n      <td>1111110</td>\n      <td>6</td>\n      <td>6</td>\n      <td>0010000</td>\n    </tr>\n    <tr>\n      <th>3</th>\n      <td>0100110002</td>\n      <td>12.451325</td>\n      <td>1111110</td>\n      <td>6</td>\n      <td>6</td>\n      <td>0001000</td>\n    </tr>\n    <tr>\n      <th>4</th>\n      <td>0100110002</td>\n      <td>18.001854</td>\n      <td>1111110</td>\n      <td>6</td>\n      <td>6</td>\n      <td>0000100</td>\n    </tr>\n    <tr>\n      <th>...</th>\n      <td>...</td>\n      <td>...</td>\n      <td>...</td>\n      <td>...</td>\n      <td>...</td>\n      <td>...</td>\n    </tr>\n    <tr>\n      <th>96213</th>\n      <td>1931680001</td>\n      <td>2.507459</td>\n      <td>1111110</td>\n      <td>6</td>\n      <td>6</td>\n      <td>0000100</td>\n    </tr>\n    <tr>\n      <th>96214</th>\n      <td>1931680001</td>\n      <td>22.362195</td>\n      <td>1111110</td>\n      <td>6</td>\n      <td>6</td>\n      <td>0000010</td>\n    </tr>\n    <tr>\n      <th>96215</th>\n      <td>1931740001</td>\n      <td>39.208909</td>\n      <td>1010100</td>\n      <td>3</td>\n      <td>3</td>\n      <td>1000000</td>\n    </tr>\n    <tr>\n      <th>96216</th>\n      <td>1931740001</td>\n      <td>25.921659</td>\n      <td>1010100</td>\n      <td>3</td>\n      <td>3</td>\n      <td>0010000</td>\n    </tr>\n    <tr>\n      <th>96217</th>\n      <td>1931740001</td>\n      <td>34.869432</td>\n      <td>1010100</td>\n      <td>3</td>\n      <td>3</td>\n      <td>0000100</td>\n    </tr>\n  </tbody>\n</table>\n<p>96218 rows × 6 columns</p>\n</div>"
     },
     "execution_count": 45,
     "metadata": {},
     "output_type": "execute_result"
    }
   ],
   "source": [
    "# 1) Lectura de la distribución histporica por cliente por dia de la semana \n",
    "distribucion_historica_vol= pd.read_parquet(path=\"Resultados/distribucion_dia_cliente.parquet\", \n",
    "                                            columns=[\"ClienteClave\", \"Dia\", \"Porcentaje\", \n",
    "                                                     \"FrecuenciaClaveUnificada\", \"FrecuenciaTotal\"])\n",
    "\n",
    "# Cambio de nombre columna \n",
    "distribucion_historica_vol.rename(columns={\"FrecuenciaTotal\":\"Frecuencia_Teorica_Semana\"}, inplace=True)\n",
    "\n",
    "# 2) Generar los días  reales registrados \n",
    "dias_registrados =  distribucion_historica_vol.groupby(by=[\"ClienteClave\"]).size().reset_index()\n",
    "dias_registrados.rename(columns ={0:\"Dias_Registrados\"}, inplace=True)\n",
    "\n",
    "# 3) Vincular los DFs \n",
    "distribucion_historica_vol = pd.merge(left=distribucion_historica_vol, right=dias_registrados, \n",
    "                                      on=[\"ClienteClave\"])\n",
    "\n",
    "\n",
    "# 4) Generams nuevamennte la clave de secuencia unitaria (por día de la semana)\n",
    "# Definimos el mapeo (que se va cambiar por que) \n",
    "mapeo = {0: '1000000', \n",
    "         1: '0100000', \n",
    "         2: '0010000',\n",
    "         3: '0001000',  \n",
    "         4: '0000100',\n",
    "         5: '0000010'}\n",
    "\n",
    "distribucion_historica_vol[\"FrecuenciaClave\"] = distribucion_historica_vol[\"Dia\"].map(arg=mapeo) \n",
    "distribucion_historica_vol.drop(columns=[\"Dia\"], inplace=True)\n",
    "distribucion_historica_vol\n",
    "# NOTA: Aqui la columna que indica el día de la semana del porcenataje es la de FrecuenciaClave\n",
    "\n",
    "### CORREGIR: Cambiar el nomnbre a  Frecuencia Toerica Semana en el script de entrenamiento"
   ],
   "metadata": {
    "collapsed": false,
    "ExecuteTime": {
     "end_time": "2024-06-11T16:21:33.454952800Z",
     "start_time": "2024-06-11T16:21:33.344098900Z"
    }
   },
   "id": "89e55a1ed044fe19"
  },
  {
   "cell_type": "markdown",
   "source": [
    "#### 3.5.2) Agenda actual  \n",
    "Lectura de la agenda actual"
   ],
   "metadata": {
    "collapsed": false
   },
   "id": "fb762ddb1f00a5de"
  },
  {
   "cell_type": "code",
   "execution_count": 46,
   "outputs": [
    {
     "name": "stderr",
     "output_type": "stream",
     "text": [
      "C:\\Users\\OMBARRAZA\\AppData\\Local\\Temp\\ipykernel_17932\\2742239724.py:2: UserWarning: pandas only supports SQLAlchemy connectable (engine/connection) or database string URI or sqlite3 DBAPI2 connection. Other DBAPI2 objects are not tested. Please consider using SQLAlchemy.\n",
      "  agenda_actual = pd.read_sql(sql=query_secuencia, con=conexion, dtype_backend=\"pyarrow\")\n"
     ]
    },
    {
     "data": {
      "text/plain": "      ClienteClave FrecuenciaClave EsquemaID RUTClave AlmacenPadreId  Dia_num  \\\n0       0665070000         0000010       D21  D001027           D001        5   \n1       0665070000         0000100       D21  D001027           D001        4   \n2       0665070000         0001000       D21  D001027           D001        3   \n3       0665070000         0010000       D21  D001027           D001        2   \n4       0665070000         0100000       D21  D001027           D001        1   \n...            ...             ...       ...      ...            ...      ...   \n75323   0417750000         0010000       D21  D002023           D002        2   \n75324   0417750000         1000000       D21  D002023           D002        0   \n75325   1359400001         0000100       D21  D002023           D002        4   \n75326   1359400001         0010000       D21  D002023           D002        2   \n75327   1359400001         1000000       D21  D002023           D002        0   \n\n       Total_Dias_Teoricos  \n0                        6  \n1                        6  \n2                        6  \n3                        6  \n4                        6  \n...                    ...  \n75323                    3  \n75324                    3  \n75325                    3  \n75326                    3  \n75327                    3  \n\n[75328 rows x 7 columns]",
      "text/html": "<div>\n<style scoped>\n    .dataframe tbody tr th:only-of-type {\n        vertical-align: middle;\n    }\n\n    .dataframe tbody tr th {\n        vertical-align: top;\n    }\n\n    .dataframe thead th {\n        text-align: right;\n    }\n</style>\n<table border=\"1\" class=\"dataframe\">\n  <thead>\n    <tr style=\"text-align: right;\">\n      <th></th>\n      <th>ClienteClave</th>\n      <th>FrecuenciaClave</th>\n      <th>EsquemaID</th>\n      <th>RUTClave</th>\n      <th>AlmacenPadreId</th>\n      <th>Dia_num</th>\n      <th>Total_Dias_Teoricos</th>\n    </tr>\n  </thead>\n  <tbody>\n    <tr>\n      <th>0</th>\n      <td>0665070000</td>\n      <td>0000010</td>\n      <td>D21</td>\n      <td>D001027</td>\n      <td>D001</td>\n      <td>5</td>\n      <td>6</td>\n    </tr>\n    <tr>\n      <th>1</th>\n      <td>0665070000</td>\n      <td>0000100</td>\n      <td>D21</td>\n      <td>D001027</td>\n      <td>D001</td>\n      <td>4</td>\n      <td>6</td>\n    </tr>\n    <tr>\n      <th>2</th>\n      <td>0665070000</td>\n      <td>0001000</td>\n      <td>D21</td>\n      <td>D001027</td>\n      <td>D001</td>\n      <td>3</td>\n      <td>6</td>\n    </tr>\n    <tr>\n      <th>3</th>\n      <td>0665070000</td>\n      <td>0010000</td>\n      <td>D21</td>\n      <td>D001027</td>\n      <td>D001</td>\n      <td>2</td>\n      <td>6</td>\n    </tr>\n    <tr>\n      <th>4</th>\n      <td>0665070000</td>\n      <td>0100000</td>\n      <td>D21</td>\n      <td>D001027</td>\n      <td>D001</td>\n      <td>1</td>\n      <td>6</td>\n    </tr>\n    <tr>\n      <th>...</th>\n      <td>...</td>\n      <td>...</td>\n      <td>...</td>\n      <td>...</td>\n      <td>...</td>\n      <td>...</td>\n      <td>...</td>\n    </tr>\n    <tr>\n      <th>75323</th>\n      <td>0417750000</td>\n      <td>0010000</td>\n      <td>D21</td>\n      <td>D002023</td>\n      <td>D002</td>\n      <td>2</td>\n      <td>3</td>\n    </tr>\n    <tr>\n      <th>75324</th>\n      <td>0417750000</td>\n      <td>1000000</td>\n      <td>D21</td>\n      <td>D002023</td>\n      <td>D002</td>\n      <td>0</td>\n      <td>3</td>\n    </tr>\n    <tr>\n      <th>75325</th>\n      <td>1359400001</td>\n      <td>0000100</td>\n      <td>D21</td>\n      <td>D002023</td>\n      <td>D002</td>\n      <td>4</td>\n      <td>3</td>\n    </tr>\n    <tr>\n      <th>75326</th>\n      <td>1359400001</td>\n      <td>0010000</td>\n      <td>D21</td>\n      <td>D002023</td>\n      <td>D002</td>\n      <td>2</td>\n      <td>3</td>\n    </tr>\n    <tr>\n      <th>75327</th>\n      <td>1359400001</td>\n      <td>1000000</td>\n      <td>D21</td>\n      <td>D002023</td>\n      <td>D002</td>\n      <td>0</td>\n      <td>3</td>\n    </tr>\n  </tbody>\n</table>\n<p>75328 rows × 7 columns</p>\n</div>"
     },
     "execution_count": 46,
     "metadata": {},
     "output_type": "execute_result"
    }
   ],
   "source": [
    "# 1) Lectura de la agenda actual \n",
    "agenda_actual = pd.read_sql(sql=query_secuencia, con=conexion, dtype_backend=\"pyarrow\")\n",
    "\n",
    "# 2) Generar el  día de la semana numerico (del 0 al 6)\n",
    "agenda_actual[\"Dia_num\"] = 1 \n",
    "\n",
    "# Definimos el mapeo (que se va cambiar por que) \n",
    "mapeo = {'1000000': 0, \n",
    "         '0100000': 1, \n",
    "         '0010000': 2,\n",
    "         '0001000':3, \n",
    "         '0000100':4,\n",
    "         '0000010':5}\n",
    "\n",
    "\n",
    "agenda_actual[\"Dia_num\"] = agenda_actual[\"FrecuenciaClave\"].map(arg=mapeo)\n",
    "\n",
    "\n",
    "# 3) Generamo el total de días de visita por semana \n",
    "num_dias_visita_teorica  = agenda_actual.groupby(by=[\"ClienteClave\"]).size().reset_index()\n",
    "num_dias_visita_teorica.rename(columns={0:\"Total_Dias_Teoricos\"}, inplace=True)\n",
    "\n",
    "\n",
    "#4) Merge con la agenda actual \n",
    "agenda_actual = pd.merge(left=agenda_actual, right=num_dias_visita_teorica,\n",
    "                         on=[\"ClienteClave\"])\n",
    "agenda_actual"
   ],
   "metadata": {
    "collapsed": false,
    "ExecuteTime": {
     "end_time": "2024-06-11T16:21:34.433706600Z",
     "start_time": "2024-06-11T16:21:34.063140Z"
    }
   },
   "id": "afc566c8456a00d3"
  },
  {
   "cell_type": "code",
   "execution_count": 47,
   "outputs": [
    {
     "data": {
      "text/plain": "      ClienteClave FrecuenciaClave EsquemaID RUTClave AlmacenPadreId  Dia_num  \\\n0       0665070000         0000010       D21  D001027           D001        5   \n1       0665070000         0000100       D21  D001027           D001        4   \n2       0665070000         0001000       D21  D001027           D001        3   \n3       0665070000         0010000       D21  D001027           D001        2   \n4       0665070000         0100000       D21  D001027           D001        1   \n...            ...             ...       ...      ...            ...      ...   \n75323   0417750000         0010000       D21  D002023           D002        2   \n75324   0417750000         1000000       D21  D002023           D002        0   \n75325   1359400001         0000100       D21  D002023           D002        4   \n75326   1359400001         0010000       D21  D002023           D002        2   \n75327   1359400001         1000000       D21  D002023           D002        0   \n\n       Total_Dias_Teoricos FrecuenciaClaveUnificada  \n0                        6                  1111110  \n1                        6                  1111110  \n2                        6                  1111110  \n3                        6                  1111110  \n4                        6                  1111110  \n...                    ...                      ...  \n75323                    3                  1010100  \n75324                    3                  1010100  \n75325                    3                  1010100  \n75326                    3                  1010100  \n75327                    3                  1010100  \n\n[75328 rows x 8 columns]",
      "text/html": "<div>\n<style scoped>\n    .dataframe tbody tr th:only-of-type {\n        vertical-align: middle;\n    }\n\n    .dataframe tbody tr th {\n        vertical-align: top;\n    }\n\n    .dataframe thead th {\n        text-align: right;\n    }\n</style>\n<table border=\"1\" class=\"dataframe\">\n  <thead>\n    <tr style=\"text-align: right;\">\n      <th></th>\n      <th>ClienteClave</th>\n      <th>FrecuenciaClave</th>\n      <th>EsquemaID</th>\n      <th>RUTClave</th>\n      <th>AlmacenPadreId</th>\n      <th>Dia_num</th>\n      <th>Total_Dias_Teoricos</th>\n      <th>FrecuenciaClaveUnificada</th>\n    </tr>\n  </thead>\n  <tbody>\n    <tr>\n      <th>0</th>\n      <td>0665070000</td>\n      <td>0000010</td>\n      <td>D21</td>\n      <td>D001027</td>\n      <td>D001</td>\n      <td>5</td>\n      <td>6</td>\n      <td>1111110</td>\n    </tr>\n    <tr>\n      <th>1</th>\n      <td>0665070000</td>\n      <td>0000100</td>\n      <td>D21</td>\n      <td>D001027</td>\n      <td>D001</td>\n      <td>4</td>\n      <td>6</td>\n      <td>1111110</td>\n    </tr>\n    <tr>\n      <th>2</th>\n      <td>0665070000</td>\n      <td>0001000</td>\n      <td>D21</td>\n      <td>D001027</td>\n      <td>D001</td>\n      <td>3</td>\n      <td>6</td>\n      <td>1111110</td>\n    </tr>\n    <tr>\n      <th>3</th>\n      <td>0665070000</td>\n      <td>0010000</td>\n      <td>D21</td>\n      <td>D001027</td>\n      <td>D001</td>\n      <td>2</td>\n      <td>6</td>\n      <td>1111110</td>\n    </tr>\n    <tr>\n      <th>4</th>\n      <td>0665070000</td>\n      <td>0100000</td>\n      <td>D21</td>\n      <td>D001027</td>\n      <td>D001</td>\n      <td>1</td>\n      <td>6</td>\n      <td>1111110</td>\n    </tr>\n    <tr>\n      <th>...</th>\n      <td>...</td>\n      <td>...</td>\n      <td>...</td>\n      <td>...</td>\n      <td>...</td>\n      <td>...</td>\n      <td>...</td>\n      <td>...</td>\n    </tr>\n    <tr>\n      <th>75323</th>\n      <td>0417750000</td>\n      <td>0010000</td>\n      <td>D21</td>\n      <td>D002023</td>\n      <td>D002</td>\n      <td>2</td>\n      <td>3</td>\n      <td>1010100</td>\n    </tr>\n    <tr>\n      <th>75324</th>\n      <td>0417750000</td>\n      <td>1000000</td>\n      <td>D21</td>\n      <td>D002023</td>\n      <td>D002</td>\n      <td>0</td>\n      <td>3</td>\n      <td>1010100</td>\n    </tr>\n    <tr>\n      <th>75325</th>\n      <td>1359400001</td>\n      <td>0000100</td>\n      <td>D21</td>\n      <td>D002023</td>\n      <td>D002</td>\n      <td>4</td>\n      <td>3</td>\n      <td>1010100</td>\n    </tr>\n    <tr>\n      <th>75326</th>\n      <td>1359400001</td>\n      <td>0010000</td>\n      <td>D21</td>\n      <td>D002023</td>\n      <td>D002</td>\n      <td>2</td>\n      <td>3</td>\n      <td>1010100</td>\n    </tr>\n    <tr>\n      <th>75327</th>\n      <td>1359400001</td>\n      <td>1000000</td>\n      <td>D21</td>\n      <td>D002023</td>\n      <td>D002</td>\n      <td>0</td>\n      <td>3</td>\n      <td>1010100</td>\n    </tr>\n  </tbody>\n</table>\n<p>75328 rows × 8 columns</p>\n</div>"
     },
     "execution_count": 47,
     "metadata": {},
     "output_type": "execute_result"
    }
   ],
   "source": [
    "# Generación de la Frecuencia Clave Unificada en el DF de agenda actual  \n",
    "# 1)  Paso sus valores a una lista\n",
    "agenda_actual ['ListaFrecuenciaClave'] =  agenda_actual['FrecuenciaClave'].apply(lambda x: [int(digit) for digit in x])\n",
    "\n",
    "# 2) Union (suma) de las listas, generamos una unica lista con todos los registros unificados\n",
    "Frecuencia_Clave_Unificada = agenda_actual.groupby(by=['ClienteClave'])['ListaFrecuenciaClave'].apply(lambda x: list(map(sum, zip(*x)))).reset_index()\n",
    " \n",
    "# 3) Union de los elementos enteros de la lista en un solo string \n",
    "Frecuencia_Clave_Unificada[\"FrecuenciaClaveUnificada\"] =  Frecuencia_Clave_Unificada[\"ListaFrecuenciaClave\"].apply(lambda x: ''.join(str(numero) for numero in x))\n",
    "\n",
    "Frecuencia_Clave_Unificada.drop(columns=[\"ListaFrecuenciaClave\"], inplace=True)\n",
    "\n",
    "#4) Union con el DF base\n",
    "agenda_actual = pd.merge(left=agenda_actual, right=Frecuencia_Clave_Unificada, on=[\"ClienteClave\"])\n",
    "agenda_actual.drop(columns=[\"ListaFrecuenciaClave\"], inplace=True)\n",
    "agenda_actual"
   ],
   "metadata": {
    "collapsed": false,
    "ExecuteTime": {
     "end_time": "2024-06-11T16:21:34.930127400Z",
     "start_time": "2024-06-11T16:21:34.388696100Z"
    }
   },
   "id": "e6108dd6af9966c9"
  },
  {
   "cell_type": "markdown",
   "source": [
    "**UNION**\n",
    "Haremos un Join por medio de la FrecuenciaClave (es decir el día oficial de visita de la agenda actual) y el cliente. Esto lo que nos porporcionara es solo el porcentaje de ventas historicos de los días oficiales "
   ],
   "metadata": {
    "collapsed": false
   },
   "id": "6e4bd5062c207790"
  },
  {
   "cell_type": "code",
   "execution_count": 48,
   "outputs": [
    {
     "data": {
      "text/plain": "      ClienteClave  Porcentaje FrecuenciaClave\n0       0100110002   13.387281         1000000\n1       0100110002   14.087324         0100000\n2       0100110002   13.220603         0010000\n3       0100110002   12.451325         0001000\n4       0100110002   18.001854         0000100\n...            ...         ...             ...\n96213   1931680001    2.507459         0000100\n96214   1931680001   22.362195         0000010\n96215   1931740001   39.208909         1000000\n96216   1931740001   25.921659         0010000\n96217   1931740001   34.869432         0000100\n\n[96218 rows x 3 columns]",
      "text/html": "<div>\n<style scoped>\n    .dataframe tbody tr th:only-of-type {\n        vertical-align: middle;\n    }\n\n    .dataframe tbody tr th {\n        vertical-align: top;\n    }\n\n    .dataframe thead th {\n        text-align: right;\n    }\n</style>\n<table border=\"1\" class=\"dataframe\">\n  <thead>\n    <tr style=\"text-align: right;\">\n      <th></th>\n      <th>ClienteClave</th>\n      <th>Porcentaje</th>\n      <th>FrecuenciaClave</th>\n    </tr>\n  </thead>\n  <tbody>\n    <tr>\n      <th>0</th>\n      <td>0100110002</td>\n      <td>13.387281</td>\n      <td>1000000</td>\n    </tr>\n    <tr>\n      <th>1</th>\n      <td>0100110002</td>\n      <td>14.087324</td>\n      <td>0100000</td>\n    </tr>\n    <tr>\n      <th>2</th>\n      <td>0100110002</td>\n      <td>13.220603</td>\n      <td>0010000</td>\n    </tr>\n    <tr>\n      <th>3</th>\n      <td>0100110002</td>\n      <td>12.451325</td>\n      <td>0001000</td>\n    </tr>\n    <tr>\n      <th>4</th>\n      <td>0100110002</td>\n      <td>18.001854</td>\n      <td>0000100</td>\n    </tr>\n    <tr>\n      <th>...</th>\n      <td>...</td>\n      <td>...</td>\n      <td>...</td>\n    </tr>\n    <tr>\n      <th>96213</th>\n      <td>1931680001</td>\n      <td>2.507459</td>\n      <td>0000100</td>\n    </tr>\n    <tr>\n      <th>96214</th>\n      <td>1931680001</td>\n      <td>22.362195</td>\n      <td>0000010</td>\n    </tr>\n    <tr>\n      <th>96215</th>\n      <td>1931740001</td>\n      <td>39.208909</td>\n      <td>1000000</td>\n    </tr>\n    <tr>\n      <th>96216</th>\n      <td>1931740001</td>\n      <td>25.921659</td>\n      <td>0010000</td>\n    </tr>\n    <tr>\n      <th>96217</th>\n      <td>1931740001</td>\n      <td>34.869432</td>\n      <td>0000100</td>\n    </tr>\n  </tbody>\n</table>\n<p>96218 rows × 3 columns</p>\n</div>"
     },
     "execution_count": 48,
     "metadata": {},
     "output_type": "execute_result"
    }
   ],
   "source": [
    "distribucion_historica_vol.drop(columns=[\"FrecuenciaClaveUnificada\", \"Dias_Registrados\",\n",
    "                                         \"Frecuencia_Teorica_Semana\"], inplace=True)\n",
    "distribucion_historica_vol"
   ],
   "metadata": {
    "collapsed": false,
    "ExecuteTime": {
     "end_time": "2024-06-11T16:21:34.946007500Z",
     "start_time": "2024-06-11T16:21:34.925126500Z"
    }
   },
   "id": "7aa5c6406267edbd"
  },
  {
   "cell_type": "code",
   "execution_count": 49,
   "outputs": [
    {
     "data": {
      "text/plain": "      ClienteClave FrecuenciaClave EsquemaID RUTClave AlmacenPadreId  Dia_num  \\\n0       0665070000         0000010       D21  D001027           D001        5   \n1       0665070000         0000100       D21  D001027           D001        4   \n2       0665070000         0001000       D21  D001027           D001        3   \n3       0665070000         0010000       D21  D001027           D001        2   \n4       0665070000         0100000       D21  D001027           D001        1   \n...            ...             ...       ...      ...            ...      ...   \n75323   0417750000         0010000       D21  D002023           D002        2   \n75324   0417750000         1000000       D21  D002023           D002        0   \n75325   1359400001         0000100       D21  D002023           D002        4   \n75326   1359400001         0010000       D21  D002023           D002        2   \n75327   1359400001         1000000       D21  D002023           D002        0   \n\n       Total_Dias_Teoricos FrecuenciaClaveUnificada  Porcentaje  \n0                        6                  1111110   13.532916  \n1                        6                  1111110   16.709326  \n2                        6                  1111110   14.140548  \n3                        6                  1111110   18.520452  \n4                        6                  1111110   14.793930  \n...                    ...                      ...         ...  \n75323                    3                  1010100   32.869560  \n75324                    3                  1010100   28.977424  \n75325                    3                  1010100   30.953174  \n75326                    3                  1010100   29.900487  \n75327                    3                  1010100   39.146339  \n\n[75328 rows x 9 columns]",
      "text/html": "<div>\n<style scoped>\n    .dataframe tbody tr th:only-of-type {\n        vertical-align: middle;\n    }\n\n    .dataframe tbody tr th {\n        vertical-align: top;\n    }\n\n    .dataframe thead th {\n        text-align: right;\n    }\n</style>\n<table border=\"1\" class=\"dataframe\">\n  <thead>\n    <tr style=\"text-align: right;\">\n      <th></th>\n      <th>ClienteClave</th>\n      <th>FrecuenciaClave</th>\n      <th>EsquemaID</th>\n      <th>RUTClave</th>\n      <th>AlmacenPadreId</th>\n      <th>Dia_num</th>\n      <th>Total_Dias_Teoricos</th>\n      <th>FrecuenciaClaveUnificada</th>\n      <th>Porcentaje</th>\n    </tr>\n  </thead>\n  <tbody>\n    <tr>\n      <th>0</th>\n      <td>0665070000</td>\n      <td>0000010</td>\n      <td>D21</td>\n      <td>D001027</td>\n      <td>D001</td>\n      <td>5</td>\n      <td>6</td>\n      <td>1111110</td>\n      <td>13.532916</td>\n    </tr>\n    <tr>\n      <th>1</th>\n      <td>0665070000</td>\n      <td>0000100</td>\n      <td>D21</td>\n      <td>D001027</td>\n      <td>D001</td>\n      <td>4</td>\n      <td>6</td>\n      <td>1111110</td>\n      <td>16.709326</td>\n    </tr>\n    <tr>\n      <th>2</th>\n      <td>0665070000</td>\n      <td>0001000</td>\n      <td>D21</td>\n      <td>D001027</td>\n      <td>D001</td>\n      <td>3</td>\n      <td>6</td>\n      <td>1111110</td>\n      <td>14.140548</td>\n    </tr>\n    <tr>\n      <th>3</th>\n      <td>0665070000</td>\n      <td>0010000</td>\n      <td>D21</td>\n      <td>D001027</td>\n      <td>D001</td>\n      <td>2</td>\n      <td>6</td>\n      <td>1111110</td>\n      <td>18.520452</td>\n    </tr>\n    <tr>\n      <th>4</th>\n      <td>0665070000</td>\n      <td>0100000</td>\n      <td>D21</td>\n      <td>D001027</td>\n      <td>D001</td>\n      <td>1</td>\n      <td>6</td>\n      <td>1111110</td>\n      <td>14.793930</td>\n    </tr>\n    <tr>\n      <th>...</th>\n      <td>...</td>\n      <td>...</td>\n      <td>...</td>\n      <td>...</td>\n      <td>...</td>\n      <td>...</td>\n      <td>...</td>\n      <td>...</td>\n      <td>...</td>\n    </tr>\n    <tr>\n      <th>75323</th>\n      <td>0417750000</td>\n      <td>0010000</td>\n      <td>D21</td>\n      <td>D002023</td>\n      <td>D002</td>\n      <td>2</td>\n      <td>3</td>\n      <td>1010100</td>\n      <td>32.869560</td>\n    </tr>\n    <tr>\n      <th>75324</th>\n      <td>0417750000</td>\n      <td>1000000</td>\n      <td>D21</td>\n      <td>D002023</td>\n      <td>D002</td>\n      <td>0</td>\n      <td>3</td>\n      <td>1010100</td>\n      <td>28.977424</td>\n    </tr>\n    <tr>\n      <th>75325</th>\n      <td>1359400001</td>\n      <td>0000100</td>\n      <td>D21</td>\n      <td>D002023</td>\n      <td>D002</td>\n      <td>4</td>\n      <td>3</td>\n      <td>1010100</td>\n      <td>30.953174</td>\n    </tr>\n    <tr>\n      <th>75326</th>\n      <td>1359400001</td>\n      <td>0010000</td>\n      <td>D21</td>\n      <td>D002023</td>\n      <td>D002</td>\n      <td>2</td>\n      <td>3</td>\n      <td>1010100</td>\n      <td>29.900487</td>\n    </tr>\n    <tr>\n      <th>75327</th>\n      <td>1359400001</td>\n      <td>1000000</td>\n      <td>D21</td>\n      <td>D002023</td>\n      <td>D002</td>\n      <td>0</td>\n      <td>3</td>\n      <td>1010100</td>\n      <td>39.146339</td>\n    </tr>\n  </tbody>\n</table>\n<p>75328 rows × 9 columns</p>\n</div>"
     },
     "execution_count": 49,
     "metadata": {},
     "output_type": "execute_result"
    }
   ],
   "source": [
    "agenda_actual = pd.merge(left= agenda_actual, right=distribucion_historica_vol,\n",
    "                         on= [\"ClienteClave\", \"FrecuenciaClave\"], how=\"left\")\n",
    "agenda_actual"
   ],
   "metadata": {
    "collapsed": false,
    "ExecuteTime": {
     "end_time": "2024-06-11T16:21:35.354537900Z",
     "start_time": "2024-06-11T16:21:35.204199500Z"
    }
   },
   "id": "db16c28926efd712"
  },
  {
   "cell_type": "code",
   "execution_count": 50,
   "outputs": [
    {
     "data": {
      "text/plain": "ClienteClave                   0\nFrecuenciaClave                0\nEsquemaID                      0\nRUTClave                       0\nAlmacenPadreId                 0\nDia_num                        0\nTotal_Dias_Teoricos            0\nFrecuenciaClaveUnificada       0\nPorcentaje                  4724\ndtype: int64"
     },
     "execution_count": 50,
     "metadata": {},
     "output_type": "execute_result"
    }
   ],
   "source": [
    "agenda_actual.isnull().sum()"
   ],
   "metadata": {
    "collapsed": false,
    "ExecuteTime": {
     "end_time": "2024-06-11T16:21:35.576302500Z",
     "start_time": "2024-06-11T16:21:35.444798600Z"
    }
   },
   "id": "4a6a840361f505f3"
  },
  {
   "cell_type": "markdown",
   "source": [
    "#### 3.5.3) Tratamiento final de la distribución\n",
    "Aqui haremos varias cosas relavantes: \n",
    "- 1) Generamos la sumatoria total de los porcentajes por cliente\n",
    "- 2) Normalzamos los porcentajes "
   ],
   "metadata": {
    "collapsed": false
   },
   "id": "9c55b4107409cc0c"
  },
  {
   "cell_type": "markdown",
   "source": [
    "**INSPECCION DE NA VALUES LA AGENDA ACTUAL**"
   ],
   "metadata": {
    "collapsed": false
   },
   "id": "bd34e1c254214b5e"
  },
  {
   "cell_type": "code",
   "execution_count": 51,
   "outputs": [
    {
     "data": {
      "text/plain": "ClienteClave                   0\nFrecuenciaClave                0\nEsquemaID                      0\nRUTClave                       0\nAlmacenPadreId                 0\nDia_num                        0\nTotal_Dias_Teoricos            0\nFrecuenciaClaveUnificada       0\nPorcentaje                  4724\ndtype: int64"
     },
     "execution_count": 51,
     "metadata": {},
     "output_type": "execute_result"
    }
   ],
   "source": [
    "agenda_actual.isnull().sum()"
   ],
   "metadata": {
    "collapsed": false,
    "ExecuteTime": {
     "end_time": "2024-06-11T16:21:36.370227400Z",
     "start_time": "2024-06-11T16:21:36.318614100Z"
    }
   },
   "id": "73f725c76930755a"
  },
  {
   "cell_type": "code",
   "execution_count": 52,
   "outputs": [
    {
     "data": {
      "text/plain": "      ClienteClave  Porcentaje_Total\n0       0100110001          0.000000\n1       0100110002        100.000000\n2       0100510001          0.000000\n3       0100800011         97.211066\n4       0100820001          0.000000\n...            ...               ...\n16989   1938790001          0.000000\n16990   1938800001          0.000000\n16991   1938810001          0.000000\n16992   1938820001          0.000000\n16993   1938830001          0.000000\n\n[16994 rows x 2 columns]",
      "text/html": "<div>\n<style scoped>\n    .dataframe tbody tr th:only-of-type {\n        vertical-align: middle;\n    }\n\n    .dataframe tbody tr th {\n        vertical-align: top;\n    }\n\n    .dataframe thead th {\n        text-align: right;\n    }\n</style>\n<table border=\"1\" class=\"dataframe\">\n  <thead>\n    <tr style=\"text-align: right;\">\n      <th></th>\n      <th>ClienteClave</th>\n      <th>Porcentaje_Total</th>\n    </tr>\n  </thead>\n  <tbody>\n    <tr>\n      <th>0</th>\n      <td>0100110001</td>\n      <td>0.000000</td>\n    </tr>\n    <tr>\n      <th>1</th>\n      <td>0100110002</td>\n      <td>100.000000</td>\n    </tr>\n    <tr>\n      <th>2</th>\n      <td>0100510001</td>\n      <td>0.000000</td>\n    </tr>\n    <tr>\n      <th>3</th>\n      <td>0100800011</td>\n      <td>97.211066</td>\n    </tr>\n    <tr>\n      <th>4</th>\n      <td>0100820001</td>\n      <td>0.000000</td>\n    </tr>\n    <tr>\n      <th>...</th>\n      <td>...</td>\n      <td>...</td>\n    </tr>\n    <tr>\n      <th>16989</th>\n      <td>1938790001</td>\n      <td>0.000000</td>\n    </tr>\n    <tr>\n      <th>16990</th>\n      <td>1938800001</td>\n      <td>0.000000</td>\n    </tr>\n    <tr>\n      <th>16991</th>\n      <td>1938810001</td>\n      <td>0.000000</td>\n    </tr>\n    <tr>\n      <th>16992</th>\n      <td>1938820001</td>\n      <td>0.000000</td>\n    </tr>\n    <tr>\n      <th>16993</th>\n      <td>1938830001</td>\n      <td>0.000000</td>\n    </tr>\n  </tbody>\n</table>\n<p>16994 rows × 2 columns</p>\n</div>"
     },
     "execution_count": 52,
     "metadata": {},
     "output_type": "execute_result"
    }
   ],
   "source": [
    "porcentaje_total = agenda_actual.groupby(by=[\"ClienteClave\"])[\"Porcentaje\"].sum().reset_index()\n",
    "porcentaje_total.rename(columns = {\"Porcentaje\" :\"Porcentaje_Total\"}, inplace=True)\n",
    "porcentaje_total"
   ],
   "metadata": {
    "collapsed": false,
    "ExecuteTime": {
     "end_time": "2024-06-11T16:21:36.616821400Z",
     "start_time": "2024-06-11T16:21:36.528842700Z"
    }
   },
   "id": "ca469a6653409904"
  },
  {
   "cell_type": "code",
   "execution_count": 53,
   "outputs": [
    {
     "data": {
      "text/plain": "<Axes: title={'center': 'Distribución de porcentajes'}, ylabel='Frequency'>"
     },
     "execution_count": 53,
     "metadata": {},
     "output_type": "execute_result"
    },
    {
     "data": {
      "text/plain": "<Figure size 640x480 with 1 Axes>",
      "image/png": "[encoded data removed]"
     },
     "metadata": {},
     "output_type": "display_data"
    }
   ],
   "source": [
    "porcentaje_total[\"Porcentaje_Total\"].plot(kind=\"hist\", title=\"Distribución de porcentajes\") \n",
    "# Como se puede observar casi todo esa realmente en 100% lo que es positivo, sin embargo tenemos que hacer la normalización de calquier forma "
   ],
   "metadata": {
    "collapsed": false,
    "ExecuteTime": {
     "end_time": "2024-06-11T16:21:36.970438700Z",
     "start_time": "2024-06-11T16:21:36.854237500Z"
    }
   },
   "id": "fc5bfa0fb00a206"
  },
  {
   "cell_type": "markdown",
   "source": [
    "Integración del total por cliente"
   ],
   "metadata": {
    "collapsed": false
   },
   "id": "16418736b32bda43"
  },
  {
   "cell_type": "code",
   "execution_count": 54,
   "outputs": [
    {
     "data": {
      "text/plain": "      ClienteClave FrecuenciaClave EsquemaID RUTClave AlmacenPadreId  Dia_num  \\\n0       0665070000         0000010       D21  D001027           D001        5   \n1       0665070000         0000100       D21  D001027           D001        4   \n2       0665070000         0001000       D21  D001027           D001        3   \n3       0665070000         0010000       D21  D001027           D001        2   \n4       0665070000         0100000       D21  D001027           D001        1   \n...            ...             ...       ...      ...            ...      ...   \n75323   0417750000         0010000       D21  D002023           D002        2   \n75324   0417750000         1000000       D21  D002023           D002        0   \n75325   1359400001         0000100       D21  D002023           D002        4   \n75326   1359400001         0010000       D21  D002023           D002        2   \n75327   1359400001         1000000       D21  D002023           D002        0   \n\n       Total_Dias_Teoricos FrecuenciaClaveUnificada  Porcentaje  \\\n0                        6                  1111110   13.532916   \n1                        6                  1111110   16.709326   \n2                        6                  1111110   14.140548   \n3                        6                  1111110   18.520452   \n4                        6                  1111110   14.793930   \n...                    ...                      ...         ...   \n75323                    3                  1010100   32.869560   \n75324                    3                  1010100   28.977424   \n75325                    3                  1010100   30.953174   \n75326                    3                  1010100   29.900487   \n75327                    3                  1010100   39.146339   \n\n       Porcentaje_Total  \n0             99.555825  \n1             99.555825  \n2             99.555825  \n3             99.555825  \n4             99.555825  \n...                 ...  \n75323        100.000000  \n75324        100.000000  \n75325        100.000000  \n75326        100.000000  \n75327        100.000000  \n\n[75328 rows x 10 columns]",
      "text/html": "<div>\n<style scoped>\n    .dataframe tbody tr th:only-of-type {\n        vertical-align: middle;\n    }\n\n    .dataframe tbody tr th {\n        vertical-align: top;\n    }\n\n    .dataframe thead th {\n        text-align: right;\n    }\n</style>\n<table border=\"1\" class=\"dataframe\">\n  <thead>\n    <tr style=\"text-align: right;\">\n      <th></th>\n      <th>ClienteClave</th>\n      <th>FrecuenciaClave</th>\n      <th>EsquemaID</th>\n      <th>RUTClave</th>\n      <th>AlmacenPadreId</th>\n      <th>Dia_num</th>\n      <th>Total_Dias_Teoricos</th>\n      <th>FrecuenciaClaveUnificada</th>\n      <th>Porcentaje</th>\n      <th>Porcentaje_Total</th>\n    </tr>\n  </thead>\n  <tbody>\n    <tr>\n      <th>0</th>\n      <td>0665070000</td>\n      <td>0000010</td>\n      <td>D21</td>\n      <td>D001027</td>\n      <td>D001</td>\n      <td>5</td>\n      <td>6</td>\n      <td>1111110</td>\n      <td>13.532916</td>\n      <td>99.555825</td>\n    </tr>\n    <tr>\n      <th>1</th>\n      <td>0665070000</td>\n      <td>0000100</td>\n      <td>D21</td>\n      <td>D001027</td>\n      <td>D001</td>\n      <td>4</td>\n      <td>6</td>\n      <td>1111110</td>\n      <td>16.709326</td>\n      <td>99.555825</td>\n    </tr>\n    <tr>\n      <th>2</th>\n      <td>0665070000</td>\n      <td>0001000</td>\n      <td>D21</td>\n      <td>D001027</td>\n      <td>D001</td>\n      <td>3</td>\n      <td>6</td>\n      <td>1111110</td>\n      <td>14.140548</td>\n      <td>99.555825</td>\n    </tr>\n    <tr>\n      <th>3</th>\n      <td>0665070000</td>\n      <td>0010000</td>\n      <td>D21</td>\n      <td>D001027</td>\n      <td>D001</td>\n      <td>2</td>\n      <td>6</td>\n      <td>1111110</td>\n      <td>18.520452</td>\n      <td>99.555825</td>\n    </tr>\n    <tr>\n      <th>4</th>\n      <td>0665070000</td>\n      <td>0100000</td>\n      <td>D21</td>\n      <td>D001027</td>\n      <td>D001</td>\n      <td>1</td>\n      <td>6</td>\n      <td>1111110</td>\n      <td>14.793930</td>\n      <td>99.555825</td>\n    </tr>\n    <tr>\n      <th>...</th>\n      <td>...</td>\n      <td>...</td>\n      <td>...</td>\n      <td>...</td>\n      <td>...</td>\n      <td>...</td>\n      <td>...</td>\n      <td>...</td>\n      <td>...</td>\n      <td>...</td>\n    </tr>\n    <tr>\n      <th>75323</th>\n      <td>0417750000</td>\n      <td>0010000</td>\n      <td>D21</td>\n      <td>D002023</td>\n      <td>D002</td>\n      <td>2</td>\n      <td>3</td>\n      <td>1010100</td>\n      <td>32.869560</td>\n      <td>100.000000</td>\n    </tr>\n    <tr>\n      <th>75324</th>\n      <td>0417750000</td>\n      <td>1000000</td>\n      <td>D21</td>\n      <td>D002023</td>\n      <td>D002</td>\n      <td>0</td>\n      <td>3</td>\n      <td>1010100</td>\n      <td>28.977424</td>\n      <td>100.000000</td>\n    </tr>\n    <tr>\n      <th>75325</th>\n      <td>1359400001</td>\n      <td>0000100</td>\n      <td>D21</td>\n      <td>D002023</td>\n      <td>D002</td>\n      <td>4</td>\n      <td>3</td>\n      <td>1010100</td>\n      <td>30.953174</td>\n      <td>100.000000</td>\n    </tr>\n    <tr>\n      <th>75326</th>\n      <td>1359400001</td>\n      <td>0010000</td>\n      <td>D21</td>\n      <td>D002023</td>\n      <td>D002</td>\n      <td>2</td>\n      <td>3</td>\n      <td>1010100</td>\n      <td>29.900487</td>\n      <td>100.000000</td>\n    </tr>\n    <tr>\n      <th>75327</th>\n      <td>1359400001</td>\n      <td>1000000</td>\n      <td>D21</td>\n      <td>D002023</td>\n      <td>D002</td>\n      <td>0</td>\n      <td>3</td>\n      <td>1010100</td>\n      <td>39.146339</td>\n      <td>100.000000</td>\n    </tr>\n  </tbody>\n</table>\n<p>75328 rows × 10 columns</p>\n</div>"
     },
     "execution_count": 54,
     "metadata": {},
     "output_type": "execute_result"
    }
   ],
   "source": [
    "agenda_actual = pd.merge(left=agenda_actual, right=porcentaje_total,\n",
    "                         on=[\"ClienteClave\"], how=\"left\")\n",
    "agenda_actual"
   ],
   "metadata": {
    "collapsed": false,
    "ExecuteTime": {
     "end_time": "2024-06-11T16:21:37.646994800Z",
     "start_time": "2024-06-11T16:21:37.559120200Z"
    }
   },
   "id": "cb77adf4e8fd27e8"
  },
  {
   "cell_type": "markdown",
   "source": [
    "**NORMALIZACION**"
   ],
   "metadata": {
    "collapsed": false
   },
   "id": "ff53185f47aa1ce8"
  },
  {
   "cell_type": "code",
   "execution_count": 55,
   "outputs": [
    {
     "data": {
      "text/plain": "      ClienteClave FrecuenciaClave EsquemaID RUTClave AlmacenPadreId  Dia_num  \\\n0       0665070000         0000010       D21  D001027           D001        5   \n1       0665070000         0000100       D21  D001027           D001        4   \n2       0665070000         0001000       D21  D001027           D001        3   \n3       0665070000         0010000       D21  D001027           D001        2   \n4       0665070000         0100000       D21  D001027           D001        1   \n...            ...             ...       ...      ...            ...      ...   \n75323   0417750000         0010000       D21  D002023           D002        2   \n75324   0417750000         1000000       D21  D002023           D002        0   \n75325   1359400001         0000100       D21  D002023           D002        4   \n75326   1359400001         0010000       D21  D002023           D002        2   \n75327   1359400001         1000000       D21  D002023           D002        0   \n\n       Total_Dias_Teoricos FrecuenciaClaveUnificada  Porcentaje  \\\n0                        6                  1111110   13.532916   \n1                        6                  1111110   16.709326   \n2                        6                  1111110   14.140548   \n3                        6                  1111110   18.520452   \n4                        6                  1111110   14.793930   \n...                    ...                      ...         ...   \n75323                    3                  1010100   32.869560   \n75324                    3                  1010100   28.977424   \n75325                    3                  1010100   30.953174   \n75326                    3                  1010100   29.900487   \n75327                    3                  1010100   39.146339   \n\n       Porcentaje_Total  Porcentaje_Normalizado  \n0             99.555825               13.593294  \n1             99.555825               16.783876  \n2             99.555825               14.203637  \n3             99.555825               18.603082  \n4             99.555825               14.859935  \n...                 ...                     ...  \n75323        100.000000               32.869560  \n75324        100.000000               28.977424  \n75325        100.000000               30.953174  \n75326        100.000000               29.900487  \n75327        100.000000               39.146339  \n\n[75328 rows x 11 columns]",
      "text/html": "<div>\n<style scoped>\n    .dataframe tbody tr th:only-of-type {\n        vertical-align: middle;\n    }\n\n    .dataframe tbody tr th {\n        vertical-align: top;\n    }\n\n    .dataframe thead th {\n        text-align: right;\n    }\n</style>\n<table border=\"1\" class=\"dataframe\">\n  <thead>\n    <tr style=\"text-align: right;\">\n      <th></th>\n      <th>ClienteClave</th>\n      <th>FrecuenciaClave</th>\n      <th>EsquemaID</th>\n      <th>RUTClave</th>\n      <th>AlmacenPadreId</th>\n      <th>Dia_num</th>\n      <th>Total_Dias_Teoricos</th>\n      <th>FrecuenciaClaveUnificada</th>\n      <th>Porcentaje</th>\n      <th>Porcentaje_Total</th>\n      <th>Porcentaje_Normalizado</th>\n    </tr>\n  </thead>\n  <tbody>\n    <tr>\n      <th>0</th>\n      <td>0665070000</td>\n      <td>0000010</td>\n      <td>D21</td>\n      <td>D001027</td>\n      <td>D001</td>\n      <td>5</td>\n      <td>6</td>\n      <td>1111110</td>\n      <td>13.532916</td>\n      <td>99.555825</td>\n      <td>13.593294</td>\n    </tr>\n    <tr>\n      <th>1</th>\n      <td>0665070000</td>\n      <td>0000100</td>\n      <td>D21</td>\n      <td>D001027</td>\n      <td>D001</td>\n      <td>4</td>\n      <td>6</td>\n      <td>1111110</td>\n      <td>16.709326</td>\n      <td>99.555825</td>\n      <td>16.783876</td>\n    </tr>\n    <tr>\n      <th>2</th>\n      <td>0665070000</td>\n      <td>0001000</td>\n      <td>D21</td>\n      <td>D001027</td>\n      <td>D001</td>\n      <td>3</td>\n      <td>6</td>\n      <td>1111110</td>\n      <td>14.140548</td>\n      <td>99.555825</td>\n      <td>14.203637</td>\n    </tr>\n    <tr>\n      <th>3</th>\n      <td>0665070000</td>\n      <td>0010000</td>\n      <td>D21</td>\n      <td>D001027</td>\n      <td>D001</td>\n      <td>2</td>\n      <td>6</td>\n      <td>1111110</td>\n      <td>18.520452</td>\n      <td>99.555825</td>\n      <td>18.603082</td>\n    </tr>\n    <tr>\n      <th>4</th>\n      <td>0665070000</td>\n      <td>0100000</td>\n      <td>D21</td>\n      <td>D001027</td>\n      <td>D001</td>\n      <td>1</td>\n      <td>6</td>\n      <td>1111110</td>\n      <td>14.793930</td>\n      <td>99.555825</td>\n      <td>14.859935</td>\n    </tr>\n    <tr>\n      <th>...</th>\n      <td>...</td>\n      <td>...</td>\n      <td>...</td>\n      <td>...</td>\n      <td>...</td>\n      <td>...</td>\n      <td>...</td>\n      <td>...</td>\n      <td>...</td>\n      <td>...</td>\n      <td>...</td>\n    </tr>\n    <tr>\n      <th>75323</th>\n      <td>0417750000</td>\n      <td>0010000</td>\n      <td>D21</td>\n      <td>D002023</td>\n      <td>D002</td>\n      <td>2</td>\n      <td>3</td>\n      <td>1010100</td>\n      <td>32.869560</td>\n      <td>100.000000</td>\n      <td>32.869560</td>\n    </tr>\n    <tr>\n      <th>75324</th>\n      <td>0417750000</td>\n      <td>1000000</td>\n      <td>D21</td>\n      <td>D002023</td>\n      <td>D002</td>\n      <td>0</td>\n      <td>3</td>\n      <td>1010100</td>\n      <td>28.977424</td>\n      <td>100.000000</td>\n      <td>28.977424</td>\n    </tr>\n    <tr>\n      <th>75325</th>\n      <td>1359400001</td>\n      <td>0000100</td>\n      <td>D21</td>\n      <td>D002023</td>\n      <td>D002</td>\n      <td>4</td>\n      <td>3</td>\n      <td>1010100</td>\n      <td>30.953174</td>\n      <td>100.000000</td>\n      <td>30.953174</td>\n    </tr>\n    <tr>\n      <th>75326</th>\n      <td>1359400001</td>\n      <td>0010000</td>\n      <td>D21</td>\n      <td>D002023</td>\n      <td>D002</td>\n      <td>2</td>\n      <td>3</td>\n      <td>1010100</td>\n      <td>29.900487</td>\n      <td>100.000000</td>\n      <td>29.900487</td>\n    </tr>\n    <tr>\n      <th>75327</th>\n      <td>1359400001</td>\n      <td>1000000</td>\n      <td>D21</td>\n      <td>D002023</td>\n      <td>D002</td>\n      <td>0</td>\n      <td>3</td>\n      <td>1010100</td>\n      <td>39.146339</td>\n      <td>100.000000</td>\n      <td>39.146339</td>\n    </tr>\n  </tbody>\n</table>\n<p>75328 rows × 11 columns</p>\n</div>"
     },
     "execution_count": 55,
     "metadata": {},
     "output_type": "execute_result"
    }
   ],
   "source": [
    "agenda_actual[\"Porcentaje_Normalizado\"] = (agenda_actual[\"Porcentaje\"] / agenda_actual[\"Porcentaje_Total\"]) * 100\n",
    "agenda_actual"
   ],
   "metadata": {
    "collapsed": false,
    "ExecuteTime": {
     "end_time": "2024-06-11T16:21:38.551478900Z",
     "start_time": "2024-06-11T16:21:38.470720300Z"
    }
   },
   "id": "8f81c4357e7266af"
  },
  {
   "cell_type": "markdown",
   "source": [
    "**TRTAMIENTO DE NA VALUES** \n",
    "Los NA values en este caso son clientes que no estuvieron en el proceso de entrenjamiento (por lo tanto no tenemos su distribucón porcentual histortica por dia) o que su agenda actual acaba de cammbiar. En estos casos haremos una distribución general para la ruta y tipo de agenda a la que pertenece "
   ],
   "metadata": {
    "collapsed": false
   },
   "id": "94cc6fc5b01df60a"
  },
  {
   "cell_type": "code",
   "execution_count": 56,
   "outputs": [
    {
     "name": "stdout",
     "output_type": "stream",
     "text": [
      "Ttipo de objeto: <class 'pandas.core.frame.DataFrame'>\n"
     ]
    },
    {
     "data": {
      "text/plain": "    FrecuenciaClaveUnificada  Dia_num  Porcentaje_Normalizado\n0                    0000010        5                   100.0\n1                    0000100        4                   100.0\n2                    0000110        4                    <NA>\n3                    0000110        5                   100.0\n4                    0001000        3                   100.0\n..                       ...      ...                     ...\n121                  1111110        1               16.472516\n122                  1111110        2               15.970863\n123                  1111110        3               15.030452\n124                  1111110        4               15.341851\n125                  1111110        5               16.449896\n\n[126 rows x 3 columns]",
      "text/html": "<div>\n<style scoped>\n    .dataframe tbody tr th:only-of-type {\n        vertical-align: middle;\n    }\n\n    .dataframe tbody tr th {\n        vertical-align: top;\n    }\n\n    .dataframe thead th {\n        text-align: right;\n    }\n</style>\n<table border=\"1\" class=\"dataframe\">\n  <thead>\n    <tr style=\"text-align: right;\">\n      <th></th>\n      <th>FrecuenciaClaveUnificada</th>\n      <th>Dia_num</th>\n      <th>Porcentaje_Normalizado</th>\n    </tr>\n  </thead>\n  <tbody>\n    <tr>\n      <th>0</th>\n      <td>0000010</td>\n      <td>5</td>\n      <td>100.0</td>\n    </tr>\n    <tr>\n      <th>1</th>\n      <td>0000100</td>\n      <td>4</td>\n      <td>100.0</td>\n    </tr>\n    <tr>\n      <th>2</th>\n      <td>0000110</td>\n      <td>4</td>\n      <td>&lt;NA&gt;</td>\n    </tr>\n    <tr>\n      <th>3</th>\n      <td>0000110</td>\n      <td>5</td>\n      <td>100.0</td>\n    </tr>\n    <tr>\n      <th>4</th>\n      <td>0001000</td>\n      <td>3</td>\n      <td>100.0</td>\n    </tr>\n    <tr>\n      <th>...</th>\n      <td>...</td>\n      <td>...</td>\n      <td>...</td>\n    </tr>\n    <tr>\n      <th>121</th>\n      <td>1111110</td>\n      <td>1</td>\n      <td>16.472516</td>\n    </tr>\n    <tr>\n      <th>122</th>\n      <td>1111110</td>\n      <td>2</td>\n      <td>15.970863</td>\n    </tr>\n    <tr>\n      <th>123</th>\n      <td>1111110</td>\n      <td>3</td>\n      <td>15.030452</td>\n    </tr>\n    <tr>\n      <th>124</th>\n      <td>1111110</td>\n      <td>4</td>\n      <td>15.341851</td>\n    </tr>\n    <tr>\n      <th>125</th>\n      <td>1111110</td>\n      <td>5</td>\n      <td>16.449896</td>\n    </tr>\n  </tbody>\n</table>\n<p>126 rows × 3 columns</p>\n</div>"
     },
     "execution_count": 56,
     "metadata": {},
     "output_type": "execute_result"
    }
   ],
   "source": [
    "porcentajes_clientes_NA = agenda_actual.groupby(by=[\"FrecuenciaClaveUnificada\", \"Dia_num\"])[\"Porcentaje_Normalizado\"].median().reset_index()\n",
    "print(\"Ttipo de objeto:\", type(porcentajes_clientes_NA)) # Es una serie de pandas \n",
    "porcentajes_clientes_NA"
   ],
   "metadata": {
    "collapsed": false,
    "ExecuteTime": {
     "end_time": "2024-06-11T16:21:38.902172300Z",
     "start_time": "2024-06-11T16:21:38.846304700Z"
    }
   },
   "id": "f51f319fe091607e"
  },
  {
   "cell_type": "code",
   "execution_count": 57,
   "outputs": [
    {
     "data": {
      "text/plain": "      ClienteClave FrecuenciaClave EsquemaID RUTClave AlmacenPadreId  Dia_num  \\\n0       0665070000         0000010       D21  D001027           D001        5   \n1       0665070000         0000100       D21  D001027           D001        4   \n2       0665070000         0001000       D21  D001027           D001        3   \n3       0665070000         0010000       D21  D001027           D001        2   \n4       0665070000         0100000       D21  D001027           D001        1   \n...            ...             ...       ...      ...            ...      ...   \n75323   0417750000         0010000       D21  D002023           D002        2   \n75324   0417750000         1000000       D21  D002023           D002        0   \n75325   1359400001         0000100       D21  D002023           D002        4   \n75326   1359400001         0010000       D21  D002023           D002        2   \n75327   1359400001         1000000       D21  D002023           D002        0   \n\n       Total_Dias_Teoricos FrecuenciaClaveUnificada  Porcentaje  \\\n0                        6                  1111110   13.532916   \n1                        6                  1111110   16.709326   \n2                        6                  1111110   14.140548   \n3                        6                  1111110   18.520452   \n4                        6                  1111110   14.793930   \n...                    ...                      ...         ...   \n75323                    3                  1010100   32.869560   \n75324                    3                  1010100   28.977424   \n75325                    3                  1010100   30.953174   \n75326                    3                  1010100   29.900487   \n75327                    3                  1010100   39.146339   \n\n       Porcentaje_Total  Porcentaje_Normalizado  \\\n0             99.555825               13.593294   \n1             99.555825               16.783876   \n2             99.555825               14.203637   \n3             99.555825               18.603082   \n4             99.555825               14.859935   \n...                 ...                     ...   \n75323        100.000000               32.869560   \n75324        100.000000               28.977424   \n75325        100.000000               30.953174   \n75326        100.000000               29.900487   \n75327        100.000000               39.146339   \n\n       Porcentaje_Normalizado_from_df2  \n0                            16.449896  \n1                            15.341851  \n2                            15.030452  \n3                            15.970863  \n4                            16.472516  \n...                                ...  \n75323                        31.944597  \n75324                        35.085867  \n75325                        32.676688  \n75326                        31.944597  \n75327                        35.085867  \n\n[75328 rows x 12 columns]",
      "text/html": "<div>\n<style scoped>\n    .dataframe tbody tr th:only-of-type {\n        vertical-align: middle;\n    }\n\n    .dataframe tbody tr th {\n        vertical-align: top;\n    }\n\n    .dataframe thead th {\n        text-align: right;\n    }\n</style>\n<table border=\"1\" class=\"dataframe\">\n  <thead>\n    <tr style=\"text-align: right;\">\n      <th></th>\n      <th>ClienteClave</th>\n      <th>FrecuenciaClave</th>\n      <th>EsquemaID</th>\n      <th>RUTClave</th>\n      <th>AlmacenPadreId</th>\n      <th>Dia_num</th>\n      <th>Total_Dias_Teoricos</th>\n      <th>FrecuenciaClaveUnificada</th>\n      <th>Porcentaje</th>\n      <th>Porcentaje_Total</th>\n      <th>Porcentaje_Normalizado</th>\n      <th>Porcentaje_Normalizado_from_df2</th>\n    </tr>\n  </thead>\n  <tbody>\n    <tr>\n      <th>0</th>\n      <td>0665070000</td>\n      <td>0000010</td>\n      <td>D21</td>\n      <td>D001027</td>\n      <td>D001</td>\n      <td>5</td>\n      <td>6</td>\n      <td>1111110</td>\n      <td>13.532916</td>\n      <td>99.555825</td>\n      <td>13.593294</td>\n      <td>16.449896</td>\n    </tr>\n    <tr>\n      <th>1</th>\n      <td>0665070000</td>\n      <td>0000100</td>\n      <td>D21</td>\n      <td>D001027</td>\n      <td>D001</td>\n      <td>4</td>\n      <td>6</td>\n      <td>1111110</td>\n      <td>16.709326</td>\n      <td>99.555825</td>\n      <td>16.783876</td>\n      <td>15.341851</td>\n    </tr>\n    <tr>\n      <th>2</th>\n      <td>0665070000</td>\n      <td>0001000</td>\n      <td>D21</td>\n      <td>D001027</td>\n      <td>D001</td>\n      <td>3</td>\n      <td>6</td>\n      <td>1111110</td>\n      <td>14.140548</td>\n      <td>99.555825</td>\n      <td>14.203637</td>\n      <td>15.030452</td>\n    </tr>\n    <tr>\n      <th>3</th>\n      <td>0665070000</td>\n      <td>0010000</td>\n      <td>D21</td>\n      <td>D001027</td>\n      <td>D001</td>\n      <td>2</td>\n      <td>6</td>\n      <td>1111110</td>\n      <td>18.520452</td>\n      <td>99.555825</td>\n      <td>18.603082</td>\n      <td>15.970863</td>\n    </tr>\n    <tr>\n      <th>4</th>\n      <td>0665070000</td>\n      <td>0100000</td>\n      <td>D21</td>\n      <td>D001027</td>\n      <td>D001</td>\n      <td>1</td>\n      <td>6</td>\n      <td>1111110</td>\n      <td>14.793930</td>\n      <td>99.555825</td>\n      <td>14.859935</td>\n      <td>16.472516</td>\n    </tr>\n    <tr>\n      <th>...</th>\n      <td>...</td>\n      <td>...</td>\n      <td>...</td>\n      <td>...</td>\n      <td>...</td>\n      <td>...</td>\n      <td>...</td>\n      <td>...</td>\n      <td>...</td>\n      <td>...</td>\n      <td>...</td>\n      <td>...</td>\n    </tr>\n    <tr>\n      <th>75323</th>\n      <td>0417750000</td>\n      <td>0010000</td>\n      <td>D21</td>\n      <td>D002023</td>\n      <td>D002</td>\n      <td>2</td>\n      <td>3</td>\n      <td>1010100</td>\n      <td>32.869560</td>\n      <td>100.000000</td>\n      <td>32.869560</td>\n      <td>31.944597</td>\n    </tr>\n    <tr>\n      <th>75324</th>\n      <td>0417750000</td>\n      <td>1000000</td>\n      <td>D21</td>\n      <td>D002023</td>\n      <td>D002</td>\n      <td>0</td>\n      <td>3</td>\n      <td>1010100</td>\n      <td>28.977424</td>\n      <td>100.000000</td>\n      <td>28.977424</td>\n      <td>35.085867</td>\n    </tr>\n    <tr>\n      <th>75325</th>\n      <td>1359400001</td>\n      <td>0000100</td>\n      <td>D21</td>\n      <td>D002023</td>\n      <td>D002</td>\n      <td>4</td>\n      <td>3</td>\n      <td>1010100</td>\n      <td>30.953174</td>\n      <td>100.000000</td>\n      <td>30.953174</td>\n      <td>32.676688</td>\n    </tr>\n    <tr>\n      <th>75326</th>\n      <td>1359400001</td>\n      <td>0010000</td>\n      <td>D21</td>\n      <td>D002023</td>\n      <td>D002</td>\n      <td>2</td>\n      <td>3</td>\n      <td>1010100</td>\n      <td>29.900487</td>\n      <td>100.000000</td>\n      <td>29.900487</td>\n      <td>31.944597</td>\n    </tr>\n    <tr>\n      <th>75327</th>\n      <td>1359400001</td>\n      <td>1000000</td>\n      <td>D21</td>\n      <td>D002023</td>\n      <td>D002</td>\n      <td>0</td>\n      <td>3</td>\n      <td>1010100</td>\n      <td>39.146339</td>\n      <td>100.000000</td>\n      <td>39.146339</td>\n      <td>35.085867</td>\n    </tr>\n  </tbody>\n</table>\n<p>75328 rows × 12 columns</p>\n</div>"
     },
     "execution_count": 57,
     "metadata": {},
     "output_type": "execute_result"
    }
   ],
   "source": [
    "agenda_actual = pd.merge(left=agenda_actual, right=porcentajes_clientes_NA, \n",
    "                     on=['FrecuenciaClaveUnificada', 'Dia_num'], \n",
    "                     how='left', suffixes=('', '_from_df2'))\n",
    "# Importante, aqui estoy haciendo una unificación, habrá una nueva columna de porcentaje normalizado que será_fro_df2 la que viene de este nuevo DF de porcnetajes_clientes_NA, esta serie dentro del DF será usando par llenar los valores NA  \n",
    "agenda_actual"
   ],
   "metadata": {
    "collapsed": false,
    "ExecuteTime": {
     "end_time": "2024-06-11T16:21:39.207719100Z",
     "start_time": "2024-06-11T16:21:39.089547800Z"
    }
   },
   "id": "6ba070f36550f970"
  },
  {
   "cell_type": "code",
   "execution_count": 58,
   "outputs": [
    {
     "data": {
      "text/plain": "18"
     },
     "execution_count": 58,
     "metadata": {},
     "output_type": "execute_result"
    }
   ],
   "source": [
    "agenda_actual[\"Porcentaje_Normalizado_from_df2\"].isnull().sum()"
   ],
   "metadata": {
    "collapsed": false,
    "ExecuteTime": {
     "end_time": "2024-06-11T16:21:39.405765500Z",
     "start_time": "2024-06-11T16:21:39.274734200Z"
    }
   },
   "id": "2c73e554d197c734"
  },
  {
   "cell_type": "code",
   "execution_count": 59,
   "outputs": [
    {
     "data": {
      "text/plain": "      ClienteClave FrecuenciaClave EsquemaID RUTClave AlmacenPadreId  Dia_num  \\\n0       0665070000         0000010       D21  D001027           D001        5   \n1       0665070000         0000100       D21  D001027           D001        4   \n2       0665070000         0001000       D21  D001027           D001        3   \n3       0665070000         0010000       D21  D001027           D001        2   \n4       0665070000         0100000       D21  D001027           D001        1   \n...            ...             ...       ...      ...            ...      ...   \n75323   0417750000         0010000       D21  D002023           D002        2   \n75324   0417750000         1000000       D21  D002023           D002        0   \n75325   1359400001         0000100       D21  D002023           D002        4   \n75326   1359400001         0010000       D21  D002023           D002        2   \n75327   1359400001         1000000       D21  D002023           D002        0   \n\n       Total_Dias_Teoricos FrecuenciaClaveUnificada  Porcentaje  \\\n0                        6                  1111110   13.532916   \n1                        6                  1111110   16.709326   \n2                        6                  1111110   14.140548   \n3                        6                  1111110   18.520452   \n4                        6                  1111110   14.793930   \n...                    ...                      ...         ...   \n75323                    3                  1010100   32.869560   \n75324                    3                  1010100   28.977424   \n75325                    3                  1010100   30.953174   \n75326                    3                  1010100   29.900487   \n75327                    3                  1010100   39.146339   \n\n       Porcentaje_Total  Porcentaje_Normalizado  \\\n0             99.555825               13.593294   \n1             99.555825               16.783876   \n2             99.555825               14.203637   \n3             99.555825               18.603082   \n4             99.555825               14.859935   \n...                 ...                     ...   \n75323        100.000000               32.869560   \n75324        100.000000               28.977424   \n75325        100.000000               30.953174   \n75326        100.000000               29.900487   \n75327        100.000000               39.146339   \n\n       Porcentaje_Normalizado_from_df2  \n0                            16.449896  \n1                            15.341851  \n2                            15.030452  \n3                            15.970863  \n4                            16.472516  \n...                                ...  \n75323                        31.944597  \n75324                        35.085867  \n75325                        32.676688  \n75326                        31.944597  \n75327                        35.085867  \n\n[75328 rows x 12 columns]",
      "text/html": "<div>\n<style scoped>\n    .dataframe tbody tr th:only-of-type {\n        vertical-align: middle;\n    }\n\n    .dataframe tbody tr th {\n        vertical-align: top;\n    }\n\n    .dataframe thead th {\n        text-align: right;\n    }\n</style>\n<table border=\"1\" class=\"dataframe\">\n  <thead>\n    <tr style=\"text-align: right;\">\n      <th></th>\n      <th>ClienteClave</th>\n      <th>FrecuenciaClave</th>\n      <th>EsquemaID</th>\n      <th>RUTClave</th>\n      <th>AlmacenPadreId</th>\n      <th>Dia_num</th>\n      <th>Total_Dias_Teoricos</th>\n      <th>FrecuenciaClaveUnificada</th>\n      <th>Porcentaje</th>\n      <th>Porcentaje_Total</th>\n      <th>Porcentaje_Normalizado</th>\n      <th>Porcentaje_Normalizado_from_df2</th>\n    </tr>\n  </thead>\n  <tbody>\n    <tr>\n      <th>0</th>\n      <td>0665070000</td>\n      <td>0000010</td>\n      <td>D21</td>\n      <td>D001027</td>\n      <td>D001</td>\n      <td>5</td>\n      <td>6</td>\n      <td>1111110</td>\n      <td>13.532916</td>\n      <td>99.555825</td>\n      <td>13.593294</td>\n      <td>16.449896</td>\n    </tr>\n    <tr>\n      <th>1</th>\n      <td>0665070000</td>\n      <td>0000100</td>\n      <td>D21</td>\n      <td>D001027</td>\n      <td>D001</td>\n      <td>4</td>\n      <td>6</td>\n      <td>1111110</td>\n      <td>16.709326</td>\n      <td>99.555825</td>\n      <td>16.783876</td>\n      <td>15.341851</td>\n    </tr>\n    <tr>\n      <th>2</th>\n      <td>0665070000</td>\n      <td>0001000</td>\n      <td>D21</td>\n      <td>D001027</td>\n      <td>D001</td>\n      <td>3</td>\n      <td>6</td>\n      <td>1111110</td>\n      <td>14.140548</td>\n      <td>99.555825</td>\n      <td>14.203637</td>\n      <td>15.030452</td>\n    </tr>\n    <tr>\n      <th>3</th>\n      <td>0665070000</td>\n      <td>0010000</td>\n      <td>D21</td>\n      <td>D001027</td>\n      <td>D001</td>\n      <td>2</td>\n      <td>6</td>\n      <td>1111110</td>\n      <td>18.520452</td>\n      <td>99.555825</td>\n      <td>18.603082</td>\n      <td>15.970863</td>\n    </tr>\n    <tr>\n      <th>4</th>\n      <td>0665070000</td>\n      <td>0100000</td>\n      <td>D21</td>\n      <td>D001027</td>\n      <td>D001</td>\n      <td>1</td>\n      <td>6</td>\n      <td>1111110</td>\n      <td>14.793930</td>\n      <td>99.555825</td>\n      <td>14.859935</td>\n      <td>16.472516</td>\n    </tr>\n    <tr>\n      <th>...</th>\n      <td>...</td>\n      <td>...</td>\n      <td>...</td>\n      <td>...</td>\n      <td>...</td>\n      <td>...</td>\n      <td>...</td>\n      <td>...</td>\n      <td>...</td>\n      <td>...</td>\n      <td>...</td>\n      <td>...</td>\n    </tr>\n    <tr>\n      <th>75323</th>\n      <td>0417750000</td>\n      <td>0010000</td>\n      <td>D21</td>\n      <td>D002023</td>\n      <td>D002</td>\n      <td>2</td>\n      <td>3</td>\n      <td>1010100</td>\n      <td>32.869560</td>\n      <td>100.000000</td>\n      <td>32.869560</td>\n      <td>31.944597</td>\n    </tr>\n    <tr>\n      <th>75324</th>\n      <td>0417750000</td>\n      <td>1000000</td>\n      <td>D21</td>\n      <td>D002023</td>\n      <td>D002</td>\n      <td>0</td>\n      <td>3</td>\n      <td>1010100</td>\n      <td>28.977424</td>\n      <td>100.000000</td>\n      <td>28.977424</td>\n      <td>35.085867</td>\n    </tr>\n    <tr>\n      <th>75325</th>\n      <td>1359400001</td>\n      <td>0000100</td>\n      <td>D21</td>\n      <td>D002023</td>\n      <td>D002</td>\n      <td>4</td>\n      <td>3</td>\n      <td>1010100</td>\n      <td>30.953174</td>\n      <td>100.000000</td>\n      <td>30.953174</td>\n      <td>32.676688</td>\n    </tr>\n    <tr>\n      <th>75326</th>\n      <td>1359400001</td>\n      <td>0010000</td>\n      <td>D21</td>\n      <td>D002023</td>\n      <td>D002</td>\n      <td>2</td>\n      <td>3</td>\n      <td>1010100</td>\n      <td>29.900487</td>\n      <td>100.000000</td>\n      <td>29.900487</td>\n      <td>31.944597</td>\n    </tr>\n    <tr>\n      <th>75327</th>\n      <td>1359400001</td>\n      <td>1000000</td>\n      <td>D21</td>\n      <td>D002023</td>\n      <td>D002</td>\n      <td>0</td>\n      <td>3</td>\n      <td>1010100</td>\n      <td>39.146339</td>\n      <td>100.000000</td>\n      <td>39.146339</td>\n      <td>35.085867</td>\n    </tr>\n  </tbody>\n</table>\n<p>75328 rows × 12 columns</p>\n</div>"
     },
     "execution_count": 59,
     "metadata": {},
     "output_type": "execute_result"
    }
   ],
   "source": [
    "serie = agenda_actual['Porcentaje_Normalizado_from_df2']\n",
    "agenda_actual['Porcentaje_Normalizado'].fillna(value=serie, inplace=True)\n",
    "#Importante, recordemos que cuando le damos de argumento una serie al parametro de value de la funcion fillna va hacer este proceos de llenado de valores nulos utlizando el indice de la serie y el indice del DF, como esta serie viene del mismo DF tendran el mismo indice, lo que hará que el llenado de valores nulos sea  en el mismo orden como aparecen los registros\n",
    "agenda_actual"
   ],
   "metadata": {
    "collapsed": false,
    "ExecuteTime": {
     "end_time": "2024-06-11T16:21:39.705042200Z",
     "start_time": "2024-06-11T16:21:39.506365200Z"
    }
   },
   "id": "86dbc2f54ea05ae8"
  },
  {
   "cell_type": "code",
   "execution_count": 60,
   "outputs": [
    {
     "data": {
      "text/plain": "      ClienteClave FrecuenciaClave EsquemaID RUTClave AlmacenPadreId  Dia_num  \\\n670     1550250001         0000100       D21  D004031           D004        4   \n7357    1923560001         0000100       D21  D004028           D004        4   \n21451   0518980000         0010000       D21  D003006           D003        2   \n21452   0518980000         1000000       D21  D003006           D003        0   \n22284   1840910001         0000100       D21  D004031           D004        4   \n38071   0575510000         0000100       D21  D004023           D004        4   \n39877   1915090001         0000100       D21  D004034           D004        4   \n46628   0296700000         0000100       D21  D004005           D004        4   \n47799   1913750001         0000100       D21  D004010           D004        4   \n50816   1923750001         0000100       D21  D004028           D004        4   \n51599   0613930001         0000100       D21  D004023           D004        4   \n53503   0410540000         0000100       D21  D004028           D004        4   \n59930   1571820001         0000100       D21  D003067           D003        4   \n61971   0278550000         0000100       D21  D004003           D004        4   \n66952   0410180001         0000100       D21  D004028           D004        4   \n69037   1571300001         0000100       D21  D004023           D004        4   \n69884   0613920000         0000100       D21  D004023           D004        4   \n72502   0575490000         0000100       D21  D004023           D004        4   \n\n       Total_Dias_Teoricos FrecuenciaClaveUnificada  Porcentaje  \\\n670                      4                  1100110        <NA>   \n7357                     4                  1100110        <NA>   \n21451                    2                  1010000        <NA>   \n21452                    2                  1010000        <NA>   \n22284                    4                  1100110        <NA>   \n38071                    4                  1100110        <NA>   \n39877                    4                  1100110        <NA>   \n46628                    4                  1100110        <NA>   \n47799                    4                  1100110        <NA>   \n50816                    4                  1100110        <NA>   \n51599                    4                  1100110        <NA>   \n53503                    4                  1100110        <NA>   \n59930                    2                  0000110        <NA>   \n61971                    4                  1100110        <NA>   \n66952                    4                  1100110        <NA>   \n69037                    4                  1100110        <NA>   \n69884                    4                  1100110        <NA>   \n72502                    4                  1100110        <NA>   \n\n       Porcentaje_Total  Porcentaje_Normalizado  \\\n670          100.000000                    <NA>   \n7357           0.000000                    <NA>   \n21451          0.000000                    <NA>   \n21452          0.000000                    <NA>   \n22284          0.000000                    <NA>   \n38071         63.432921                    <NA>   \n39877          0.000000                    <NA>   \n46628         45.427120                    <NA>   \n47799        100.000000                    <NA>   \n50816          0.000000                    <NA>   \n51599         51.545982                    <NA>   \n53503        100.000000                    <NA>   \n59930         60.777949                    <NA>   \n61971        100.000000                    <NA>   \n66952         98.711315                    <NA>   \n69037         57.400740                    <NA>   \n69884         49.537479                    <NA>   \n72502         51.059908                    <NA>   \n\n       Porcentaje_Normalizado_from_df2  \n670                               <NA>  \n7357                              <NA>  \n21451                             <NA>  \n21452                             <NA>  \n22284                             <NA>  \n38071                             <NA>  \n39877                             <NA>  \n46628                             <NA>  \n47799                             <NA>  \n50816                             <NA>  \n51599                             <NA>  \n53503                             <NA>  \n59930                             <NA>  \n61971                             <NA>  \n66952                             <NA>  \n69037                             <NA>  \n69884                             <NA>  \n72502                             <NA>  ",
      "text/html": "<div>\n<style scoped>\n    .dataframe tbody tr th:only-of-type {\n        vertical-align: middle;\n    }\n\n    .dataframe tbody tr th {\n        vertical-align: top;\n    }\n\n    .dataframe thead th {\n        text-align: right;\n    }\n</style>\n<table border=\"1\" class=\"dataframe\">\n  <thead>\n    <tr style=\"text-align: right;\">\n      <th></th>\n      <th>ClienteClave</th>\n      <th>FrecuenciaClave</th>\n      <th>EsquemaID</th>\n      <th>RUTClave</th>\n      <th>AlmacenPadreId</th>\n      <th>Dia_num</th>\n      <th>Total_Dias_Teoricos</th>\n      <th>FrecuenciaClaveUnificada</th>\n      <th>Porcentaje</th>\n      <th>Porcentaje_Total</th>\n      <th>Porcentaje_Normalizado</th>\n      <th>Porcentaje_Normalizado_from_df2</th>\n    </tr>\n  </thead>\n  <tbody>\n    <tr>\n      <th>670</th>\n      <td>1550250001</td>\n      <td>0000100</td>\n      <td>D21</td>\n      <td>D004031</td>\n      <td>D004</td>\n      <td>4</td>\n      <td>4</td>\n      <td>1100110</td>\n      <td>&lt;NA&gt;</td>\n      <td>100.000000</td>\n      <td>&lt;NA&gt;</td>\n      <td>&lt;NA&gt;</td>\n    </tr>\n    <tr>\n      <th>7357</th>\n      <td>1923560001</td>\n      <td>0000100</td>\n      <td>D21</td>\n      <td>D004028</td>\n      <td>D004</td>\n      <td>4</td>\n      <td>4</td>\n      <td>1100110</td>\n      <td>&lt;NA&gt;</td>\n      <td>0.000000</td>\n      <td>&lt;NA&gt;</td>\n      <td>&lt;NA&gt;</td>\n    </tr>\n    <tr>\n      <th>21451</th>\n      <td>0518980000</td>\n      <td>0010000</td>\n      <td>D21</td>\n      <td>D003006</td>\n      <td>D003</td>\n      <td>2</td>\n      <td>2</td>\n      <td>1010000</td>\n      <td>&lt;NA&gt;</td>\n      <td>0.000000</td>\n      <td>&lt;NA&gt;</td>\n      <td>&lt;NA&gt;</td>\n    </tr>\n    <tr>\n      <th>21452</th>\n      <td>0518980000</td>\n      <td>1000000</td>\n      <td>D21</td>\n      <td>D003006</td>\n      <td>D003</td>\n      <td>0</td>\n      <td>2</td>\n      <td>1010000</td>\n      <td>&lt;NA&gt;</td>\n      <td>0.000000</td>\n      <td>&lt;NA&gt;</td>\n      <td>&lt;NA&gt;</td>\n    </tr>\n    <tr>\n      <th>22284</th>\n      <td>1840910001</td>\n      <td>0000100</td>\n      <td>D21</td>\n      <td>D004031</td>\n      <td>D004</td>\n      <td>4</td>\n      <td>4</td>\n      <td>1100110</td>\n      <td>&lt;NA&gt;</td>\n      <td>0.000000</td>\n      <td>&lt;NA&gt;</td>\n      <td>&lt;NA&gt;</td>\n    </tr>\n    <tr>\n      <th>38071</th>\n      <td>0575510000</td>\n      <td>0000100</td>\n      <td>D21</td>\n      <td>D004023</td>\n      <td>D004</td>\n      <td>4</td>\n      <td>4</td>\n      <td>1100110</td>\n      <td>&lt;NA&gt;</td>\n      <td>63.432921</td>\n      <td>&lt;NA&gt;</td>\n      <td>&lt;NA&gt;</td>\n    </tr>\n    <tr>\n      <th>39877</th>\n      <td>1915090001</td>\n      <td>0000100</td>\n      <td>D21</td>\n      <td>D004034</td>\n      <td>D004</td>\n      <td>4</td>\n      <td>4</td>\n      <td>1100110</td>\n      <td>&lt;NA&gt;</td>\n      <td>0.000000</td>\n      <td>&lt;NA&gt;</td>\n      <td>&lt;NA&gt;</td>\n    </tr>\n    <tr>\n      <th>46628</th>\n      <td>0296700000</td>\n      <td>0000100</td>\n      <td>D21</td>\n      <td>D004005</td>\n      <td>D004</td>\n      <td>4</td>\n      <td>4</td>\n      <td>1100110</td>\n      <td>&lt;NA&gt;</td>\n      <td>45.427120</td>\n      <td>&lt;NA&gt;</td>\n      <td>&lt;NA&gt;</td>\n    </tr>\n    <tr>\n      <th>47799</th>\n      <td>1913750001</td>\n      <td>0000100</td>\n      <td>D21</td>\n      <td>D004010</td>\n      <td>D004</td>\n      <td>4</td>\n      <td>4</td>\n      <td>1100110</td>\n      <td>&lt;NA&gt;</td>\n      <td>100.000000</td>\n      <td>&lt;NA&gt;</td>\n      <td>&lt;NA&gt;</td>\n    </tr>\n    <tr>\n      <th>50816</th>\n      <td>1923750001</td>\n      <td>0000100</td>\n      <td>D21</td>\n      <td>D004028</td>\n      <td>D004</td>\n      <td>4</td>\n      <td>4</td>\n      <td>1100110</td>\n      <td>&lt;NA&gt;</td>\n      <td>0.000000</td>\n      <td>&lt;NA&gt;</td>\n      <td>&lt;NA&gt;</td>\n    </tr>\n    <tr>\n      <th>51599</th>\n      <td>0613930001</td>\n      <td>0000100</td>\n      <td>D21</td>\n      <td>D004023</td>\n      <td>D004</td>\n      <td>4</td>\n      <td>4</td>\n      <td>1100110</td>\n      <td>&lt;NA&gt;</td>\n      <td>51.545982</td>\n      <td>&lt;NA&gt;</td>\n      <td>&lt;NA&gt;</td>\n    </tr>\n    <tr>\n      <th>53503</th>\n      <td>0410540000</td>\n      <td>0000100</td>\n      <td>D21</td>\n      <td>D004028</td>\n      <td>D004</td>\n      <td>4</td>\n      <td>4</td>\n      <td>1100110</td>\n      <td>&lt;NA&gt;</td>\n      <td>100.000000</td>\n      <td>&lt;NA&gt;</td>\n      <td>&lt;NA&gt;</td>\n    </tr>\n    <tr>\n      <th>59930</th>\n      <td>1571820001</td>\n      <td>0000100</td>\n      <td>D21</td>\n      <td>D003067</td>\n      <td>D003</td>\n      <td>4</td>\n      <td>2</td>\n      <td>0000110</td>\n      <td>&lt;NA&gt;</td>\n      <td>60.777949</td>\n      <td>&lt;NA&gt;</td>\n      <td>&lt;NA&gt;</td>\n    </tr>\n    <tr>\n      <th>61971</th>\n      <td>0278550000</td>\n      <td>0000100</td>\n      <td>D21</td>\n      <td>D004003</td>\n      <td>D004</td>\n      <td>4</td>\n      <td>4</td>\n      <td>1100110</td>\n      <td>&lt;NA&gt;</td>\n      <td>100.000000</td>\n      <td>&lt;NA&gt;</td>\n      <td>&lt;NA&gt;</td>\n    </tr>\n    <tr>\n      <th>66952</th>\n      <td>0410180001</td>\n      <td>0000100</td>\n      <td>D21</td>\n      <td>D004028</td>\n      <td>D004</td>\n      <td>4</td>\n      <td>4</td>\n      <td>1100110</td>\n      <td>&lt;NA&gt;</td>\n      <td>98.711315</td>\n      <td>&lt;NA&gt;</td>\n      <td>&lt;NA&gt;</td>\n    </tr>\n    <tr>\n      <th>69037</th>\n      <td>1571300001</td>\n      <td>0000100</td>\n      <td>D21</td>\n      <td>D004023</td>\n      <td>D004</td>\n      <td>4</td>\n      <td>4</td>\n      <td>1100110</td>\n      <td>&lt;NA&gt;</td>\n      <td>57.400740</td>\n      <td>&lt;NA&gt;</td>\n      <td>&lt;NA&gt;</td>\n    </tr>\n    <tr>\n      <th>69884</th>\n      <td>0613920000</td>\n      <td>0000100</td>\n      <td>D21</td>\n      <td>D004023</td>\n      <td>D004</td>\n      <td>4</td>\n      <td>4</td>\n      <td>1100110</td>\n      <td>&lt;NA&gt;</td>\n      <td>49.537479</td>\n      <td>&lt;NA&gt;</td>\n      <td>&lt;NA&gt;</td>\n    </tr>\n    <tr>\n      <th>72502</th>\n      <td>0575490000</td>\n      <td>0000100</td>\n      <td>D21</td>\n      <td>D004023</td>\n      <td>D004</td>\n      <td>4</td>\n      <td>4</td>\n      <td>1100110</td>\n      <td>&lt;NA&gt;</td>\n      <td>51.059908</td>\n      <td>&lt;NA&gt;</td>\n      <td>&lt;NA&gt;</td>\n    </tr>\n  </tbody>\n</table>\n</div>"
     },
     "execution_count": 60,
     "metadata": {},
     "output_type": "execute_result"
    }
   ],
   "source": [
    "agenda_actual[agenda_actual[\"Porcentaje_Normalizado\"].isnull()]"
   ],
   "metadata": {
    "collapsed": false,
    "ExecuteTime": {
     "end_time": "2024-06-11T16:21:39.780058600Z",
     "start_time": "2024-06-11T16:21:39.692754500Z"
    }
   },
   "id": "2a5f9b6dfd08dd37"
  },
  {
   "cell_type": "code",
   "execution_count": 61,
   "outputs": [
    {
     "data": {
      "text/plain": "      ClienteClave FrecuenciaClave EsquemaID RUTClave AlmacenPadreId  Dia_num  \\\n0       0665070000         0000010       D21  D001027           D001        5   \n1       0665070000         0000100       D21  D001027           D001        4   \n2       0665070000         0001000       D21  D001027           D001        3   \n3       0665070000         0010000       D21  D001027           D001        2   \n4       0665070000         0100000       D21  D001027           D001        1   \n...            ...             ...       ...      ...            ...      ...   \n75323   0417750000         0010000       D21  D002023           D002        2   \n75324   0417750000         1000000       D21  D002023           D002        0   \n75325   1359400001         0000100       D21  D002023           D002        4   \n75326   1359400001         0010000       D21  D002023           D002        2   \n75327   1359400001         1000000       D21  D002023           D002        0   \n\n       Total_Dias_Teoricos FrecuenciaClaveUnificada  Porcentaje_Normalizado  \n0                        6                  1111110               13.593294  \n1                        6                  1111110               16.783876  \n2                        6                  1111110               14.203637  \n3                        6                  1111110               18.603082  \n4                        6                  1111110               14.859935  \n...                    ...                      ...                     ...  \n75323                    3                  1010100               32.869560  \n75324                    3                  1010100               28.977424  \n75325                    3                  1010100               30.953174  \n75326                    3                  1010100               29.900487  \n75327                    3                  1010100               39.146339  \n\n[75328 rows x 9 columns]",
      "text/html": "<div>\n<style scoped>\n    .dataframe tbody tr th:only-of-type {\n        vertical-align: middle;\n    }\n\n    .dataframe tbody tr th {\n        vertical-align: top;\n    }\n\n    .dataframe thead th {\n        text-align: right;\n    }\n</style>\n<table border=\"1\" class=\"dataframe\">\n  <thead>\n    <tr style=\"text-align: right;\">\n      <th></th>\n      <th>ClienteClave</th>\n      <th>FrecuenciaClave</th>\n      <th>EsquemaID</th>\n      <th>RUTClave</th>\n      <th>AlmacenPadreId</th>\n      <th>Dia_num</th>\n      <th>Total_Dias_Teoricos</th>\n      <th>FrecuenciaClaveUnificada</th>\n      <th>Porcentaje_Normalizado</th>\n    </tr>\n  </thead>\n  <tbody>\n    <tr>\n      <th>0</th>\n      <td>0665070000</td>\n      <td>0000010</td>\n      <td>D21</td>\n      <td>D001027</td>\n      <td>D001</td>\n      <td>5</td>\n      <td>6</td>\n      <td>1111110</td>\n      <td>13.593294</td>\n    </tr>\n    <tr>\n      <th>1</th>\n      <td>0665070000</td>\n      <td>0000100</td>\n      <td>D21</td>\n      <td>D001027</td>\n      <td>D001</td>\n      <td>4</td>\n      <td>6</td>\n      <td>1111110</td>\n      <td>16.783876</td>\n    </tr>\n    <tr>\n      <th>2</th>\n      <td>0665070000</td>\n      <td>0001000</td>\n      <td>D21</td>\n      <td>D001027</td>\n      <td>D001</td>\n      <td>3</td>\n      <td>6</td>\n      <td>1111110</td>\n      <td>14.203637</td>\n    </tr>\n    <tr>\n      <th>3</th>\n      <td>0665070000</td>\n      <td>0010000</td>\n      <td>D21</td>\n      <td>D001027</td>\n      <td>D001</td>\n      <td>2</td>\n      <td>6</td>\n      <td>1111110</td>\n      <td>18.603082</td>\n    </tr>\n    <tr>\n      <th>4</th>\n      <td>0665070000</td>\n      <td>0100000</td>\n      <td>D21</td>\n      <td>D001027</td>\n      <td>D001</td>\n      <td>1</td>\n      <td>6</td>\n      <td>1111110</td>\n      <td>14.859935</td>\n    </tr>\n    <tr>\n      <th>...</th>\n      <td>...</td>\n      <td>...</td>\n      <td>...</td>\n      <td>...</td>\n      <td>...</td>\n      <td>...</td>\n      <td>...</td>\n      <td>...</td>\n      <td>...</td>\n    </tr>\n    <tr>\n      <th>75323</th>\n      <td>0417750000</td>\n      <td>0010000</td>\n      <td>D21</td>\n      <td>D002023</td>\n      <td>D002</td>\n      <td>2</td>\n      <td>3</td>\n      <td>1010100</td>\n      <td>32.869560</td>\n    </tr>\n    <tr>\n      <th>75324</th>\n      <td>0417750000</td>\n      <td>1000000</td>\n      <td>D21</td>\n      <td>D002023</td>\n      <td>D002</td>\n      <td>0</td>\n      <td>3</td>\n      <td>1010100</td>\n      <td>28.977424</td>\n    </tr>\n    <tr>\n      <th>75325</th>\n      <td>1359400001</td>\n      <td>0000100</td>\n      <td>D21</td>\n      <td>D002023</td>\n      <td>D002</td>\n      <td>4</td>\n      <td>3</td>\n      <td>1010100</td>\n      <td>30.953174</td>\n    </tr>\n    <tr>\n      <th>75326</th>\n      <td>1359400001</td>\n      <td>0010000</td>\n      <td>D21</td>\n      <td>D002023</td>\n      <td>D002</td>\n      <td>2</td>\n      <td>3</td>\n      <td>1010100</td>\n      <td>29.900487</td>\n    </tr>\n    <tr>\n      <th>75327</th>\n      <td>1359400001</td>\n      <td>1000000</td>\n      <td>D21</td>\n      <td>D002023</td>\n      <td>D002</td>\n      <td>0</td>\n      <td>3</td>\n      <td>1010100</td>\n      <td>39.146339</td>\n    </tr>\n  </tbody>\n</table>\n<p>75328 rows × 9 columns</p>\n</div>"
     },
     "execution_count": 61,
     "metadata": {},
     "output_type": "execute_result"
    }
   ],
   "source": [
    "agenda_actual.drop(columns=[\"Porcentaje_Total\", \n",
    "                            \"Porcentaje_Normalizado_from_df2\", \"Porcentaje\"], inplace=True)\n",
    "agenda_actual"
   ],
   "metadata": {
    "collapsed": false,
    "ExecuteTime": {
     "end_time": "2024-06-11T16:21:40.123459400Z",
     "start_time": "2024-06-11T16:21:39.931687900Z"
    }
   },
   "id": "9d5bd65148a568fd"
  },
  {
   "cell_type": "code",
   "execution_count": 62,
   "outputs": [
    {
     "data": {
      "text/plain": "'\\nIMPORTANTE: Ahora tenemos un DF con una distribucion estadistica confiable de porcentaje de ventas por día de la semana en su agenda actual de cada cliente, incluso en los clientes que no estuvieron en el proceso de entrenamient\\n'"
     },
     "execution_count": 62,
     "metadata": {},
     "output_type": "execute_result"
    }
   ],
   "source": [
    "\"\"\"\n",
    "IMPORTANTE: Ahora tenemos un DF con una distribucion estadistica confiable de porcentaje de ventas por día de la semana en su agenda actual de cada cliente, incluso en los clientes que no estuvieron en el proceso de entrenamient\n",
    "\"\"\""
   ],
   "metadata": {
    "collapsed": false,
    "ExecuteTime": {
     "end_time": "2024-06-11T16:21:40.517642500Z",
     "start_time": "2024-06-11T16:21:40.373799100Z"
    }
   },
   "id": "c9fd2f00f585a3b7"
  },
  {
   "cell_type": "markdown",
   "source": [
    "#### 3.5.4) Integración final de resultados\n",
    "Ahora que tenemos la distribucion por día de la semana correcto y el total de cliente a nivel semanal, podemos hacer la distribucion del volumen semanal por día de la semana "
   ],
   "metadata": {
    "collapsed": false
   },
   "id": "d0473e7018beffc"
  },
  {
   "cell_type": "code",
   "execution_count": 63,
   "outputs": [
    {
     "data": {
      "text/plain": "ClienteClave                 0\nFrecuenciaClave              0\nEsquemaID                    0\nRUTClave                     0\nAlmacenPadreId               0\nDia_num                      0\nTotal_Dias_Teoricos          0\nFrecuenciaClaveUnificada     0\nPorcentaje_Normalizado      18\ndtype: int64"
     },
     "execution_count": 63,
     "metadata": {},
     "output_type": "execute_result"
    }
   ],
   "source": [
    "agenda_actual.isnull().sum()"
   ],
   "metadata": {
    "collapsed": false,
    "ExecuteTime": {
     "end_time": "2024-06-11T16:21:40.806317600Z",
     "start_time": "2024-06-11T16:21:40.758339200Z"
    }
   },
   "id": "a2a403e2f852f6c7"
  },
  {
   "cell_type": "markdown",
   "source": [
    "**VINCULACION DEL VOLUMEN TOTAL SEMANAL PREDICHO**"
   ],
   "metadata": {
    "collapsed": false
   },
   "id": "7277a2cc0d3042b"
  },
  {
   "cell_type": "code",
   "execution_count": 64,
   "outputs": [
    {
     "data": {
      "text/plain": "      ClienteClave FrecuenciaClave EsquemaID RUTClave AlmacenPadreId  Dia_num  \\\n0       0665070000         0000010       D21  D001027           D001        5   \n1       0665070000         0000100       D21  D001027           D001        4   \n2       0665070000         0001000       D21  D001027           D001        3   \n3       0665070000         0010000       D21  D001027           D001        2   \n4       0665070000         0100000       D21  D001027           D001        1   \n...            ...             ...       ...      ...            ...      ...   \n75323   0417750000         0010000       D21  D002023           D002        2   \n75324   0417750000         1000000       D21  D002023           D002        0   \n75325   1359400001         0000100       D21  D002023           D002        4   \n75326   1359400001         0010000       D21  D002023           D002        2   \n75327   1359400001         1000000       D21  D002023           D002        0   \n\n       Total_Dias_Teoricos FrecuenciaClaveUnificada  Porcentaje_Normalizado  \\\n0                        6                  1111110               13.593294   \n1                        6                  1111110               16.783876   \n2                        6                  1111110               14.203637   \n3                        6                  1111110               18.603082   \n4                        6                  1111110               14.859935   \n...                    ...                      ...                     ...   \n75323                    3                  1010100               32.869560   \n75324                    3                  1010100               28.977424   \n75325                    3                  1010100               30.953174   \n75326                    3                  1010100               29.900487   \n75327                    3                  1010100               39.146339   \n\n       Volumen_Semanal(L)  \n0               63.303040  \n1               63.303040  \n2               63.303040  \n3               63.303040  \n4               63.303040  \n...                   ...  \n75323           47.655968  \n75324           47.655968  \n75325           71.115166  \n75326           71.115166  \n75327           71.115166  \n\n[75328 rows x 10 columns]",
      "text/html": "<div>\n<style scoped>\n    .dataframe tbody tr th:only-of-type {\n        vertical-align: middle;\n    }\n\n    .dataframe tbody tr th {\n        vertical-align: top;\n    }\n\n    .dataframe thead th {\n        text-align: right;\n    }\n</style>\n<table border=\"1\" class=\"dataframe\">\n  <thead>\n    <tr style=\"text-align: right;\">\n      <th></th>\n      <th>ClienteClave</th>\n      <th>FrecuenciaClave</th>\n      <th>EsquemaID</th>\n      <th>RUTClave</th>\n      <th>AlmacenPadreId</th>\n      <th>Dia_num</th>\n      <th>Total_Dias_Teoricos</th>\n      <th>FrecuenciaClaveUnificada</th>\n      <th>Porcentaje_Normalizado</th>\n      <th>Volumen_Semanal(L)</th>\n    </tr>\n  </thead>\n  <tbody>\n    <tr>\n      <th>0</th>\n      <td>0665070000</td>\n      <td>0000010</td>\n      <td>D21</td>\n      <td>D001027</td>\n      <td>D001</td>\n      <td>5</td>\n      <td>6</td>\n      <td>1111110</td>\n      <td>13.593294</td>\n      <td>63.303040</td>\n    </tr>\n    <tr>\n      <th>1</th>\n      <td>0665070000</td>\n      <td>0000100</td>\n      <td>D21</td>\n      <td>D001027</td>\n      <td>D001</td>\n      <td>4</td>\n      <td>6</td>\n      <td>1111110</td>\n      <td>16.783876</td>\n      <td>63.303040</td>\n    </tr>\n    <tr>\n      <th>2</th>\n      <td>0665070000</td>\n      <td>0001000</td>\n      <td>D21</td>\n      <td>D001027</td>\n      <td>D001</td>\n      <td>3</td>\n      <td>6</td>\n      <td>1111110</td>\n      <td>14.203637</td>\n      <td>63.303040</td>\n    </tr>\n    <tr>\n      <th>3</th>\n      <td>0665070000</td>\n      <td>0010000</td>\n      <td>D21</td>\n      <td>D001027</td>\n      <td>D001</td>\n      <td>2</td>\n      <td>6</td>\n      <td>1111110</td>\n      <td>18.603082</td>\n      <td>63.303040</td>\n    </tr>\n    <tr>\n      <th>4</th>\n      <td>0665070000</td>\n      <td>0100000</td>\n      <td>D21</td>\n      <td>D001027</td>\n      <td>D001</td>\n      <td>1</td>\n      <td>6</td>\n      <td>1111110</td>\n      <td>14.859935</td>\n      <td>63.303040</td>\n    </tr>\n    <tr>\n      <th>...</th>\n      <td>...</td>\n      <td>...</td>\n      <td>...</td>\n      <td>...</td>\n      <td>...</td>\n      <td>...</td>\n      <td>...</td>\n      <td>...</td>\n      <td>...</td>\n      <td>...</td>\n    </tr>\n    <tr>\n      <th>75323</th>\n      <td>0417750000</td>\n      <td>0010000</td>\n      <td>D21</td>\n      <td>D002023</td>\n      <td>D002</td>\n      <td>2</td>\n      <td>3</td>\n      <td>1010100</td>\n      <td>32.869560</td>\n      <td>47.655968</td>\n    </tr>\n    <tr>\n      <th>75324</th>\n      <td>0417750000</td>\n      <td>1000000</td>\n      <td>D21</td>\n      <td>D002023</td>\n      <td>D002</td>\n      <td>0</td>\n      <td>3</td>\n      <td>1010100</td>\n      <td>28.977424</td>\n      <td>47.655968</td>\n    </tr>\n    <tr>\n      <th>75325</th>\n      <td>1359400001</td>\n      <td>0000100</td>\n      <td>D21</td>\n      <td>D002023</td>\n      <td>D002</td>\n      <td>4</td>\n      <td>3</td>\n      <td>1010100</td>\n      <td>30.953174</td>\n      <td>71.115166</td>\n    </tr>\n    <tr>\n      <th>75326</th>\n      <td>1359400001</td>\n      <td>0010000</td>\n      <td>D21</td>\n      <td>D002023</td>\n      <td>D002</td>\n      <td>2</td>\n      <td>3</td>\n      <td>1010100</td>\n      <td>29.900487</td>\n      <td>71.115166</td>\n    </tr>\n    <tr>\n      <th>75327</th>\n      <td>1359400001</td>\n      <td>1000000</td>\n      <td>D21</td>\n      <td>D002023</td>\n      <td>D002</td>\n      <td>0</td>\n      <td>3</td>\n      <td>1010100</td>\n      <td>39.146339</td>\n      <td>71.115166</td>\n    </tr>\n  </tbody>\n</table>\n<p>75328 rows × 10 columns</p>\n</div>"
     },
     "execution_count": 64,
     "metadata": {},
     "output_type": "execute_result"
    }
   ],
   "source": [
    "agenda_actual = pd.merge(left=agenda_actual, right=predicciones, on=[\"ClienteClave\"])\n",
    "agenda_actual"
   ],
   "metadata": {
    "collapsed": false,
    "ExecuteTime": {
     "end_time": "2024-06-11T16:21:41.438589400Z",
     "start_time": "2024-06-11T16:21:41.350267800Z"
    }
   },
   "id": "998feb096d09bcc3"
  },
  {
   "cell_type": "markdown",
   "source": [
    "**SACAMOS EL VOLUMEN POR DIA DE LA SEMANA**"
   ],
   "metadata": {
    "collapsed": false
   },
   "id": "299a01550ce48dc1"
  },
  {
   "cell_type": "code",
   "execution_count": 65,
   "outputs": [
    {
     "data": {
      "text/plain": "      ClienteClave FrecuenciaClave EsquemaID RUTClave AlmacenPadreId  Dia_num  \\\n0       0665070000         0000010       D21  D001027           D001        5   \n1       0665070000         0000100       D21  D001027           D001        4   \n2       0665070000         0001000       D21  D001027           D001        3   \n3       0665070000         0010000       D21  D001027           D001        2   \n4       0665070000         0100000       D21  D001027           D001        1   \n...            ...             ...       ...      ...            ...      ...   \n75323   0417750000         0010000       D21  D002023           D002        2   \n75324   0417750000         1000000       D21  D002023           D002        0   \n75325   1359400001         0000100       D21  D002023           D002        4   \n75326   1359400001         0010000       D21  D002023           D002        2   \n75327   1359400001         1000000       D21  D002023           D002        0   \n\n       Total_Dias_Teoricos FrecuenciaClaveUnificada  Porcentaje_Normalizado  \\\n0                        6                  1111110               13.593294   \n1                        6                  1111110               16.783876   \n2                        6                  1111110               14.203637   \n3                        6                  1111110               18.603082   \n4                        6                  1111110               14.859935   \n...                    ...                      ...                     ...   \n75323                    3                  1010100               32.869560   \n75324                    3                  1010100               28.977424   \n75325                    3                  1010100               30.953174   \n75326                    3                  1010100               29.900487   \n75327                    3                  1010100               39.146339   \n\n       Volumen_Semanal(L)  Volumen_Dia(L)  \n0               63.303040        8.604968  \n1               63.303040       10.624704  \n2               63.303040        8.991334  \n3               63.303040       11.776316  \n4               63.303040        9.406790  \n...                   ...             ...  \n75323           47.655968       15.664307  \n75324           47.655968       13.809472  \n75325           71.115166       22.012401  \n75326           71.115166       21.263781  \n75327           71.115166       27.838984  \n\n[75328 rows x 11 columns]",
      "text/html": "<div>\n<style scoped>\n    .dataframe tbody tr th:only-of-type {\n        vertical-align: middle;\n    }\n\n    .dataframe tbody tr th {\n        vertical-align: top;\n    }\n\n    .dataframe thead th {\n        text-align: right;\n    }\n</style>\n<table border=\"1\" class=\"dataframe\">\n  <thead>\n    <tr style=\"text-align: right;\">\n      <th></th>\n      <th>ClienteClave</th>\n      <th>FrecuenciaClave</th>\n      <th>EsquemaID</th>\n      <th>RUTClave</th>\n      <th>AlmacenPadreId</th>\n      <th>Dia_num</th>\n      <th>Total_Dias_Teoricos</th>\n      <th>FrecuenciaClaveUnificada</th>\n      <th>Porcentaje_Normalizado</th>\n      <th>Volumen_Semanal(L)</th>\n      <th>Volumen_Dia(L)</th>\n    </tr>\n  </thead>\n  <tbody>\n    <tr>\n      <th>0</th>\n      <td>0665070000</td>\n      <td>0000010</td>\n      <td>D21</td>\n      <td>D001027</td>\n      <td>D001</td>\n      <td>5</td>\n      <td>6</td>\n      <td>1111110</td>\n      <td>13.593294</td>\n      <td>63.303040</td>\n      <td>8.604968</td>\n    </tr>\n    <tr>\n      <th>1</th>\n      <td>0665070000</td>\n      <td>0000100</td>\n      <td>D21</td>\n      <td>D001027</td>\n      <td>D001</td>\n      <td>4</td>\n      <td>6</td>\n      <td>1111110</td>\n      <td>16.783876</td>\n      <td>63.303040</td>\n      <td>10.624704</td>\n    </tr>\n    <tr>\n      <th>2</th>\n      <td>0665070000</td>\n      <td>0001000</td>\n      <td>D21</td>\n      <td>D001027</td>\n      <td>D001</td>\n      <td>3</td>\n      <td>6</td>\n      <td>1111110</td>\n      <td>14.203637</td>\n      <td>63.303040</td>\n      <td>8.991334</td>\n    </tr>\n    <tr>\n      <th>3</th>\n      <td>0665070000</td>\n      <td>0010000</td>\n      <td>D21</td>\n      <td>D001027</td>\n      <td>D001</td>\n      <td>2</td>\n      <td>6</td>\n      <td>1111110</td>\n      <td>18.603082</td>\n      <td>63.303040</td>\n      <td>11.776316</td>\n    </tr>\n    <tr>\n      <th>4</th>\n      <td>0665070000</td>\n      <td>0100000</td>\n      <td>D21</td>\n      <td>D001027</td>\n      <td>D001</td>\n      <td>1</td>\n      <td>6</td>\n      <td>1111110</td>\n      <td>14.859935</td>\n      <td>63.303040</td>\n      <td>9.406790</td>\n    </tr>\n    <tr>\n      <th>...</th>\n      <td>...</td>\n      <td>...</td>\n      <td>...</td>\n      <td>...</td>\n      <td>...</td>\n      <td>...</td>\n      <td>...</td>\n      <td>...</td>\n      <td>...</td>\n      <td>...</td>\n      <td>...</td>\n    </tr>\n    <tr>\n      <th>75323</th>\n      <td>0417750000</td>\n      <td>0010000</td>\n      <td>D21</td>\n      <td>D002023</td>\n      <td>D002</td>\n      <td>2</td>\n      <td>3</td>\n      <td>1010100</td>\n      <td>32.869560</td>\n      <td>47.655968</td>\n      <td>15.664307</td>\n    </tr>\n    <tr>\n      <th>75324</th>\n      <td>0417750000</td>\n      <td>1000000</td>\n      <td>D21</td>\n      <td>D002023</td>\n      <td>D002</td>\n      <td>0</td>\n      <td>3</td>\n      <td>1010100</td>\n      <td>28.977424</td>\n      <td>47.655968</td>\n      <td>13.809472</td>\n    </tr>\n    <tr>\n      <th>75325</th>\n      <td>1359400001</td>\n      <td>0000100</td>\n      <td>D21</td>\n      <td>D002023</td>\n      <td>D002</td>\n      <td>4</td>\n      <td>3</td>\n      <td>1010100</td>\n      <td>30.953174</td>\n      <td>71.115166</td>\n      <td>22.012401</td>\n    </tr>\n    <tr>\n      <th>75326</th>\n      <td>1359400001</td>\n      <td>0010000</td>\n      <td>D21</td>\n      <td>D002023</td>\n      <td>D002</td>\n      <td>2</td>\n      <td>3</td>\n      <td>1010100</td>\n      <td>29.900487</td>\n      <td>71.115166</td>\n      <td>21.263781</td>\n    </tr>\n    <tr>\n      <th>75327</th>\n      <td>1359400001</td>\n      <td>1000000</td>\n      <td>D21</td>\n      <td>D002023</td>\n      <td>D002</td>\n      <td>0</td>\n      <td>3</td>\n      <td>1010100</td>\n      <td>39.146339</td>\n      <td>71.115166</td>\n      <td>27.838984</td>\n    </tr>\n  </tbody>\n</table>\n<p>75328 rows × 11 columns</p>\n</div>"
     },
     "execution_count": 65,
     "metadata": {},
     "output_type": "execute_result"
    }
   ],
   "source": [
    "agenda_actual[\"Volumen_Dia(L)\"] = agenda_actual[\"Volumen_Semanal(L)\"] * (agenda_actual[\"Porcentaje_Normalizado\"]/100)\n",
    "agenda_actual"
   ],
   "metadata": {
    "collapsed": false,
    "ExecuteTime": {
     "end_time": "2024-06-11T16:21:41.824471400Z",
     "start_time": "2024-06-11T16:21:41.734445200Z"
    }
   },
   "id": "9f936f5a0a9f963e"
  },
  {
   "cell_type": "code",
   "execution_count": 66,
   "outputs": [
    {
     "data": {
      "text/plain": "      ClienteClave FrecuenciaClave EsquemaID RUTClave AlmacenPadreId  Dia_num  \\\n32062   0890050040         0000010       D17  D001111           D001        5   \n32063   0890050040         0001000       D17  D001111           D001        3   \n32064   0890050040         0100000       D17  D001111           D001        1   \n\n       Total_Dias_Teoricos FrecuenciaClaveUnificada  Porcentaje_Normalizado  \\\n32062                    3                  0101010               32.316744   \n32063                    3                  0101010               32.911140   \n32064                    3                  0101010               34.772115   \n\n       Volumen_Semanal(L)  Volumen_Dia(L)  \n32062          292.133514       94.408041  \n32063          292.133514       96.144471  \n32064          292.133514      101.581003  ",
      "text/html": "<div>\n<style scoped>\n    .dataframe tbody tr th:only-of-type {\n        vertical-align: middle;\n    }\n\n    .dataframe tbody tr th {\n        vertical-align: top;\n    }\n\n    .dataframe thead th {\n        text-align: right;\n    }\n</style>\n<table border=\"1\" class=\"dataframe\">\n  <thead>\n    <tr style=\"text-align: right;\">\n      <th></th>\n      <th>ClienteClave</th>\n      <th>FrecuenciaClave</th>\n      <th>EsquemaID</th>\n      <th>RUTClave</th>\n      <th>AlmacenPadreId</th>\n      <th>Dia_num</th>\n      <th>Total_Dias_Teoricos</th>\n      <th>FrecuenciaClaveUnificada</th>\n      <th>Porcentaje_Normalizado</th>\n      <th>Volumen_Semanal(L)</th>\n      <th>Volumen_Dia(L)</th>\n    </tr>\n  </thead>\n  <tbody>\n    <tr>\n      <th>32062</th>\n      <td>0890050040</td>\n      <td>0000010</td>\n      <td>D17</td>\n      <td>D001111</td>\n      <td>D001</td>\n      <td>5</td>\n      <td>3</td>\n      <td>0101010</td>\n      <td>32.316744</td>\n      <td>292.133514</td>\n      <td>94.408041</td>\n    </tr>\n    <tr>\n      <th>32063</th>\n      <td>0890050040</td>\n      <td>0001000</td>\n      <td>D17</td>\n      <td>D001111</td>\n      <td>D001</td>\n      <td>3</td>\n      <td>3</td>\n      <td>0101010</td>\n      <td>32.911140</td>\n      <td>292.133514</td>\n      <td>96.144471</td>\n    </tr>\n    <tr>\n      <th>32064</th>\n      <td>0890050040</td>\n      <td>0100000</td>\n      <td>D17</td>\n      <td>D001111</td>\n      <td>D001</td>\n      <td>1</td>\n      <td>3</td>\n      <td>0101010</td>\n      <td>34.772115</td>\n      <td>292.133514</td>\n      <td>101.581003</td>\n    </tr>\n  </tbody>\n</table>\n</div>"
     },
     "execution_count": 66,
     "metadata": {},
     "output_type": "execute_result"
    }
   ],
   "source": [
    "# Visualización de ejemplo \n",
    "agenda_actual.query(\"ClienteClave == '0890050040'\")"
   ],
   "metadata": {
    "collapsed": false,
    "ExecuteTime": {
     "end_time": "2024-06-11T16:21:42.039702700Z",
     "start_time": "2024-06-11T16:21:41.967883800Z"
    }
   },
   "id": "f45e2f0b60ae5664"
  },
  {
   "cell_type": "code",
   "execution_count": 67,
   "outputs": [
    {
     "data": {
      "text/plain": "       Fecha        Dia\n0 2024-03-30   Saturday\n0 2024-03-31     Sunday\n0 2024-04-01     Monday\n0 2024-04-02    Tuesday\n0 2024-04-03  Wednesday\n0 2024-04-04   Thursday\n0 2024-04-05     Friday",
      "text/html": "<div>\n<style scoped>\n    .dataframe tbody tr th:only-of-type {\n        vertical-align: middle;\n    }\n\n    .dataframe tbody tr th {\n        vertical-align: top;\n    }\n\n    .dataframe thead th {\n        text-align: right;\n    }\n</style>\n<table border=\"1\" class=\"dataframe\">\n  <thead>\n    <tr style=\"text-align: right;\">\n      <th></th>\n      <th>Fecha</th>\n      <th>Dia</th>\n    </tr>\n  </thead>\n  <tbody>\n    <tr>\n      <th>0</th>\n      <td>2024-03-30</td>\n      <td>Saturday</td>\n    </tr>\n    <tr>\n      <th>0</th>\n      <td>2024-03-31</td>\n      <td>Sunday</td>\n    </tr>\n    <tr>\n      <th>0</th>\n      <td>2024-04-01</td>\n      <td>Monday</td>\n    </tr>\n    <tr>\n      <th>0</th>\n      <td>2024-04-02</td>\n      <td>Tuesday</td>\n    </tr>\n    <tr>\n      <th>0</th>\n      <td>2024-04-03</td>\n      <td>Wednesday</td>\n    </tr>\n    <tr>\n      <th>0</th>\n      <td>2024-04-04</td>\n      <td>Thursday</td>\n    </tr>\n    <tr>\n      <th>0</th>\n      <td>2024-04-05</td>\n      <td>Friday</td>\n    </tr>\n  </tbody>\n</table>\n</div>"
     },
     "execution_count": 67,
     "metadata": {},
     "output_type": "execute_result"
    }
   ],
   "source": [
    "fechas"
   ],
   "metadata": {
    "collapsed": false,
    "ExecuteTime": {
     "end_time": "2024-06-11T16:21:42.556514200Z",
     "start_time": "2024-06-11T16:21:42.502483800Z"
    }
   },
   "id": "25fcf3db706fac8f"
  },
  {
   "cell_type": "markdown",
   "source": [
    "**INTEGRAMOS LA FECHA EXACTA**"
   ],
   "metadata": {
    "collapsed": false
   },
   "id": "f30a1f6449cd84be"
  },
  {
   "cell_type": "code",
   "execution_count": 68,
   "outputs": [
    {
     "data": {
      "text/plain": "      ClienteClave FrecuenciaClave EsquemaID RUTClave AlmacenPadreId  Dia_num  \\\n0       0665070000         0000010       D21  D001027           D001        5   \n1       0597250000         0000010       D21  D001027           D001        5   \n2       1832190001         0000010       D21  D001027           D001        5   \n3       1687200001         0000010       D21  D001027           D001        5   \n4       1577870001         0000010       D21  D001027           D001        5   \n...            ...             ...       ...      ...            ...      ...   \n75323   0318850000         1000000       D21  D003010           D003        0   \n75324   1359380001         1000000       D21  D002023           D002        0   \n75325   0585900000         1000000       D21  D002023           D002        0   \n75326   0417750000         1000000       D21  D002023           D002        0   \n75327   1359400001         1000000       D21  D002023           D002        0   \n\n       Total_Dias_Teoricos FrecuenciaClaveUnificada  Porcentaje_Normalizado  \\\n0                        6                  1111110               13.593294   \n1                        6                  1111110               16.519545   \n2                        6                  1111110               17.969939   \n3                        6                  1111110               18.504924   \n4                        6                  1111110               15.206662   \n...                    ...                      ...                     ...   \n75323                    3                  1010100               33.670585   \n75324                    3                  1010100               36.346012   \n75325                    3                  1010100               35.085867   \n75326                    3                  1010100               28.977424   \n75327                    3                  1010100               39.146339   \n\n       Volumen_Semanal(L)  Volumen_Dia(L) Dia_Carga Fecha_Carga  \n0               63.303040        8.604968    Friday  2024-04-05  \n1               58.078014        9.594224    Friday  2024-04-05  \n2               53.990185        9.702003    Friday  2024-04-05  \n3               86.005386       15.915231    Friday  2024-04-05  \n4               70.812607       10.768234    Friday  2024-04-05  \n...                   ...             ...       ...         ...  \n75323           51.923573       17.482971  Saturday  2024-03-30  \n75324           64.712769       23.520510  Saturday  2024-03-30  \n75325           61.761932       21.669710  Saturday  2024-03-30  \n75326           47.655968       13.809472  Saturday  2024-03-30  \n75327           71.115166       27.838984  Saturday  2024-03-30  \n\n[75328 rows x 13 columns]",
      "text/html": "<div>\n<style scoped>\n    .dataframe tbody tr th:only-of-type {\n        vertical-align: middle;\n    }\n\n    .dataframe tbody tr th {\n        vertical-align: top;\n    }\n\n    .dataframe thead th {\n        text-align: right;\n    }\n</style>\n<table border=\"1\" class=\"dataframe\">\n  <thead>\n    <tr style=\"text-align: right;\">\n      <th></th>\n      <th>ClienteClave</th>\n      <th>FrecuenciaClave</th>\n      <th>EsquemaID</th>\n      <th>RUTClave</th>\n      <th>AlmacenPadreId</th>\n      <th>Dia_num</th>\n      <th>Total_Dias_Teoricos</th>\n      <th>FrecuenciaClaveUnificada</th>\n      <th>Porcentaje_Normalizado</th>\n      <th>Volumen_Semanal(L)</th>\n      <th>Volumen_Dia(L)</th>\n      <th>Dia_Carga</th>\n      <th>Fecha_Carga</th>\n    </tr>\n  </thead>\n  <tbody>\n    <tr>\n      <th>0</th>\n      <td>0665070000</td>\n      <td>0000010</td>\n      <td>D21</td>\n      <td>D001027</td>\n      <td>D001</td>\n      <td>5</td>\n      <td>6</td>\n      <td>1111110</td>\n      <td>13.593294</td>\n      <td>63.303040</td>\n      <td>8.604968</td>\n      <td>Friday</td>\n      <td>2024-04-05</td>\n    </tr>\n    <tr>\n      <th>1</th>\n      <td>0597250000</td>\n      <td>0000010</td>\n      <td>D21</td>\n      <td>D001027</td>\n      <td>D001</td>\n      <td>5</td>\n      <td>6</td>\n      <td>1111110</td>\n      <td>16.519545</td>\n      <td>58.078014</td>\n      <td>9.594224</td>\n      <td>Friday</td>\n      <td>2024-04-05</td>\n    </tr>\n    <tr>\n      <th>2</th>\n      <td>1832190001</td>\n      <td>0000010</td>\n      <td>D21</td>\n      <td>D001027</td>\n      <td>D001</td>\n      <td>5</td>\n      <td>6</td>\n      <td>1111110</td>\n      <td>17.969939</td>\n      <td>53.990185</td>\n      <td>9.702003</td>\n      <td>Friday</td>\n      <td>2024-04-05</td>\n    </tr>\n    <tr>\n      <th>3</th>\n      <td>1687200001</td>\n      <td>0000010</td>\n      <td>D21</td>\n      <td>D001027</td>\n      <td>D001</td>\n      <td>5</td>\n      <td>6</td>\n      <td>1111110</td>\n      <td>18.504924</td>\n      <td>86.005386</td>\n      <td>15.915231</td>\n      <td>Friday</td>\n      <td>2024-04-05</td>\n    </tr>\n    <tr>\n      <th>4</th>\n      <td>1577870001</td>\n      <td>0000010</td>\n      <td>D21</td>\n      <td>D001027</td>\n      <td>D001</td>\n      <td>5</td>\n      <td>6</td>\n      <td>1111110</td>\n      <td>15.206662</td>\n      <td>70.812607</td>\n      <td>10.768234</td>\n      <td>Friday</td>\n      <td>2024-04-05</td>\n    </tr>\n    <tr>\n      <th>...</th>\n      <td>...</td>\n      <td>...</td>\n      <td>...</td>\n      <td>...</td>\n      <td>...</td>\n      <td>...</td>\n      <td>...</td>\n      <td>...</td>\n      <td>...</td>\n      <td>...</td>\n      <td>...</td>\n      <td>...</td>\n      <td>...</td>\n    </tr>\n    <tr>\n      <th>75323</th>\n      <td>0318850000</td>\n      <td>1000000</td>\n      <td>D21</td>\n      <td>D003010</td>\n      <td>D003</td>\n      <td>0</td>\n      <td>3</td>\n      <td>1010100</td>\n      <td>33.670585</td>\n      <td>51.923573</td>\n      <td>17.482971</td>\n      <td>Saturday</td>\n      <td>2024-03-30</td>\n    </tr>\n    <tr>\n      <th>75324</th>\n      <td>1359380001</td>\n      <td>1000000</td>\n      <td>D21</td>\n      <td>D002023</td>\n      <td>D002</td>\n      <td>0</td>\n      <td>3</td>\n      <td>1010100</td>\n      <td>36.346012</td>\n      <td>64.712769</td>\n      <td>23.520510</td>\n      <td>Saturday</td>\n      <td>2024-03-30</td>\n    </tr>\n    <tr>\n      <th>75325</th>\n      <td>0585900000</td>\n      <td>1000000</td>\n      <td>D21</td>\n      <td>D002023</td>\n      <td>D002</td>\n      <td>0</td>\n      <td>3</td>\n      <td>1010100</td>\n      <td>35.085867</td>\n      <td>61.761932</td>\n      <td>21.669710</td>\n      <td>Saturday</td>\n      <td>2024-03-30</td>\n    </tr>\n    <tr>\n      <th>75326</th>\n      <td>0417750000</td>\n      <td>1000000</td>\n      <td>D21</td>\n      <td>D002023</td>\n      <td>D002</td>\n      <td>0</td>\n      <td>3</td>\n      <td>1010100</td>\n      <td>28.977424</td>\n      <td>47.655968</td>\n      <td>13.809472</td>\n      <td>Saturday</td>\n      <td>2024-03-30</td>\n    </tr>\n    <tr>\n      <th>75327</th>\n      <td>1359400001</td>\n      <td>1000000</td>\n      <td>D21</td>\n      <td>D002023</td>\n      <td>D002</td>\n      <td>0</td>\n      <td>3</td>\n      <td>1010100</td>\n      <td>39.146339</td>\n      <td>71.115166</td>\n      <td>27.838984</td>\n      <td>Saturday</td>\n      <td>2024-03-30</td>\n    </tr>\n  </tbody>\n</table>\n<p>75328 rows × 13 columns</p>\n</div>"
     },
     "execution_count": 68,
     "metadata": {},
     "output_type": "execute_result"
    }
   ],
   "source": [
    "# Diccionario de equivalencias \n",
    "fechas_visita = {\"1000000\": \"Saturday\", \n",
    "                 \"0100000\": \"Monday\", \n",
    "                 \"0010000\": \"Tuesday\", \n",
    "                 \"0001000\": \"Wednesday\", \n",
    "                 \"0000100\":\"Thursday\", \n",
    "                 \"0000010\": \"Friday\"}\n",
    "\n",
    "# Integramos el día de carga a cada predicción de venta \n",
    "agenda_actual[\"Dia_Carga\"] = agenda_actual[\"FrecuenciaClave\"].map(arg=fechas_visita)\n",
    "\n",
    "# Lo vinculamos con la fecha concreta \n",
    "agenda_actual = pd.merge(left=agenda_actual, right=fechas, left_on=\"Dia_Carga\", right_on=\"Dia\")\n",
    "agenda_actual.rename(columns={\"Fecha\": \"Fecha_Carga\"}, inplace=True)\n",
    "agenda_actual.drop(columns=[\"Dia\"], inplace=True)\n",
    "agenda_actual"
   ],
   "metadata": {
    "collapsed": false,
    "ExecuteTime": {
     "end_time": "2024-06-11T16:21:43.084255Z",
     "start_time": "2024-06-11T16:21:42.999381300Z"
    }
   },
   "id": "3a7b6fd853106c9a"
  },
  {
   "cell_type": "markdown",
   "source": [
    "### 3.6) Exportación previa de resultados (solo volumen) "
   ],
   "metadata": {
    "collapsed": false
   },
   "id": "d3cfc69756dcecfd"
  },
  {
   "cell_type": "code",
   "execution_count": 69,
   "outputs": [],
   "source": [
    "predicion_vol = agenda_actual.copy()\n",
    "predicion_vol[\"ClienteClave\"] = predicion_vol[\"ClienteClave\"].astype(str)\n",
    "predicion_vol[\"FrecuenciaClave\"] = predicion_vol[\"FrecuenciaClave\"].astype(str)\n",
    "predicion_vol.to_excel(\"Resultados/Predicción volumen-dia por cliente.xlsx\", index=False)"
   ],
   "metadata": {
    "collapsed": false,
    "ExecuteTime": {
     "end_time": "2024-06-11T16:21:57.776262Z",
     "start_time": "2024-06-11T16:21:43.599500Z"
    }
   },
   "id": "4fc8ee2322dac399"
  },
  {
   "cell_type": "markdown",
   "source": [
    "## 4) Kmeans \n",
    "Recordemos que en la etapa de entrenamiento nuestro K means lo hicimos tomando en consideración solo los ulitmos 3 meses de datos.  Por lo que solo se hará la lectura de un solo conjunto de centroides"
   ],
   "metadata": {
    "collapsed": false
   },
   "id": "2ce15eeeaac1c4c7"
  },
  {
   "cell_type": "markdown",
   "source": [
    "### 4.1)  Importación del modelo "
   ],
   "metadata": {
    "collapsed": false
   },
   "id": "e1449458205c31ba"
  },
  {
   "cell_type": "code",
   "execution_count": 70,
   "outputs": [
    {
     "data": {
      "text/plain": "KMeans(n_clusters=4, n_init='auto', random_state=0)",
      "text/html": "<style>#sk-container-id-4 {color: black;}#sk-container-id-4 pre{padding: 0;}#sk-container-id-4 div.sk-toggleable {background-color: white;}#sk-container-id-4 label.sk-toggleable__label {cursor: pointer;display: block;width: 100%;margin-bottom: 0;padding: 0.3em;box-sizing: border-box;text-align: center;}#sk-container-id-4 label.sk-toggleable__label-arrow:before {content: \"▸\";float: left;margin-right: 0.25em;color: #696969;}#sk-container-id-4 label.sk-toggleable__label-arrow:hover:before {color: black;}#sk-container-id-4 div.sk-estimator:hover label.sk-toggleable__label-arrow:before {color: black;}#sk-container-id-4 div.sk-toggleable__content {max-height: 0;max-width: 0;overflow: hidden;text-align: left;background-color: #f0f8ff;}#sk-container-id-4 div.sk-toggleable__content pre {margin: 0.2em;color: black;border-radius: 0.25em;background-color: #f0f8ff;}#sk-container-id-4 input.sk-toggleable__control:checked~div.sk-toggleable__content {max-height: 200px;max-width: 100%;overflow: auto;}#sk-container-id-4 input.sk-toggleable__control:checked~label.sk-toggleable__label-arrow:before {content: \"▾\";}#sk-container-id-4 div.sk-estimator input.sk-toggleable__control:checked~label.sk-toggleable__label {background-color: #d4ebff;}#sk-container-id-4 div.sk-label input.sk-toggleable__control:checked~label.sk-toggleable__label {background-color: #d4ebff;}#sk-container-id-4 input.sk-hidden--visually {border: 0;clip: rect(1px 1px 1px 1px);clip: rect(1px, 1px, 1px, 1px);height: 1px;margin: -1px;overflow: hidden;padding: 0;position: absolute;width: 1px;}#sk-container-id-4 div.sk-estimator {font-family: monospace;background-color: #f0f8ff;border: 1px dotted black;border-radius: 0.25em;box-sizing: border-box;margin-bottom: 0.5em;}#sk-container-id-4 div.sk-estimator:hover {background-color: #d4ebff;}#sk-container-id-4 div.sk-parallel-item::after {content: \"\";width: 100%;border-bottom: 1px solid gray;flex-grow: 1;}#sk-container-id-4 div.sk-label:hover label.sk-toggleable__label {background-color: #d4ebff;}#sk-container-id-4 div.sk-serial::before {content: \"\";position: absolute;border-left: 1px solid gray;box-sizing: border-box;top: 0;bottom: 0;left: 50%;z-index: 0;}#sk-container-id-4 div.sk-serial {display: flex;flex-direction: column;align-items: center;background-color: white;padding-right: 0.2em;padding-left: 0.2em;position: relative;}#sk-container-id-4 div.sk-item {position: relative;z-index: 1;}#sk-container-id-4 div.sk-parallel {display: flex;align-items: stretch;justify-content: center;background-color: white;position: relative;}#sk-container-id-4 div.sk-item::before, #sk-container-id-4 div.sk-parallel-item::before {content: \"\";position: absolute;border-left: 1px solid gray;box-sizing: border-box;top: 0;bottom: 0;left: 50%;z-index: -1;}#sk-container-id-4 div.sk-parallel-item {display: flex;flex-direction: column;z-index: 1;position: relative;background-color: white;}#sk-container-id-4 div.sk-parallel-item:first-child::after {align-self: flex-end;width: 50%;}#sk-container-id-4 div.sk-parallel-item:last-child::after {align-self: flex-start;width: 50%;}#sk-container-id-4 div.sk-parallel-item:only-child::after {width: 0;}#sk-container-id-4 div.sk-dashed-wrapped {border: 1px dashed gray;margin: 0 0.4em 0.5em 0.4em;box-sizing: border-box;padding-bottom: 0.4em;background-color: white;}#sk-container-id-4 div.sk-label label {font-family: monospace;font-weight: bold;display: inline-block;line-height: 1.2em;}#sk-container-id-4 div.sk-label-container {text-align: center;}#sk-container-id-4 div.sk-container {/* jupyter's `normalize.less` sets `[hidden] { display: none; }` but bootstrap.min.css set `[hidden] { display: none !important; }` so we also need the `!important` here to be able to override the default hidden behavior on the sphinx rendered scikit-learn.org. See: https://github.com/scikit-learn/scikit-learn/issues/21755 */display: inline-block !important;position: relative;}#sk-container-id-4 div.sk-text-repr-fallback {display: none;}</style><div id=\"sk-container-id-4\" class=\"sk-top-container\"><div class=\"sk-text-repr-fallback\"><pre>KMeans(n_clusters=4, n_init=&#x27;auto&#x27;, random_state=0)</pre><b>In a Jupyter environment, please rerun this cell to show the HTML representation or trust the notebook. <br />On GitHub, the HTML representation is unable to render, please try loading this page with nbviewer.org.</b></div><div class=\"sk-container\" hidden><div class=\"sk-item\"><div class=\"sk-estimator sk-toggleable\"><input class=\"sk-toggleable__control sk-hidden--visually\" id=\"sk-estimator-id-4\" type=\"checkbox\" checked><label for=\"sk-estimator-id-4\" class=\"sk-toggleable__label sk-toggleable__label-arrow\">KMeans</label><div class=\"sk-toggleable__content\"><pre>KMeans(n_clusters=4, n_init=&#x27;auto&#x27;, random_state=0)</pre></div></div></div></div></div>"
     },
     "execution_count": 70,
     "metadata": {},
     "output_type": "execute_result"
    }
   ],
   "source": [
    "Kmeans_model = joblib.load(filename=f'Resultados/Modelos/Kmeans/modelo_kmeans.pkl')\n",
    "Kmeans_model"
   ],
   "metadata": {
    "collapsed": false,
    "ExecuteTime": {
     "end_time": "2024-06-11T16:21:58.023085300Z",
     "start_time": "2024-06-11T16:21:57.760258700Z"
    }
   },
   "id": "e76adc6a6aa3ed7b"
  },
  {
   "cell_type": "markdown",
   "source": [
    "### 4.2) Importación de datos adicionales\n",
    "Los datos adicionales se refiere a las etiquetas de cada uno de los clientes integrados en el modelo "
   ],
   "metadata": {
    "collapsed": false
   },
   "id": "88951986d34f790f"
  },
  {
   "cell_type": "markdown",
   "source": [
    "#### 4.2.1) Clientes y sus etiquetas \n",
    "Importaremos  a qué clusters pertenecen cada cliente "
   ],
   "metadata": {
    "collapsed": false
   },
   "id": "7bc2e835a9dd97cd"
  },
  {
   "cell_type": "code",
   "execution_count": 71,
   "outputs": [
    {
     "data": {
      "text/plain": "      ClienteClave  Cluster\n0       0100110001        0\n1       0100110002        0\n2       0100800011        1\n3       0100900001        3\n4       0100900004        0\n...            ...      ...\n21214   1931660001        3\n21215   1931670001        3\n21216   1931680001        1\n21217   1931700001        3\n21218   1931740001        3\n\n[21219 rows x 2 columns]",
      "text/html": "<div>\n<style scoped>\n    .dataframe tbody tr th:only-of-type {\n        vertical-align: middle;\n    }\n\n    .dataframe tbody tr th {\n        vertical-align: top;\n    }\n\n    .dataframe thead th {\n        text-align: right;\n    }\n</style>\n<table border=\"1\" class=\"dataframe\">\n  <thead>\n    <tr style=\"text-align: right;\">\n      <th></th>\n      <th>ClienteClave</th>\n      <th>Cluster</th>\n    </tr>\n  </thead>\n  <tbody>\n    <tr>\n      <th>0</th>\n      <td>0100110001</td>\n      <td>0</td>\n    </tr>\n    <tr>\n      <th>1</th>\n      <td>0100110002</td>\n      <td>0</td>\n    </tr>\n    <tr>\n      <th>2</th>\n      <td>0100800011</td>\n      <td>1</td>\n    </tr>\n    <tr>\n      <th>3</th>\n      <td>0100900001</td>\n      <td>3</td>\n    </tr>\n    <tr>\n      <th>4</th>\n      <td>0100900004</td>\n      <td>0</td>\n    </tr>\n    <tr>\n      <th>...</th>\n      <td>...</td>\n      <td>...</td>\n    </tr>\n    <tr>\n      <th>21214</th>\n      <td>1931660001</td>\n      <td>3</td>\n    </tr>\n    <tr>\n      <th>21215</th>\n      <td>1931670001</td>\n      <td>3</td>\n    </tr>\n    <tr>\n      <th>21216</th>\n      <td>1931680001</td>\n      <td>1</td>\n    </tr>\n    <tr>\n      <th>21217</th>\n      <td>1931700001</td>\n      <td>3</td>\n    </tr>\n    <tr>\n      <th>21218</th>\n      <td>1931740001</td>\n      <td>3</td>\n    </tr>\n  </tbody>\n</table>\n<p>21219 rows × 2 columns</p>\n</div>"
     },
     "execution_count": 71,
     "metadata": {},
     "output_type": "execute_result"
    }
   ],
   "source": [
    "etiquetas_cientes = pd.read_parquet(path=\"Resultados/Tablas/Clientes_Cluster.parquet\")\n",
    "etiquetas_cientes"
   ],
   "metadata": {
    "collapsed": false,
    "ExecuteTime": {
     "end_time": "2024-06-11T16:21:58.037916300Z",
     "start_time": "2024-06-11T16:21:58.017083400Z"
    }
   },
   "id": "b958583323e5e142"
  },
  {
   "cell_type": "code",
   "execution_count": 72,
   "outputs": [
    {
     "data": {
      "text/plain": "Cluster\n3    9533\n0    7370\n1    2413\n2    1903\nName: count, dtype: int64"
     },
     "execution_count": 72,
     "metadata": {},
     "output_type": "execute_result"
    }
   ],
   "source": [
    "etiquetas_cientes[\"Cluster\"].value_counts() # Visualización  de la cantidad de clientes por cluster"
   ],
   "metadata": {
    "collapsed": false,
    "ExecuteTime": {
     "end_time": "2024-06-11T16:21:58.038917400Z",
     "start_time": "2024-06-11T16:21:58.029823500Z"
    }
   },
   "id": "2b28eb5f2b45eddd"
  },
  {
   "cell_type": "markdown",
   "source": [
    "#### 4.2.2) Importación de formato de columnas (distribución de productos) "
   ],
   "metadata": {
    "collapsed": false
   },
   "id": "3321caec6c64f9a3"
  },
  {
   "cell_type": "code",
   "execution_count": 73,
   "outputs": [
    {
     "data": {
      "text/plain": "Empty DataFrame\nColumns: [0006, 0014, 0017, 0024, 0025, 0026, 0037, 0053, 0055, 0056, 0058, 0065, 0080, 0082, 0083, 0084, 0085, 0086, 0097, 0132, 0155, 0180, 0182, 0187, 0188, 0193, 0195, 0198, 0217, 0218, 0219, 0220, 0221, 0224, 0267, 0286, 0287, 0291, 0333, 0343, 0347, 0351, 0354, 0355, 0356, 0357, 0360, 0387, 0412, 0417, 0419, 0420, 0422, 0486, 0488, 0522, 0541, 0542, 0543, 0545, 0546, 0580, 0583, 0584, 0585, 0591, 0594, 0605, 0607, 0608, 0609, 0610, 0611, 0612, 0613, 0614, 0640, 0653, 0655, 0656, 0685, 0686, 0687, 0689, 0705, 0706, 0707, 0730, 0735, 0741, 0750, 0859, 0860, 0862, 0882, 0883, 0884, 0885, 0886, 0887, ...]\nIndex: []\n\n[0 rows x 108 columns]",
      "text/html": "<div>\n<style scoped>\n    .dataframe tbody tr th:only-of-type {\n        vertical-align: middle;\n    }\n\n    .dataframe tbody tr th {\n        vertical-align: top;\n    }\n\n    .dataframe thead th {\n        text-align: right;\n    }\n</style>\n<table border=\"1\" class=\"dataframe\">\n  <thead>\n    <tr style=\"text-align: right;\">\n      <th></th>\n      <th>0006</th>\n      <th>0014</th>\n      <th>0017</th>\n      <th>0024</th>\n      <th>0025</th>\n      <th>0026</th>\n      <th>0037</th>\n      <th>0053</th>\n      <th>0055</th>\n      <th>0056</th>\n      <th>...</th>\n      <th>0886</th>\n      <th>0887</th>\n      <th>0888</th>\n      <th>0889</th>\n      <th>0890</th>\n      <th>0918</th>\n      <th>0959</th>\n      <th>0960</th>\n      <th>0961</th>\n      <th>2905</th>\n    </tr>\n  </thead>\n  <tbody>\n  </tbody>\n</table>\n<p>0 rows × 108 columns</p>\n</div>"
     },
     "execution_count": 73,
     "metadata": {},
     "output_type": "execute_result"
    }
   ],
   "source": [
    "columnas_clusters = pd.read_parquet(path=\"Resultados/producto_columna.parquet\")\n",
    "columnas_clusters"
   ],
   "metadata": {
    "collapsed": false,
    "ExecuteTime": {
     "end_time": "2024-06-11T16:21:58.163225500Z",
     "start_time": "2024-06-11T16:21:58.033915400Z"
    }
   },
   "id": "7d1ec6db69a325ce"
  },
  {
   "cell_type": "markdown",
   "source": [
    "### 4.2.3) Importación de la distribución historica real de productos\n",
    "En esta sección lo que pondremos es la distribución porcentual historia real de los productos, esto con la finalidad de en caso de ser necesario poder hacer una  ponderación o mezcla entre la distribución sugerida y la distribución real "
   ],
   "metadata": {
    "collapsed": false
   },
   "id": "94562b73ac628aaf"
  },
  {
   "cell_type": "code",
   "execution_count": 74,
   "outputs": [
    {
     "data": {
      "text/plain": "      ClienteClave       0006      0014      0017      0024      0025  \\\n0       0100110001  20.047291  0.462630  0.462630  0.616840  1.799116   \n1       0100110002   9.046183  0.000000  0.000000  0.000000  0.126108   \n2       0100800011   0.000000  0.000000  0.000000  0.000000  0.000000   \n3       0100900001  16.003711  2.145425  2.609301  3.884959  2.667285   \n4       0100900004  13.822337  0.998280  0.383954  2.380514  5.144981   \n...            ...        ...       ...       ...       ...       ...   \n21214   1931660001  21.402392  1.070120  0.735707  1.538297  2.675299   \n21215   1931670001  13.136681  1.866006  2.761689  3.209530  2.463128   \n21216   1931680001   4.300151  1.535768  1.650951  1.612556  2.303652   \n21217   1931700001  16.132580  3.116521  3.849820  5.133094  2.383222   \n21218   1931740001   9.955752  0.000000  0.645280  1.659292  0.921829   \n\n           0026  0037  0053  0055  ...  0886  0887  0888  0889  0890  0918  \\\n0      2.929989   0.0   0.0   0.0  ...   0.0   0.0   0.0   0.0   0.0   0.0   \n1      0.033629   0.0   0.0   0.0  ...   0.0   0.0   0.0   0.0   0.0   0.0   \n2      0.000000   0.0   0.0   0.0  ...   0.0   0.0   0.0   0.0   0.0   0.0   \n3      9.973327   0.0   0.0   0.0  ...   0.0   0.0   0.0   0.0   0.0   0.0   \n4      9.982799   0.0   0.0   0.0  ...   0.0   0.0   0.0   0.0   0.0   0.0   \n...         ...   ...   ...   ...  ...   ...   ...   ...   ...   ...   ...   \n21214  4.280478   0.0   0.0   0.0  ...   0.0   0.0   0.0   0.0   0.0   0.0   \n21215  4.329134   0.0   0.0   0.0  ...   0.0   0.0   0.0   0.0   0.0   0.0   \n21216  5.068035   0.0   0.0   0.0  ...   0.0   0.0   0.0   0.0   0.0   0.0   \n21217  6.233042   0.0   0.0   0.0  ...   0.0   0.0   0.0   0.0   0.0   0.0   \n21218  2.028024   0.0   0.0   0.0  ...   0.0   0.0   0.0   0.0   0.0   0.0   \n\n       0959  0960  0961  2905  \n0       0.0   0.0   0.0   0.0  \n1       0.0   0.0   0.0   0.0  \n2       0.0   0.0   0.0   0.0  \n3       0.0   0.0   0.0   0.0  \n4       0.0   0.0   0.0   0.0  \n...     ...   ...   ...   ...  \n21214   0.0   0.0   0.0   0.0  \n21215   0.0   0.0   0.0   0.0  \n21216   0.0   0.0   0.0   0.0  \n21217   0.0   0.0   0.0   0.0  \n21218   0.0   0.0   0.0   0.0  \n\n[21219 rows x 109 columns]",
      "text/html": "<div>\n<style scoped>\n    .dataframe tbody tr th:only-of-type {\n        vertical-align: middle;\n    }\n\n    .dataframe tbody tr th {\n        vertical-align: top;\n    }\n\n    .dataframe thead th {\n        text-align: right;\n    }\n</style>\n<table border=\"1\" class=\"dataframe\">\n  <thead>\n    <tr style=\"text-align: right;\">\n      <th></th>\n      <th>ClienteClave</th>\n      <th>0006</th>\n      <th>0014</th>\n      <th>0017</th>\n      <th>0024</th>\n      <th>0025</th>\n      <th>0026</th>\n      <th>0037</th>\n      <th>0053</th>\n      <th>0055</th>\n      <th>...</th>\n      <th>0886</th>\n      <th>0887</th>\n      <th>0888</th>\n      <th>0889</th>\n      <th>0890</th>\n      <th>0918</th>\n      <th>0959</th>\n      <th>0960</th>\n      <th>0961</th>\n      <th>2905</th>\n    </tr>\n  </thead>\n  <tbody>\n    <tr>\n      <th>0</th>\n      <td>0100110001</td>\n      <td>20.047291</td>\n      <td>0.462630</td>\n      <td>0.462630</td>\n      <td>0.616840</td>\n      <td>1.799116</td>\n      <td>2.929989</td>\n      <td>0.0</td>\n      <td>0.0</td>\n      <td>0.0</td>\n      <td>...</td>\n      <td>0.0</td>\n      <td>0.0</td>\n      <td>0.0</td>\n      <td>0.0</td>\n      <td>0.0</td>\n      <td>0.0</td>\n      <td>0.0</td>\n      <td>0.0</td>\n      <td>0.0</td>\n      <td>0.0</td>\n    </tr>\n    <tr>\n      <th>1</th>\n      <td>0100110002</td>\n      <td>9.046183</td>\n      <td>0.000000</td>\n      <td>0.000000</td>\n      <td>0.000000</td>\n      <td>0.126108</td>\n      <td>0.033629</td>\n      <td>0.0</td>\n      <td>0.0</td>\n      <td>0.0</td>\n      <td>...</td>\n      <td>0.0</td>\n      <td>0.0</td>\n      <td>0.0</td>\n      <td>0.0</td>\n      <td>0.0</td>\n      <td>0.0</td>\n      <td>0.0</td>\n      <td>0.0</td>\n      <td>0.0</td>\n      <td>0.0</td>\n    </tr>\n    <tr>\n      <th>2</th>\n      <td>0100800011</td>\n      <td>0.000000</td>\n      <td>0.000000</td>\n      <td>0.000000</td>\n      <td>0.000000</td>\n      <td>0.000000</td>\n      <td>0.000000</td>\n      <td>0.0</td>\n      <td>0.0</td>\n      <td>0.0</td>\n      <td>...</td>\n      <td>0.0</td>\n      <td>0.0</td>\n      <td>0.0</td>\n      <td>0.0</td>\n      <td>0.0</td>\n      <td>0.0</td>\n      <td>0.0</td>\n      <td>0.0</td>\n      <td>0.0</td>\n      <td>0.0</td>\n    </tr>\n    <tr>\n      <th>3</th>\n      <td>0100900001</td>\n      <td>16.003711</td>\n      <td>2.145425</td>\n      <td>2.609301</td>\n      <td>3.884959</td>\n      <td>2.667285</td>\n      <td>9.973327</td>\n      <td>0.0</td>\n      <td>0.0</td>\n      <td>0.0</td>\n      <td>...</td>\n      <td>0.0</td>\n      <td>0.0</td>\n      <td>0.0</td>\n      <td>0.0</td>\n      <td>0.0</td>\n      <td>0.0</td>\n      <td>0.0</td>\n      <td>0.0</td>\n      <td>0.0</td>\n      <td>0.0</td>\n    </tr>\n    <tr>\n      <th>4</th>\n      <td>0100900004</td>\n      <td>13.822337</td>\n      <td>0.998280</td>\n      <td>0.383954</td>\n      <td>2.380514</td>\n      <td>5.144981</td>\n      <td>9.982799</td>\n      <td>0.0</td>\n      <td>0.0</td>\n      <td>0.0</td>\n      <td>...</td>\n      <td>0.0</td>\n      <td>0.0</td>\n      <td>0.0</td>\n      <td>0.0</td>\n      <td>0.0</td>\n      <td>0.0</td>\n      <td>0.0</td>\n      <td>0.0</td>\n      <td>0.0</td>\n      <td>0.0</td>\n    </tr>\n    <tr>\n      <th>...</th>\n      <td>...</td>\n      <td>...</td>\n      <td>...</td>\n      <td>...</td>\n      <td>...</td>\n      <td>...</td>\n      <td>...</td>\n      <td>...</td>\n      <td>...</td>\n      <td>...</td>\n      <td>...</td>\n      <td>...</td>\n      <td>...</td>\n      <td>...</td>\n      <td>...</td>\n      <td>...</td>\n      <td>...</td>\n      <td>...</td>\n      <td>...</td>\n      <td>...</td>\n      <td>...</td>\n    </tr>\n    <tr>\n      <th>21214</th>\n      <td>1931660001</td>\n      <td>21.402392</td>\n      <td>1.070120</td>\n      <td>0.735707</td>\n      <td>1.538297</td>\n      <td>2.675299</td>\n      <td>4.280478</td>\n      <td>0.0</td>\n      <td>0.0</td>\n      <td>0.0</td>\n      <td>...</td>\n      <td>0.0</td>\n      <td>0.0</td>\n      <td>0.0</td>\n      <td>0.0</td>\n      <td>0.0</td>\n      <td>0.0</td>\n      <td>0.0</td>\n      <td>0.0</td>\n      <td>0.0</td>\n      <td>0.0</td>\n    </tr>\n    <tr>\n      <th>21215</th>\n      <td>1931670001</td>\n      <td>13.136681</td>\n      <td>1.866006</td>\n      <td>2.761689</td>\n      <td>3.209530</td>\n      <td>2.463128</td>\n      <td>4.329134</td>\n      <td>0.0</td>\n      <td>0.0</td>\n      <td>0.0</td>\n      <td>...</td>\n      <td>0.0</td>\n      <td>0.0</td>\n      <td>0.0</td>\n      <td>0.0</td>\n      <td>0.0</td>\n      <td>0.0</td>\n      <td>0.0</td>\n      <td>0.0</td>\n      <td>0.0</td>\n      <td>0.0</td>\n    </tr>\n    <tr>\n      <th>21216</th>\n      <td>1931680001</td>\n      <td>4.300151</td>\n      <td>1.535768</td>\n      <td>1.650951</td>\n      <td>1.612556</td>\n      <td>2.303652</td>\n      <td>5.068035</td>\n      <td>0.0</td>\n      <td>0.0</td>\n      <td>0.0</td>\n      <td>...</td>\n      <td>0.0</td>\n      <td>0.0</td>\n      <td>0.0</td>\n      <td>0.0</td>\n      <td>0.0</td>\n      <td>0.0</td>\n      <td>0.0</td>\n      <td>0.0</td>\n      <td>0.0</td>\n      <td>0.0</td>\n    </tr>\n    <tr>\n      <th>21217</th>\n      <td>1931700001</td>\n      <td>16.132580</td>\n      <td>3.116521</td>\n      <td>3.849820</td>\n      <td>5.133094</td>\n      <td>2.383222</td>\n      <td>6.233042</td>\n      <td>0.0</td>\n      <td>0.0</td>\n      <td>0.0</td>\n      <td>...</td>\n      <td>0.0</td>\n      <td>0.0</td>\n      <td>0.0</td>\n      <td>0.0</td>\n      <td>0.0</td>\n      <td>0.0</td>\n      <td>0.0</td>\n      <td>0.0</td>\n      <td>0.0</td>\n      <td>0.0</td>\n    </tr>\n    <tr>\n      <th>21218</th>\n      <td>1931740001</td>\n      <td>9.955752</td>\n      <td>0.000000</td>\n      <td>0.645280</td>\n      <td>1.659292</td>\n      <td>0.921829</td>\n      <td>2.028024</td>\n      <td>0.0</td>\n      <td>0.0</td>\n      <td>0.0</td>\n      <td>...</td>\n      <td>0.0</td>\n      <td>0.0</td>\n      <td>0.0</td>\n      <td>0.0</td>\n      <td>0.0</td>\n      <td>0.0</td>\n      <td>0.0</td>\n      <td>0.0</td>\n      <td>0.0</td>\n      <td>0.0</td>\n    </tr>\n  </tbody>\n</table>\n<p>21219 rows × 109 columns</p>\n</div>"
     },
     "execution_count": 74,
     "metadata": {},
     "output_type": "execute_result"
    }
   ],
   "source": [
    "consumo_historico_real  = pd.read_parquet(path=\"Resultados/consumo_hisorico_cliente.parquet\")\n",
    "consumo_historico_real"
   ],
   "metadata": {
    "collapsed": false,
    "ExecuteTime": {
     "end_time": "2024-06-11T16:21:58.194343Z",
     "start_time": "2024-06-11T16:21:58.054089800Z"
    }
   },
   "id": "7a2251ab783e1182"
  },
  {
   "cell_type": "markdown",
   "source": [
    "### 4.3) Implementación de resultados "
   ],
   "metadata": {
    "collapsed": false
   },
   "id": "eeabda79c76d7701"
  },
  {
   "cell_type": "markdown",
   "source": [
    "**EXTRACCION DE CENTROIDES**"
   ],
   "metadata": {
    "collapsed": false
   },
   "id": "2142547f4faec847"
  },
  {
   "cell_type": "code",
   "execution_count": 75,
   "outputs": [
    {
     "data": {
      "text/plain": "        0006      0014      0017      0024      0025      0026      0037  \\\n0  18.022561  0.811250  0.887064  1.145716  1.772792  4.825944  1.325848   \n1   9.065257  0.859610  1.051114  1.235285  1.478502  3.166529  0.056521   \n2  13.036844  0.940207  1.076695  1.083436  0.900945  2.619486  0.486077   \n3  15.435601  1.391844  1.642200  1.971960  2.282679  5.263540  0.254675   \n\n       0053      0055      0056  ...      0887      0888          0889  \\\n0  0.014027  0.023304  0.453315  ...  0.113437  0.240150  3.096375e-03   \n1  0.015411  0.021499  0.595862  ...  0.065412  0.072343  4.857226e-17   \n2  0.004277  0.005402  1.683338  ...  0.182211  0.479345  1.312816e-02   \n3  0.019021  0.029996  0.608032  ...  0.072279  0.151086  1.370321e-02   \n\n       0890      0918      0959      0960      0961          2905  Cluster  \n0  0.128855  0.009692  0.023670  0.003998  0.004708  6.203855e-23        0  \n1  0.067236  0.017764  0.012969  0.005146  0.003262  5.093157e-08        1  \n2  0.302717  0.003277  0.059355  0.031102  0.026431  5.790264e-24        2  \n3  0.112319  0.016745  0.022645  0.008862  0.006450  4.963084e-23        3  \n\n[4 rows x 109 columns]",
      "text/html": "<div>\n<style scoped>\n    .dataframe tbody tr th:only-of-type {\n        vertical-align: middle;\n    }\n\n    .dataframe tbody tr th {\n        vertical-align: top;\n    }\n\n    .dataframe thead th {\n        text-align: right;\n    }\n</style>\n<table border=\"1\" class=\"dataframe\">\n  <thead>\n    <tr style=\"text-align: right;\">\n      <th></th>\n      <th>0006</th>\n      <th>0014</th>\n      <th>0017</th>\n      <th>0024</th>\n      <th>0025</th>\n      <th>0026</th>\n      <th>0037</th>\n      <th>0053</th>\n      <th>0055</th>\n      <th>0056</th>\n      <th>...</th>\n      <th>0887</th>\n      <th>0888</th>\n      <th>0889</th>\n      <th>0890</th>\n      <th>0918</th>\n      <th>0959</th>\n      <th>0960</th>\n      <th>0961</th>\n      <th>2905</th>\n      <th>Cluster</th>\n    </tr>\n  </thead>\n  <tbody>\n    <tr>\n      <th>0</th>\n      <td>18.022561</td>\n      <td>0.811250</td>\n      <td>0.887064</td>\n      <td>1.145716</td>\n      <td>1.772792</td>\n      <td>4.825944</td>\n      <td>1.325848</td>\n      <td>0.014027</td>\n      <td>0.023304</td>\n      <td>0.453315</td>\n      <td>...</td>\n      <td>0.113437</td>\n      <td>0.240150</td>\n      <td>3.096375e-03</td>\n      <td>0.128855</td>\n      <td>0.009692</td>\n      <td>0.023670</td>\n      <td>0.003998</td>\n      <td>0.004708</td>\n      <td>6.203855e-23</td>\n      <td>0</td>\n    </tr>\n    <tr>\n      <th>1</th>\n      <td>9.065257</td>\n      <td>0.859610</td>\n      <td>1.051114</td>\n      <td>1.235285</td>\n      <td>1.478502</td>\n      <td>3.166529</td>\n      <td>0.056521</td>\n      <td>0.015411</td>\n      <td>0.021499</td>\n      <td>0.595862</td>\n      <td>...</td>\n      <td>0.065412</td>\n      <td>0.072343</td>\n      <td>4.857226e-17</td>\n      <td>0.067236</td>\n      <td>0.017764</td>\n      <td>0.012969</td>\n      <td>0.005146</td>\n      <td>0.003262</td>\n      <td>5.093157e-08</td>\n      <td>1</td>\n    </tr>\n    <tr>\n      <th>2</th>\n      <td>13.036844</td>\n      <td>0.940207</td>\n      <td>1.076695</td>\n      <td>1.083436</td>\n      <td>0.900945</td>\n      <td>2.619486</td>\n      <td>0.486077</td>\n      <td>0.004277</td>\n      <td>0.005402</td>\n      <td>1.683338</td>\n      <td>...</td>\n      <td>0.182211</td>\n      <td>0.479345</td>\n      <td>1.312816e-02</td>\n      <td>0.302717</td>\n      <td>0.003277</td>\n      <td>0.059355</td>\n      <td>0.031102</td>\n      <td>0.026431</td>\n      <td>5.790264e-24</td>\n      <td>2</td>\n    </tr>\n    <tr>\n      <th>3</th>\n      <td>15.435601</td>\n      <td>1.391844</td>\n      <td>1.642200</td>\n      <td>1.971960</td>\n      <td>2.282679</td>\n      <td>5.263540</td>\n      <td>0.254675</td>\n      <td>0.019021</td>\n      <td>0.029996</td>\n      <td>0.608032</td>\n      <td>...</td>\n      <td>0.072279</td>\n      <td>0.151086</td>\n      <td>1.370321e-02</td>\n      <td>0.112319</td>\n      <td>0.016745</td>\n      <td>0.022645</td>\n      <td>0.008862</td>\n      <td>0.006450</td>\n      <td>4.963084e-23</td>\n      <td>3</td>\n    </tr>\n  </tbody>\n</table>\n<p>4 rows × 109 columns</p>\n</div>"
     },
     "execution_count": 75,
     "metadata": {},
     "output_type": "execute_result"
    }
   ],
   "source": [
    "centroides = Kmeans_model.cluster_centers_\n",
    "centroides = pd.DataFrame(data=centroides, columns=columnas_clusters.columns)\n",
    "centroides[\"Cluster\"] = centroides.index\n",
    "centroides"
   ],
   "metadata": {
    "collapsed": false,
    "ExecuteTime": {
     "end_time": "2024-06-11T16:21:58.194343Z",
     "start_time": "2024-06-11T16:21:58.094804200Z"
    }
   },
   "id": "3024eef1bccccdae"
  },
  {
   "cell_type": "markdown",
   "source": [
    "**INSPECCION DE PORCENTAJES DE DISTRIBUCION  DE PRODUCTOS POR CLUSTERS** "
   ],
   "metadata": {
    "collapsed": false
   },
   "id": "f40e57ba509b3e84"
  },
  {
   "cell_type": "code",
   "execution_count": 76,
   "outputs": [
    {
     "data": {
      "text/plain": "         Cluster_Cero   Cluster_Uno    Cluter_Dos             3\n0006     1.802256e+01  9.065257e+00  1.303684e+01  1.543560e+01\n0014     8.112502e-01  8.596098e-01  9.402067e-01  1.391844e+00\n0017     8.870642e-01  1.051114e+00  1.076695e+00  1.642200e+00\n0024     1.145716e+00  1.235285e+00  1.083436e+00  1.971960e+00\n0025     1.772792e+00  1.478502e+00  9.009446e-01  2.282679e+00\n...               ...           ...           ...           ...\n0959     2.367043e-02  1.296921e-02  5.935498e-02  2.264460e-02\n0960     3.997806e-03  5.146055e-03  3.110174e-02  8.861748e-03\n0961     4.708371e-03  3.262466e-03  2.643050e-02  6.450478e-03\n2905     6.203855e-23  5.093157e-08  5.790264e-24  4.963084e-23\nCluster  0.000000e+00  1.000000e+00  2.000000e+00  3.000000e+00\n\n[109 rows x 4 columns]",
      "text/html": "<div>\n<style scoped>\n    .dataframe tbody tr th:only-of-type {\n        vertical-align: middle;\n    }\n\n    .dataframe tbody tr th {\n        vertical-align: top;\n    }\n\n    .dataframe thead th {\n        text-align: right;\n    }\n</style>\n<table border=\"1\" class=\"dataframe\">\n  <thead>\n    <tr style=\"text-align: right;\">\n      <th></th>\n      <th>Cluster_Cero</th>\n      <th>Cluster_Uno</th>\n      <th>Cluter_Dos</th>\n      <th>3</th>\n    </tr>\n  </thead>\n  <tbody>\n    <tr>\n      <th>0006</th>\n      <td>1.802256e+01</td>\n      <td>9.065257e+00</td>\n      <td>1.303684e+01</td>\n      <td>1.543560e+01</td>\n    </tr>\n    <tr>\n      <th>0014</th>\n      <td>8.112502e-01</td>\n      <td>8.596098e-01</td>\n      <td>9.402067e-01</td>\n      <td>1.391844e+00</td>\n    </tr>\n    <tr>\n      <th>0017</th>\n      <td>8.870642e-01</td>\n      <td>1.051114e+00</td>\n      <td>1.076695e+00</td>\n      <td>1.642200e+00</td>\n    </tr>\n    <tr>\n      <th>0024</th>\n      <td>1.145716e+00</td>\n      <td>1.235285e+00</td>\n      <td>1.083436e+00</td>\n      <td>1.971960e+00</td>\n    </tr>\n    <tr>\n      <th>0025</th>\n      <td>1.772792e+00</td>\n      <td>1.478502e+00</td>\n      <td>9.009446e-01</td>\n      <td>2.282679e+00</td>\n    </tr>\n    <tr>\n      <th>...</th>\n      <td>...</td>\n      <td>...</td>\n      <td>...</td>\n      <td>...</td>\n    </tr>\n    <tr>\n      <th>0959</th>\n      <td>2.367043e-02</td>\n      <td>1.296921e-02</td>\n      <td>5.935498e-02</td>\n      <td>2.264460e-02</td>\n    </tr>\n    <tr>\n      <th>0960</th>\n      <td>3.997806e-03</td>\n      <td>5.146055e-03</td>\n      <td>3.110174e-02</td>\n      <td>8.861748e-03</td>\n    </tr>\n    <tr>\n      <th>0961</th>\n      <td>4.708371e-03</td>\n      <td>3.262466e-03</td>\n      <td>2.643050e-02</td>\n      <td>6.450478e-03</td>\n    </tr>\n    <tr>\n      <th>2905</th>\n      <td>6.203855e-23</td>\n      <td>5.093157e-08</td>\n      <td>5.790264e-24</td>\n      <td>4.963084e-23</td>\n    </tr>\n    <tr>\n      <th>Cluster</th>\n      <td>0.000000e+00</td>\n      <td>1.000000e+00</td>\n      <td>2.000000e+00</td>\n      <td>3.000000e+00</td>\n    </tr>\n  </tbody>\n</table>\n<p>109 rows × 4 columns</p>\n</div>"
     },
     "execution_count": 76,
     "metadata": {},
     "output_type": "execute_result"
    }
   ],
   "source": [
    "test = centroides.T\n",
    "test.rename(columns={0:\"Cluster_Cero\", 1:\"Cluster_Uno\", 2:\"Cluter_Dos\"}, inplace=True)\n",
    "test"
   ],
   "metadata": {
    "collapsed": false,
    "ExecuteTime": {
     "end_time": "2024-06-11T16:21:58.195344400Z",
     "start_time": "2024-06-11T16:21:58.106942700Z"
    }
   },
   "id": "18a9a75ade8ac44"
  },
  {
   "cell_type": "code",
   "execution_count": 77,
   "outputs": [
    {
     "name": "stdout",
     "output_type": "stream",
     "text": [
      "Porcentaje total: 99.99999999999997\n"
     ]
    }
   ],
   "source": [
    "try:\n",
    "    print(\"Porcentaje total:\", test[\"Cluster_Cero\"].sum())\n",
    "\n",
    "except:\n",
    "    print(\"No hay este dato\")"
   ],
   "metadata": {
    "collapsed": false,
    "ExecuteTime": {
     "end_time": "2024-06-11T16:21:58.195344400Z",
     "start_time": "2024-06-11T16:21:58.115437100Z"
    }
   },
   "id": "95b223c38e9913d5"
  },
  {
   "cell_type": "markdown",
   "source": [
    "**IDENTIFICACION DE CLIENTES ACTUALES**"
   ],
   "metadata": {
    "collapsed": false
   },
   "id": "ff108bb5d9b264f6"
  },
  {
   "cell_type": "code",
   "execution_count": 78,
   "outputs": [
    {
     "data": {
      "text/plain": "      ClienteClave FrecuenciaClave EsquemaID RUTClave AlmacenPadreId  Dia_num  \\\n0       0665070000         0000010       D21  D001027           D001        5   \n1       0597250000         0000010       D21  D001027           D001        5   \n2       1832190001         0000010       D21  D001027           D001        5   \n3       1687200001         0000010       D21  D001027           D001        5   \n4       1577870001         0000010       D21  D001027           D001        5   \n...            ...             ...       ...      ...            ...      ...   \n75323   0318850000         1000000       D21  D003010           D003        0   \n75324   1359380001         1000000       D21  D002023           D002        0   \n75325   0585900000         1000000       D21  D002023           D002        0   \n75326   0417750000         1000000       D21  D002023           D002        0   \n75327   1359400001         1000000       D21  D002023           D002        0   \n\n       Total_Dias_Teoricos FrecuenciaClaveUnificada  Porcentaje_Normalizado  \\\n0                        6                  1111110               13.593294   \n1                        6                  1111110               16.519545   \n2                        6                  1111110               17.969939   \n3                        6                  1111110               18.504924   \n4                        6                  1111110               15.206662   \n...                    ...                      ...                     ...   \n75323                    3                  1010100               33.670585   \n75324                    3                  1010100               36.346012   \n75325                    3                  1010100               35.085867   \n75326                    3                  1010100               28.977424   \n75327                    3                  1010100               39.146339   \n\n       Volumen_Semanal(L)  Volumen_Dia(L) Dia_Carga Fecha_Carga  \n0               63.303040        8.604968    Friday  2024-04-05  \n1               58.078014        9.594224    Friday  2024-04-05  \n2               53.990185        9.702003    Friday  2024-04-05  \n3               86.005386       15.915231    Friday  2024-04-05  \n4               70.812607       10.768234    Friday  2024-04-05  \n...                   ...             ...       ...         ...  \n75323           51.923573       17.482971  Saturday  2024-03-30  \n75324           64.712769       23.520510  Saturday  2024-03-30  \n75325           61.761932       21.669710  Saturday  2024-03-30  \n75326           47.655968       13.809472  Saturday  2024-03-30  \n75327           71.115166       27.838984  Saturday  2024-03-30  \n\n[75328 rows x 13 columns]",
      "text/html": "<div>\n<style scoped>\n    .dataframe tbody tr th:only-of-type {\n        vertical-align: middle;\n    }\n\n    .dataframe tbody tr th {\n        vertical-align: top;\n    }\n\n    .dataframe thead th {\n        text-align: right;\n    }\n</style>\n<table border=\"1\" class=\"dataframe\">\n  <thead>\n    <tr style=\"text-align: right;\">\n      <th></th>\n      <th>ClienteClave</th>\n      <th>FrecuenciaClave</th>\n      <th>EsquemaID</th>\n      <th>RUTClave</th>\n      <th>AlmacenPadreId</th>\n      <th>Dia_num</th>\n      <th>Total_Dias_Teoricos</th>\n      <th>FrecuenciaClaveUnificada</th>\n      <th>Porcentaje_Normalizado</th>\n      <th>Volumen_Semanal(L)</th>\n      <th>Volumen_Dia(L)</th>\n      <th>Dia_Carga</th>\n      <th>Fecha_Carga</th>\n    </tr>\n  </thead>\n  <tbody>\n    <tr>\n      <th>0</th>\n      <td>0665070000</td>\n      <td>0000010</td>\n      <td>D21</td>\n      <td>D001027</td>\n      <td>D001</td>\n      <td>5</td>\n      <td>6</td>\n      <td>1111110</td>\n      <td>13.593294</td>\n      <td>63.303040</td>\n      <td>8.604968</td>\n      <td>Friday</td>\n      <td>2024-04-05</td>\n    </tr>\n    <tr>\n      <th>1</th>\n      <td>0597250000</td>\n      <td>0000010</td>\n      <td>D21</td>\n      <td>D001027</td>\n      <td>D001</td>\n      <td>5</td>\n      <td>6</td>\n      <td>1111110</td>\n      <td>16.519545</td>\n      <td>58.078014</td>\n      <td>9.594224</td>\n      <td>Friday</td>\n      <td>2024-04-05</td>\n    </tr>\n    <tr>\n      <th>2</th>\n      <td>1832190001</td>\n      <td>0000010</td>\n      <td>D21</td>\n      <td>D001027</td>\n      <td>D001</td>\n      <td>5</td>\n      <td>6</td>\n      <td>1111110</td>\n      <td>17.969939</td>\n      <td>53.990185</td>\n      <td>9.702003</td>\n      <td>Friday</td>\n      <td>2024-04-05</td>\n    </tr>\n    <tr>\n      <th>3</th>\n      <td>1687200001</td>\n      <td>0000010</td>\n      <td>D21</td>\n      <td>D001027</td>\n      <td>D001</td>\n      <td>5</td>\n      <td>6</td>\n      <td>1111110</td>\n      <td>18.504924</td>\n      <td>86.005386</td>\n      <td>15.915231</td>\n      <td>Friday</td>\n      <td>2024-04-05</td>\n    </tr>\n    <tr>\n      <th>4</th>\n      <td>1577870001</td>\n      <td>0000010</td>\n      <td>D21</td>\n      <td>D001027</td>\n      <td>D001</td>\n      <td>5</td>\n      <td>6</td>\n      <td>1111110</td>\n      <td>15.206662</td>\n      <td>70.812607</td>\n      <td>10.768234</td>\n      <td>Friday</td>\n      <td>2024-04-05</td>\n    </tr>\n    <tr>\n      <th>...</th>\n      <td>...</td>\n      <td>...</td>\n      <td>...</td>\n      <td>...</td>\n      <td>...</td>\n      <td>...</td>\n      <td>...</td>\n      <td>...</td>\n      <td>...</td>\n      <td>...</td>\n      <td>...</td>\n      <td>...</td>\n      <td>...</td>\n    </tr>\n    <tr>\n      <th>75323</th>\n      <td>0318850000</td>\n      <td>1000000</td>\n      <td>D21</td>\n      <td>D003010</td>\n      <td>D003</td>\n      <td>0</td>\n      <td>3</td>\n      <td>1010100</td>\n      <td>33.670585</td>\n      <td>51.923573</td>\n      <td>17.482971</td>\n      <td>Saturday</td>\n      <td>2024-03-30</td>\n    </tr>\n    <tr>\n      <th>75324</th>\n      <td>1359380001</td>\n      <td>1000000</td>\n      <td>D21</td>\n      <td>D002023</td>\n      <td>D002</td>\n      <td>0</td>\n      <td>3</td>\n      <td>1010100</td>\n      <td>36.346012</td>\n      <td>64.712769</td>\n      <td>23.520510</td>\n      <td>Saturday</td>\n      <td>2024-03-30</td>\n    </tr>\n    <tr>\n      <th>75325</th>\n      <td>0585900000</td>\n      <td>1000000</td>\n      <td>D21</td>\n      <td>D002023</td>\n      <td>D002</td>\n      <td>0</td>\n      <td>3</td>\n      <td>1010100</td>\n      <td>35.085867</td>\n      <td>61.761932</td>\n      <td>21.669710</td>\n      <td>Saturday</td>\n      <td>2024-03-30</td>\n    </tr>\n    <tr>\n      <th>75326</th>\n      <td>0417750000</td>\n      <td>1000000</td>\n      <td>D21</td>\n      <td>D002023</td>\n      <td>D002</td>\n      <td>0</td>\n      <td>3</td>\n      <td>1010100</td>\n      <td>28.977424</td>\n      <td>47.655968</td>\n      <td>13.809472</td>\n      <td>Saturday</td>\n      <td>2024-03-30</td>\n    </tr>\n    <tr>\n      <th>75327</th>\n      <td>1359400001</td>\n      <td>1000000</td>\n      <td>D21</td>\n      <td>D002023</td>\n      <td>D002</td>\n      <td>0</td>\n      <td>3</td>\n      <td>1010100</td>\n      <td>39.146339</td>\n      <td>71.115166</td>\n      <td>27.838984</td>\n      <td>Saturday</td>\n      <td>2024-03-30</td>\n    </tr>\n  </tbody>\n</table>\n<p>75328 rows × 13 columns</p>\n</div>"
     },
     "execution_count": 78,
     "metadata": {},
     "output_type": "execute_result"
    }
   ],
   "source": [
    "resultados = agenda_actual.copy()\n",
    "resultados"
   ],
   "metadata": {
    "collapsed": false,
    "ExecuteTime": {
     "end_time": "2024-06-11T16:21:58.195344400Z",
     "start_time": "2024-06-11T16:21:58.119832300Z"
    }
   },
   "id": "fba8b50a15477fc7"
  },
  {
   "cell_type": "markdown",
   "source": [
    "#### 4.3.1) Integración del cluster a los clientes actuales \n",
    "En esta sección vamos a darle el ID del cluster al que pertenece cadda cliente de la agenda actual, habrá algunos clientes que no se les vincule dado que no estuvieron en el entreneaminto, a estos les daremos otro tratamiento "
   ],
   "metadata": {
    "collapsed": false
   },
   "id": "ed76b172e7c026c"
  },
  {
   "cell_type": "code",
   "execution_count": 79,
   "outputs": [
    {
     "data": {
      "text/plain": "      ClienteClave FrecuenciaClave EsquemaID RUTClave AlmacenPadreId  Dia_num  \\\n0       0665070000         0000010       D21  D001027           D001        5   \n1       0597250000         0000010       D21  D001027           D001        5   \n2       1832190001         0000010       D21  D001027           D001        5   \n3       1687200001         0000010       D21  D001027           D001        5   \n4       1577870001         0000010       D21  D001027           D001        5   \n...            ...             ...       ...      ...            ...      ...   \n75323   0318850000         1000000       D21  D003010           D003        0   \n75324   1359380001         1000000       D21  D002023           D002        0   \n75325   0585900000         1000000       D21  D002023           D002        0   \n75326   0417750000         1000000       D21  D002023           D002        0   \n75327   1359400001         1000000       D21  D002023           D002        0   \n\n       Total_Dias_Teoricos FrecuenciaClaveUnificada  Porcentaje_Normalizado  \\\n0                        6                  1111110               13.593294   \n1                        6                  1111110               16.519545   \n2                        6                  1111110               17.969939   \n3                        6                  1111110               18.504924   \n4                        6                  1111110               15.206662   \n...                    ...                      ...                     ...   \n75323                    3                  1010100               33.670585   \n75324                    3                  1010100               36.346012   \n75325                    3                  1010100               35.085867   \n75326                    3                  1010100               28.977424   \n75327                    3                  1010100               39.146339   \n\n       Volumen_Semanal(L)  Volumen_Dia(L) Dia_Carga Fecha_Carga  Cluster  \n0               63.303040        8.604968    Friday  2024-04-05      3.0  \n1               58.078014        9.594224    Friday  2024-04-05      1.0  \n2               53.990185        9.702003    Friday  2024-04-05      3.0  \n3               86.005386       15.915231    Friday  2024-04-05      3.0  \n4               70.812607       10.768234    Friday  2024-04-05      3.0  \n...                   ...             ...       ...         ...      ...  \n75323           51.923573       17.482971  Saturday  2024-03-30      0.0  \n75324           64.712769       23.520510  Saturday  2024-03-30      3.0  \n75325           61.761932       21.669710  Saturday  2024-03-30      NaN  \n75326           47.655968       13.809472  Saturday  2024-03-30      1.0  \n75327           71.115166       27.838984  Saturday  2024-03-30      3.0  \n\n[75328 rows x 14 columns]",
      "text/html": "<div>\n<style scoped>\n    .dataframe tbody tr th:only-of-type {\n        vertical-align: middle;\n    }\n\n    .dataframe tbody tr th {\n        vertical-align: top;\n    }\n\n    .dataframe thead th {\n        text-align: right;\n    }\n</style>\n<table border=\"1\" class=\"dataframe\">\n  <thead>\n    <tr style=\"text-align: right;\">\n      <th></th>\n      <th>ClienteClave</th>\n      <th>FrecuenciaClave</th>\n      <th>EsquemaID</th>\n      <th>RUTClave</th>\n      <th>AlmacenPadreId</th>\n      <th>Dia_num</th>\n      <th>Total_Dias_Teoricos</th>\n      <th>FrecuenciaClaveUnificada</th>\n      <th>Porcentaje_Normalizado</th>\n      <th>Volumen_Semanal(L)</th>\n      <th>Volumen_Dia(L)</th>\n      <th>Dia_Carga</th>\n      <th>Fecha_Carga</th>\n      <th>Cluster</th>\n    </tr>\n  </thead>\n  <tbody>\n    <tr>\n      <th>0</th>\n      <td>0665070000</td>\n      <td>0000010</td>\n      <td>D21</td>\n      <td>D001027</td>\n      <td>D001</td>\n      <td>5</td>\n      <td>6</td>\n      <td>1111110</td>\n      <td>13.593294</td>\n      <td>63.303040</td>\n      <td>8.604968</td>\n      <td>Friday</td>\n      <td>2024-04-05</td>\n      <td>3.0</td>\n    </tr>\n    <tr>\n      <th>1</th>\n      <td>0597250000</td>\n      <td>0000010</td>\n      <td>D21</td>\n      <td>D001027</td>\n      <td>D001</td>\n      <td>5</td>\n      <td>6</td>\n      <td>1111110</td>\n      <td>16.519545</td>\n      <td>58.078014</td>\n      <td>9.594224</td>\n      <td>Friday</td>\n      <td>2024-04-05</td>\n      <td>1.0</td>\n    </tr>\n    <tr>\n      <th>2</th>\n      <td>1832190001</td>\n      <td>0000010</td>\n      <td>D21</td>\n      <td>D001027</td>\n      <td>D001</td>\n      <td>5</td>\n      <td>6</td>\n      <td>1111110</td>\n      <td>17.969939</td>\n      <td>53.990185</td>\n      <td>9.702003</td>\n      <td>Friday</td>\n      <td>2024-04-05</td>\n      <td>3.0</td>\n    </tr>\n    <tr>\n      <th>3</th>\n      <td>1687200001</td>\n      <td>0000010</td>\n      <td>D21</td>\n      <td>D001027</td>\n      <td>D001</td>\n      <td>5</td>\n      <td>6</td>\n      <td>1111110</td>\n      <td>18.504924</td>\n      <td>86.005386</td>\n      <td>15.915231</td>\n      <td>Friday</td>\n      <td>2024-04-05</td>\n      <td>3.0</td>\n    </tr>\n    <tr>\n      <th>4</th>\n      <td>1577870001</td>\n      <td>0000010</td>\n      <td>D21</td>\n      <td>D001027</td>\n      <td>D001</td>\n      <td>5</td>\n      <td>6</td>\n      <td>1111110</td>\n      <td>15.206662</td>\n      <td>70.812607</td>\n      <td>10.768234</td>\n      <td>Friday</td>\n      <td>2024-04-05</td>\n      <td>3.0</td>\n    </tr>\n    <tr>\n      <th>...</th>\n      <td>...</td>\n      <td>...</td>\n      <td>...</td>\n      <td>...</td>\n      <td>...</td>\n      <td>...</td>\n      <td>...</td>\n      <td>...</td>\n      <td>...</td>\n      <td>...</td>\n      <td>...</td>\n      <td>...</td>\n      <td>...</td>\n      <td>...</td>\n    </tr>\n    <tr>\n      <th>75323</th>\n      <td>0318850000</td>\n      <td>1000000</td>\n      <td>D21</td>\n      <td>D003010</td>\n      <td>D003</td>\n      <td>0</td>\n      <td>3</td>\n      <td>1010100</td>\n      <td>33.670585</td>\n      <td>51.923573</td>\n      <td>17.482971</td>\n      <td>Saturday</td>\n      <td>2024-03-30</td>\n      <td>0.0</td>\n    </tr>\n    <tr>\n      <th>75324</th>\n      <td>1359380001</td>\n      <td>1000000</td>\n      <td>D21</td>\n      <td>D002023</td>\n      <td>D002</td>\n      <td>0</td>\n      <td>3</td>\n      <td>1010100</td>\n      <td>36.346012</td>\n      <td>64.712769</td>\n      <td>23.520510</td>\n      <td>Saturday</td>\n      <td>2024-03-30</td>\n      <td>3.0</td>\n    </tr>\n    <tr>\n      <th>75325</th>\n      <td>0585900000</td>\n      <td>1000000</td>\n      <td>D21</td>\n      <td>D002023</td>\n      <td>D002</td>\n      <td>0</td>\n      <td>3</td>\n      <td>1010100</td>\n      <td>35.085867</td>\n      <td>61.761932</td>\n      <td>21.669710</td>\n      <td>Saturday</td>\n      <td>2024-03-30</td>\n      <td>NaN</td>\n    </tr>\n    <tr>\n      <th>75326</th>\n      <td>0417750000</td>\n      <td>1000000</td>\n      <td>D21</td>\n      <td>D002023</td>\n      <td>D002</td>\n      <td>0</td>\n      <td>3</td>\n      <td>1010100</td>\n      <td>28.977424</td>\n      <td>47.655968</td>\n      <td>13.809472</td>\n      <td>Saturday</td>\n      <td>2024-03-30</td>\n      <td>1.0</td>\n    </tr>\n    <tr>\n      <th>75327</th>\n      <td>1359400001</td>\n      <td>1000000</td>\n      <td>D21</td>\n      <td>D002023</td>\n      <td>D002</td>\n      <td>0</td>\n      <td>3</td>\n      <td>1010100</td>\n      <td>39.146339</td>\n      <td>71.115166</td>\n      <td>27.838984</td>\n      <td>Saturday</td>\n      <td>2024-03-30</td>\n      <td>3.0</td>\n    </tr>\n  </tbody>\n</table>\n<p>75328 rows × 14 columns</p>\n</div>"
     },
     "execution_count": 79,
     "metadata": {},
     "output_type": "execute_result"
    }
   ],
   "source": [
    "resultados = pd.merge(left=resultados,  right=etiquetas_cientes, on=[\"ClienteClave\"], how=\"left\")\n",
    "resultados"
   ],
   "metadata": {
    "collapsed": false,
    "ExecuteTime": {
     "end_time": "2024-06-11T16:21:58.342229100Z",
     "start_time": "2024-06-11T16:21:58.134218600Z"
    }
   },
   "id": "f11f84c27debfda9"
  },
  {
   "cell_type": "code",
   "execution_count": 80,
   "outputs": [
    {
     "data": {
      "text/plain": "ClienteClave                   0\nFrecuenciaClave                0\nEsquemaID                      0\nRUTClave                       0\nAlmacenPadreId                 0\nDia_num                        0\nTotal_Dias_Teoricos            0\nFrecuenciaClaveUnificada       0\nPorcentaje_Normalizado        18\nVolumen_Semanal(L)             0\nVolumen_Dia(L)                18\nDia_Carga                      0\nFecha_Carga                    0\nCluster                     4825\ndtype: int64"
     },
     "execution_count": 80,
     "metadata": {},
     "output_type": "execute_result"
    }
   ],
   "source": [
    "resultados.isnull().sum()"
   ],
   "metadata": {
    "collapsed": false,
    "ExecuteTime": {
     "end_time": "2024-06-11T16:21:58.343229300Z",
     "start_time": "2024-06-11T16:21:58.170305500Z"
    }
   },
   "id": "7f0bb08225e66d56"
  },
  {
   "cell_type": "markdown",
   "source": [
    "#### 4.3.2) Tratameinto de NA values "
   ],
   "metadata": {
    "collapsed": false
   },
   "id": "48713648d91bd649"
  },
  {
   "cell_type": "markdown",
   "source": [
    "**INSPECCION DE VALORES NULOS (clientes sin etiqueda de cluster)**"
   ],
   "metadata": {
    "collapsed": false
   },
   "id": "380960efe26f03de"
  },
  {
   "cell_type": "code",
   "execution_count": 81,
   "outputs": [
    {
     "name": "stdout",
     "output_type": "stream",
     "text": [
      "Clientes sin vinculación de cluster: 1499\n"
     ]
    }
   ],
   "source": [
    "# Inpseccionamos solo el numero de clientes sin Cluster \n",
    "inspeccion = resultados.drop_duplicates(subset=[\"ClienteClave\"], keep=\"first\", ignore_index=True)\n",
    "print(\"Clientes sin vinculación de cluster:\",inspeccion[\"Cluster\"].isnull().sum() )"
   ],
   "metadata": {
    "collapsed": false,
    "ExecuteTime": {
     "end_time": "2024-06-11T16:21:58.408243600Z",
     "start_time": "2024-06-11T16:21:58.185250200Z"
    }
   },
   "id": "cda24afb8a14a52b"
  },
  {
   "cell_type": "code",
   "execution_count": 82,
   "outputs": [
    {
     "data": {
      "text/plain": "    RUTClave  Moda_Cluster\n0    D001001           0.0\n1    D001002           1.0\n2    D001003           0.0\n3    D001004           0.0\n4    D001005           1.0\n..       ...           ...\n245  D004107           0.0\n246  D004108           0.0\n247  D004109           0.0\n248  D004110           0.0\n249  D004111           0.0\n\n[250 rows x 2 columns]",
      "text/html": "<div>\n<style scoped>\n    .dataframe tbody tr th:only-of-type {\n        vertical-align: middle;\n    }\n\n    .dataframe tbody tr th {\n        vertical-align: top;\n    }\n\n    .dataframe thead th {\n        text-align: right;\n    }\n</style>\n<table border=\"1\" class=\"dataframe\">\n  <thead>\n    <tr style=\"text-align: right;\">\n      <th></th>\n      <th>RUTClave</th>\n      <th>Moda_Cluster</th>\n    </tr>\n  </thead>\n  <tbody>\n    <tr>\n      <th>0</th>\n      <td>D001001</td>\n      <td>0.0</td>\n    </tr>\n    <tr>\n      <th>1</th>\n      <td>D001002</td>\n      <td>1.0</td>\n    </tr>\n    <tr>\n      <th>2</th>\n      <td>D001003</td>\n      <td>0.0</td>\n    </tr>\n    <tr>\n      <th>3</th>\n      <td>D001004</td>\n      <td>0.0</td>\n    </tr>\n    <tr>\n      <th>4</th>\n      <td>D001005</td>\n      <td>1.0</td>\n    </tr>\n    <tr>\n      <th>...</th>\n      <td>...</td>\n      <td>...</td>\n    </tr>\n    <tr>\n      <th>245</th>\n      <td>D004107</td>\n      <td>0.0</td>\n    </tr>\n    <tr>\n      <th>246</th>\n      <td>D004108</td>\n      <td>0.0</td>\n    </tr>\n    <tr>\n      <th>247</th>\n      <td>D004109</td>\n      <td>0.0</td>\n    </tr>\n    <tr>\n      <th>248</th>\n      <td>D004110</td>\n      <td>0.0</td>\n    </tr>\n    <tr>\n      <th>249</th>\n      <td>D004111</td>\n      <td>0.0</td>\n    </tr>\n  </tbody>\n</table>\n<p>250 rows × 2 columns</p>\n</div>"
     },
     "execution_count": 82,
     "metadata": {},
     "output_type": "execute_result"
    }
   ],
   "source": [
    "# Lo tomo del DF de reusltados dado que es el que contiene los datos completos \n",
    "moda_clusters_ruta = resultados.groupby(by=[\"RUTClave\", \"Cluster\"]).size().reset_index()\n",
    "moda_clusters_ruta.rename(columns = {0:\"Clientes_Cluster\", \"Cluster\":\"Moda_Cluster\"}, inplace=True)\n",
    "moda_clusters_ruta.sort_values(by =[\"RUTClave\", \"Clientes_Cluster\"], ascending=[True, False])\n",
    "moda_clusters_ruta.drop_duplicates(subset=[\"RUTClave\"], keep=\"first\", ignore_index=True, inplace = True)\n",
    "moda_clusters_ruta.drop(columns =[\"Clientes_Cluster\"], inplace= True)\n",
    "moda_clusters_ruta"
   ],
   "metadata": {
    "collapsed": false,
    "ExecuteTime": {
     "end_time": "2024-06-11T16:21:58.509267400Z",
     "start_time": "2024-06-11T16:21:58.196343800Z"
    }
   },
   "id": "dac3120ec140ff7b"
  },
  {
   "cell_type": "code",
   "execution_count": 83,
   "outputs": [
    {
     "data": {
      "text/plain": "      ClienteClave FrecuenciaClave EsquemaID RUTClave AlmacenPadreId  Dia_num  \\\n0       0665070000         0000010       D21  D001027           D001        5   \n1       0597250000         0000010       D21  D001027           D001        5   \n2       1832190001         0000010       D21  D001027           D001        5   \n3       1687200001         0000010       D21  D001027           D001        5   \n4       1577870001         0000010       D21  D001027           D001        5   \n...            ...             ...       ...      ...            ...      ...   \n75293   1841780001         1000000       D21  D002023           D002        0   \n75294   1359380001         1000000       D21  D002023           D002        0   \n75295   0585900000         1000000       D21  D002023           D002        0   \n75296   0417750000         1000000       D21  D002023           D002        0   \n75297   1359400001         1000000       D21  D002023           D002        0   \n\n       Total_Dias_Teoricos FrecuenciaClaveUnificada  Porcentaje_Normalizado  \\\n0                        6                  1111110               13.593294   \n1                        6                  1111110               16.519545   \n2                        6                  1111110               17.969939   \n3                        6                  1111110               18.504924   \n4                        6                  1111110               15.206662   \n...                    ...                      ...                     ...   \n75293                    3                  1010100               34.501116   \n75294                    3                  1010100               36.346012   \n75295                    3                  1010100               35.085867   \n75296                    3                  1010100               28.977424   \n75297                    3                  1010100               39.146339   \n\n       Volumen_Semanal(L)  Volumen_Dia(L) Dia_Carga Fecha_Carga  Cluster  \\\n0               63.303040        8.604968    Friday  2024-04-05      3.0   \n1               58.078014        9.594224    Friday  2024-04-05      1.0   \n2               53.990185        9.702003    Friday  2024-04-05      3.0   \n3               86.005386       15.915231    Friday  2024-04-05      3.0   \n4               70.812607       10.768234    Friday  2024-04-05      3.0   \n...                   ...             ...       ...         ...      ...   \n75293           76.708847       26.465409  Saturday  2024-03-30      3.0   \n75294           64.712769       23.520510  Saturday  2024-03-30      3.0   \n75295           61.761932       21.669710  Saturday  2024-03-30      1.0   \n75296           47.655968       13.809472  Saturday  2024-03-30      1.0   \n75297           71.115166       27.838984  Saturday  2024-03-30      3.0   \n\n       Moda_Cluster  \n0               1.0  \n1               1.0  \n2               1.0  \n3               1.0  \n4               1.0  \n...             ...  \n75293           1.0  \n75294           1.0  \n75295           1.0  \n75296           1.0  \n75297           1.0  \n\n[75298 rows x 15 columns]",
      "text/html": "<div>\n<style scoped>\n    .dataframe tbody tr th:only-of-type {\n        vertical-align: middle;\n    }\n\n    .dataframe tbody tr th {\n        vertical-align: top;\n    }\n\n    .dataframe thead th {\n        text-align: right;\n    }\n</style>\n<table border=\"1\" class=\"dataframe\">\n  <thead>\n    <tr style=\"text-align: right;\">\n      <th></th>\n      <th>ClienteClave</th>\n      <th>FrecuenciaClave</th>\n      <th>EsquemaID</th>\n      <th>RUTClave</th>\n      <th>AlmacenPadreId</th>\n      <th>Dia_num</th>\n      <th>Total_Dias_Teoricos</th>\n      <th>FrecuenciaClaveUnificada</th>\n      <th>Porcentaje_Normalizado</th>\n      <th>Volumen_Semanal(L)</th>\n      <th>Volumen_Dia(L)</th>\n      <th>Dia_Carga</th>\n      <th>Fecha_Carga</th>\n      <th>Cluster</th>\n      <th>Moda_Cluster</th>\n    </tr>\n  </thead>\n  <tbody>\n    <tr>\n      <th>0</th>\n      <td>0665070000</td>\n      <td>0000010</td>\n      <td>D21</td>\n      <td>D001027</td>\n      <td>D001</td>\n      <td>5</td>\n      <td>6</td>\n      <td>1111110</td>\n      <td>13.593294</td>\n      <td>63.303040</td>\n      <td>8.604968</td>\n      <td>Friday</td>\n      <td>2024-04-05</td>\n      <td>3.0</td>\n      <td>1.0</td>\n    </tr>\n    <tr>\n      <th>1</th>\n      <td>0597250000</td>\n      <td>0000010</td>\n      <td>D21</td>\n      <td>D001027</td>\n      <td>D001</td>\n      <td>5</td>\n      <td>6</td>\n      <td>1111110</td>\n      <td>16.519545</td>\n      <td>58.078014</td>\n      <td>9.594224</td>\n      <td>Friday</td>\n      <td>2024-04-05</td>\n      <td>1.0</td>\n      <td>1.0</td>\n    </tr>\n    <tr>\n      <th>2</th>\n      <td>1832190001</td>\n      <td>0000010</td>\n      <td>D21</td>\n      <td>D001027</td>\n      <td>D001</td>\n      <td>5</td>\n      <td>6</td>\n      <td>1111110</td>\n      <td>17.969939</td>\n      <td>53.990185</td>\n      <td>9.702003</td>\n      <td>Friday</td>\n      <td>2024-04-05</td>\n      <td>3.0</td>\n      <td>1.0</td>\n    </tr>\n    <tr>\n      <th>3</th>\n      <td>1687200001</td>\n      <td>0000010</td>\n      <td>D21</td>\n      <td>D001027</td>\n      <td>D001</td>\n      <td>5</td>\n      <td>6</td>\n      <td>1111110</td>\n      <td>18.504924</td>\n      <td>86.005386</td>\n      <td>15.915231</td>\n      <td>Friday</td>\n      <td>2024-04-05</td>\n      <td>3.0</td>\n      <td>1.0</td>\n    </tr>\n    <tr>\n      <th>4</th>\n      <td>1577870001</td>\n      <td>0000010</td>\n      <td>D21</td>\n      <td>D001027</td>\n      <td>D001</td>\n      <td>5</td>\n      <td>6</td>\n      <td>1111110</td>\n      <td>15.206662</td>\n      <td>70.812607</td>\n      <td>10.768234</td>\n      <td>Friday</td>\n      <td>2024-04-05</td>\n      <td>3.0</td>\n      <td>1.0</td>\n    </tr>\n    <tr>\n      <th>...</th>\n      <td>...</td>\n      <td>...</td>\n      <td>...</td>\n      <td>...</td>\n      <td>...</td>\n      <td>...</td>\n      <td>...</td>\n      <td>...</td>\n      <td>...</td>\n      <td>...</td>\n      <td>...</td>\n      <td>...</td>\n      <td>...</td>\n      <td>...</td>\n      <td>...</td>\n    </tr>\n    <tr>\n      <th>75293</th>\n      <td>1841780001</td>\n      <td>1000000</td>\n      <td>D21</td>\n      <td>D002023</td>\n      <td>D002</td>\n      <td>0</td>\n      <td>3</td>\n      <td>1010100</td>\n      <td>34.501116</td>\n      <td>76.708847</td>\n      <td>26.465409</td>\n      <td>Saturday</td>\n      <td>2024-03-30</td>\n      <td>3.0</td>\n      <td>1.0</td>\n    </tr>\n    <tr>\n      <th>75294</th>\n      <td>1359380001</td>\n      <td>1000000</td>\n      <td>D21</td>\n      <td>D002023</td>\n      <td>D002</td>\n      <td>0</td>\n      <td>3</td>\n      <td>1010100</td>\n      <td>36.346012</td>\n      <td>64.712769</td>\n      <td>23.520510</td>\n      <td>Saturday</td>\n      <td>2024-03-30</td>\n      <td>3.0</td>\n      <td>1.0</td>\n    </tr>\n    <tr>\n      <th>75295</th>\n      <td>0585900000</td>\n      <td>1000000</td>\n      <td>D21</td>\n      <td>D002023</td>\n      <td>D002</td>\n      <td>0</td>\n      <td>3</td>\n      <td>1010100</td>\n      <td>35.085867</td>\n      <td>61.761932</td>\n      <td>21.669710</td>\n      <td>Saturday</td>\n      <td>2024-03-30</td>\n      <td>1.0</td>\n      <td>1.0</td>\n    </tr>\n    <tr>\n      <th>75296</th>\n      <td>0417750000</td>\n      <td>1000000</td>\n      <td>D21</td>\n      <td>D002023</td>\n      <td>D002</td>\n      <td>0</td>\n      <td>3</td>\n      <td>1010100</td>\n      <td>28.977424</td>\n      <td>47.655968</td>\n      <td>13.809472</td>\n      <td>Saturday</td>\n      <td>2024-03-30</td>\n      <td>1.0</td>\n      <td>1.0</td>\n    </tr>\n    <tr>\n      <th>75297</th>\n      <td>1359400001</td>\n      <td>1000000</td>\n      <td>D21</td>\n      <td>D002023</td>\n      <td>D002</td>\n      <td>0</td>\n      <td>3</td>\n      <td>1010100</td>\n      <td>39.146339</td>\n      <td>71.115166</td>\n      <td>27.838984</td>\n      <td>Saturday</td>\n      <td>2024-03-30</td>\n      <td>3.0</td>\n      <td>1.0</td>\n    </tr>\n  </tbody>\n</table>\n<p>75298 rows × 15 columns</p>\n</div>"
     },
     "execution_count": 83,
     "metadata": {},
     "output_type": "execute_result"
    }
   ],
   "source": [
    "# 1) Unimos este DF donde ya itentificamos que clusters están más presentes en cada ruta \n",
    "resultados = pd.merge(left= resultados, right= moda_clusters_ruta, on=\"RUTClave\")\n",
    "\n",
    "# 2) Usamos un Fill NA con un pandas serie para hacer la union usando el indice \n",
    "resultados[\"Cluster\"].fillna(value= resultados[\"Moda_Cluster\"], inplace=True) # Vease como en valor le paso la columna (que es una serie de pandas), al pasaerle esta serie hará el llenado de NA por medio del os indices \n",
    "resultados"
   ],
   "metadata": {
    "collapsed": false,
    "ExecuteTime": {
     "end_time": "2024-06-11T16:21:58.535271500Z",
     "start_time": "2024-06-11T16:21:58.209523300Z"
    }
   },
   "id": "205fd1995c4d53b"
  },
  {
   "cell_type": "code",
   "execution_count": 84,
   "outputs": [
    {
     "data": {
      "text/plain": "ClienteClave                 0\nFrecuenciaClave              0\nEsquemaID                    0\nRUTClave                     0\nAlmacenPadreId               0\nDia_num                      0\nTotal_Dias_Teoricos          0\nFrecuenciaClaveUnificada     0\nPorcentaje_Normalizado      18\nVolumen_Semanal(L)           0\nVolumen_Dia(L)              18\nDia_Carga                    0\nFecha_Carga                  0\nCluster                      0\ndtype: int64"
     },
     "execution_count": 84,
     "metadata": {},
     "output_type": "execute_result"
    }
   ],
   "source": [
    "resultados.drop(columns=[\"Moda_Cluster\"], inplace=True)\n",
    "resultados.isnull().sum() # Vease que ahora Clusters no tiene valores nulos "
   ],
   "metadata": {
    "collapsed": false,
    "ExecuteTime": {
     "end_time": "2024-06-11T16:21:58.591284300Z",
     "start_time": "2024-06-11T16:21:58.242940500Z"
    }
   },
   "id": "9994c86206f151a1"
  },
  {
   "cell_type": "markdown",
   "source": [
    "#### 4.3.3) Integración de la distribución de productos por cluster\n",
    "Ahora que tenemos identificados a que cluster pertenece cada cliente es momento de integrar su disteibucion de productos "
   ],
   "metadata": {
    "collapsed": false
   },
   "id": "e83000a86b60377c"
  },
  {
   "cell_type": "code",
   "execution_count": 85,
   "outputs": [
    {
     "data": {
      "text/plain": "      ClienteClave FrecuenciaClave EsquemaID RUTClave AlmacenPadreId  Dia_num  \\\n0       0665070000         0000010       D21  D001027           D001        5   \n1       0597250000         0000010       D21  D001027           D001        5   \n2       1832190001         0000010       D21  D001027           D001        5   \n3       1687200001         0000010       D21  D001027           D001        5   \n4       1577870001         0000010       D21  D001027           D001        5   \n...            ...             ...       ...      ...            ...      ...   \n75293   1841780001         1000000       D21  D002023           D002        0   \n75294   1359380001         1000000       D21  D002023           D002        0   \n75295   0585900000         1000000       D21  D002023           D002        0   \n75296   0417750000         1000000       D21  D002023           D002        0   \n75297   1359400001         1000000       D21  D002023           D002        0   \n\n       Total_Dias_Teoricos FrecuenciaClaveUnificada  Porcentaje_Normalizado  \\\n0                        6                  1111110               13.593294   \n1                        6                  1111110               16.519545   \n2                        6                  1111110               17.969939   \n3                        6                  1111110               18.504924   \n4                        6                  1111110               15.206662   \n...                    ...                      ...                     ...   \n75293                    3                  1010100               34.501116   \n75294                    3                  1010100               36.346012   \n75295                    3                  1010100               35.085867   \n75296                    3                  1010100               28.977424   \n75297                    3                  1010100               39.146339   \n\n       Volumen_Semanal(L)  ...      0886      0887      0888          0889  \\\n0               63.303040  ...  0.016965  0.072279  0.151086  1.370321e-02   \n1               58.078014  ...  0.017717  0.065412  0.072343  4.857226e-17   \n2               53.990185  ...  0.016965  0.072279  0.151086  1.370321e-02   \n3               86.005386  ...  0.016965  0.072279  0.151086  1.370321e-02   \n4               70.812607  ...  0.016965  0.072279  0.151086  1.370321e-02   \n...                   ...  ...       ...       ...       ...           ...   \n75293           76.708847  ...  0.016965  0.072279  0.151086  1.370321e-02   \n75294           64.712769  ...  0.016965  0.072279  0.151086  1.370321e-02   \n75295           61.761932  ...  0.017717  0.065412  0.072343  4.857226e-17   \n75296           47.655968  ...  0.017717  0.065412  0.072343  4.857226e-17   \n75297           71.115166  ...  0.016965  0.072279  0.151086  1.370321e-02   \n\n           0890      0918      0959      0960      0961          2905  \n0      0.112319  0.016745  0.022645  0.008862  0.006450  4.963084e-23  \n1      0.067236  0.017764  0.012969  0.005146  0.003262  5.093157e-08  \n2      0.112319  0.016745  0.022645  0.008862  0.006450  4.963084e-23  \n3      0.112319  0.016745  0.022645  0.008862  0.006450  4.963084e-23  \n4      0.112319  0.016745  0.022645  0.008862  0.006450  4.963084e-23  \n...         ...       ...       ...       ...       ...           ...  \n75293  0.112319  0.016745  0.022645  0.008862  0.006450  4.963084e-23  \n75294  0.112319  0.016745  0.022645  0.008862  0.006450  4.963084e-23  \n75295  0.067236  0.017764  0.012969  0.005146  0.003262  5.093157e-08  \n75296  0.067236  0.017764  0.012969  0.005146  0.003262  5.093157e-08  \n75297  0.112319  0.016745  0.022645  0.008862  0.006450  4.963084e-23  \n\n[75298 rows x 122 columns]",
      "text/html": "<div>\n<style scoped>\n    .dataframe tbody tr th:only-of-type {\n        vertical-align: middle;\n    }\n\n    .dataframe tbody tr th {\n        vertical-align: top;\n    }\n\n    .dataframe thead th {\n        text-align: right;\n    }\n</style>\n<table border=\"1\" class=\"dataframe\">\n  <thead>\n    <tr style=\"text-align: right;\">\n      <th></th>\n      <th>ClienteClave</th>\n      <th>FrecuenciaClave</th>\n      <th>EsquemaID</th>\n      <th>RUTClave</th>\n      <th>AlmacenPadreId</th>\n      <th>Dia_num</th>\n      <th>Total_Dias_Teoricos</th>\n      <th>FrecuenciaClaveUnificada</th>\n      <th>Porcentaje_Normalizado</th>\n      <th>Volumen_Semanal(L)</th>\n      <th>...</th>\n      <th>0886</th>\n      <th>0887</th>\n      <th>0888</th>\n      <th>0889</th>\n      <th>0890</th>\n      <th>0918</th>\n      <th>0959</th>\n      <th>0960</th>\n      <th>0961</th>\n      <th>2905</th>\n    </tr>\n  </thead>\n  <tbody>\n    <tr>\n      <th>0</th>\n      <td>0665070000</td>\n      <td>0000010</td>\n      <td>D21</td>\n      <td>D001027</td>\n      <td>D001</td>\n      <td>5</td>\n      <td>6</td>\n      <td>1111110</td>\n      <td>13.593294</td>\n      <td>63.303040</td>\n      <td>...</td>\n      <td>0.016965</td>\n      <td>0.072279</td>\n      <td>0.151086</td>\n      <td>1.370321e-02</td>\n      <td>0.112319</td>\n      <td>0.016745</td>\n      <td>0.022645</td>\n      <td>0.008862</td>\n      <td>0.006450</td>\n      <td>4.963084e-23</td>\n    </tr>\n    <tr>\n      <th>1</th>\n      <td>0597250000</td>\n      <td>0000010</td>\n      <td>D21</td>\n      <td>D001027</td>\n      <td>D001</td>\n      <td>5</td>\n      <td>6</td>\n      <td>1111110</td>\n      <td>16.519545</td>\n      <td>58.078014</td>\n      <td>...</td>\n      <td>0.017717</td>\n      <td>0.065412</td>\n      <td>0.072343</td>\n      <td>4.857226e-17</td>\n      <td>0.067236</td>\n      <td>0.017764</td>\n      <td>0.012969</td>\n      <td>0.005146</td>\n      <td>0.003262</td>\n      <td>5.093157e-08</td>\n    </tr>\n    <tr>\n      <th>2</th>\n      <td>1832190001</td>\n      <td>0000010</td>\n      <td>D21</td>\n      <td>D001027</td>\n      <td>D001</td>\n      <td>5</td>\n      <td>6</td>\n      <td>1111110</td>\n      <td>17.969939</td>\n      <td>53.990185</td>\n      <td>...</td>\n      <td>0.016965</td>\n      <td>0.072279</td>\n      <td>0.151086</td>\n      <td>1.370321e-02</td>\n      <td>0.112319</td>\n      <td>0.016745</td>\n      <td>0.022645</td>\n      <td>0.008862</td>\n      <td>0.006450</td>\n      <td>4.963084e-23</td>\n    </tr>\n    <tr>\n      <th>3</th>\n      <td>1687200001</td>\n      <td>0000010</td>\n      <td>D21</td>\n      <td>D001027</td>\n      <td>D001</td>\n      <td>5</td>\n      <td>6</td>\n      <td>1111110</td>\n      <td>18.504924</td>\n      <td>86.005386</td>\n      <td>...</td>\n      <td>0.016965</td>\n      <td>0.072279</td>\n      <td>0.151086</td>\n      <td>1.370321e-02</td>\n      <td>0.112319</td>\n      <td>0.016745</td>\n      <td>0.022645</td>\n      <td>0.008862</td>\n      <td>0.006450</td>\n      <td>4.963084e-23</td>\n    </tr>\n    <tr>\n      <th>4</th>\n      <td>1577870001</td>\n      <td>0000010</td>\n      <td>D21</td>\n      <td>D001027</td>\n      <td>D001</td>\n      <td>5</td>\n      <td>6</td>\n      <td>1111110</td>\n      <td>15.206662</td>\n      <td>70.812607</td>\n      <td>...</td>\n      <td>0.016965</td>\n      <td>0.072279</td>\n      <td>0.151086</td>\n      <td>1.370321e-02</td>\n      <td>0.112319</td>\n      <td>0.016745</td>\n      <td>0.022645</td>\n      <td>0.008862</td>\n      <td>0.006450</td>\n      <td>4.963084e-23</td>\n    </tr>\n    <tr>\n      <th>...</th>\n      <td>...</td>\n      <td>...</td>\n      <td>...</td>\n      <td>...</td>\n      <td>...</td>\n      <td>...</td>\n      <td>...</td>\n      <td>...</td>\n      <td>...</td>\n      <td>...</td>\n      <td>...</td>\n      <td>...</td>\n      <td>...</td>\n      <td>...</td>\n      <td>...</td>\n      <td>...</td>\n      <td>...</td>\n      <td>...</td>\n      <td>...</td>\n      <td>...</td>\n      <td>...</td>\n    </tr>\n    <tr>\n      <th>75293</th>\n      <td>1841780001</td>\n      <td>1000000</td>\n      <td>D21</td>\n      <td>D002023</td>\n      <td>D002</td>\n      <td>0</td>\n      <td>3</td>\n      <td>1010100</td>\n      <td>34.501116</td>\n      <td>76.708847</td>\n      <td>...</td>\n      <td>0.016965</td>\n      <td>0.072279</td>\n      <td>0.151086</td>\n      <td>1.370321e-02</td>\n      <td>0.112319</td>\n      <td>0.016745</td>\n      <td>0.022645</td>\n      <td>0.008862</td>\n      <td>0.006450</td>\n      <td>4.963084e-23</td>\n    </tr>\n    <tr>\n      <th>75294</th>\n      <td>1359380001</td>\n      <td>1000000</td>\n      <td>D21</td>\n      <td>D002023</td>\n      <td>D002</td>\n      <td>0</td>\n      <td>3</td>\n      <td>1010100</td>\n      <td>36.346012</td>\n      <td>64.712769</td>\n      <td>...</td>\n      <td>0.016965</td>\n      <td>0.072279</td>\n      <td>0.151086</td>\n      <td>1.370321e-02</td>\n      <td>0.112319</td>\n      <td>0.016745</td>\n      <td>0.022645</td>\n      <td>0.008862</td>\n      <td>0.006450</td>\n      <td>4.963084e-23</td>\n    </tr>\n    <tr>\n      <th>75295</th>\n      <td>0585900000</td>\n      <td>1000000</td>\n      <td>D21</td>\n      <td>D002023</td>\n      <td>D002</td>\n      <td>0</td>\n      <td>3</td>\n      <td>1010100</td>\n      <td>35.085867</td>\n      <td>61.761932</td>\n      <td>...</td>\n      <td>0.017717</td>\n      <td>0.065412</td>\n      <td>0.072343</td>\n      <td>4.857226e-17</td>\n      <td>0.067236</td>\n      <td>0.017764</td>\n      <td>0.012969</td>\n      <td>0.005146</td>\n      <td>0.003262</td>\n      <td>5.093157e-08</td>\n    </tr>\n    <tr>\n      <th>75296</th>\n      <td>0417750000</td>\n      <td>1000000</td>\n      <td>D21</td>\n      <td>D002023</td>\n      <td>D002</td>\n      <td>0</td>\n      <td>3</td>\n      <td>1010100</td>\n      <td>28.977424</td>\n      <td>47.655968</td>\n      <td>...</td>\n      <td>0.017717</td>\n      <td>0.065412</td>\n      <td>0.072343</td>\n      <td>4.857226e-17</td>\n      <td>0.067236</td>\n      <td>0.017764</td>\n      <td>0.012969</td>\n      <td>0.005146</td>\n      <td>0.003262</td>\n      <td>5.093157e-08</td>\n    </tr>\n    <tr>\n      <th>75297</th>\n      <td>1359400001</td>\n      <td>1000000</td>\n      <td>D21</td>\n      <td>D002023</td>\n      <td>D002</td>\n      <td>0</td>\n      <td>3</td>\n      <td>1010100</td>\n      <td>39.146339</td>\n      <td>71.115166</td>\n      <td>...</td>\n      <td>0.016965</td>\n      <td>0.072279</td>\n      <td>0.151086</td>\n      <td>1.370321e-02</td>\n      <td>0.112319</td>\n      <td>0.016745</td>\n      <td>0.022645</td>\n      <td>0.008862</td>\n      <td>0.006450</td>\n      <td>4.963084e-23</td>\n    </tr>\n  </tbody>\n</table>\n<p>75298 rows × 122 columns</p>\n</div>"
     },
     "execution_count": 85,
     "metadata": {},
     "output_type": "execute_result"
    }
   ],
   "source": [
    "resultados = pd.merge(left=resultados, right= centroides, on=[\"Cluster\"], how=\"left\")\n",
    "resultados"
   ],
   "metadata": {
    "collapsed": false,
    "ExecuteTime": {
     "end_time": "2024-06-11T16:21:58.657298700Z",
     "start_time": "2024-06-11T16:21:58.259232700Z"
    }
   },
   "id": "4a463f3946f7351c"
  },
  {
   "cell_type": "markdown",
   "source": [
    "#### 4.3.4) Tranformación de formato \n",
    "**TRANFORMACION MELT** \n",
    "En este caso queremos pasar de un formato de ancho a largo, por lo cual usaremos la funcion de pandas de MELT"
   ],
   "metadata": {
    "collapsed": false
   },
   "id": "ccbb8ca43af1adce"
  },
  {
   "cell_type": "code",
   "execution_count": 86,
   "outputs": [
    {
     "data": {
      "text/plain": "        ClienteClave FrecuenciaClave Fecha_Carga RUTClave AlmacenPadreId  \\\n0         0665070000         0000010  2024-04-05  D001027           D001   \n1         0597250000         0000010  2024-04-05  D001027           D001   \n2         1832190001         0000010  2024-04-05  D001027           D001   \n3         1687200001         0000010  2024-04-05  D001027           D001   \n4         1577870001         0000010  2024-04-05  D001027           D001   \n...              ...             ...         ...      ...            ...   \n8132179   1841780001         1000000  2024-03-30  D002023           D002   \n8132180   1359380001         1000000  2024-03-30  D002023           D002   \n8132181   0585900000         1000000  2024-03-30  D002023           D002   \n8132182   0417750000         1000000  2024-03-30  D002023           D002   \n8132183   1359400001         1000000  2024-03-30  D002023           D002   \n\n         Volumen_Dia(L) ProductoClave    Porcentaje  \n0              8.604968          0006  1.543560e+01  \n1              9.594224          0006  9.065257e+00  \n2              9.702003          0006  1.543560e+01  \n3             15.915231          0006  1.543560e+01  \n4             10.768234          0006  1.543560e+01  \n...                 ...           ...           ...  \n8132179       26.465409          2905  4.963084e-23  \n8132180       23.520510          2905  4.963084e-23  \n8132181       21.669710          2905  5.093157e-08  \n8132182       13.809472          2905  5.093157e-08  \n8132183       27.838984          2905  4.963084e-23  \n\n[8132184 rows x 8 columns]",
      "text/html": "<div>\n<style scoped>\n    .dataframe tbody tr th:only-of-type {\n        vertical-align: middle;\n    }\n\n    .dataframe tbody tr th {\n        vertical-align: top;\n    }\n\n    .dataframe thead th {\n        text-align: right;\n    }\n</style>\n<table border=\"1\" class=\"dataframe\">\n  <thead>\n    <tr style=\"text-align: right;\">\n      <th></th>\n      <th>ClienteClave</th>\n      <th>FrecuenciaClave</th>\n      <th>Fecha_Carga</th>\n      <th>RUTClave</th>\n      <th>AlmacenPadreId</th>\n      <th>Volumen_Dia(L)</th>\n      <th>ProductoClave</th>\n      <th>Porcentaje</th>\n    </tr>\n  </thead>\n  <tbody>\n    <tr>\n      <th>0</th>\n      <td>0665070000</td>\n      <td>0000010</td>\n      <td>2024-04-05</td>\n      <td>D001027</td>\n      <td>D001</td>\n      <td>8.604968</td>\n      <td>0006</td>\n      <td>1.543560e+01</td>\n    </tr>\n    <tr>\n      <th>1</th>\n      <td>0597250000</td>\n      <td>0000010</td>\n      <td>2024-04-05</td>\n      <td>D001027</td>\n      <td>D001</td>\n      <td>9.594224</td>\n      <td>0006</td>\n      <td>9.065257e+00</td>\n    </tr>\n    <tr>\n      <th>2</th>\n      <td>1832190001</td>\n      <td>0000010</td>\n      <td>2024-04-05</td>\n      <td>D001027</td>\n      <td>D001</td>\n      <td>9.702003</td>\n      <td>0006</td>\n      <td>1.543560e+01</td>\n    </tr>\n    <tr>\n      <th>3</th>\n      <td>1687200001</td>\n      <td>0000010</td>\n      <td>2024-04-05</td>\n      <td>D001027</td>\n      <td>D001</td>\n      <td>15.915231</td>\n      <td>0006</td>\n      <td>1.543560e+01</td>\n    </tr>\n    <tr>\n      <th>4</th>\n      <td>1577870001</td>\n      <td>0000010</td>\n      <td>2024-04-05</td>\n      <td>D001027</td>\n      <td>D001</td>\n      <td>10.768234</td>\n      <td>0006</td>\n      <td>1.543560e+01</td>\n    </tr>\n    <tr>\n      <th>...</th>\n      <td>...</td>\n      <td>...</td>\n      <td>...</td>\n      <td>...</td>\n      <td>...</td>\n      <td>...</td>\n      <td>...</td>\n      <td>...</td>\n    </tr>\n    <tr>\n      <th>8132179</th>\n      <td>1841780001</td>\n      <td>1000000</td>\n      <td>2024-03-30</td>\n      <td>D002023</td>\n      <td>D002</td>\n      <td>26.465409</td>\n      <td>2905</td>\n      <td>4.963084e-23</td>\n    </tr>\n    <tr>\n      <th>8132180</th>\n      <td>1359380001</td>\n      <td>1000000</td>\n      <td>2024-03-30</td>\n      <td>D002023</td>\n      <td>D002</td>\n      <td>23.520510</td>\n      <td>2905</td>\n      <td>4.963084e-23</td>\n    </tr>\n    <tr>\n      <th>8132181</th>\n      <td>0585900000</td>\n      <td>1000000</td>\n      <td>2024-03-30</td>\n      <td>D002023</td>\n      <td>D002</td>\n      <td>21.669710</td>\n      <td>2905</td>\n      <td>5.093157e-08</td>\n    </tr>\n    <tr>\n      <th>8132182</th>\n      <td>0417750000</td>\n      <td>1000000</td>\n      <td>2024-03-30</td>\n      <td>D002023</td>\n      <td>D002</td>\n      <td>13.809472</td>\n      <td>2905</td>\n      <td>5.093157e-08</td>\n    </tr>\n    <tr>\n      <th>8132183</th>\n      <td>1359400001</td>\n      <td>1000000</td>\n      <td>2024-03-30</td>\n      <td>D002023</td>\n      <td>D002</td>\n      <td>27.838984</td>\n      <td>2905</td>\n      <td>4.963084e-23</td>\n    </tr>\n  </tbody>\n</table>\n<p>8132184 rows × 8 columns</p>\n</div>"
     },
     "execution_count": 86,
     "metadata": {},
     "output_type": "execute_result"
    }
   ],
   "source": [
    "# 1) Obtenemos una lista con el nombre de las columnas de los productos \n",
    "lista_columnas =  list(columnas_clusters.columns)\n",
    "\n",
    "# 2) Generamos la acción melt que pasara el formato de ancho a largo \n",
    "resultados = pd.melt(frame=resultados, \n",
    "        id_vars=[\"ClienteClave\", \"FrecuenciaClave\", \"Fecha_Carga\", \"RUTClave\", \"AlmacenPadreId\", \"Volumen_Dia(L)\"], \n",
    "        var_name=[\"ProductoClave\"], \n",
    "        value_vars=lista_columnas, value_name=\"Porcentaje\")\n",
    "\n",
    "resultados"
   ],
   "metadata": {
    "collapsed": false,
    "ExecuteTime": {
     "end_time": "2024-06-11T16:21:59.698198600Z",
     "start_time": "2024-06-11T16:21:58.322224400Z"
    }
   },
   "id": "f3f4a86c2b74a20e"
  },
  {
   "cell_type": "markdown",
   "source": [
    "**GENERACION DE VOLUMEN POR PRODUCTO**"
   ],
   "metadata": {
    "collapsed": false
   },
   "id": "305ee5c5fdafb0c8"
  },
  {
   "cell_type": "code",
   "execution_count": 87,
   "outputs": [
    {
     "name": "stdout",
     "output_type": "stream",
     "text": [
      "Volumen total: 1465836.8375085394\n"
     ]
    },
    {
     "data": {
      "text/plain": "        ClienteClave FrecuenciaClave Fecha_Carga RUTClave AlmacenPadreId  \\\n0         0665070000         0000010  2024-04-05  D001027           D001   \n1         0597250000         0000010  2024-04-05  D001027           D001   \n2         1832190001         0000010  2024-04-05  D001027           D001   \n3         1687200001         0000010  2024-04-05  D001027           D001   \n4         1577870001         0000010  2024-04-05  D001027           D001   \n...              ...             ...         ...      ...            ...   \n8132179   1841780001         1000000  2024-03-30  D002023           D002   \n8132180   1359380001         1000000  2024-03-30  D002023           D002   \n8132181   0585900000         1000000  2024-03-30  D002023           D002   \n8132182   0417750000         1000000  2024-03-30  D002023           D002   \n8132183   1359400001         1000000  2024-03-30  D002023           D002   \n\n         Volumen_Dia(L) ProductoClave    Porcentaje  Volumen_Producto(L)  \n0              8.604968          0006  1.543560e+01         1.328229e+00  \n1              9.594224          0006  9.065257e+00         8.697410e-01  \n2              9.702003          0006  1.543560e+01         1.497562e+00  \n3             15.915231          0006  1.543560e+01         2.456612e+00  \n4             10.768234          0006  1.543560e+01         1.662142e+00  \n...                 ...           ...           ...                  ...  \n8132179       26.465409          2905  4.963084e-23         1.313500e-23  \n8132180       23.520510          2905  4.963084e-23         1.167343e-23  \n8132181       21.669710          2905  5.093157e-08         1.103672e-08  \n8132182       13.809472          2905  5.093157e-08         7.033381e-09  \n8132183       27.838984          2905  4.963084e-23         1.381672e-23  \n\n[8132184 rows x 9 columns]",
      "text/html": "<div>\n<style scoped>\n    .dataframe tbody tr th:only-of-type {\n        vertical-align: middle;\n    }\n\n    .dataframe tbody tr th {\n        vertical-align: top;\n    }\n\n    .dataframe thead th {\n        text-align: right;\n    }\n</style>\n<table border=\"1\" class=\"dataframe\">\n  <thead>\n    <tr style=\"text-align: right;\">\n      <th></th>\n      <th>ClienteClave</th>\n      <th>FrecuenciaClave</th>\n      <th>Fecha_Carga</th>\n      <th>RUTClave</th>\n      <th>AlmacenPadreId</th>\n      <th>Volumen_Dia(L)</th>\n      <th>ProductoClave</th>\n      <th>Porcentaje</th>\n      <th>Volumen_Producto(L)</th>\n    </tr>\n  </thead>\n  <tbody>\n    <tr>\n      <th>0</th>\n      <td>0665070000</td>\n      <td>0000010</td>\n      <td>2024-04-05</td>\n      <td>D001027</td>\n      <td>D001</td>\n      <td>8.604968</td>\n      <td>0006</td>\n      <td>1.543560e+01</td>\n      <td>1.328229e+00</td>\n    </tr>\n    <tr>\n      <th>1</th>\n      <td>0597250000</td>\n      <td>0000010</td>\n      <td>2024-04-05</td>\n      <td>D001027</td>\n      <td>D001</td>\n      <td>9.594224</td>\n      <td>0006</td>\n      <td>9.065257e+00</td>\n      <td>8.697410e-01</td>\n    </tr>\n    <tr>\n      <th>2</th>\n      <td>1832190001</td>\n      <td>0000010</td>\n      <td>2024-04-05</td>\n      <td>D001027</td>\n      <td>D001</td>\n      <td>9.702003</td>\n      <td>0006</td>\n      <td>1.543560e+01</td>\n      <td>1.497562e+00</td>\n    </tr>\n    <tr>\n      <th>3</th>\n      <td>1687200001</td>\n      <td>0000010</td>\n      <td>2024-04-05</td>\n      <td>D001027</td>\n      <td>D001</td>\n      <td>15.915231</td>\n      <td>0006</td>\n      <td>1.543560e+01</td>\n      <td>2.456612e+00</td>\n    </tr>\n    <tr>\n      <th>4</th>\n      <td>1577870001</td>\n      <td>0000010</td>\n      <td>2024-04-05</td>\n      <td>D001027</td>\n      <td>D001</td>\n      <td>10.768234</td>\n      <td>0006</td>\n      <td>1.543560e+01</td>\n      <td>1.662142e+00</td>\n    </tr>\n    <tr>\n      <th>...</th>\n      <td>...</td>\n      <td>...</td>\n      <td>...</td>\n      <td>...</td>\n      <td>...</td>\n      <td>...</td>\n      <td>...</td>\n      <td>...</td>\n      <td>...</td>\n    </tr>\n    <tr>\n      <th>8132179</th>\n      <td>1841780001</td>\n      <td>1000000</td>\n      <td>2024-03-30</td>\n      <td>D002023</td>\n      <td>D002</td>\n      <td>26.465409</td>\n      <td>2905</td>\n      <td>4.963084e-23</td>\n      <td>1.313500e-23</td>\n    </tr>\n    <tr>\n      <th>8132180</th>\n      <td>1359380001</td>\n      <td>1000000</td>\n      <td>2024-03-30</td>\n      <td>D002023</td>\n      <td>D002</td>\n      <td>23.520510</td>\n      <td>2905</td>\n      <td>4.963084e-23</td>\n      <td>1.167343e-23</td>\n    </tr>\n    <tr>\n      <th>8132181</th>\n      <td>0585900000</td>\n      <td>1000000</td>\n      <td>2024-03-30</td>\n      <td>D002023</td>\n      <td>D002</td>\n      <td>21.669710</td>\n      <td>2905</td>\n      <td>5.093157e-08</td>\n      <td>1.103672e-08</td>\n    </tr>\n    <tr>\n      <th>8132182</th>\n      <td>0417750000</td>\n      <td>1000000</td>\n      <td>2024-03-30</td>\n      <td>D002023</td>\n      <td>D002</td>\n      <td>13.809472</td>\n      <td>2905</td>\n      <td>5.093157e-08</td>\n      <td>7.033381e-09</td>\n    </tr>\n    <tr>\n      <th>8132183</th>\n      <td>1359400001</td>\n      <td>1000000</td>\n      <td>2024-03-30</td>\n      <td>D002023</td>\n      <td>D002</td>\n      <td>27.838984</td>\n      <td>2905</td>\n      <td>4.963084e-23</td>\n      <td>1.381672e-23</td>\n    </tr>\n  </tbody>\n</table>\n<p>8132184 rows × 9 columns</p>\n</div>"
     },
     "execution_count": 87,
     "metadata": {},
     "output_type": "execute_result"
    }
   ],
   "source": [
    "# 1) Generamos el volumen por producto \n",
    "resultados[\"Volumen_Producto(L)\"] = resultados[\"Volumen_Dia(L)\"] *   (resultados[\"Porcentaje\"]/100)\n",
    "print(\"Volumen total:\", resultados[\"Volumen_Producto(L)\"].sum())\n",
    "resultados"
   ],
   "metadata": {
    "collapsed": false,
    "ExecuteTime": {
     "end_time": "2024-06-11T16:21:59.804067200Z",
     "start_time": "2024-06-11T16:21:59.688196100Z"
    }
   },
   "id": "c4dcc64de758e62a"
  },
  {
   "cell_type": "markdown",
   "source": [
    "#### 4.3.5) Generación de piezas \n",
    "En esta sección tomaremos el volumne por producto y lo tranformaremos a piezas.\n",
    "\n",
    "**NOTA IMPORTANTE:** En SAP las piezas son piezas individuales, no importa que se comercialice en paquetes de una X cantidad. Las piezas tienen que ser de forma INDIVIDUAL  "
   ],
   "metadata": {
    "collapsed": false
   },
   "id": "beacd7b0ccf3e61e"
  },
  {
   "cell_type": "code",
   "execution_count": 88,
   "outputs": [
    {
     "name": "stderr",
     "output_type": "stream",
     "text": [
      "C:\\Users\\OMBARRAZA\\AppData\\Local\\Temp\\ipykernel_17932\\4229373210.py:1: UserWarning: pandas only supports SQLAlchemy connectable (engine/connection) or database string URI or sqlite3 DBAPI2 connection. Other DBAPI2 objects are not tested. Please consider using SQLAlchemy.\n",
      "  pzs_ltrs_por_producto = pd.read_sql(sql=query_volumen_producto, con=conexion, dtype_backend=\"pyarrow\")\n"
     ]
    },
    {
     "data": {
      "text/plain": "    ProductoClave  PRUTipoUnidad  Factor  KgLts\n0            0005              1     1.0  0.250\n1            0006              1     1.0  1.000\n2            0007              1     1.0  0.250\n3            0008              1     1.0  0.000\n4            0009              1     1.0  0.236\n..            ...            ...     ...    ...\n728          2906              1     1.0  0.000\n729          2907              1     1.0  0.000\n730          2908              1     1.0  0.000\n731       3002905              1     1.0  0.000\n732          9000              1     1.0  3.360\n\n[733 rows x 4 columns]",
      "text/html": "<div>\n<style scoped>\n    .dataframe tbody tr th:only-of-type {\n        vertical-align: middle;\n    }\n\n    .dataframe tbody tr th {\n        vertical-align: top;\n    }\n\n    .dataframe thead th {\n        text-align: right;\n    }\n</style>\n<table border=\"1\" class=\"dataframe\">\n  <thead>\n    <tr style=\"text-align: right;\">\n      <th></th>\n      <th>ProductoClave</th>\n      <th>PRUTipoUnidad</th>\n      <th>Factor</th>\n      <th>KgLts</th>\n    </tr>\n  </thead>\n  <tbody>\n    <tr>\n      <th>0</th>\n      <td>0005</td>\n      <td>1</td>\n      <td>1.0</td>\n      <td>0.250</td>\n    </tr>\n    <tr>\n      <th>1</th>\n      <td>0006</td>\n      <td>1</td>\n      <td>1.0</td>\n      <td>1.000</td>\n    </tr>\n    <tr>\n      <th>2</th>\n      <td>0007</td>\n      <td>1</td>\n      <td>1.0</td>\n      <td>0.250</td>\n    </tr>\n    <tr>\n      <th>3</th>\n      <td>0008</td>\n      <td>1</td>\n      <td>1.0</td>\n      <td>0.000</td>\n    </tr>\n    <tr>\n      <th>4</th>\n      <td>0009</td>\n      <td>1</td>\n      <td>1.0</td>\n      <td>0.236</td>\n    </tr>\n    <tr>\n      <th>...</th>\n      <td>...</td>\n      <td>...</td>\n      <td>...</td>\n      <td>...</td>\n    </tr>\n    <tr>\n      <th>728</th>\n      <td>2906</td>\n      <td>1</td>\n      <td>1.0</td>\n      <td>0.000</td>\n    </tr>\n    <tr>\n      <th>729</th>\n      <td>2907</td>\n      <td>1</td>\n      <td>1.0</td>\n      <td>0.000</td>\n    </tr>\n    <tr>\n      <th>730</th>\n      <td>2908</td>\n      <td>1</td>\n      <td>1.0</td>\n      <td>0.000</td>\n    </tr>\n    <tr>\n      <th>731</th>\n      <td>3002905</td>\n      <td>1</td>\n      <td>1.0</td>\n      <td>0.000</td>\n    </tr>\n    <tr>\n      <th>732</th>\n      <td>9000</td>\n      <td>1</td>\n      <td>1.0</td>\n      <td>3.360</td>\n    </tr>\n  </tbody>\n</table>\n<p>733 rows × 4 columns</p>\n</div>"
     },
     "execution_count": 88,
     "metadata": {},
     "output_type": "execute_result"
    }
   ],
   "source": [
    "pzs_ltrs_por_producto = pd.read_sql(sql=query_volumen_producto, con=conexion, dtype_backend=\"pyarrow\")\n",
    "pzs_ltrs_por_producto\n",
    "\n",
    "# NOTA: La columna de PrutTipoUnidad auqnue es numerica expresa una categoria, 1 significa que se vende de manera individual, 8 por charola y 9 por bolsa. Estas categorias las tengo que vincular más bien con la columnas de Factor que esa si son las piezas reales."
   ],
   "metadata": {
    "collapsed": false,
    "ExecuteTime": {
     "end_time": "2024-06-11T16:21:59.805070100Z",
     "start_time": "2024-06-11T16:21:59.749892100Z"
    }
   },
   "id": "5d833cac1da732c5"
  },
  {
   "cell_type": "code",
   "execution_count": 89,
   "outputs": [
    {
     "data": {
      "text/plain": "    ProductoClave  Factor  KgLts  Litros_Pieza\n0            0005     1.0  0.250         0.250\n1            0006     1.0  1.000         1.000\n2            0007     1.0  0.250         0.250\n3            0008     1.0  0.000         0.000\n4            0009     1.0  0.236         0.236\n..            ...     ...    ...           ...\n728          2906     1.0  0.000         0.000\n729          2907     1.0  0.000         0.000\n730          2908     1.0  0.000         0.000\n731       3002905     1.0  0.000         0.000\n732          9000     1.0  3.360         3.360\n\n[733 rows x 4 columns]",
      "text/html": "<div>\n<style scoped>\n    .dataframe tbody tr th:only-of-type {\n        vertical-align: middle;\n    }\n\n    .dataframe tbody tr th {\n        vertical-align: top;\n    }\n\n    .dataframe thead th {\n        text-align: right;\n    }\n</style>\n<table border=\"1\" class=\"dataframe\">\n  <thead>\n    <tr style=\"text-align: right;\">\n      <th></th>\n      <th>ProductoClave</th>\n      <th>Factor</th>\n      <th>KgLts</th>\n      <th>Litros_Pieza</th>\n    </tr>\n  </thead>\n  <tbody>\n    <tr>\n      <th>0</th>\n      <td>0005</td>\n      <td>1.0</td>\n      <td>0.250</td>\n      <td>0.250</td>\n    </tr>\n    <tr>\n      <th>1</th>\n      <td>0006</td>\n      <td>1.0</td>\n      <td>1.000</td>\n      <td>1.000</td>\n    </tr>\n    <tr>\n      <th>2</th>\n      <td>0007</td>\n      <td>1.0</td>\n      <td>0.250</td>\n      <td>0.250</td>\n    </tr>\n    <tr>\n      <th>3</th>\n      <td>0008</td>\n      <td>1.0</td>\n      <td>0.000</td>\n      <td>0.000</td>\n    </tr>\n    <tr>\n      <th>4</th>\n      <td>0009</td>\n      <td>1.0</td>\n      <td>0.236</td>\n      <td>0.236</td>\n    </tr>\n    <tr>\n      <th>...</th>\n      <td>...</td>\n      <td>...</td>\n      <td>...</td>\n      <td>...</td>\n    </tr>\n    <tr>\n      <th>728</th>\n      <td>2906</td>\n      <td>1.0</td>\n      <td>0.000</td>\n      <td>0.000</td>\n    </tr>\n    <tr>\n      <th>729</th>\n      <td>2907</td>\n      <td>1.0</td>\n      <td>0.000</td>\n      <td>0.000</td>\n    </tr>\n    <tr>\n      <th>730</th>\n      <td>2908</td>\n      <td>1.0</td>\n      <td>0.000</td>\n      <td>0.000</td>\n    </tr>\n    <tr>\n      <th>731</th>\n      <td>3002905</td>\n      <td>1.0</td>\n      <td>0.000</td>\n      <td>0.000</td>\n    </tr>\n    <tr>\n      <th>732</th>\n      <td>9000</td>\n      <td>1.0</td>\n      <td>3.360</td>\n      <td>3.360</td>\n    </tr>\n  </tbody>\n</table>\n<p>733 rows × 4 columns</p>\n</div>"
     },
     "execution_count": 89,
     "metadata": {},
     "output_type": "execute_result"
    }
   ],
   "source": [
    "# 1) Solo me interesan estas columnas \n",
    "pzs_producto = pzs_ltrs_por_producto.drop(columns=[\"PRUTipoUnidad\"])\n",
    "\n",
    "# 2) Tengo que sacar el volumen indiciodual \n",
    "pzs_producto[\"Litros_Pieza\"] = pzs_producto[\"KgLts\"] / pzs_producto[\"Factor\"]\n",
    "pzs_producto"
   ],
   "metadata": {
    "collapsed": false,
    "ExecuteTime": {
     "end_time": "2024-06-11T16:21:59.806067800Z",
     "start_time": "2024-06-11T16:21:59.762044800Z"
    }
   },
   "id": "8542885995663bdc"
  },
  {
   "cell_type": "code",
   "execution_count": 90,
   "outputs": [
    {
     "data": {
      "text/plain": "         ClienteClave FrecuenciaClave Fecha_Carga RUTClave AlmacenPadreId  \\\n0          0665070000         0000010  2024-04-05  D001027           D001   \n1          0597250000         0000010  2024-04-05  D001027           D001   \n2          1832190001         0000010  2024-04-05  D001027           D001   \n3          1687200001         0000010  2024-04-05  D001027           D001   \n4          1577870001         0000010  2024-04-05  D001027           D001   \n...               ...             ...         ...      ...            ...   \n10014629   1841780001         1000000  2024-03-30  D002023           D002   \n10014630   1359380001         1000000  2024-03-30  D002023           D002   \n10014631   0585900000         1000000  2024-03-30  D002023           D002   \n10014632   0417750000         1000000  2024-03-30  D002023           D002   \n10014633   1359400001         1000000  2024-03-30  D002023           D002   \n\n          Volumen_Dia(L) ProductoClave    Porcentaje  Volumen_Producto(L)  \\\n0               8.604968          0006  1.543560e+01         1.328229e+00   \n1               9.594224          0006  9.065257e+00         8.697410e-01   \n2               9.702003          0006  1.543560e+01         1.497562e+00   \n3              15.915231          0006  1.543560e+01         2.456612e+00   \n4              10.768234          0006  1.543560e+01         1.662142e+00   \n...                  ...           ...           ...                  ...   \n10014629       26.465409          2905  4.963084e-23         1.313500e-23   \n10014630       23.520510          2905  4.963084e-23         1.167343e-23   \n10014631       21.669710          2905  5.093157e-08         1.103672e-08   \n10014632       13.809472          2905  5.093157e-08         7.033381e-09   \n10014633       27.838984          2905  4.963084e-23         1.381672e-23   \n\n          Factor  KgLts  Litros_Pieza  \n0            1.0  1.000         1.000  \n1            1.0  1.000         1.000  \n2            1.0  1.000         1.000  \n3            1.0  1.000         1.000  \n4            1.0  1.000         1.000  \n...          ...    ...           ...  \n10014629     1.0  0.001         0.001  \n10014630     1.0  0.001         0.001  \n10014631     1.0  0.001         0.001  \n10014632     1.0  0.001         0.001  \n10014633     1.0  0.001         0.001  \n\n[10014634 rows x 12 columns]",
      "text/html": "<div>\n<style scoped>\n    .dataframe tbody tr th:only-of-type {\n        vertical-align: middle;\n    }\n\n    .dataframe tbody tr th {\n        vertical-align: top;\n    }\n\n    .dataframe thead th {\n        text-align: right;\n    }\n</style>\n<table border=\"1\" class=\"dataframe\">\n  <thead>\n    <tr style=\"text-align: right;\">\n      <th></th>\n      <th>ClienteClave</th>\n      <th>FrecuenciaClave</th>\n      <th>Fecha_Carga</th>\n      <th>RUTClave</th>\n      <th>AlmacenPadreId</th>\n      <th>Volumen_Dia(L)</th>\n      <th>ProductoClave</th>\n      <th>Porcentaje</th>\n      <th>Volumen_Producto(L)</th>\n      <th>Factor</th>\n      <th>KgLts</th>\n      <th>Litros_Pieza</th>\n    </tr>\n  </thead>\n  <tbody>\n    <tr>\n      <th>0</th>\n      <td>0665070000</td>\n      <td>0000010</td>\n      <td>2024-04-05</td>\n      <td>D001027</td>\n      <td>D001</td>\n      <td>8.604968</td>\n      <td>0006</td>\n      <td>1.543560e+01</td>\n      <td>1.328229e+00</td>\n      <td>1.0</td>\n      <td>1.000</td>\n      <td>1.000</td>\n    </tr>\n    <tr>\n      <th>1</th>\n      <td>0597250000</td>\n      <td>0000010</td>\n      <td>2024-04-05</td>\n      <td>D001027</td>\n      <td>D001</td>\n      <td>9.594224</td>\n      <td>0006</td>\n      <td>9.065257e+00</td>\n      <td>8.697410e-01</td>\n      <td>1.0</td>\n      <td>1.000</td>\n      <td>1.000</td>\n    </tr>\n    <tr>\n      <th>2</th>\n      <td>1832190001</td>\n      <td>0000010</td>\n      <td>2024-04-05</td>\n      <td>D001027</td>\n      <td>D001</td>\n      <td>9.702003</td>\n      <td>0006</td>\n      <td>1.543560e+01</td>\n      <td>1.497562e+00</td>\n      <td>1.0</td>\n      <td>1.000</td>\n      <td>1.000</td>\n    </tr>\n    <tr>\n      <th>3</th>\n      <td>1687200001</td>\n      <td>0000010</td>\n      <td>2024-04-05</td>\n      <td>D001027</td>\n      <td>D001</td>\n      <td>15.915231</td>\n      <td>0006</td>\n      <td>1.543560e+01</td>\n      <td>2.456612e+00</td>\n      <td>1.0</td>\n      <td>1.000</td>\n      <td>1.000</td>\n    </tr>\n    <tr>\n      <th>4</th>\n      <td>1577870001</td>\n      <td>0000010</td>\n      <td>2024-04-05</td>\n      <td>D001027</td>\n      <td>D001</td>\n      <td>10.768234</td>\n      <td>0006</td>\n      <td>1.543560e+01</td>\n      <td>1.662142e+00</td>\n      <td>1.0</td>\n      <td>1.000</td>\n      <td>1.000</td>\n    </tr>\n    <tr>\n      <th>...</th>\n      <td>...</td>\n      <td>...</td>\n      <td>...</td>\n      <td>...</td>\n      <td>...</td>\n      <td>...</td>\n      <td>...</td>\n      <td>...</td>\n      <td>...</td>\n      <td>...</td>\n      <td>...</td>\n      <td>...</td>\n    </tr>\n    <tr>\n      <th>10014629</th>\n      <td>1841780001</td>\n      <td>1000000</td>\n      <td>2024-03-30</td>\n      <td>D002023</td>\n      <td>D002</td>\n      <td>26.465409</td>\n      <td>2905</td>\n      <td>4.963084e-23</td>\n      <td>1.313500e-23</td>\n      <td>1.0</td>\n      <td>0.001</td>\n      <td>0.001</td>\n    </tr>\n    <tr>\n      <th>10014630</th>\n      <td>1359380001</td>\n      <td>1000000</td>\n      <td>2024-03-30</td>\n      <td>D002023</td>\n      <td>D002</td>\n      <td>23.520510</td>\n      <td>2905</td>\n      <td>4.963084e-23</td>\n      <td>1.167343e-23</td>\n      <td>1.0</td>\n      <td>0.001</td>\n      <td>0.001</td>\n    </tr>\n    <tr>\n      <th>10014631</th>\n      <td>0585900000</td>\n      <td>1000000</td>\n      <td>2024-03-30</td>\n      <td>D002023</td>\n      <td>D002</td>\n      <td>21.669710</td>\n      <td>2905</td>\n      <td>5.093157e-08</td>\n      <td>1.103672e-08</td>\n      <td>1.0</td>\n      <td>0.001</td>\n      <td>0.001</td>\n    </tr>\n    <tr>\n      <th>10014632</th>\n      <td>0417750000</td>\n      <td>1000000</td>\n      <td>2024-03-30</td>\n      <td>D002023</td>\n      <td>D002</td>\n      <td>13.809472</td>\n      <td>2905</td>\n      <td>5.093157e-08</td>\n      <td>7.033381e-09</td>\n      <td>1.0</td>\n      <td>0.001</td>\n      <td>0.001</td>\n    </tr>\n    <tr>\n      <th>10014633</th>\n      <td>1359400001</td>\n      <td>1000000</td>\n      <td>2024-03-30</td>\n      <td>D002023</td>\n      <td>D002</td>\n      <td>27.838984</td>\n      <td>2905</td>\n      <td>4.963084e-23</td>\n      <td>1.381672e-23</td>\n      <td>1.0</td>\n      <td>0.001</td>\n      <td>0.001</td>\n    </tr>\n  </tbody>\n</table>\n<p>10014634 rows × 12 columns</p>\n</div>"
     },
     "execution_count": 90,
     "metadata": {},
     "output_type": "execute_result"
    }
   ],
   "source": [
    "resultados = pd.merge(left=resultados, right=pzs_producto, on=\"ProductoClave\", how=\"left\")\n",
    "resultados"
   ],
   "metadata": {
    "collapsed": false,
    "ExecuteTime": {
     "end_time": "2024-06-11T16:22:01.268550800Z",
     "start_time": "2024-06-11T16:21:59.771059500Z"
    }
   },
   "id": "ebede122a63cfa5"
  },
  {
   "cell_type": "markdown",
   "source": [
    "**GENERACION DE PIEZAS**"
   ],
   "metadata": {
    "collapsed": false
   },
   "id": "d59c28cd1660f5e0"
  },
  {
   "cell_type": "code",
   "execution_count": 91,
   "outputs": [
    {
     "data": {
      "text/plain": "         ClienteClave FrecuenciaClave Fecha_Carga RUTClave AlmacenPadreId  \\\n0          0665070000         0000010  2024-04-05  D001027           D001   \n1          0597250000         0000010  2024-04-05  D001027           D001   \n2          1832190001         0000010  2024-04-05  D001027           D001   \n3          1687200001         0000010  2024-04-05  D001027           D001   \n4          1577870001         0000010  2024-04-05  D001027           D001   \n...               ...             ...         ...      ...            ...   \n10014629   1841780001         1000000  2024-03-30  D002023           D002   \n10014630   1359380001         1000000  2024-03-30  D002023           D002   \n10014631   0585900000         1000000  2024-03-30  D002023           D002   \n10014632   0417750000         1000000  2024-03-30  D002023           D002   \n10014633   1359400001         1000000  2024-03-30  D002023           D002   \n\n          Volumen_Dia(L) ProductoClave    Porcentaje  Volumen_Producto(L)  \\\n0               8.604968          0006  1.543560e+01                  1.0   \n1               9.594224          0006  9.065257e+00                  1.0   \n2               9.702003          0006  1.543560e+01                  1.0   \n3              15.915231          0006  1.543560e+01                  2.0   \n4              10.768234          0006  1.543560e+01                  2.0   \n...                  ...           ...           ...                  ...   \n10014629       26.465409          2905  4.963084e-23                  0.0   \n10014630       23.520510          2905  4.963084e-23                  0.0   \n10014631       21.669710          2905  5.093157e-08                  0.0   \n10014632       13.809472          2905  5.093157e-08                  0.0   \n10014633       27.838984          2905  4.963084e-23                  0.0   \n\n          Factor  KgLts  Litros_Pieza  Piezas  \n0            1.0  1.000         1.000     1.0  \n1            1.0  1.000         1.000     1.0  \n2            1.0  1.000         1.000     1.0  \n3            1.0  1.000         1.000     2.0  \n4            1.0  1.000         1.000     2.0  \n...          ...    ...           ...     ...  \n10014629     1.0  0.001         0.001     0.0  \n10014630     1.0  0.001         0.001     0.0  \n10014631     1.0  0.001         0.001     0.0  \n10014632     1.0  0.001         0.001     0.0  \n10014633     1.0  0.001         0.001     0.0  \n\n[10014634 rows x 13 columns]",
      "text/html": "<div>\n<style scoped>\n    .dataframe tbody tr th:only-of-type {\n        vertical-align: middle;\n    }\n\n    .dataframe tbody tr th {\n        vertical-align: top;\n    }\n\n    .dataframe thead th {\n        text-align: right;\n    }\n</style>\n<table border=\"1\" class=\"dataframe\">\n  <thead>\n    <tr style=\"text-align: right;\">\n      <th></th>\n      <th>ClienteClave</th>\n      <th>FrecuenciaClave</th>\n      <th>Fecha_Carga</th>\n      <th>RUTClave</th>\n      <th>AlmacenPadreId</th>\n      <th>Volumen_Dia(L)</th>\n      <th>ProductoClave</th>\n      <th>Porcentaje</th>\n      <th>Volumen_Producto(L)</th>\n      <th>Factor</th>\n      <th>KgLts</th>\n      <th>Litros_Pieza</th>\n      <th>Piezas</th>\n    </tr>\n  </thead>\n  <tbody>\n    <tr>\n      <th>0</th>\n      <td>0665070000</td>\n      <td>0000010</td>\n      <td>2024-04-05</td>\n      <td>D001027</td>\n      <td>D001</td>\n      <td>8.604968</td>\n      <td>0006</td>\n      <td>1.543560e+01</td>\n      <td>1.0</td>\n      <td>1.0</td>\n      <td>1.000</td>\n      <td>1.000</td>\n      <td>1.0</td>\n    </tr>\n    <tr>\n      <th>1</th>\n      <td>0597250000</td>\n      <td>0000010</td>\n      <td>2024-04-05</td>\n      <td>D001027</td>\n      <td>D001</td>\n      <td>9.594224</td>\n      <td>0006</td>\n      <td>9.065257e+00</td>\n      <td>1.0</td>\n      <td>1.0</td>\n      <td>1.000</td>\n      <td>1.000</td>\n      <td>1.0</td>\n    </tr>\n    <tr>\n      <th>2</th>\n      <td>1832190001</td>\n      <td>0000010</td>\n      <td>2024-04-05</td>\n      <td>D001027</td>\n      <td>D001</td>\n      <td>9.702003</td>\n      <td>0006</td>\n      <td>1.543560e+01</td>\n      <td>1.0</td>\n      <td>1.0</td>\n      <td>1.000</td>\n      <td>1.000</td>\n      <td>1.0</td>\n    </tr>\n    <tr>\n      <th>3</th>\n      <td>1687200001</td>\n      <td>0000010</td>\n      <td>2024-04-05</td>\n      <td>D001027</td>\n      <td>D001</td>\n      <td>15.915231</td>\n      <td>0006</td>\n      <td>1.543560e+01</td>\n      <td>2.0</td>\n      <td>1.0</td>\n      <td>1.000</td>\n      <td>1.000</td>\n      <td>2.0</td>\n    </tr>\n    <tr>\n      <th>4</th>\n      <td>1577870001</td>\n      <td>0000010</td>\n      <td>2024-04-05</td>\n      <td>D001027</td>\n      <td>D001</td>\n      <td>10.768234</td>\n      <td>0006</td>\n      <td>1.543560e+01</td>\n      <td>2.0</td>\n      <td>1.0</td>\n      <td>1.000</td>\n      <td>1.000</td>\n      <td>2.0</td>\n    </tr>\n    <tr>\n      <th>...</th>\n      <td>...</td>\n      <td>...</td>\n      <td>...</td>\n      <td>...</td>\n      <td>...</td>\n      <td>...</td>\n      <td>...</td>\n      <td>...</td>\n      <td>...</td>\n      <td>...</td>\n      <td>...</td>\n      <td>...</td>\n      <td>...</td>\n    </tr>\n    <tr>\n      <th>10014629</th>\n      <td>1841780001</td>\n      <td>1000000</td>\n      <td>2024-03-30</td>\n      <td>D002023</td>\n      <td>D002</td>\n      <td>26.465409</td>\n      <td>2905</td>\n      <td>4.963084e-23</td>\n      <td>0.0</td>\n      <td>1.0</td>\n      <td>0.001</td>\n      <td>0.001</td>\n      <td>0.0</td>\n    </tr>\n    <tr>\n      <th>10014630</th>\n      <td>1359380001</td>\n      <td>1000000</td>\n      <td>2024-03-30</td>\n      <td>D002023</td>\n      <td>D002</td>\n      <td>23.520510</td>\n      <td>2905</td>\n      <td>4.963084e-23</td>\n      <td>0.0</td>\n      <td>1.0</td>\n      <td>0.001</td>\n      <td>0.001</td>\n      <td>0.0</td>\n    </tr>\n    <tr>\n      <th>10014631</th>\n      <td>0585900000</td>\n      <td>1000000</td>\n      <td>2024-03-30</td>\n      <td>D002023</td>\n      <td>D002</td>\n      <td>21.669710</td>\n      <td>2905</td>\n      <td>5.093157e-08</td>\n      <td>0.0</td>\n      <td>1.0</td>\n      <td>0.001</td>\n      <td>0.001</td>\n      <td>0.0</td>\n    </tr>\n    <tr>\n      <th>10014632</th>\n      <td>0417750000</td>\n      <td>1000000</td>\n      <td>2024-03-30</td>\n      <td>D002023</td>\n      <td>D002</td>\n      <td>13.809472</td>\n      <td>2905</td>\n      <td>5.093157e-08</td>\n      <td>0.0</td>\n      <td>1.0</td>\n      <td>0.001</td>\n      <td>0.001</td>\n      <td>0.0</td>\n    </tr>\n    <tr>\n      <th>10014633</th>\n      <td>1359400001</td>\n      <td>1000000</td>\n      <td>2024-03-30</td>\n      <td>D002023</td>\n      <td>D002</td>\n      <td>27.838984</td>\n      <td>2905</td>\n      <td>4.963084e-23</td>\n      <td>0.0</td>\n      <td>1.0</td>\n      <td>0.001</td>\n      <td>0.001</td>\n      <td>0.0</td>\n    </tr>\n  </tbody>\n</table>\n<p>10014634 rows × 13 columns</p>\n</div>"
     },
     "execution_count": 91,
     "metadata": {},
     "output_type": "execute_result"
    }
   ],
   "source": [
    "# Aplicamos un redonde simploe a las piezas \n",
    "resultados[\"Piezas\"] =  round(resultados[\"Volumen_Producto(L)\"] / resultados[\"Litros_Pieza\"]) \n",
    "\n",
    "# IMPORTNATE: generamos nuevamente el volumen pero yua con las piezaas redondeadas (por lo que es volumen redondeado) \n",
    "resultados[\"Volumen_Producto(L)\"] = resultados[\"Piezas\"] * resultados[\"Litros_Pieza\"]\n",
    "resultados"
   ],
   "metadata": {
    "collapsed": false,
    "ExecuteTime": {
     "end_time": "2024-06-11T16:22:01.479759900Z",
     "start_time": "2024-06-11T16:22:01.262549100Z"
    }
   },
   "id": "52e628ba07e502c3"
  },
  {
   "cell_type": "markdown",
   "source": [
    "#### 4.3.6) Agregación de resultados a nivel ruta \n",
    "Ahora que tenemos las piezas por cliente, nos interesa hacer una agregación a nivel ruta. Estos resultados a nivel ruta tendrán que ser a su vez redondeados nuevamente para que las piezas cargadas por día correspondana a las piezas que se ponen en una reja\n",
    "\n",
    "**NOTA SUPER IMPORTANTE;** Este redondeo va provocar que haya una diferencia entre la predicción a nivel cliente y la predicción a nivel ruta (dado el redondeo a rejas)"
   ],
   "metadata": {
    "collapsed": false
   },
   "id": "b38e13eb9786109c"
  },
  {
   "cell_type": "markdown",
   "source": [
    "**RESULTADOS A NIVEL RUTA**"
   ],
   "metadata": {
    "collapsed": false
   },
   "id": "9b558403ab0dc0f8"
  },
  {
   "cell_type": "code",
   "execution_count": 92,
   "outputs": [
    {
     "data": {
      "text/plain": "       RUTClave AlmacenPadreId FrecuenciaClave Fecha_Carga ProductoClave  \\\n0       D001001           D001         0000010  2024-04-05          0006   \n1       D001001           D001         0000010  2024-04-05          0014   \n2       D001001           D001         0000010  2024-04-05          0017   \n3       D001001           D001         0000010  2024-04-05          0024   \n4       D001001           D001         0000010  2024-04-05          0025   \n...         ...            ...             ...         ...           ...   \n169495  D004111           D004         1000000  2024-03-30          0960   \n169496  D004111           D004         1000000  2024-03-30          0960   \n169497  D004111           D004         1000000  2024-03-30          0961   \n169498  D004111           D004         1000000  2024-03-30          0961   \n169499  D004111           D004         1000000  2024-03-30          2905   \n\n        Litros_Pieza  Volumen_Productos(L)  Piezas Dia_venta  \n0           1.000000                 90.00    90.0    Sabado  \n1           0.250000                  4.50    18.0    Sabado  \n2           0.250000                  4.75    19.0    Sabado  \n3           0.250000                  6.50    26.0    Sabado  \n4           0.250000                 10.25    41.0    Sabado  \n...              ...                   ...     ...       ...  \n169495      0.235833                  0.00     0.0     Lunes  \n169496      0.236000                  0.00     0.0     Lunes  \n169497      0.235833                  0.00     0.0     Lunes  \n169498      0.236000                  0.00     0.0     Lunes  \n169499      0.001000                  0.00     0.0     Lunes  \n\n[169500 rows x 9 columns]",
      "text/html": "<div>\n<style scoped>\n    .dataframe tbody tr th:only-of-type {\n        vertical-align: middle;\n    }\n\n    .dataframe tbody tr th {\n        vertical-align: top;\n    }\n\n    .dataframe thead th {\n        text-align: right;\n    }\n</style>\n<table border=\"1\" class=\"dataframe\">\n  <thead>\n    <tr style=\"text-align: right;\">\n      <th></th>\n      <th>RUTClave</th>\n      <th>AlmacenPadreId</th>\n      <th>FrecuenciaClave</th>\n      <th>Fecha_Carga</th>\n      <th>ProductoClave</th>\n      <th>Litros_Pieza</th>\n      <th>Volumen_Productos(L)</th>\n      <th>Piezas</th>\n      <th>Dia_venta</th>\n    </tr>\n  </thead>\n  <tbody>\n    <tr>\n      <th>0</th>\n      <td>D001001</td>\n      <td>D001</td>\n      <td>0000010</td>\n      <td>2024-04-05</td>\n      <td>0006</td>\n      <td>1.000000</td>\n      <td>90.00</td>\n      <td>90.0</td>\n      <td>Sabado</td>\n    </tr>\n    <tr>\n      <th>1</th>\n      <td>D001001</td>\n      <td>D001</td>\n      <td>0000010</td>\n      <td>2024-04-05</td>\n      <td>0014</td>\n      <td>0.250000</td>\n      <td>4.50</td>\n      <td>18.0</td>\n      <td>Sabado</td>\n    </tr>\n    <tr>\n      <th>2</th>\n      <td>D001001</td>\n      <td>D001</td>\n      <td>0000010</td>\n      <td>2024-04-05</td>\n      <td>0017</td>\n      <td>0.250000</td>\n      <td>4.75</td>\n      <td>19.0</td>\n      <td>Sabado</td>\n    </tr>\n    <tr>\n      <th>3</th>\n      <td>D001001</td>\n      <td>D001</td>\n      <td>0000010</td>\n      <td>2024-04-05</td>\n      <td>0024</td>\n      <td>0.250000</td>\n      <td>6.50</td>\n      <td>26.0</td>\n      <td>Sabado</td>\n    </tr>\n    <tr>\n      <th>4</th>\n      <td>D001001</td>\n      <td>D001</td>\n      <td>0000010</td>\n      <td>2024-04-05</td>\n      <td>0025</td>\n      <td>0.250000</td>\n      <td>10.25</td>\n      <td>41.0</td>\n      <td>Sabado</td>\n    </tr>\n    <tr>\n      <th>...</th>\n      <td>...</td>\n      <td>...</td>\n      <td>...</td>\n      <td>...</td>\n      <td>...</td>\n      <td>...</td>\n      <td>...</td>\n      <td>...</td>\n      <td>...</td>\n    </tr>\n    <tr>\n      <th>169495</th>\n      <td>D004111</td>\n      <td>D004</td>\n      <td>1000000</td>\n      <td>2024-03-30</td>\n      <td>0960</td>\n      <td>0.235833</td>\n      <td>0.00</td>\n      <td>0.0</td>\n      <td>Lunes</td>\n    </tr>\n    <tr>\n      <th>169496</th>\n      <td>D004111</td>\n      <td>D004</td>\n      <td>1000000</td>\n      <td>2024-03-30</td>\n      <td>0960</td>\n      <td>0.236000</td>\n      <td>0.00</td>\n      <td>0.0</td>\n      <td>Lunes</td>\n    </tr>\n    <tr>\n      <th>169497</th>\n      <td>D004111</td>\n      <td>D004</td>\n      <td>1000000</td>\n      <td>2024-03-30</td>\n      <td>0961</td>\n      <td>0.235833</td>\n      <td>0.00</td>\n      <td>0.0</td>\n      <td>Lunes</td>\n    </tr>\n    <tr>\n      <th>169498</th>\n      <td>D004111</td>\n      <td>D004</td>\n      <td>1000000</td>\n      <td>2024-03-30</td>\n      <td>0961</td>\n      <td>0.236000</td>\n      <td>0.00</td>\n      <td>0.0</td>\n      <td>Lunes</td>\n    </tr>\n    <tr>\n      <th>169499</th>\n      <td>D004111</td>\n      <td>D004</td>\n      <td>1000000</td>\n      <td>2024-03-30</td>\n      <td>2905</td>\n      <td>0.001000</td>\n      <td>0.00</td>\n      <td>0.0</td>\n      <td>Lunes</td>\n    </tr>\n  </tbody>\n</table>\n<p>169500 rows × 9 columns</p>\n</div>"
     },
     "execution_count": 92,
     "metadata": {},
     "output_type": "execute_result"
    }
   ],
   "source": [
    "resultados_ruta = resultados.groupby(by=[\"RUTClave\", \"AlmacenPadreId\", \"FrecuenciaClave\", \"Fecha_Carga\", \"ProductoClave\", \"Litros_Pieza\"])[[\"Volumen_Producto(L)\", \"Piezas\"]].sum().reset_index()\n",
    "\n",
    "# Mapeo de valores \n",
    "dias = {\"1000000\": \"Lunes\", \n",
    "        \"0100000\": \"Martes\", \n",
    "        \"0010000\": \"Miercoles\", \n",
    "        \"0001000\": \"Jueves\", \n",
    "        \"0000100\":\"Vienres\",\n",
    "        \"0000010\": \"Sabado\"\n",
    "        }\n",
    "\n",
    "# Cambio de nombre\n",
    "resultados_ruta.rename(columns ={\"Volumen_Producto(L)\": \"Volumen_Productos(L)\"}, inplace=True)\n",
    "\n",
    "# Generación del día de la venta \n",
    "resultados_ruta[\"Dia_venta\"] = resultados_ruta[\"FrecuenciaClave\"].map(arg = dias)\n",
    "resultados_ruta"
   ],
   "metadata": {
    "collapsed": false,
    "ExecuteTime": {
     "end_time": "2024-06-11T16:22:03.209160300Z",
     "start_time": "2024-06-11T16:22:01.480759900Z"
    }
   },
   "id": "5d0412e028289fa9"
  },
  {
   "cell_type": "markdown",
   "source": [
    "## 5) Tratamiento de resultados \n",
    "**IMPORTANTE:** Agregar esta nueva sección, esta sección realmente debería de empezar más arriba, identificar realmente desde donde la puedo jalar"
   ],
   "metadata": {
    "collapsed": false
   },
   "id": "b68e3a4dc4fbfaba"
  },
  {
   "cell_type": "markdown",
   "source": [
    "**REDONDEO REJAS**\n"
   ],
   "metadata": {
    "collapsed": false
   },
   "id": "d2af7604bb800723"
  },
  {
   "cell_type": "code",
   "execution_count": 93,
   "outputs": [
    {
     "data": {
      "text/plain": "<pyhdbcli.Cursor at 0x1f0c28cb0f0>"
     },
     "execution_count": 93,
     "metadata": {},
     "output_type": "execute_result"
    }
   ],
   "source": [
    "import pandas as pd \n",
    "from hdbcli import dbapi\n",
    "\n",
    "contraseña = \"20S@pqlik\"\n",
    "# Establece los detalles de conexión\n",
    "connection = dbapi.connect(\n",
    "    address='192.168.198.234',\n",
    "    port=\"30241\",  # Generalmente es 39015\n",
    "    user='QLIKSAP',\n",
    "    password=contraseña)\n",
    "\n",
    "# Crea un objeto cursor\n",
    "cursor = connection.cursor()\n",
    "cursor"
   ],
   "metadata": {
    "collapsed": false,
    "ExecuteTime": {
     "end_time": "2024-06-11T16:22:03.545254700Z",
     "start_time": "2024-06-11T16:22:03.187156200Z"
    }
   },
   "id": "48f5f9ca2571cb35"
  },
  {
   "cell_type": "code",
   "execution_count": 94,
   "outputs": [
    {
     "data": {
      "text/plain": "          PRODUCTOCLAVE UNIDAD PIEZAS_EN_REJA\n0    000000000000000023     CH             12\n1    000000000000000885     CH             12\n2    000000000000000787     CH              6\n3    000000000000000882     CH             12\n4    000000000000000845     RJ             30\n..                  ...    ...            ...\n536  000000000000000898     CH             12\n537  000000000000000018     CH             12\n538  000000000000000631     RJ             10\n539  000000000000000269     RJ             12\n540  000000000000000268     RJ             36\n\n[541 rows x 3 columns]",
      "text/html": "<div>\n<style scoped>\n    .dataframe tbody tr th:only-of-type {\n        vertical-align: middle;\n    }\n\n    .dataframe tbody tr th {\n        vertical-align: top;\n    }\n\n    .dataframe thead th {\n        text-align: right;\n    }\n</style>\n<table border=\"1\" class=\"dataframe\">\n  <thead>\n    <tr style=\"text-align: right;\">\n      <th></th>\n      <th>PRODUCTOCLAVE</th>\n      <th>UNIDAD</th>\n      <th>PIEZAS_EN_REJA</th>\n    </tr>\n  </thead>\n  <tbody>\n    <tr>\n      <th>0</th>\n      <td>000000000000000023</td>\n      <td>CH</td>\n      <td>12</td>\n    </tr>\n    <tr>\n      <th>1</th>\n      <td>000000000000000885</td>\n      <td>CH</td>\n      <td>12</td>\n    </tr>\n    <tr>\n      <th>2</th>\n      <td>000000000000000787</td>\n      <td>CH</td>\n      <td>6</td>\n    </tr>\n    <tr>\n      <th>3</th>\n      <td>000000000000000882</td>\n      <td>CH</td>\n      <td>12</td>\n    </tr>\n    <tr>\n      <th>4</th>\n      <td>000000000000000845</td>\n      <td>RJ</td>\n      <td>30</td>\n    </tr>\n    <tr>\n      <th>...</th>\n      <td>...</td>\n      <td>...</td>\n      <td>...</td>\n    </tr>\n    <tr>\n      <th>536</th>\n      <td>000000000000000898</td>\n      <td>CH</td>\n      <td>12</td>\n    </tr>\n    <tr>\n      <th>537</th>\n      <td>000000000000000018</td>\n      <td>CH</td>\n      <td>12</td>\n    </tr>\n    <tr>\n      <th>538</th>\n      <td>000000000000000631</td>\n      <td>RJ</td>\n      <td>10</td>\n    </tr>\n    <tr>\n      <th>539</th>\n      <td>000000000000000269</td>\n      <td>RJ</td>\n      <td>12</td>\n    </tr>\n    <tr>\n      <th>540</th>\n      <td>000000000000000268</td>\n      <td>RJ</td>\n      <td>36</td>\n    </tr>\n  </tbody>\n</table>\n<p>541 rows × 3 columns</p>\n</div>"
     },
     "execution_count": 94,
     "metadata": {},
     "output_type": "execute_result"
    }
   ],
   "source": [
    "query =  \"\"\"\n",
    "select MATNR as ProductoClave, MEINH as Unidad, UMREZ as Piezas_en_reja \n",
    "from  SAPABAP1.MARM where MEINH in ('RJ', 'CH')  ;\n",
    "\"\"\"\n",
    "# IMPORTANTE: el RJ es rejas y el CH es charlas, hay productos que se suben  a las unidades en rejas y otros en charolas \n",
    "\n",
    "# CABECERO la llave es la columna PURCH__NO_C, \n",
    "cursor.execute(operation=query)  # el formato es año, mes y \n",
    "# Recuperar todos los resultados\n",
    "\n",
    "piezas_reja = cursor.fetchall()\n",
    "\n",
    "col_names = piezas_reja[0].column_names\n",
    "\n",
    "# Lo pasamos a un pandas DF \n",
    "piezas_reja= pd.DataFrame(data=piezas_reja, columns=col_names)\n",
    "piezas_reja"
   ],
   "metadata": {
    "collapsed": false,
    "ExecuteTime": {
     "end_time": "2024-06-11T16:22:03.841281Z",
     "start_time": "2024-06-11T16:22:03.540253200Z"
    }
   },
   "id": "26e8b47865725a41"
  },
  {
   "cell_type": "markdown",
   "source": [
    "Tratamiento del query, nos quedamos con los ultimos 4 digitos de la columna producto clave "
   ],
   "metadata": {
    "collapsed": false
   },
   "id": "7b319f0f30087305"
  },
  {
   "cell_type": "code",
   "execution_count": 95,
   "outputs": [
    {
     "data": {
      "text/plain": "    UNIDAD PIEZAS_EN_REJA ProductoClave\n0       CH             12          0023\n1       CH             12          0885\n2       CH              6          0787\n3       CH             12          0882\n4       RJ             30          0845\n..     ...            ...           ...\n536     CH             12          0898\n537     CH             12          0018\n538     RJ             10          0631\n539     RJ             12          0269\n540     RJ             36          0268\n\n[541 rows x 3 columns]",
      "text/html": "<div>\n<style scoped>\n    .dataframe tbody tr th:only-of-type {\n        vertical-align: middle;\n    }\n\n    .dataframe tbody tr th {\n        vertical-align: top;\n    }\n\n    .dataframe thead th {\n        text-align: right;\n    }\n</style>\n<table border=\"1\" class=\"dataframe\">\n  <thead>\n    <tr style=\"text-align: right;\">\n      <th></th>\n      <th>UNIDAD</th>\n      <th>PIEZAS_EN_REJA</th>\n      <th>ProductoClave</th>\n    </tr>\n  </thead>\n  <tbody>\n    <tr>\n      <th>0</th>\n      <td>CH</td>\n      <td>12</td>\n      <td>0023</td>\n    </tr>\n    <tr>\n      <th>1</th>\n      <td>CH</td>\n      <td>12</td>\n      <td>0885</td>\n    </tr>\n    <tr>\n      <th>2</th>\n      <td>CH</td>\n      <td>6</td>\n      <td>0787</td>\n    </tr>\n    <tr>\n      <th>3</th>\n      <td>CH</td>\n      <td>12</td>\n      <td>0882</td>\n    </tr>\n    <tr>\n      <th>4</th>\n      <td>RJ</td>\n      <td>30</td>\n      <td>0845</td>\n    </tr>\n    <tr>\n      <th>...</th>\n      <td>...</td>\n      <td>...</td>\n      <td>...</td>\n    </tr>\n    <tr>\n      <th>536</th>\n      <td>CH</td>\n      <td>12</td>\n      <td>0898</td>\n    </tr>\n    <tr>\n      <th>537</th>\n      <td>CH</td>\n      <td>12</td>\n      <td>0018</td>\n    </tr>\n    <tr>\n      <th>538</th>\n      <td>RJ</td>\n      <td>10</td>\n      <td>0631</td>\n    </tr>\n    <tr>\n      <th>539</th>\n      <td>RJ</td>\n      <td>12</td>\n      <td>0269</td>\n    </tr>\n    <tr>\n      <th>540</th>\n      <td>RJ</td>\n      <td>36</td>\n      <td>0268</td>\n    </tr>\n  </tbody>\n</table>\n<p>541 rows × 3 columns</p>\n</div>"
     },
     "execution_count": 95,
     "metadata": {},
     "output_type": "execute_result"
    }
   ],
   "source": [
    "# 1) Generamos la funcion \n",
    "# Nos quedamos con los primeros 4 caracteres del registro de ProductroClave \n",
    "def acotar(string:str) -> str:\n",
    "    # Lo pasamos a una lista \n",
    "    lista = list(string) \n",
    "\n",
    "    # Nos quedamos con los ultimos 4 objetos de la lista \n",
    "    resultado = lista\n",
    "    n = 4  # reemplaza 4 con el número de elementos que deseas obtener\n",
    "    resultado = resultado[-n:]\n",
    "    \n",
    "    # Unimos los objetos de la lista \n",
    "    resultado = ''.join(resultado)\n",
    "\n",
    "    return resultado\n",
    "\n",
    "\n",
    "# 2) Aplicamos la funcion \n",
    "piezas_reja[\"ProductoClave\"] = piezas_reja[\"PRODUCTOCLAVE\"].transform(func=acotar)\n",
    "piezas_reja.drop(columns=[\"PRODUCTOCLAVE\"], inplace=True)\n",
    "piezas_reja"
   ],
   "metadata": {
    "collapsed": false,
    "ExecuteTime": {
     "end_time": "2024-06-11T16:22:03.843281100Z",
     "start_time": "2024-06-11T16:22:03.776759900Z"
    }
   },
   "id": "2ee98afb13d3d8e"
  },
  {
   "cell_type": "markdown",
   "source": [
    "**UNIORLO CON EL DF DE INTERES**"
   ],
   "metadata": {
    "collapsed": false
   },
   "id": "db4074add8381222"
  },
  {
   "cell_type": "code",
   "execution_count": 96,
   "outputs": [
    {
     "data": {
      "text/plain": "       RUTClave AlmacenPadreId FrecuenciaClave Fecha_Carga ProductoClave  \\\n0       D001001           D001         0000010  2024-04-05          0006   \n1       D001001           D001         0000010  2024-04-05          0014   \n2       D001001           D001         0000010  2024-04-05          0017   \n3       D001001           D001         0000010  2024-04-05          0024   \n4       D001001           D001         0000010  2024-04-05          0025   \n...         ...            ...             ...         ...           ...   \n169495  D004111           D004         1000000  2024-03-30          0960   \n169496  D004111           D004         1000000  2024-03-30          0960   \n169497  D004111           D004         1000000  2024-03-30          0961   \n169498  D004111           D004         1000000  2024-03-30          0961   \n169499  D004111           D004         1000000  2024-03-30          2905   \n\n        Litros_Pieza  Volumen_Productos(L)  Piezas Dia_venta UNIDAD  \\\n0           1.000000                 90.00    90.0    Sabado     RJ   \n1           0.250000                  4.50    18.0    Sabado     RJ   \n2           0.250000                  4.75    19.0    Sabado     RJ   \n3           0.250000                  6.50    26.0    Sabado     RJ   \n4           0.250000                 10.25    41.0    Sabado     RJ   \n...              ...                   ...     ...       ...    ...   \n169495      0.235833                  0.00     0.0     Lunes     CH   \n169496      0.236000                  0.00     0.0     Lunes     CH   \n169497      0.235833                  0.00     0.0     Lunes     CH   \n169498      0.236000                  0.00     0.0     Lunes     CH   \n169499      0.001000                  0.00     0.0     Lunes    NaN   \n\n       PIEZAS_EN_REJA  \n0                  16  \n1                  25  \n2                  25  \n3                  25  \n4                  25  \n...               ...  \n169495             24  \n169496             24  \n169497             24  \n169498             24  \n169499            NaN  \n\n[169500 rows x 11 columns]",
      "text/html": "<div>\n<style scoped>\n    .dataframe tbody tr th:only-of-type {\n        vertical-align: middle;\n    }\n\n    .dataframe tbody tr th {\n        vertical-align: top;\n    }\n\n    .dataframe thead th {\n        text-align: right;\n    }\n</style>\n<table border=\"1\" class=\"dataframe\">\n  <thead>\n    <tr style=\"text-align: right;\">\n      <th></th>\n      <th>RUTClave</th>\n      <th>AlmacenPadreId</th>\n      <th>FrecuenciaClave</th>\n      <th>Fecha_Carga</th>\n      <th>ProductoClave</th>\n      <th>Litros_Pieza</th>\n      <th>Volumen_Productos(L)</th>\n      <th>Piezas</th>\n      <th>Dia_venta</th>\n      <th>UNIDAD</th>\n      <th>PIEZAS_EN_REJA</th>\n    </tr>\n  </thead>\n  <tbody>\n    <tr>\n      <th>0</th>\n      <td>D001001</td>\n      <td>D001</td>\n      <td>0000010</td>\n      <td>2024-04-05</td>\n      <td>0006</td>\n      <td>1.000000</td>\n      <td>90.00</td>\n      <td>90.0</td>\n      <td>Sabado</td>\n      <td>RJ</td>\n      <td>16</td>\n    </tr>\n    <tr>\n      <th>1</th>\n      <td>D001001</td>\n      <td>D001</td>\n      <td>0000010</td>\n      <td>2024-04-05</td>\n      <td>0014</td>\n      <td>0.250000</td>\n      <td>4.50</td>\n      <td>18.0</td>\n      <td>Sabado</td>\n      <td>RJ</td>\n      <td>25</td>\n    </tr>\n    <tr>\n      <th>2</th>\n      <td>D001001</td>\n      <td>D001</td>\n      <td>0000010</td>\n      <td>2024-04-05</td>\n      <td>0017</td>\n      <td>0.250000</td>\n      <td>4.75</td>\n      <td>19.0</td>\n      <td>Sabado</td>\n      <td>RJ</td>\n      <td>25</td>\n    </tr>\n    <tr>\n      <th>3</th>\n      <td>D001001</td>\n      <td>D001</td>\n      <td>0000010</td>\n      <td>2024-04-05</td>\n      <td>0024</td>\n      <td>0.250000</td>\n      <td>6.50</td>\n      <td>26.0</td>\n      <td>Sabado</td>\n      <td>RJ</td>\n      <td>25</td>\n    </tr>\n    <tr>\n      <th>4</th>\n      <td>D001001</td>\n      <td>D001</td>\n      <td>0000010</td>\n      <td>2024-04-05</td>\n      <td>0025</td>\n      <td>0.250000</td>\n      <td>10.25</td>\n      <td>41.0</td>\n      <td>Sabado</td>\n      <td>RJ</td>\n      <td>25</td>\n    </tr>\n    <tr>\n      <th>...</th>\n      <td>...</td>\n      <td>...</td>\n      <td>...</td>\n      <td>...</td>\n      <td>...</td>\n      <td>...</td>\n      <td>...</td>\n      <td>...</td>\n      <td>...</td>\n      <td>...</td>\n      <td>...</td>\n    </tr>\n    <tr>\n      <th>169495</th>\n      <td>D004111</td>\n      <td>D004</td>\n      <td>1000000</td>\n      <td>2024-03-30</td>\n      <td>0960</td>\n      <td>0.235833</td>\n      <td>0.00</td>\n      <td>0.0</td>\n      <td>Lunes</td>\n      <td>CH</td>\n      <td>24</td>\n    </tr>\n    <tr>\n      <th>169496</th>\n      <td>D004111</td>\n      <td>D004</td>\n      <td>1000000</td>\n      <td>2024-03-30</td>\n      <td>0960</td>\n      <td>0.236000</td>\n      <td>0.00</td>\n      <td>0.0</td>\n      <td>Lunes</td>\n      <td>CH</td>\n      <td>24</td>\n    </tr>\n    <tr>\n      <th>169497</th>\n      <td>D004111</td>\n      <td>D004</td>\n      <td>1000000</td>\n      <td>2024-03-30</td>\n      <td>0961</td>\n      <td>0.235833</td>\n      <td>0.00</td>\n      <td>0.0</td>\n      <td>Lunes</td>\n      <td>CH</td>\n      <td>24</td>\n    </tr>\n    <tr>\n      <th>169498</th>\n      <td>D004111</td>\n      <td>D004</td>\n      <td>1000000</td>\n      <td>2024-03-30</td>\n      <td>0961</td>\n      <td>0.236000</td>\n      <td>0.00</td>\n      <td>0.0</td>\n      <td>Lunes</td>\n      <td>CH</td>\n      <td>24</td>\n    </tr>\n    <tr>\n      <th>169499</th>\n      <td>D004111</td>\n      <td>D004</td>\n      <td>1000000</td>\n      <td>2024-03-30</td>\n      <td>2905</td>\n      <td>0.001000</td>\n      <td>0.00</td>\n      <td>0.0</td>\n      <td>Lunes</td>\n      <td>NaN</td>\n      <td>NaN</td>\n    </tr>\n  </tbody>\n</table>\n<p>169500 rows × 11 columns</p>\n</div>"
     },
     "execution_count": 96,
     "metadata": {},
     "output_type": "execute_result"
    }
   ],
   "source": [
    "resultados_ruta = pd.merge(left=resultados_ruta, right=piezas_reja, on=[\"ProductoClave\"], how=\"left\")\n",
    "resultados_ruta"
   ],
   "metadata": {
    "collapsed": false,
    "ExecuteTime": {
     "end_time": "2024-06-11T16:22:03.900687300Z",
     "start_time": "2024-06-11T16:22:03.784098700Z"
    }
   },
   "id": "37228501d23eef04"
  },
  {
   "cell_type": "markdown",
   "source": [
    "INSPECCION DE NA VALUES  "
   ],
   "metadata": {
    "collapsed": false
   },
   "id": "405ae140b9bbf1de"
  },
  {
   "cell_type": "code",
   "execution_count": 97,
   "outputs": [
    {
     "data": {
      "text/plain": "RUTClave                   0\nAlmacenPadreId             0\nFrecuenciaClave            0\nFecha_Carga                0\nProductoClave              0\nLitros_Pieza               0\nVolumen_Productos(L)       0\nPiezas                     0\nDia_venta                  0\nUNIDAD                  3000\nPIEZAS_EN_REJA          3000\ndtype: int64"
     },
     "execution_count": 97,
     "metadata": {},
     "output_type": "execute_result"
    }
   ],
   "source": [
    "resultados_ruta.isnull().sum()"
   ],
   "metadata": {
    "collapsed": false,
    "ExecuteTime": {
     "end_time": "2024-06-11T16:22:03.900687300Z",
     "start_time": "2024-06-11T16:22:03.815310900Z"
    }
   },
   "id": "b14e4408cd597fb0"
  },
  {
   "cell_type": "markdown",
   "source": [
    "**LLENADO DE NA VALUES**\n",
    "IMPORTANTE: Al parecer las piezas quie faltan son productos en cubetas, no se cargan en rejas o en charlos, sino de manera individual, por lo que sustituiremos los valores falantes de Unidades que sea = 1 "
   ],
   "metadata": {
    "collapsed": false
   },
   "id": "c370f3139f41f70a"
  },
  {
   "cell_type": "code",
   "execution_count": 98,
   "outputs": [
    {
     "data": {
      "text/plain": "RUTClave                0\nAlmacenPadreId          0\nFrecuenciaClave         0\nFecha_Carga             0\nProductoClave           0\nLitros_Pieza            0\nVolumen_Productos(L)    0\nPiezas                  0\nDia_venta               0\nUNIDAD                  0\nPIEZAS_EN_REJA          0\ndtype: int64"
     },
     "execution_count": 98,
     "metadata": {},
     "output_type": "execute_result"
    }
   ],
   "source": [
    "resultados_ruta[\"UNIDAD\"].fillna(value=\"PZ\", inplace=True)\n",
    "resultados_ruta[\"PIEZAS_EN_REJA\"].fillna(value=1, inplace=True)\n",
    "resultados_ruta.isnull().sum()"
   ],
   "metadata": {
    "collapsed": false,
    "ExecuteTime": {
     "end_time": "2024-06-11T16:22:04.096731200Z",
     "start_time": "2024-06-11T16:22:03.837280400Z"
    }
   },
   "id": "9267877e738d9e7c"
  },
  {
   "cell_type": "markdown",
   "source": [
    "**REDONDEO PERSONALIZADO DE LAS REJAS**\n",
    "Tomaremos un umbral personalizado para hacer el redondeo "
   ],
   "metadata": {
    "collapsed": false
   },
   "id": "ede343c3f165818e"
  },
  {
   "cell_type": "code",
   "execution_count": 99,
   "outputs": [
    {
     "data": {
      "text/plain": "       RUTClave AlmacenPadreId FrecuenciaClave Fecha_Carga ProductoClave  \\\n0       D001001           D001         0000010  2024-04-05          0006   \n1       D001001           D001         0000010  2024-04-05          0014   \n2       D001001           D001         0000010  2024-04-05          0017   \n3       D001001           D001         0000010  2024-04-05          0024   \n4       D001001           D001         0000010  2024-04-05          0025   \n...         ...            ...             ...         ...           ...   \n169495  D004111           D004         1000000  2024-03-30          0960   \n169496  D004111           D004         1000000  2024-03-30          0960   \n169497  D004111           D004         1000000  2024-03-30          0961   \n169498  D004111           D004         1000000  2024-03-30          0961   \n169499  D004111           D004         1000000  2024-03-30          2905   \n\n        Litros_Pieza  Volumen_Productos(L)  Piezas Dia_venta UNIDAD  \\\n0           1.000000                 90.00    90.0    Sabado     RJ   \n1           0.250000                  4.50    18.0    Sabado     RJ   \n2           0.250000                  4.75    19.0    Sabado     RJ   \n3           0.250000                  6.50    26.0    Sabado     RJ   \n4           0.250000                 10.25    41.0    Sabado     RJ   \n...              ...                   ...     ...       ...    ...   \n169495      0.235833                  0.00     0.0     Lunes     CH   \n169496      0.236000                  0.00     0.0     Lunes     CH   \n169497      0.235833                  0.00     0.0     Lunes     CH   \n169498      0.236000                  0.00     0.0     Lunes     CH   \n169499      0.001000                  0.00     0.0     Lunes     PZ   \n\n       PIEZAS_EN_REJA  Rejas  Rejas_redondeado Piezas_redondeo  \\\n0                  16  5.625                 6              96   \n1                  25  0.720                 1              25   \n2                  25  0.760                 1              25   \n3                  25  1.040                 1              25   \n4                  25  1.640                 2              50   \n...               ...    ...               ...             ...   \n169495             24  0.000                 0               0   \n169496             24  0.000                 0               0   \n169497             24  0.000                 0               0   \n169498             24  0.000                 0               0   \n169499              1  0.000                 0               0   \n\n        Litros_redondeado  \n0                   96.00  \n1                    6.25  \n2                    6.25  \n3                    6.25  \n4                   12.50  \n...                   ...  \n169495               0.00  \n169496               0.00  \n169497               0.00  \n169498               0.00  \n169499               0.00  \n\n[169500 rows x 15 columns]",
      "text/html": "<div>\n<style scoped>\n    .dataframe tbody tr th:only-of-type {\n        vertical-align: middle;\n    }\n\n    .dataframe tbody tr th {\n        vertical-align: top;\n    }\n\n    .dataframe thead th {\n        text-align: right;\n    }\n</style>\n<table border=\"1\" class=\"dataframe\">\n  <thead>\n    <tr style=\"text-align: right;\">\n      <th></th>\n      <th>RUTClave</th>\n      <th>AlmacenPadreId</th>\n      <th>FrecuenciaClave</th>\n      <th>Fecha_Carga</th>\n      <th>ProductoClave</th>\n      <th>Litros_Pieza</th>\n      <th>Volumen_Productos(L)</th>\n      <th>Piezas</th>\n      <th>Dia_venta</th>\n      <th>UNIDAD</th>\n      <th>PIEZAS_EN_REJA</th>\n      <th>Rejas</th>\n      <th>Rejas_redondeado</th>\n      <th>Piezas_redondeo</th>\n      <th>Litros_redondeado</th>\n    </tr>\n  </thead>\n  <tbody>\n    <tr>\n      <th>0</th>\n      <td>D001001</td>\n      <td>D001</td>\n      <td>0000010</td>\n      <td>2024-04-05</td>\n      <td>0006</td>\n      <td>1.000000</td>\n      <td>90.00</td>\n      <td>90.0</td>\n      <td>Sabado</td>\n      <td>RJ</td>\n      <td>16</td>\n      <td>5.625</td>\n      <td>6</td>\n      <td>96</td>\n      <td>96.00</td>\n    </tr>\n    <tr>\n      <th>1</th>\n      <td>D001001</td>\n      <td>D001</td>\n      <td>0000010</td>\n      <td>2024-04-05</td>\n      <td>0014</td>\n      <td>0.250000</td>\n      <td>4.50</td>\n      <td>18.0</td>\n      <td>Sabado</td>\n      <td>RJ</td>\n      <td>25</td>\n      <td>0.720</td>\n      <td>1</td>\n      <td>25</td>\n      <td>6.25</td>\n    </tr>\n    <tr>\n      <th>2</th>\n      <td>D001001</td>\n      <td>D001</td>\n      <td>0000010</td>\n      <td>2024-04-05</td>\n      <td>0017</td>\n      <td>0.250000</td>\n      <td>4.75</td>\n      <td>19.0</td>\n      <td>Sabado</td>\n      <td>RJ</td>\n      <td>25</td>\n      <td>0.760</td>\n      <td>1</td>\n      <td>25</td>\n      <td>6.25</td>\n    </tr>\n    <tr>\n      <th>3</th>\n      <td>D001001</td>\n      <td>D001</td>\n      <td>0000010</td>\n      <td>2024-04-05</td>\n      <td>0024</td>\n      <td>0.250000</td>\n      <td>6.50</td>\n      <td>26.0</td>\n      <td>Sabado</td>\n      <td>RJ</td>\n      <td>25</td>\n      <td>1.040</td>\n      <td>1</td>\n      <td>25</td>\n      <td>6.25</td>\n    </tr>\n    <tr>\n      <th>4</th>\n      <td>D001001</td>\n      <td>D001</td>\n      <td>0000010</td>\n      <td>2024-04-05</td>\n      <td>0025</td>\n      <td>0.250000</td>\n      <td>10.25</td>\n      <td>41.0</td>\n      <td>Sabado</td>\n      <td>RJ</td>\n      <td>25</td>\n      <td>1.640</td>\n      <td>2</td>\n      <td>50</td>\n      <td>12.50</td>\n    </tr>\n    <tr>\n      <th>...</th>\n      <td>...</td>\n      <td>...</td>\n      <td>...</td>\n      <td>...</td>\n      <td>...</td>\n      <td>...</td>\n      <td>...</td>\n      <td>...</td>\n      <td>...</td>\n      <td>...</td>\n      <td>...</td>\n      <td>...</td>\n      <td>...</td>\n      <td>...</td>\n      <td>...</td>\n    </tr>\n    <tr>\n      <th>169495</th>\n      <td>D004111</td>\n      <td>D004</td>\n      <td>1000000</td>\n      <td>2024-03-30</td>\n      <td>0960</td>\n      <td>0.235833</td>\n      <td>0.00</td>\n      <td>0.0</td>\n      <td>Lunes</td>\n      <td>CH</td>\n      <td>24</td>\n      <td>0.000</td>\n      <td>0</td>\n      <td>0</td>\n      <td>0.00</td>\n    </tr>\n    <tr>\n      <th>169496</th>\n      <td>D004111</td>\n      <td>D004</td>\n      <td>1000000</td>\n      <td>2024-03-30</td>\n      <td>0960</td>\n      <td>0.236000</td>\n      <td>0.00</td>\n      <td>0.0</td>\n      <td>Lunes</td>\n      <td>CH</td>\n      <td>24</td>\n      <td>0.000</td>\n      <td>0</td>\n      <td>0</td>\n      <td>0.00</td>\n    </tr>\n    <tr>\n      <th>169497</th>\n      <td>D004111</td>\n      <td>D004</td>\n      <td>1000000</td>\n      <td>2024-03-30</td>\n      <td>0961</td>\n      <td>0.235833</td>\n      <td>0.00</td>\n      <td>0.0</td>\n      <td>Lunes</td>\n      <td>CH</td>\n      <td>24</td>\n      <td>0.000</td>\n      <td>0</td>\n      <td>0</td>\n      <td>0.00</td>\n    </tr>\n    <tr>\n      <th>169498</th>\n      <td>D004111</td>\n      <td>D004</td>\n      <td>1000000</td>\n      <td>2024-03-30</td>\n      <td>0961</td>\n      <td>0.236000</td>\n      <td>0.00</td>\n      <td>0.0</td>\n      <td>Lunes</td>\n      <td>CH</td>\n      <td>24</td>\n      <td>0.000</td>\n      <td>0</td>\n      <td>0</td>\n      <td>0.00</td>\n    </tr>\n    <tr>\n      <th>169499</th>\n      <td>D004111</td>\n      <td>D004</td>\n      <td>1000000</td>\n      <td>2024-03-30</td>\n      <td>2905</td>\n      <td>0.001000</td>\n      <td>0.00</td>\n      <td>0.0</td>\n      <td>Lunes</td>\n      <td>PZ</td>\n      <td>1</td>\n      <td>0.000</td>\n      <td>0</td>\n      <td>0</td>\n      <td>0.00</td>\n    </tr>\n  </tbody>\n</table>\n<p>169500 rows × 15 columns</p>\n</div>"
     },
     "execution_count": 99,
     "metadata": {},
     "output_type": "execute_result"
    }
   ],
   "source": [
    "# 1) Definimos la funcion \n",
    "def redondeo(numero:float) -> int:\n",
    "    numero = float(numero) # lo forazamos primero a que sea float \n",
    "    entero =  int(numero)\n",
    "    decimal = numero - entero\n",
    "\n",
    "    if decimal >= umbral_redondeo_reja:      #### UMBRAL !!! \n",
    "        resultado = entero + 1 \n",
    "    else:\n",
    "        resultado = entero\n",
    "    \n",
    "    return resultado\n",
    "\n",
    "\n",
    "# 2) Sacamos las rejas \n",
    "resultados_ruta[\"Rejas\"] = resultados_ruta[\"Piezas\"] / resultados_ruta[\"PIEZAS_EN_REJA\"]\n",
    "\n",
    "# 3)) Redondeamos el numero de rejas \n",
    "resultados_ruta[\"Rejas_redondeado\"] = resultados_ruta[\"Rejas\"].apply(func=redondeo)\n",
    "\n",
    "# 4) Volvemos a sacar piezas redondeadas \n",
    "resultados_ruta[\"Piezas_redondeo\"] = resultados_ruta[\"Rejas_redondeado\"] * resultados_ruta[\"PIEZAS_EN_REJA\"]\n",
    "\n",
    "#5) Sacamos los nuevos litros redondeados \n",
    "resultados_ruta[\"Litros_redondeado\"] = resultados_ruta[\"Piezas_redondeo\"] * resultados_ruta[\"Litros_Pieza\"]\n",
    "resultados_ruta"
   ],
   "metadata": {
    "collapsed": false,
    "ExecuteTime": {
     "end_time": "2024-06-11T16:22:04.440703Z",
     "start_time": "2024-06-11T16:22:03.869680Z"
    }
   },
   "id": "b3c96ec18bfd670c"
  },
  {
   "cell_type": "code",
   "execution_count": 100,
   "outputs": [
    {
     "data": {
      "text/plain": "1346938.08"
     },
     "execution_count": 100,
     "metadata": {},
     "output_type": "execute_result"
    }
   ],
   "source": [
    "resultados_ruta[\"Litros_redondeado\"].sum()"
   ],
   "metadata": {
    "collapsed": false,
    "ExecuteTime": {
     "end_time": "2024-06-11T16:22:04.447705Z",
     "start_time": "2024-06-11T16:22:04.404529600Z"
    }
   },
   "id": "fcc08e1b7e4fa5b4"
  },
  {
   "cell_type": "code",
   "execution_count": 101,
   "outputs": [
    {
     "data": {
      "text/plain": "1344789.6446666669"
     },
     "execution_count": 101,
     "metadata": {},
     "output_type": "execute_result"
    }
   ],
   "source": [
    "resultados_ruta[\"Volumen_Productos(L)\"].sum() # Este era el volumen original "
   ],
   "metadata": {
    "collapsed": false,
    "ExecuteTime": {
     "end_time": "2024-06-11T16:22:04.447705Z",
     "start_time": "2024-06-11T16:22:04.408577500Z"
    }
   },
   "id": "3bcf612f55466ff2"
  },
  {
   "cell_type": "code",
   "execution_count": 102,
   "outputs": [
    {
     "data": {
      "text/plain": "  RUTClave AlmacenPadreId FrecuenciaClave Fecha_Carga ProductoClave  \\\n0  D001001           D001         0000010  2024-04-05          0006   \n1  D001001           D001         0000010  2024-04-05          0014   \n2  D001001           D001         0000010  2024-04-05          0017   \n3  D001001           D001         0000010  2024-04-05          0024   \n4  D001001           D001         0000010  2024-04-05          0025   \n\n   Litros_Pieza  Volumen_Productos(L)  Piezas Dia_venta UNIDAD PIEZAS_EN_REJA  \\\n0          1.00                 90.00    90.0    Sabado     RJ             16   \n1          0.25                  4.50    18.0    Sabado     RJ             25   \n2          0.25                  4.75    19.0    Sabado     RJ             25   \n3          0.25                  6.50    26.0    Sabado     RJ             25   \n4          0.25                 10.25    41.0    Sabado     RJ             25   \n\n   Rejas  Rejas_redondeado Piezas_redondeo  Litros_redondeado  \n0  5.625                 6              96              96.00  \n1  0.720                 1              25               6.25  \n2  0.760                 1              25               6.25  \n3  1.040                 1              25               6.25  \n4  1.640                 2              50              12.50  ",
      "text/html": "<div>\n<style scoped>\n    .dataframe tbody tr th:only-of-type {\n        vertical-align: middle;\n    }\n\n    .dataframe tbody tr th {\n        vertical-align: top;\n    }\n\n    .dataframe thead th {\n        text-align: right;\n    }\n</style>\n<table border=\"1\" class=\"dataframe\">\n  <thead>\n    <tr style=\"text-align: right;\">\n      <th></th>\n      <th>RUTClave</th>\n      <th>AlmacenPadreId</th>\n      <th>FrecuenciaClave</th>\n      <th>Fecha_Carga</th>\n      <th>ProductoClave</th>\n      <th>Litros_Pieza</th>\n      <th>Volumen_Productos(L)</th>\n      <th>Piezas</th>\n      <th>Dia_venta</th>\n      <th>UNIDAD</th>\n      <th>PIEZAS_EN_REJA</th>\n      <th>Rejas</th>\n      <th>Rejas_redondeado</th>\n      <th>Piezas_redondeo</th>\n      <th>Litros_redondeado</th>\n    </tr>\n  </thead>\n  <tbody>\n    <tr>\n      <th>0</th>\n      <td>D001001</td>\n      <td>D001</td>\n      <td>0000010</td>\n      <td>2024-04-05</td>\n      <td>0006</td>\n      <td>1.00</td>\n      <td>90.00</td>\n      <td>90.0</td>\n      <td>Sabado</td>\n      <td>RJ</td>\n      <td>16</td>\n      <td>5.625</td>\n      <td>6</td>\n      <td>96</td>\n      <td>96.00</td>\n    </tr>\n    <tr>\n      <th>1</th>\n      <td>D001001</td>\n      <td>D001</td>\n      <td>0000010</td>\n      <td>2024-04-05</td>\n      <td>0014</td>\n      <td>0.25</td>\n      <td>4.50</td>\n      <td>18.0</td>\n      <td>Sabado</td>\n      <td>RJ</td>\n      <td>25</td>\n      <td>0.720</td>\n      <td>1</td>\n      <td>25</td>\n      <td>6.25</td>\n    </tr>\n    <tr>\n      <th>2</th>\n      <td>D001001</td>\n      <td>D001</td>\n      <td>0000010</td>\n      <td>2024-04-05</td>\n      <td>0017</td>\n      <td>0.25</td>\n      <td>4.75</td>\n      <td>19.0</td>\n      <td>Sabado</td>\n      <td>RJ</td>\n      <td>25</td>\n      <td>0.760</td>\n      <td>1</td>\n      <td>25</td>\n      <td>6.25</td>\n    </tr>\n    <tr>\n      <th>3</th>\n      <td>D001001</td>\n      <td>D001</td>\n      <td>0000010</td>\n      <td>2024-04-05</td>\n      <td>0024</td>\n      <td>0.25</td>\n      <td>6.50</td>\n      <td>26.0</td>\n      <td>Sabado</td>\n      <td>RJ</td>\n      <td>25</td>\n      <td>1.040</td>\n      <td>1</td>\n      <td>25</td>\n      <td>6.25</td>\n    </tr>\n    <tr>\n      <th>4</th>\n      <td>D001001</td>\n      <td>D001</td>\n      <td>0000010</td>\n      <td>2024-04-05</td>\n      <td>0025</td>\n      <td>0.25</td>\n      <td>10.25</td>\n      <td>41.0</td>\n      <td>Sabado</td>\n      <td>RJ</td>\n      <td>25</td>\n      <td>1.640</td>\n      <td>2</td>\n      <td>50</td>\n      <td>12.50</td>\n    </tr>\n  </tbody>\n</table>\n</div>"
     },
     "execution_count": 102,
     "metadata": {},
     "output_type": "execute_result"
    }
   ],
   "source": [
    "resultados_ruta.head()"
   ],
   "metadata": {
    "collapsed": false,
    "ExecuteTime": {
     "end_time": "2024-06-11T16:22:04.454706300Z",
     "start_time": "2024-06-11T16:22:04.411901700Z"
    }
   },
   "id": "c4324269a67c6986"
  },
  {
   "cell_type": "markdown",
   "source": [
    "### 4.4) Exportación de resultados \n",
    "También modificaremos el formato de la fecha "
   ],
   "metadata": {
    "collapsed": false
   },
   "id": "fc98cf645db77039"
  },
  {
   "cell_type": "code",
   "execution_count": 103,
   "outputs": [
    {
     "data": {
      "text/plain": "      Fecha_Carga AlmacenPadreId RUTClave ProductoClave Piezas_redondeo  \\\n0      2024-04-05           D001  D001001          0006              96   \n1      2024-04-05           D001  D001001          0014              25   \n2      2024-04-05           D001  D001001          0017              25   \n3      2024-04-05           D001  D001001          0024              25   \n4      2024-04-05           D001  D001001          0025              50   \n...           ...            ...      ...           ...             ...   \n27215  2024-03-30           D004  D004111          0609              32   \n27216  2024-03-30           D004  D004111          0612              25   \n27217  2024-03-30           D004  D004111          0640              30   \n27218  2024-03-30           D004  D004111          0705              36   \n27219  2024-03-30           D004  D004111          0750              48   \n\n       Litros_redondeado  \n0                  96.00  \n1                   6.25  \n2                   6.25  \n3                   6.25  \n4                  12.50  \n...                  ...  \n27215              32.00  \n27216              12.50  \n27217               6.60  \n27218               7.20  \n27219              43.20  \n\n[27220 rows x 6 columns]",
      "text/html": "<div>\n<style scoped>\n    .dataframe tbody tr th:only-of-type {\n        vertical-align: middle;\n    }\n\n    .dataframe tbody tr th {\n        vertical-align: top;\n    }\n\n    .dataframe thead th {\n        text-align: right;\n    }\n</style>\n<table border=\"1\" class=\"dataframe\">\n  <thead>\n    <tr style=\"text-align: right;\">\n      <th></th>\n      <th>Fecha_Carga</th>\n      <th>AlmacenPadreId</th>\n      <th>RUTClave</th>\n      <th>ProductoClave</th>\n      <th>Piezas_redondeo</th>\n      <th>Litros_redondeado</th>\n    </tr>\n  </thead>\n  <tbody>\n    <tr>\n      <th>0</th>\n      <td>2024-04-05</td>\n      <td>D001</td>\n      <td>D001001</td>\n      <td>0006</td>\n      <td>96</td>\n      <td>96.00</td>\n    </tr>\n    <tr>\n      <th>1</th>\n      <td>2024-04-05</td>\n      <td>D001</td>\n      <td>D001001</td>\n      <td>0014</td>\n      <td>25</td>\n      <td>6.25</td>\n    </tr>\n    <tr>\n      <th>2</th>\n      <td>2024-04-05</td>\n      <td>D001</td>\n      <td>D001001</td>\n      <td>0017</td>\n      <td>25</td>\n      <td>6.25</td>\n    </tr>\n    <tr>\n      <th>3</th>\n      <td>2024-04-05</td>\n      <td>D001</td>\n      <td>D001001</td>\n      <td>0024</td>\n      <td>25</td>\n      <td>6.25</td>\n    </tr>\n    <tr>\n      <th>4</th>\n      <td>2024-04-05</td>\n      <td>D001</td>\n      <td>D001001</td>\n      <td>0025</td>\n      <td>50</td>\n      <td>12.50</td>\n    </tr>\n    <tr>\n      <th>...</th>\n      <td>...</td>\n      <td>...</td>\n      <td>...</td>\n      <td>...</td>\n      <td>...</td>\n      <td>...</td>\n    </tr>\n    <tr>\n      <th>27215</th>\n      <td>2024-03-30</td>\n      <td>D004</td>\n      <td>D004111</td>\n      <td>0609</td>\n      <td>32</td>\n      <td>32.00</td>\n    </tr>\n    <tr>\n      <th>27216</th>\n      <td>2024-03-30</td>\n      <td>D004</td>\n      <td>D004111</td>\n      <td>0612</td>\n      <td>25</td>\n      <td>12.50</td>\n    </tr>\n    <tr>\n      <th>27217</th>\n      <td>2024-03-30</td>\n      <td>D004</td>\n      <td>D004111</td>\n      <td>0640</td>\n      <td>30</td>\n      <td>6.60</td>\n    </tr>\n    <tr>\n      <th>27218</th>\n      <td>2024-03-30</td>\n      <td>D004</td>\n      <td>D004111</td>\n      <td>0705</td>\n      <td>36</td>\n      <td>7.20</td>\n    </tr>\n    <tr>\n      <th>27219</th>\n      <td>2024-03-30</td>\n      <td>D004</td>\n      <td>D004111</td>\n      <td>0750</td>\n      <td>48</td>\n      <td>43.20</td>\n    </tr>\n  </tbody>\n</table>\n<p>27220 rows × 6 columns</p>\n</div>"
     },
     "execution_count": 103,
     "metadata": {},
     "output_type": "execute_result"
    }
   ],
   "source": [
    "resultados_ruta_exportacion = resultados_ruta.copy()\n",
    "resultados_ruta_exportacion = resultados_ruta_exportacion [[\"Fecha_Carga\", \"AlmacenPadreId\", \"RUTClave\", \n",
    "                                                            \"ProductoClave\", \"Piezas_redondeo\",  \"Litros_redondeado\"]]\n",
    "\n",
    "# Filtramos registros con recomendación = 0 \n",
    "resultados_ruta_exportacion = resultados_ruta_exportacion.query(\"Piezas_redondeo > 0\")\n",
    "resultados_ruta_exportacion.reset_index(drop=True, inplace=True)\n",
    "\n",
    "# Exportación \n",
    "resultados_ruta_exportacion.to_excel(excel_writer=\"Resultados/Resultados_Ruta_Completo.xlsx\", index=False)\n",
    "resultados_ruta_exportacion"
   ],
   "metadata": {
    "collapsed": false,
    "ExecuteTime": {
     "end_time": "2024-06-11T16:22:07.161789400Z",
     "start_time": "2024-06-11T16:22:04.422699100Z"
    }
   },
   "id": "81f1659772e62748"
  },
  {
   "cell_type": "code",
   "execution_count": 104,
   "outputs": [
    {
     "data": {
      "text/plain": "      Fecha_Carga AlmacenPadreId RUTClave ProductoClave Piezas_redondeo  \\\n0      2024-04-05           D001  D001001          0006              96   \n1      2024-04-05           D001  D001001          0014              25   \n2      2024-04-05           D001  D001001          0017              25   \n3      2024-04-05           D001  D001001          0024              25   \n4      2024-04-05           D001  D001001          0025              50   \n...           ...            ...      ...           ...             ...   \n27215  2024-03-30           D004  D004111          0609              32   \n27216  2024-03-30           D004  D004111          0612              25   \n27217  2024-03-30           D004  D004111          0640              30   \n27218  2024-03-30           D004  D004111          0705              36   \n27219  2024-03-30           D004  D004111          0750              48   \n\n       Litros_redondeado Fecha Surtido  \n0                  96.00    2024-04-05  \n1                   6.25    2024-04-05  \n2                   6.25    2024-04-05  \n3                   6.25    2024-04-05  \n4                  12.50    2024-04-05  \n...                  ...           ...  \n27215              32.00    2024-03-30  \n27216              12.50    2024-03-30  \n27217               6.60    2024-03-30  \n27218               7.20    2024-03-30  \n27219              43.20    2024-03-30  \n\n[27220 rows x 7 columns]",
      "text/html": "<div>\n<style scoped>\n    .dataframe tbody tr th:only-of-type {\n        vertical-align: middle;\n    }\n\n    .dataframe tbody tr th {\n        vertical-align: top;\n    }\n\n    .dataframe thead th {\n        text-align: right;\n    }\n</style>\n<table border=\"1\" class=\"dataframe\">\n  <thead>\n    <tr style=\"text-align: right;\">\n      <th></th>\n      <th>Fecha_Carga</th>\n      <th>AlmacenPadreId</th>\n      <th>RUTClave</th>\n      <th>ProductoClave</th>\n      <th>Piezas_redondeo</th>\n      <th>Litros_redondeado</th>\n      <th>Fecha Surtido</th>\n    </tr>\n  </thead>\n  <tbody>\n    <tr>\n      <th>0</th>\n      <td>2024-04-05</td>\n      <td>D001</td>\n      <td>D001001</td>\n      <td>0006</td>\n      <td>96</td>\n      <td>96.00</td>\n      <td>2024-04-05</td>\n    </tr>\n    <tr>\n      <th>1</th>\n      <td>2024-04-05</td>\n      <td>D001</td>\n      <td>D001001</td>\n      <td>0014</td>\n      <td>25</td>\n      <td>6.25</td>\n      <td>2024-04-05</td>\n    </tr>\n    <tr>\n      <th>2</th>\n      <td>2024-04-05</td>\n      <td>D001</td>\n      <td>D001001</td>\n      <td>0017</td>\n      <td>25</td>\n      <td>6.25</td>\n      <td>2024-04-05</td>\n    </tr>\n    <tr>\n      <th>3</th>\n      <td>2024-04-05</td>\n      <td>D001</td>\n      <td>D001001</td>\n      <td>0024</td>\n      <td>25</td>\n      <td>6.25</td>\n      <td>2024-04-05</td>\n    </tr>\n    <tr>\n      <th>4</th>\n      <td>2024-04-05</td>\n      <td>D001</td>\n      <td>D001001</td>\n      <td>0025</td>\n      <td>50</td>\n      <td>12.50</td>\n      <td>2024-04-05</td>\n    </tr>\n    <tr>\n      <th>...</th>\n      <td>...</td>\n      <td>...</td>\n      <td>...</td>\n      <td>...</td>\n      <td>...</td>\n      <td>...</td>\n      <td>...</td>\n    </tr>\n    <tr>\n      <th>27215</th>\n      <td>2024-03-30</td>\n      <td>D004</td>\n      <td>D004111</td>\n      <td>0609</td>\n      <td>32</td>\n      <td>32.00</td>\n      <td>2024-03-30</td>\n    </tr>\n    <tr>\n      <th>27216</th>\n      <td>2024-03-30</td>\n      <td>D004</td>\n      <td>D004111</td>\n      <td>0612</td>\n      <td>25</td>\n      <td>12.50</td>\n      <td>2024-03-30</td>\n    </tr>\n    <tr>\n      <th>27217</th>\n      <td>2024-03-30</td>\n      <td>D004</td>\n      <td>D004111</td>\n      <td>0640</td>\n      <td>30</td>\n      <td>6.60</td>\n      <td>2024-03-30</td>\n    </tr>\n    <tr>\n      <th>27218</th>\n      <td>2024-03-30</td>\n      <td>D004</td>\n      <td>D004111</td>\n      <td>0705</td>\n      <td>36</td>\n      <td>7.20</td>\n      <td>2024-03-30</td>\n    </tr>\n    <tr>\n      <th>27219</th>\n      <td>2024-03-30</td>\n      <td>D004</td>\n      <td>D004111</td>\n      <td>0750</td>\n      <td>48</td>\n      <td>43.20</td>\n      <td>2024-03-30</td>\n    </tr>\n  </tbody>\n</table>\n<p>27220 rows × 7 columns</p>\n</div>"
     },
     "execution_count": 104,
     "metadata": {},
     "output_type": "execute_result"
    }
   ],
   "source": [
    "resultados_ruta_exportacion[\"Fecha Surtido\"] = resultados_ruta_exportacion[\"Fecha_Carga\"].astype(str)\n",
    "resultados_ruta_exportacion"
   ],
   "metadata": {
    "collapsed": false,
    "ExecuteTime": {
     "end_time": "2024-06-11T16:22:07.211923100Z",
     "start_time": "2024-06-11T16:22:07.156788300Z"
    }
   },
   "id": "a22c04aa27d87880"
  },
  {
   "cell_type": "code",
   "execution_count": 105,
   "outputs": [
    {
     "data": {
      "text/plain": "      Fecha_Carga AlmacenPadreId RUTClave  ProductoClave Piezas_redondeo  \\\n0      2024-04-05           D001      001              6              96   \n1      2024-04-05           D001      001             14              25   \n2      2024-04-05           D001      001             17              25   \n3      2024-04-05           D001      001             24              25   \n4      2024-04-05           D001      001             25              50   \n...           ...            ...      ...            ...             ...   \n27215  2024-03-30           D004      111            609              32   \n27216  2024-03-30           D004      111            612              25   \n27217  2024-03-30           D004      111            640              30   \n27218  2024-03-30           D004      111            705              36   \n27219  2024-03-30           D004      111            750              48   \n\n       Litros_redondeado Fecha Surtido  \n0                  96.00      20240405  \n1                   6.25      20240405  \n2                   6.25      20240405  \n3                   6.25      20240405  \n4                  12.50      20240405  \n...                  ...           ...  \n27215              32.00      20240330  \n27216              12.50      20240330  \n27217               6.60      20240330  \n27218               7.20      20240330  \n27219              43.20      20240330  \n\n[27220 rows x 7 columns]",
      "text/html": "<div>\n<style scoped>\n    .dataframe tbody tr th:only-of-type {\n        vertical-align: middle;\n    }\n\n    .dataframe tbody tr th {\n        vertical-align: top;\n    }\n\n    .dataframe thead th {\n        text-align: right;\n    }\n</style>\n<table border=\"1\" class=\"dataframe\">\n  <thead>\n    <tr style=\"text-align: right;\">\n      <th></th>\n      <th>Fecha_Carga</th>\n      <th>AlmacenPadreId</th>\n      <th>RUTClave</th>\n      <th>ProductoClave</th>\n      <th>Piezas_redondeo</th>\n      <th>Litros_redondeado</th>\n      <th>Fecha Surtido</th>\n    </tr>\n  </thead>\n  <tbody>\n    <tr>\n      <th>0</th>\n      <td>2024-04-05</td>\n      <td>D001</td>\n      <td>001</td>\n      <td>6</td>\n      <td>96</td>\n      <td>96.00</td>\n      <td>20240405</td>\n    </tr>\n    <tr>\n      <th>1</th>\n      <td>2024-04-05</td>\n      <td>D001</td>\n      <td>001</td>\n      <td>14</td>\n      <td>25</td>\n      <td>6.25</td>\n      <td>20240405</td>\n    </tr>\n    <tr>\n      <th>2</th>\n      <td>2024-04-05</td>\n      <td>D001</td>\n      <td>001</td>\n      <td>17</td>\n      <td>25</td>\n      <td>6.25</td>\n      <td>20240405</td>\n    </tr>\n    <tr>\n      <th>3</th>\n      <td>2024-04-05</td>\n      <td>D001</td>\n      <td>001</td>\n      <td>24</td>\n      <td>25</td>\n      <td>6.25</td>\n      <td>20240405</td>\n    </tr>\n    <tr>\n      <th>4</th>\n      <td>2024-04-05</td>\n      <td>D001</td>\n      <td>001</td>\n      <td>25</td>\n      <td>50</td>\n      <td>12.50</td>\n      <td>20240405</td>\n    </tr>\n    <tr>\n      <th>...</th>\n      <td>...</td>\n      <td>...</td>\n      <td>...</td>\n      <td>...</td>\n      <td>...</td>\n      <td>...</td>\n      <td>...</td>\n    </tr>\n    <tr>\n      <th>27215</th>\n      <td>2024-03-30</td>\n      <td>D004</td>\n      <td>111</td>\n      <td>609</td>\n      <td>32</td>\n      <td>32.00</td>\n      <td>20240330</td>\n    </tr>\n    <tr>\n      <th>27216</th>\n      <td>2024-03-30</td>\n      <td>D004</td>\n      <td>111</td>\n      <td>612</td>\n      <td>25</td>\n      <td>12.50</td>\n      <td>20240330</td>\n    </tr>\n    <tr>\n      <th>27217</th>\n      <td>2024-03-30</td>\n      <td>D004</td>\n      <td>111</td>\n      <td>640</td>\n      <td>30</td>\n      <td>6.60</td>\n      <td>20240330</td>\n    </tr>\n    <tr>\n      <th>27218</th>\n      <td>2024-03-30</td>\n      <td>D004</td>\n      <td>111</td>\n      <td>705</td>\n      <td>36</td>\n      <td>7.20</td>\n      <td>20240330</td>\n    </tr>\n    <tr>\n      <th>27219</th>\n      <td>2024-03-30</td>\n      <td>D004</td>\n      <td>111</td>\n      <td>750</td>\n      <td>48</td>\n      <td>43.20</td>\n      <td>20240330</td>\n    </tr>\n  </tbody>\n</table>\n<p>27220 rows × 7 columns</p>\n</div>"
     },
     "execution_count": 105,
     "metadata": {},
     "output_type": "execute_result"
    }
   ],
   "source": [
    "# 1) Creamos la funcion de eliminación de guines  \n",
    "def eliminacion_guiones(fecha:str): \n",
    "    nueva_fecha = fecha.replace(\"-\", \"\")\n",
    "    return nueva_fecha\n",
    "\n",
    "\n",
    "# 2) Creamos una nueva función para la eliminacion de los caracteres de las UNEs en la clave UNE-RUTA\n",
    "def simplificacion (ruta:str): \n",
    "    # Número de caracteres a eliminar\n",
    "    n = 4\n",
    "    # Eliminar los primeros n caracteres\n",
    "    nueva_cadena = ruta[n:]\n",
    "    return nueva_cadena\n",
    "\n",
    "\n",
    "# 3) Aplicamos ambas funciones con apply  \n",
    "resultados_ruta_exportacion[\"Fecha Surtido\"] = resultados_ruta_exportacion[\"Fecha Surtido\"].apply(func=eliminacion_guiones)\n",
    "resultados_ruta_exportacion[\"RUTClave\"] =  resultados_ruta_exportacion[\"RUTClave\"].apply(func=simplificacion)\n",
    "resultados_ruta_exportacion[\"ProductoClave\"] = resultados_ruta_exportacion[\"ProductoClave\"].astype(int)\n",
    "resultados_ruta_exportacion"
   ],
   "metadata": {
    "collapsed": false,
    "ExecuteTime": {
     "end_time": "2024-06-11T16:22:07.249590200Z",
     "start_time": "2024-06-11T16:22:07.180953Z"
    }
   },
   "id": "ea323f2a9698ab30"
  },
  {
   "cell_type": "code",
   "execution_count": 106,
   "outputs": [
    {
     "data": {
      "text/plain": "      Fecha Surtido AlmacenPadreId RUTClave Orden de compra del cliente  \\\n0          20240405           D001      001                          IA   \n1          20240405           D001      001                          IA   \n2          20240405           D001      001                          IA   \n3          20240405           D001      001                          IA   \n4          20240405           D001      001                          IA   \n...             ...            ...      ...                         ...   \n27215      20240330           D004      111                          IA   \n27216      20240330           D004      111                          IA   \n27217      20240330           D004      111                          IA   \n27218      20240330           D004      111                          IA   \n27219      20240330           D004      111                          IA   \n\n      Cliente  ProductoClave Piezas  \n0                          6     96  \n1                         14     25  \n2                         17     25  \n3                         24     25  \n4                         25     50  \n...       ...            ...    ...  \n27215                    609     32  \n27216                    612     25  \n27217                    640     30  \n27218                    705     36  \n27219                    750     48  \n\n[27220 rows x 7 columns]",
      "text/html": "<div>\n<style scoped>\n    .dataframe tbody tr th:only-of-type {\n        vertical-align: middle;\n    }\n\n    .dataframe tbody tr th {\n        vertical-align: top;\n    }\n\n    .dataframe thead th {\n        text-align: right;\n    }\n</style>\n<table border=\"1\" class=\"dataframe\">\n  <thead>\n    <tr style=\"text-align: right;\">\n      <th></th>\n      <th>Fecha Surtido</th>\n      <th>AlmacenPadreId</th>\n      <th>RUTClave</th>\n      <th>Orden de compra del cliente</th>\n      <th>Cliente</th>\n      <th>ProductoClave</th>\n      <th>Piezas</th>\n    </tr>\n  </thead>\n  <tbody>\n    <tr>\n      <th>0</th>\n      <td>20240405</td>\n      <td>D001</td>\n      <td>001</td>\n      <td>IA</td>\n      <td></td>\n      <td>6</td>\n      <td>96</td>\n    </tr>\n    <tr>\n      <th>1</th>\n      <td>20240405</td>\n      <td>D001</td>\n      <td>001</td>\n      <td>IA</td>\n      <td></td>\n      <td>14</td>\n      <td>25</td>\n    </tr>\n    <tr>\n      <th>2</th>\n      <td>20240405</td>\n      <td>D001</td>\n      <td>001</td>\n      <td>IA</td>\n      <td></td>\n      <td>17</td>\n      <td>25</td>\n    </tr>\n    <tr>\n      <th>3</th>\n      <td>20240405</td>\n      <td>D001</td>\n      <td>001</td>\n      <td>IA</td>\n      <td></td>\n      <td>24</td>\n      <td>25</td>\n    </tr>\n    <tr>\n      <th>4</th>\n      <td>20240405</td>\n      <td>D001</td>\n      <td>001</td>\n      <td>IA</td>\n      <td></td>\n      <td>25</td>\n      <td>50</td>\n    </tr>\n    <tr>\n      <th>...</th>\n      <td>...</td>\n      <td>...</td>\n      <td>...</td>\n      <td>...</td>\n      <td>...</td>\n      <td>...</td>\n      <td>...</td>\n    </tr>\n    <tr>\n      <th>27215</th>\n      <td>20240330</td>\n      <td>D004</td>\n      <td>111</td>\n      <td>IA</td>\n      <td></td>\n      <td>609</td>\n      <td>32</td>\n    </tr>\n    <tr>\n      <th>27216</th>\n      <td>20240330</td>\n      <td>D004</td>\n      <td>111</td>\n      <td>IA</td>\n      <td></td>\n      <td>612</td>\n      <td>25</td>\n    </tr>\n    <tr>\n      <th>27217</th>\n      <td>20240330</td>\n      <td>D004</td>\n      <td>111</td>\n      <td>IA</td>\n      <td></td>\n      <td>640</td>\n      <td>30</td>\n    </tr>\n    <tr>\n      <th>27218</th>\n      <td>20240330</td>\n      <td>D004</td>\n      <td>111</td>\n      <td>IA</td>\n      <td></td>\n      <td>705</td>\n      <td>36</td>\n    </tr>\n    <tr>\n      <th>27219</th>\n      <td>20240330</td>\n      <td>D004</td>\n      <td>111</td>\n      <td>IA</td>\n      <td></td>\n      <td>750</td>\n      <td>48</td>\n    </tr>\n  </tbody>\n</table>\n<p>27220 rows × 7 columns</p>\n</div>"
     },
     "execution_count": 106,
     "metadata": {},
     "output_type": "execute_result"
    }
   ],
   "source": [
    "# Creamos unas nuevas variables necesarias en el formato final \n",
    "resultados_ruta_exportacion[\"Orden de compra del cliente\"] = \"IA\"\n",
    "resultados_ruta_exportacion[\"Cliente\"] = \"\"\n",
    "resultados_ruta_exportacion.rename(columns={\"Piezas_redondeo\": \"Piezas\"}, inplace=True)\n",
    "\n",
    "\n",
    "# Damos el orden necesarios \n",
    "resultados_ruta_exportacion = resultados_ruta_exportacion[[\"Fecha Surtido\", \"AlmacenPadreId\", \"RUTClave\", \"Orden de compra del cliente\", \"Cliente\", \"ProductoClave\", \"Piezas\"]]\n",
    "resultados_ruta_exportacion"
   ],
   "metadata": {
    "collapsed": false,
    "ExecuteTime": {
     "end_time": "2024-06-11T16:22:07.267593600Z",
     "start_time": "2024-06-11T16:22:07.201626700Z"
    }
   },
   "id": "820553a5ebda812"
  },
  {
   "cell_type": "markdown",
   "source": [
    "Eliminación de productos con cero piezas"
   ],
   "metadata": {
    "collapsed": false
   },
   "id": "5b7d2b4700671ba8"
  },
  {
   "cell_type": "code",
   "execution_count": 107,
   "outputs": [
    {
     "data": {
      "text/plain": "      Fecha Surtido AlmacenPadreId RUTClave Orden de compra del cliente  \\\n0          20240405           D001      001                          IA   \n1          20240405           D001      001                          IA   \n2          20240405           D001      001                          IA   \n3          20240405           D001      001                          IA   \n4          20240405           D001      001                          IA   \n...             ...            ...      ...                         ...   \n27215      20240330           D004      111                          IA   \n27216      20240330           D004      111                          IA   \n27217      20240330           D004      111                          IA   \n27218      20240330           D004      111                          IA   \n27219      20240330           D004      111                          IA   \n\n      Cliente  ProductoClave Piezas  \n0                          6     96  \n1                         14     25  \n2                         17     25  \n3                         24     25  \n4                         25     50  \n...       ...            ...    ...  \n27215                    609     32  \n27216                    612     25  \n27217                    640     30  \n27218                    705     36  \n27219                    750     48  \n\n[27220 rows x 7 columns]",
      "text/html": "<div>\n<style scoped>\n    .dataframe tbody tr th:only-of-type {\n        vertical-align: middle;\n    }\n\n    .dataframe tbody tr th {\n        vertical-align: top;\n    }\n\n    .dataframe thead th {\n        text-align: right;\n    }\n</style>\n<table border=\"1\" class=\"dataframe\">\n  <thead>\n    <tr style=\"text-align: right;\">\n      <th></th>\n      <th>Fecha Surtido</th>\n      <th>AlmacenPadreId</th>\n      <th>RUTClave</th>\n      <th>Orden de compra del cliente</th>\n      <th>Cliente</th>\n      <th>ProductoClave</th>\n      <th>Piezas</th>\n    </tr>\n  </thead>\n  <tbody>\n    <tr>\n      <th>0</th>\n      <td>20240405</td>\n      <td>D001</td>\n      <td>001</td>\n      <td>IA</td>\n      <td></td>\n      <td>6</td>\n      <td>96</td>\n    </tr>\n    <tr>\n      <th>1</th>\n      <td>20240405</td>\n      <td>D001</td>\n      <td>001</td>\n      <td>IA</td>\n      <td></td>\n      <td>14</td>\n      <td>25</td>\n    </tr>\n    <tr>\n      <th>2</th>\n      <td>20240405</td>\n      <td>D001</td>\n      <td>001</td>\n      <td>IA</td>\n      <td></td>\n      <td>17</td>\n      <td>25</td>\n    </tr>\n    <tr>\n      <th>3</th>\n      <td>20240405</td>\n      <td>D001</td>\n      <td>001</td>\n      <td>IA</td>\n      <td></td>\n      <td>24</td>\n      <td>25</td>\n    </tr>\n    <tr>\n      <th>4</th>\n      <td>20240405</td>\n      <td>D001</td>\n      <td>001</td>\n      <td>IA</td>\n      <td></td>\n      <td>25</td>\n      <td>50</td>\n    </tr>\n    <tr>\n      <th>...</th>\n      <td>...</td>\n      <td>...</td>\n      <td>...</td>\n      <td>...</td>\n      <td>...</td>\n      <td>...</td>\n      <td>...</td>\n    </tr>\n    <tr>\n      <th>27215</th>\n      <td>20240330</td>\n      <td>D004</td>\n      <td>111</td>\n      <td>IA</td>\n      <td></td>\n      <td>609</td>\n      <td>32</td>\n    </tr>\n    <tr>\n      <th>27216</th>\n      <td>20240330</td>\n      <td>D004</td>\n      <td>111</td>\n      <td>IA</td>\n      <td></td>\n      <td>612</td>\n      <td>25</td>\n    </tr>\n    <tr>\n      <th>27217</th>\n      <td>20240330</td>\n      <td>D004</td>\n      <td>111</td>\n      <td>IA</td>\n      <td></td>\n      <td>640</td>\n      <td>30</td>\n    </tr>\n    <tr>\n      <th>27218</th>\n      <td>20240330</td>\n      <td>D004</td>\n      <td>111</td>\n      <td>IA</td>\n      <td></td>\n      <td>705</td>\n      <td>36</td>\n    </tr>\n    <tr>\n      <th>27219</th>\n      <td>20240330</td>\n      <td>D004</td>\n      <td>111</td>\n      <td>IA</td>\n      <td></td>\n      <td>750</td>\n      <td>48</td>\n    </tr>\n  </tbody>\n</table>\n<p>27220 rows × 7 columns</p>\n</div>"
     },
     "execution_count": 107,
     "metadata": {},
     "output_type": "execute_result"
    }
   ],
   "source": [
    "resultados_ruta_exportacion = resultados_ruta_exportacion.query(\"Piezas >0\")\n",
    "resultados_ruta_exportacion.reset_index(drop=True, inplace=True)\n",
    "resultados_ruta_exportacion"
   ],
   "metadata": {
    "collapsed": false,
    "ExecuteTime": {
     "end_time": "2024-06-11T16:22:07.308602300Z",
     "start_time": "2024-06-11T16:22:07.213899300Z"
    }
   },
   "id": "8dd8cd9508f31895"
  },
  {
   "cell_type": "code",
   "execution_count": 108,
   "outputs": [],
   "source": [
    "resultados_ruta_exportacion.to_excel(excel_writer=\"Resultados/Resultados_Ruta_SAP.xlsx\", index=False)"
   ],
   "metadata": {
    "collapsed": false,
    "ExecuteTime": {
     "end_time": "2024-06-11T16:22:10.427540400Z",
     "start_time": "2024-06-11T16:22:07.229584700Z"
    }
   },
   "id": "26747fe57561d57a"
  },
  {
   "cell_type": "code",
   "execution_count": 108,
   "outputs": [],
   "source": [],
   "metadata": {
    "collapsed": false,
    "ExecuteTime": {
     "end_time": "2024-06-11T16:22:10.435209700Z",
     "start_time": "2024-06-11T16:22:10.428338100Z"
    }
   },
   "id": "c3f03fae23c9da4d"
  },
  {
   "cell_type": "code",
   "execution_count": 108,
   "outputs": [],
   "source": [],
   "metadata": {
    "collapsed": false,
    "ExecuteTime": {
     "end_time": "2024-06-11T16:22:10.436211Z",
     "start_time": "2024-06-11T16:22:10.429843400Z"
    }
   },
   "id": "5299883dd3050046"
  },
  {
   "cell_type": "code",
   "execution_count": 108,
   "outputs": [],
   "source": [],
   "metadata": {
    "collapsed": false,
    "ExecuteTime": {
     "end_time": "2024-06-11T16:22:10.436211Z",
     "start_time": "2024-06-11T16:22:10.432088300Z"
    }
   },
   "id": "55e749088c1ba3a4"
  },
  {
   "cell_type": "code",
   "execution_count": 108,
   "outputs": [],
   "source": [],
   "metadata": {
    "collapsed": false,
    "ExecuteTime": {
     "end_time": "2024-06-11T16:22:10.437232300Z",
     "start_time": "2024-06-11T16:22:10.434187400Z"
    }
   },
   "id": "9c052685dad363c7"
  },
  {
   "cell_type": "code",
   "execution_count": 108,
   "outputs": [],
   "source": [],
   "metadata": {
    "collapsed": false,
    "ExecuteTime": {
     "end_time": "2024-06-11T16:22:10.487749300Z",
     "start_time": "2024-06-11T16:22:10.437232300Z"
    }
   },
   "id": "7207efa252558fac"
  },
  {
   "cell_type": "code",
   "execution_count": null,
   "outputs": [],
   "source": [],
   "metadata": {
    "collapsed": false
   },
   "id": "e460a8c264024ffc"
  }
 ],
 "metadata": {
  "kernelspec": {
   "display_name": "Python 3",
   "language": "python",
   "name": "python3"
  },
  "language_info": {
   "codemirror_mode": {
    "name": "ipython",
    "version": 2
   },
   "file_extension": ".py",
   "mimetype": "text/x-python",
   "name": "python",
   "nbconvert_exporter": "python",
   "pygments_lexer": "ipython2",
   "version": "2.7.6"
  }
 },
 "nbformat": 4,
 "nbformat_minor": 5
}
