version https://git-lfs.github.com/spec/v1
oid sha256:3173dc4ebed6ac04a2f3dd7e4bd5af219716c07b58dd594bb55fd9d9525e5e2b
size 502657
